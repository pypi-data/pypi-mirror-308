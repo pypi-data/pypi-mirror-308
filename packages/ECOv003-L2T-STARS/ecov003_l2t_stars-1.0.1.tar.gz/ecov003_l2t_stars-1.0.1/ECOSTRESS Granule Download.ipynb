{
 "cells": [
  {
   "cell_type": "markdown",
   "metadata": {},
   "source": [
    "Using `ECOv002-CMR` package to retrieve ECOSTRESS granules as inputs using the Common Metadata Repository (CMR) API. Using `ECOv002-L2T-STARS` package to run the product generating executable (PGE)."
   ]
  },
  {
   "cell_type": "code",
   "execution_count": null,
   "metadata": {},
   "outputs": [],
   "source": [
    "import numpy as np\n",
    "from ECOv002_CMR import download_ECOSTRESS_granule\n",
    "from ECOv002_L2T_STARS import generate_L2T_STARS_runconfig, L2T_STARS"
   ]
  },
  {
   "cell_type": "markdown",
   "metadata": {},
   "source": [
    "Disable logger output in notebook"
   ]
  },
  {
   "cell_type": "code",
   "execution_count": null,
   "metadata": {},
   "outputs": [],
   "source": [
    "import logging\n",
    "\n",
    "logging.getLogger().handlers = []"
   ]
  },
  {
   "cell_type": "markdown",
   "metadata": {},
   "source": [
    "Set working directory"
   ]
  },
  {
   "cell_type": "code",
   "execution_count": null,
   "metadata": {},
   "outputs": [],
   "source": [
    "working_directory = \"data\""
   ]
  },
  {
   "cell_type": "markdown",
   "metadata": {},
   "source": [
    "Retrieve LST LSTE granule from CMR API for target date"
   ]
  },
  {
   "cell_type": "code",
   "execution_count": null,
   "metadata": {},
   "outputs": [],
   "source": [
    "L2T_LSTE_granule = download_ECOSTRESS_granule(\n",
    "    product=\"L2T_LSTE\", \n",
    "    orbit=35800,\n",
    "    scene=3,\n",
    "    tile=\"11SPS\", \n",
    "    aquisition_date=\"2024-10-29\",\n",
    "    parent_directory=working_directory\n",
    ")\n",
    "\n",
    "L2T_LSTE_granule"
   ]
  },
  {
   "cell_type": "markdown",
   "metadata": {},
   "source": [
    "Load and display preview of surface temperature"
   ]
  },
  {
   "cell_type": "code",
   "execution_count": null,
   "metadata": {},
   "outputs": [],
   "source": [
    "L2T_LSTE_granule.ST_C"
   ]
  },
  {
   "cell_type": "markdown",
   "metadata": {},
   "source": [
    "Retrieve L2T STARS granule from CMR API as prior"
   ]
  },
  {
   "cell_type": "code",
   "execution_count": null,
   "metadata": {},
   "outputs": [],
   "source": [
    "L2T_STARS_granule = download_ECOSTRESS_granule(\n",
    "    product=\"L2T_STARS\", \n",
    "    tile=\"11SPS\", \n",
    "    aquisition_date=\"2024-10-22\",\n",
    "    parent_directory=working_directory\n",
    ")\n",
    "\n",
    "L2T_STARS_granule"
   ]
  },
  {
   "cell_type": "markdown",
   "metadata": {},
   "source": [
    "Load and display preview of vegetation index"
   ]
  },
  {
   "cell_type": "code",
   "execution_count": null,
   "metadata": {},
   "outputs": [],
   "source": [
    "L2T_STARS_granule.NDVI"
   ]
  },
  {
   "cell_type": "markdown",
   "metadata": {},
   "source": [
    "Generate XML run-config file for L2T STARS PGE run"
   ]
  },
  {
   "cell_type": "code",
   "execution_count": null,
   "metadata": {},
   "outputs": [],
   "source": [
    "runconfig_filename = generate_L2T_STARS_runconfig(\n",
    "    L2T_LSTE_filename=L2T_LSTE_granule.product_filename,\n",
    "    prior_L2T_STARS_filename=L2T_STARS_granule.product_filename,\n",
    "    working_directory=working_directory\n",
    ")\n",
    "\n",
    "runconfig_filename"
   ]
  },
  {
   "cell_type": "code",
   "execution_count": null,
   "metadata": {},
   "outputs": [],
   "source": [
    "with open(runconfig_filename, \"r\") as f:\n",
    "    print(f.read())"
   ]
  },
  {
   "cell_type": "code",
   "execution_count": null,
   "metadata": {},
   "outputs": [],
   "source": [
    "exit_code = L2T_STARS(runconfig_filename=runconfig_filename, use_VNP43NRT=False)\n",
    "exit_code"
   ]
  },
  {
   "cell_type": "code",
   "execution_count": null,
   "metadata": {},
   "outputs": [],
   "source": []
  }
 ],
 "metadata": {
  "kernelspec": {
   "display_name": "ECOv002-L2T-STARS",
   "language": "python",
   "name": "python3"
  },
  "language_info": {
   "codemirror_mode": {
    "name": "ipython",
    "version": 3
   },
   "file_extension": ".py",
   "mimetype": "text/x-python",
   "name": "python",
   "nbconvert_exporter": "python",
   "pygments_lexer": "ipython3",
   "version": "3.11.10"
  }
 },
 "nbformat": 4,
 "nbformat_minor": 2
}
