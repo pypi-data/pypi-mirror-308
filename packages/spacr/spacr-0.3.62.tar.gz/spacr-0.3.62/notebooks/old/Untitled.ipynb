{
 "cells": [
  {
   "cell_type": "code",
   "execution_count": null,
   "id": "77fc2c39",
   "metadata": {
    "scrolled": false
   },
   "outputs": [],
   "source": [
    "import pandas as pd\n",
    "from spacr.plot import spacrGraph\n",
    "import matplotlib.pyplot as plt\n",
    "%matplotlib inline\n",
    "\n",
    "srcs = ['/nas_mnt/carruthers/Einar/tsg101_screen/TSG101SCREEN_20240810_132824/plate1/results/feature_importance_compartment.csv',\n",
    "       '/nas_mnt/carruthers/Einar/tsg101_screen/TSG101SCREEN_20240824_072829/plate2/results/feature_importance_compartment.csv',\n",
    "       '/nas_mnt/carruthers/Einar/tsg101_screen/TSG101SCREEN_20240825_094106/plate3/results/feature_importance_compartment.csv',\n",
    "       '/nas_mnt/carruthers/Einar/tsg101_screen/TSG101SCREEN_20240826_140251/plate4/results/feature_importance_compartment.csv']\n",
    "\n",
    "dfs = []\n",
    "for path in srcs:\n",
    "    dft = pd.read_csv(path)\n",
    "    dfs.append(dft)\n",
    "\n",
    "df = pd.concat(dfs)\n",
    "display(df)\n",
    "\n",
    "spacr_graph = spacrGraph(\n",
    "    df=df,                                     \n",
    "    grouping_column='compartment',                         \n",
    "    data_column='compartment_importance_sum',         \n",
    "    graph_type='jitter_bar',          \n",
    "    graph_name='compartment',          \n",
    "    summary_func='mean',                         \n",
    "    colors=None,                                \n",
    "    output_dir='/nas_mnt/carruthers/Einar/tsg101_screen/TSG101SCREEN_20240810_132824/plate1/results',                              \n",
    "    save=True,                       \n",
    "    y_lim=None,                     \n",
    "    error_bar_type='std',                       \n",
    "    representation='object',\n",
    "    theme='pastel',                    \n",
    ")\n",
    "\n",
    "\n",
    "# Create the plot\n",
    "spacr_graph.create_plot()\n",
    "\n",
    "# Get the figure object if needed\n",
    "fig = spacr_graph.get_figure()\n",
    "plt.show()"
   ]
  },
  {
   "cell_type": "code",
   "execution_count": null,
   "id": "b63862d2",
   "metadata": {},
   "outputs": [],
   "source": []
  },
  {
   "cell_type": "code",
   "execution_count": null,
   "id": "8c5486e1",
   "metadata": {},
   "outputs": [],
   "source": []
  }
 ],
 "metadata": {
  "kernelspec": {
   "display_name": "spacr",
   "language": "python",
   "name": "spacr"
  },
  "language_info": {
   "codemirror_mode": {
    "name": "ipython",
    "version": 3
   },
   "file_extension": ".py",
   "mimetype": "text/x-python",
   "name": "python",
   "nbconvert_exporter": "python",
   "pygments_lexer": "ipython3",
   "version": "3.9.19"
  }
 },
 "nbformat": 4,
 "nbformat_minor": 5
}
