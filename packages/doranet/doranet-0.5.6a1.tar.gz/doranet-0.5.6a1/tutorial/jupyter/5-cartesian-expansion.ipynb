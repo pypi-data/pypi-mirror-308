{
 "cells": [
  {
   "attachments": {},
   "cell_type": "markdown",
   "metadata": {},
   "source": [
    "# Tutorial 5: Cartesian Expansion\n",
    "\n",
    "In this tutorial, you will learn how to perform an automated network expansion using a Cartesian strategy.\n",
    "\n",
    "In Pickaxe-Generic, a Recipe is defined by the unique combination of an operator and an ordered set of reactants.  Given a set of operators and a set of molecules, the Cartesian product refers to all of the Recipes which may be obtained via different combinations of operators and reactants.\n",
    "\n",
    "A \"Cartesian expansion\" is the iterative method of combining all available reactants and operators to create new products, adding those products to the initial set, and performing the operation again.  Depending on the iteration which produced them, the molecules in the network may be assigned different \"generations.\"\n",
    "\n",
    "### Math Note\n",
    "\n",
    "Technically, the Cartesian product refers to the Cartesian product of all operators with all possible subsets of reactant molecules available.  Once the incompatible subsets are filtered out, the Cartesian product as Pickaxe-Generic understands it is obtained.\n",
    "\n",
    "## Setting Up Network Expansion\n",
    "\n",
    "The first step in an automated expansion is to create some initial reactants and operators.  Here we choose hydrogenation as our initial operator."
   ]
  },
  {
   "cell_type": "code",
   "execution_count": null,
   "metadata": {},
   "outputs": [],
   "source": [
    "import pickaxe_generic as pg\n",
    "\n",
    "engine = pg.create_engine()\n",
    "\n",
    "initial_reactant_smiles = [\n",
    "    \"[H][H]\",  # hydrogen\n",
    "    \"CC=O\",  # acetaldehyde\n",
    "    \"CC(C)=O\",  # acetone\n",
    "    \"CCCO\",  # propanol\n",
    "    \"C=CC=C\",  # butadiene\n",
    "]\n",
    "\n",
    "operator_smarts = {\n",
    "    \"hydrogenation of alkene/carbonyl\": \"[C,O;+0:1]=[C&+0:2].[#1][#1]>>[*:1]-[*:2]\"\n",
    "}"
   ]
  },
  {
   "attachments": {},
   "cell_type": "markdown",
   "metadata": {},
   "source": [
    "Now we create a network and add these components to it.  Giving your operators unique names, and storing those names in metadata can make filtering and post-processing easier, so we show it here."
   ]
  },
  {
   "cell_type": "code",
   "execution_count": null,
   "metadata": {},
   "outputs": [],
   "source": [
    "network = engine.new_network()\n",
    "\n",
    "for smiles in initial_reactant_smiles:\n",
    "    network.add_mol(engine.mol.rdkit(smiles))\n",
    "\n",
    "for name, smarts in operator_smarts.items():\n",
    "    network.add_op(engine.op.rdkit(smarts), meta={\"name\": name})"
   ]
  },
  {
   "attachments": {},
   "cell_type": "markdown",
   "metadata": {},
   "source": [
    "As an example of using the name of the operator, we can list the operators by name."
   ]
  },
  {
   "cell_type": "code",
   "execution_count": null,
   "metadata": {},
   "outputs": [],
   "source": [
    "[x[\"name\"] for x in network.ops.meta(keys=[\"name\"])]"
   ]
  },
  {
   "attachments": {},
   "cell_type": "markdown",
   "metadata": {},
   "source": [
    "This becomes more useful when viewing reactions (which only indicate the index of the operator).\n",
    "\n",
    "We will save this initial network to a file, so that we may restore it for testing out new strategies and configuration options."
   ]
  },
  {
   "cell_type": "code",
   "execution_count": null,
   "metadata": {},
   "outputs": [],
   "source": [
    "network.save_to_file(\"5-cartesian-expansion-initial\")"
   ]
  },
  {
   "attachments": {},
   "cell_type": "markdown",
   "metadata": {},
   "source": [
    "## Running a Basic Expansion\n",
    "\n",
    "A strategy is initialized with some configurational elements, including the target network."
   ]
  },
  {
   "cell_type": "code",
   "execution_count": null,
   "metadata": {},
   "outputs": [],
   "source": [
    "network = engine.network_from_file(\"5-cartesian-expansion-initial\")\n",
    "strat = engine.strat.cartesian(network)"
   ]
  },
  {
   "attachments": {},
   "cell_type": "markdown",
   "metadata": {},
   "source": [
    "It does not do any work initially, but must have its `.expand()` method called in order to perform an expansion.  We can also display the molecules before and after expansion."
   ]
  },
  {
   "cell_type": "code",
   "execution_count": null,
   "metadata": {},
   "outputs": [],
   "source": [
    "from pprint import pprint\n",
    "\n",
    "pprint(list(enumerate(network.mols)))"
   ]
  },
  {
   "cell_type": "code",
   "execution_count": null,
   "metadata": {},
   "outputs": [],
   "source": [
    "strat.expand()"
   ]
  },
  {
   "cell_type": "code",
   "execution_count": null,
   "metadata": {},
   "outputs": [],
   "source": [
    "pprint(list(enumerate(network.mols)))"
   ]
  },
  {
   "cell_type": "code",
   "execution_count": null,
   "metadata": {},
   "outputs": [],
   "source": [
    "pprint(\n",
    "    list((rxn, network.ops.meta(rxn.operator, \"name\")) for rxn in network.rxns)\n",
    ")"
   ]
  },
  {
   "attachments": {},
   "cell_type": "markdown",
   "metadata": {},
   "source": [
    "As you can see, all possible molecules were hydrogenated, and butadiene was hydrogenated twice to form butane.\n",
    "\n",
    "### Developer Note\n",
    "\n",
    "Under the hood, the Cartesian strategy is using the much more complex PriorityQueue strategy with no ranker function and a custom global hook function.  Otherwise, much of the functionality is the same.\n",
    "\n",
    "## Limiting Network Size\n",
    "\n",
    "The example above was fairly simple.  Hydrogenation is, by definition, limited by the saturation of the targeted molecules.  However, with operators which create larger molecules or operate on very generic reaction sites, the number of molecules generated can quickly explode.\n",
    "\n",
    "The cartesian expansion, like other strategies, comes with several ways to limit the size of the generated network.  The first is by limiting the number of recipes which are tested.\n",
    "\n",
    "### Limiting Number of Recipes\n",
    "\n",
    "Using the `max_recipes` argument, we can see that limiting the number of recipes to `max_recipes=2` results in only two reactions appearing in the system."
   ]
  },
  {
   "cell_type": "code",
   "execution_count": null,
   "metadata": {},
   "outputs": [],
   "source": [
    "network = engine.network_from_file(\"5-cartesian-expansion-initial\")\n",
    "strat = engine.strat.cartesian(network)\n",
    "strat.expand(max_recipes=2)"
   ]
  },
  {
   "cell_type": "code",
   "execution_count": null,
   "metadata": {},
   "outputs": [],
   "source": [
    "pprint(list(network.rxns))"
   ]
  },
  {
   "attachments": {},
   "cell_type": "markdown",
   "metadata": {},
   "source": [
    "This method is effective for limiting the overall size of the network in an absolute sense.  However, of the reactions which are available at the start of the program, some will inevitably be prioritized over others.\n",
    "\n",
    "### Limiting Number of Cartesian Products\n",
    "\n",
    "The Cartesian strategy will naturally perform multiple iterations over the sets of molecules and operators.  Limiting these iterations provides a way to limit network size, while not favoring any particular combination of reactants and operators during an iteration.  However, the cost is that if there are very many Recipes which are possible in an iteration, they will all be evaluated before the stopping condition is met.\n",
    "\n",
    "Setting a limit on the number of iterations is done via the `num_iter` argument."
   ]
  },
  {
   "cell_type": "code",
   "execution_count": null,
   "metadata": {},
   "outputs": [],
   "source": [
    "network = engine.network_from_file(\"5-cartesian-expansion-initial\")\n",
    "strat = engine.strat.cartesian(network)\n",
    "strat.expand(num_iter=1)"
   ]
  },
  {
   "cell_type": "code",
   "execution_count": null,
   "metadata": {},
   "outputs": [],
   "source": [
    "pprint(list(network.rxns))"
   ]
  },
  {
   "attachments": {},
   "cell_type": "markdown",
   "metadata": {},
   "source": [
    "## Takeaways\n",
    "\n",
    "1. Each iteration, the Cartesian strategy combines all operators with their compatible molecules.\n",
    "2. The network size can be limited either by limiting the number of iterations or by limiting the total number of recipes which may be tested.\n",
    "\n",
    "Congratulations!  You have finished the fifth part of the Pickaxe-Generic tutorial.  Proceed to the [next part](./6-filters.ipynb) to learn how to use filters in order to restrict your network expansion to only the most relevant reactions."
   ]
  }
 ],
 "metadata": {
  "kernelspec": {
   "display_name": "pickaxe-env",
   "language": "python",
   "name": "python3"
  },
  "language_info": {
   "codemirror_mode": {
    "name": "ipython",
    "version": 3
   },
   "file_extension": ".py",
   "mimetype": "text/x-python",
   "name": "python",
   "nbconvert_exporter": "python",
   "pygments_lexer": "ipython3",
   "version": "3.11.0"
  },
  "orig_nbformat": 4,
  "vscode": {
   "interpreter": {
    "hash": "8273e37f2a2171053bf33bc30df627caf37fbadace820462181639a26e3c3be7"
   }
  }
 },
 "nbformat": 4,
 "nbformat_minor": 2
}
