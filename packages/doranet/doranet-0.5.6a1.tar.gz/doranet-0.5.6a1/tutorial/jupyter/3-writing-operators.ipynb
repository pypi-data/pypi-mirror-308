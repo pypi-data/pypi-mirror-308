{
 "cells": [
  {
   "attachments": {},
   "cell_type": "markdown",
   "metadata": {},
   "source": [
    "# Tutorial 3: Writing Operators\n",
    "\n",
    "In this tutorial, you will learn how to write RDKit SMARTS-based operators.  Custom operators are also possible but require more advanced programming knowledge, and come later in the documentation.\n",
    "\n",
    "Let's create a couple of sample molecules to use in this tutorial."
   ]
  },
  {
   "cell_type": "code",
   "execution_count": null,
   "metadata": {},
   "outputs": [],
   "source": [
    "import pickaxe_generic as pg\n",
    "\n",
    "engine = pg.create_engine()\n",
    "\n",
    "water = engine.mol.rdkit(\"O\")\n",
    "ethanol = engine.mol.rdkit(\"CCO\")\n",
    "acetone = engine.mol.rdkit(\"CC(C)=O\")\n",
    "butanone = engine.mol.rdkit(\"CCC(C)=O\")\n",
    "methyl_butanoate = engine.mol.rdkit(\"CCCC(=O)OC\")\n",
    "delta_valerolactone = engine.mol.rdkit(\"O=C1CCCCO1\")\n",
    "hydroxyvaleric_acid = engine.mol.rdkit(\"O=C(O)CCCCO\")"
   ]
  },
  {
   "attachments": {},
   "cell_type": "markdown",
   "metadata": {},
   "source": [
    "## Reaction Site Matching\n",
    "\n",
    "Following up on the question from [last time](./2-molecules-and-operators.ipynb), why were there two sets of products?\n",
    "\n",
    "We can see why using the aldol condensation operator from [before](./2-molecules-and-operators.ipynb#creating-operators)."
   ]
  },
  {
   "cell_type": "code",
   "execution_count": null,
   "metadata": {},
   "outputs": [],
   "source": [
    "aldol_condensation = engine.op.rdkit(\n",
    "    \"[O&+0:1]=[C&+0:2]-[C&+0;H2,H3:3].[C&+0:4]=[O&+0:5]>>[*:1]=[*:2]-[*:3]=[*:4].[*:5]\"\n",
    ")"
   ]
  },
  {
   "attachments": {},
   "cell_type": "markdown",
   "metadata": {},
   "source": [
    "If we perform the aldol condensation on two acetone molecules, we get two product sets which are the same, mesityl oxide and water."
   ]
  },
  {
   "cell_type": "code",
   "execution_count": null,
   "metadata": {},
   "outputs": [],
   "source": [
    "aldol_condensation(acetone, acetone)"
   ]
  },
  {
   "attachments": {},
   "cell_type": "markdown",
   "metadata": {},
   "source": [
    "However, if we choose to use butanone as the first reactant, something changes."
   ]
  },
  {
   "cell_type": "code",
   "execution_count": null,
   "metadata": {},
   "outputs": [],
   "source": [
    "aldol_condensation(butanone, acetone)"
   ]
  },
  {
   "attachments": {},
   "cell_type": "markdown",
   "metadata": {},
   "source": [
    "Now we have two different products.  What's going on?\n",
    "\n",
    "The answer is because, when matching the first template to butanone, RDKit has a choice of two different carbons for atom 3.  In acetone, these carbon atoms are symmetric in the molecule, so the choice doesn't make a difference.  In butanone, however, one of them is tertiary and the other is a secondary carbon.  Therefore, the product sets are different based on which carbon was picked to match the template.\n",
    "\n",
    "RDKit expands all permutations of reaction sites.  Note also that in the second experiment, acetone was not matched to the first template, because it was the second argument.\n",
    "\n",
    "Ultimately, if two product sets are the same, they will be considered the same and will not be stored differently.  However, if degenerate template matches are of interest to you, there are opportunities to consider this information during a network expansion.  This will be discussed later in the metadata section.\n",
    "\n",
    "## Testing Compatibility\n",
    "\n",
    "Operators in Pickaxe-Generic have an additional function, which is used to test the compatibility of a molecule with a particular argument of an operator.  This allows the program to cache which molecules can be used with which operators, and with which arguments.  Doing this often speeds up network expansion tremendously, so if you are trying to implement a new type of operator, be sure to keep this in mind.  Side note: this functionality is also useful for testing out new SMARTS reaction strings.\n",
    "\n",
    "The function to test argument compatibility is called `.compat()`, and here it is in action."
   ]
  },
  {
   "cell_type": "code",
   "execution_count": null,
   "metadata": {},
   "outputs": [],
   "source": [
    "aldol_condensation.compat(acetone, 0)"
   ]
  },
  {
   "attachments": {},
   "cell_type": "markdown",
   "metadata": {},
   "source": [
    "This shows that `acetone` is compatible with the first argument of the `aldol_condensation` operator (numbering starts at 0).\n",
    "\n",
    "We can also see an example of a molecule which is **not** compatible with `aldol_condensation`."
   ]
  },
  {
   "cell_type": "code",
   "execution_count": null,
   "metadata": {},
   "outputs": [],
   "source": [
    "aldol_condensation.compat(water, 1)"
   ]
  },
  {
   "attachments": {},
   "cell_type": "markdown",
   "metadata": {},
   "source": [
    "Water clearly does not possess a carbonyl group, so it fails the check.  If an operator is called using an incompatible molecule as an argument, undefined behavior results, and it may even throw an error.  In this case water is not matched to a template and no error results, but there are no products."
   ]
  },
  {
   "cell_type": "code",
   "execution_count": null,
   "metadata": {},
   "outputs": [],
   "source": [
    "aldol_condensation(acetone, water)"
   ]
  },
  {
   "attachments": {},
   "cell_type": "markdown",
   "metadata": {},
   "source": [
    "The only guarantee is that if a molecule is compatible via `.compat`, it will produce a correct result unless the operator itself has a bug.\n",
    "\n",
    "## # of Reactants\n",
    "\n",
    "If we had an operator, but didn't know the SMARTS used to make it, how would we know how many arguments it has?  One thing we could try would be to query the `.smarts` property (only available on RDKit SMARTS objects)."
   ]
  },
  {
   "cell_type": "code",
   "execution_count": null,
   "metadata": {},
   "outputs": [],
   "source": [
    "print(aldol_condensation.smarts)"
   ]
  },
  {
   "attachments": {},
   "cell_type": "markdown",
   "metadata": {},
   "source": [
    "From this, we can easily see that there are two reactant templates, separated by `.`.  However, a SMARTS reaction string is not always available.  The generalized way to test the length of an operator is to call the `len()` function on it."
   ]
  },
  {
   "cell_type": "code",
   "execution_count": null,
   "metadata": {},
   "outputs": [],
   "source": [
    "print(len(aldol_condensation))"
   ]
  },
  {
   "attachments": {},
   "cell_type": "markdown",
   "metadata": {},
   "source": [
    "This shows that the operator has exactly two arguments.  If we try to call this operator to react acetone, but expect it to infer that both are acetone, it will raise an exception."
   ]
  },
  {
   "cell_type": "code",
   "execution_count": null,
   "metadata": {},
   "outputs": [],
   "source": [
    "aldol_condensation(acetone)"
   ]
  },
  {
   "attachments": {},
   "cell_type": "markdown",
   "metadata": {},
   "source": [
    "However, you might be realizing a potential problem with this expectation of exact numbers of arguments.  What about ring-closing reactions?\n",
    "\n",
    "## Ring-Forming Reactions in RDKit\n",
    "\n",
    "Testing one example of esterification, ethanol with 5-hydroxyvaleric acid, shows that the expected products are generated."
   ]
  },
  {
   "cell_type": "code",
   "execution_count": null,
   "metadata": {},
   "outputs": [],
   "source": [
    "esterification = engine.op.rdkit(\n",
    "    \"[O&+0:1]=[C&+0:2]-[O&+0&H1:3].[O&+0&H1:4]>>[*:1]=[*:2]-[*:4].[*:3]\"\n",
    ")\n",
    "esterification(hydroxyvaleric_acid, ethanol)"
   ]
  },
  {
   "attachments": {},
   "cell_type": "markdown",
   "metadata": {},
   "source": [
    "However, there is an additional reaction which is possible given these reactants.  This would be the intramolecular esterification to produce δ-valerolactone.  How would such an operation be represented within this system?  While you could produce a custom operator type that operates on all subsets of reactants, the easier method is to simply create a new operator which performs the intramolecular variant."
   ]
  },
  {
   "cell_type": "code",
   "execution_count": null,
   "metadata": {},
   "outputs": [],
   "source": [
    "esterification_intra = engine.op.rdkit(\n",
    "    \"([O&+0:1]=[C&+0:2]-[O&+0&H1:3].[O&+0&H1:4])>>[*:1]=[*:2]-[*:4].[*:3]\"\n",
    ")"
   ]
  },
  {
   "attachments": {},
   "cell_type": "markdown",
   "metadata": {},
   "source": [
    "Note the parentheses surrounding the reactants.  Their presence indicates that even though the `.` character is present, it indicates only a disconnect within the template, but there is ultimately only one reactant template.  We can show that the result of this formulation is the intramolecular condensation."
   ]
  },
  {
   "cell_type": "code",
   "execution_count": null,
   "metadata": {},
   "outputs": [],
   "source": [
    "esterification_intra(hydroxyvaleric_acid)"
   ]
  },
  {
   "attachments": {},
   "cell_type": "markdown",
   "metadata": {},
   "source": [
    "Trying to perform the intermolecular reaction with the intramolecular operator returns an error as expected."
   ]
  },
  {
   "cell_type": "code",
   "execution_count": null,
   "metadata": {},
   "outputs": [],
   "source": [
    "esterification_intra(hydroxyvaleric_acid, ethanol)"
   ]
  },
  {
   "attachments": {},
   "cell_type": "markdown",
   "metadata": {},
   "source": [
    "## Ring-Breaking Reactions in RDKit\n",
    "\n",
    "There is a potentially more dangerous issue when writing Reaction SMARTS, and that is when a bond is broken permanently.  The naive implementation below works for breaking non-ring bonds, but struggles when presented with a reactant which undergoes decyclization."
   ]
  },
  {
   "cell_type": "code",
   "execution_count": null,
   "metadata": {},
   "outputs": [],
   "source": [
    "ester_hydrolysis_incorrect = engine.op.rdkit(\n",
    "    \"[O&+0:1]=[C&+0:2]-[O&+0&H0:3].[O&+0&H2:4]>>[*:1]=[*:2]-[*:4].[*:3]\"\n",
    ")"
   ]
  },
  {
   "cell_type": "code",
   "execution_count": null,
   "metadata": {},
   "outputs": [],
   "source": [
    "ester_hydrolysis_incorrect(methyl_butanoate, water)"
   ]
  },
  {
   "cell_type": "code",
   "execution_count": null,
   "metadata": {},
   "outputs": [],
   "source": [
    "ester_hydrolysis_incorrect(delta_valerolactone, water)"
   ]
  },
  {
   "attachments": {},
   "cell_type": "markdown",
   "metadata": {},
   "source": [
    "As you can see, the methyl butanoate is properly broken into pieces, but δ-valerolactone is somehow split into two molecules, the sum of which actually have a greater molecular weight than the original!\n",
    "\n",
    "This is because the products are marked as being separate by the `.` between them.  This issue is resolved with some judicious parentheses and use of the `@` ring-bond marker, to split the operator into a ring version and a non-ring version, [as for the bond-forming operator above](./3-writing-operators.ipynb#ring-forming-reactions-in-rdkit)."
   ]
  },
  {
   "cell_type": "code",
   "execution_count": null,
   "metadata": {},
   "outputs": [],
   "source": [
    "ester_hydrolysis_nonring = engine.op.rdkit(\n",
    "    \"[O&+0:1]=[C&+0:2]-&!@[O&+0&H0:3].[O&+0&H2:4]>>[*:1]=[*:2]-[*:4].[*:3]\"\n",
    ")\n",
    "ester_hydrolysis_ring = engine.op.rdkit(\n",
    "    \"[O&+0:1]=[C&+0:2]-&@[O&+0&H0:3].[O&+0&H2:4]>>([*:1]=[*:2]-[*:4].[*:3])\"\n",
    ")"
   ]
  },
  {
   "attachments": {},
   "cell_type": "markdown",
   "metadata": {},
   "source": [
    "The results of using these two are shown below."
   ]
  },
  {
   "cell_type": "code",
   "execution_count": null,
   "metadata": {},
   "outputs": [],
   "source": [
    "ester_hydrolysis_nonring(methyl_butanoate, water)"
   ]
  },
  {
   "cell_type": "code",
   "execution_count": null,
   "metadata": {},
   "outputs": [],
   "source": [
    "ester_hydrolysis_nonring(delta_valerolactone, water)"
   ]
  },
  {
   "cell_type": "code",
   "execution_count": null,
   "metadata": {},
   "outputs": [],
   "source": [
    "ester_hydrolysis_ring(methyl_butanoate, water)"
   ]
  },
  {
   "cell_type": "code",
   "execution_count": null,
   "metadata": {},
   "outputs": [],
   "source": [
    "ester_hydrolysis_ring(delta_valerolactone, water)"
   ]
  },
  {
   "attachments": {},
   "cell_type": "markdown",
   "metadata": {},
   "source": [
    "This demonstrates that, with some additional syntax, the operators will correctly recognize the presence/non-presence of ring bonds and perform their role accordingly.\n",
    "\n",
    "## Product Specificity and Explicit Hydrogens\n",
    "\n",
    "One of the big problems you may encounter is if you accidentally overspecify your products.  Specifying the number of hydrogens on your product (if you are using an implicit model in RDKit) is a good way to cause it to fail reaction site matching.  Try to limit your product specifications to only the connectivity and, if applicable, changes in charge.\n",
    "\n",
    "At the moment, there are no good examples of the explicit hydrogen problem, but if you are having consistent, inexplicable valence errors deep into your network, this may be why.\n",
    "\n",
    "## Takeaways\n",
    "\n",
    "1. RDKit SMARTS-based operators match as many sites as possible, even redundant ones.\n",
    "2. Extra care must be taken for addition and elimination reactions; always consider the ring case.\n",
    "3. RDKit SMARTS-based operators should specify as little in the product template as possible.\n",
    "\n",
    "Congratulations!  You have finished the third part of the Pickaxe-Generic tutorial.  Proceed to the [next part](./4-creating-a-basic-network.ipynb) to learn how to store your molecules, operators, and reactions in a network."
   ]
  }
 ],
 "metadata": {
  "kernelspec": {
   "display_name": "pickaxe-env",
   "language": "python",
   "name": "python3"
  },
  "language_info": {
   "codemirror_mode": {
    "name": "ipython",
    "version": 3
   },
   "file_extension": ".py",
   "mimetype": "text/x-python",
   "name": "python",
   "nbconvert_exporter": "python",
   "pygments_lexer": "ipython3",
   "version": "3.11.0 | packaged by conda-forge | (main, Oct 25 2022, 06:12:32) [MSC v.1929 64 bit (AMD64)]"
  },
  "orig_nbformat": 4,
  "vscode": {
   "interpreter": {
    "hash": "8273e37f2a2171053bf33bc30df627caf37fbadace820462181639a26e3c3be7"
   }
  }
 },
 "nbformat": 4,
 "nbformat_minor": 2
}
