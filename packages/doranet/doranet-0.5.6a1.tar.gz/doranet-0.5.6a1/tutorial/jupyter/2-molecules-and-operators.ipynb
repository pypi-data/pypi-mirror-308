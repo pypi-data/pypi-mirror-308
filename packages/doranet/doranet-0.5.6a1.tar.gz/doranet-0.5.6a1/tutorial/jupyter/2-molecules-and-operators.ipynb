{
 "cells": [
  {
   "attachments": {},
   "cell_type": "markdown",
   "metadata": {},
   "source": [
    "# Tutorial 2: Molecules and Operators\n",
    "\n",
    "In this tutorial, you will learn how to create a molecule, create a chemical operator, and use the operator to perform a reaction.  Let's start by importing pickaxe_generic and giving it an alias.\n",
    "\n",
    "## Importing/configuring"
   ]
  },
  {
   "cell_type": "code",
   "execution_count": null,
   "metadata": {},
   "outputs": [],
   "source": [
    "import pickaxe_generic as pg"
   ]
  },
  {
   "attachments": {},
   "cell_type": "markdown",
   "metadata": {},
   "source": [
    "Next, create an Engine; this object will initialize most of your objects and\n",
    "handle things like database connections, parallel processing, etc. for you."
   ]
  },
  {
   "cell_type": "code",
   "execution_count": null,
   "metadata": {},
   "outputs": [],
   "source": [
    "engine = pg.create_engine()"
   ]
  },
  {
   "attachments": {},
   "cell_type": "markdown",
   "metadata": {},
   "source": [
    "## Creating molecules\n",
    "\n",
    "Now we want to create some molecules.  The preferred way for the end user to create molecules is from [Daylight SMILES](https://daylight.com/dayhtml/doc/theory/theory.smiles.html).  Let's try making acetone as an RDKit-style molecule (other styles are not yet supported)."
   ]
  },
  {
   "cell_type": "code",
   "execution_count": null,
   "metadata": {},
   "outputs": [],
   "source": [
    "acetone = engine.mol.rdkit(\"CC(=O)C\")"
   ]
  },
  {
   "attachments": {},
   "cell_type": "markdown",
   "metadata": {},
   "source": [
    "Investigating what this molecule consists of shows that the SMILES string appears to be different.  This is because the SMILES string has been \"canonicalized\" by RDKit.  Because there are many SMILES strings which could represent the same molecule, it becomes difficult to quickly compare two molecules to see if they are the same one.  Therefore, RDKit has a procedure such that for a particular molecule, only one of those SMILES strings is considered valid.  This is the \"canonical\" SMILES string."
   ]
  },
  {
   "cell_type": "code",
   "execution_count": null,
   "metadata": {},
   "outputs": [],
   "source": [
    "acetone"
   ]
  },
  {
   "attachments": {},
   "cell_type": "markdown",
   "metadata": {},
   "source": [
    "Let's investigate some further properties of a molecule in the Pickaxe-Generic framework.  For example, all molecules have the `uid` property.  The `uid` property refers to the unique identifying code representing that molecule.  In this case, it is equivalent to the canonical SMILES string.  However, depending on your application this may be something more complex."
   ]
  },
  {
   "cell_type": "code",
   "execution_count": null,
   "metadata": {},
   "outputs": [],
   "source": [
    "acetone.uid"
   ]
  },
  {
   "attachments": {},
   "cell_type": "markdown",
   "metadata": {},
   "source": [
    "If you want to obtain a guaranteed SMILES string, and you are using molecules which support SMILES strings, it can be obtained via the `smiles` property.  Since RDKit-based molecules inherit from `MolDatRDKit`, they support this property."
   ]
  },
  {
   "cell_type": "code",
   "execution_count": null,
   "metadata": {},
   "outputs": [],
   "source": [
    "acetone.smiles"
   ]
  },
  {
   "attachments": {},
   "cell_type": "markdown",
   "metadata": {},
   "source": [
    "## Creating operators\n",
    "\n",
    "Now let's try creating an operator and performing a reaction.\n",
    "\n",
    "The example reaction will be that of an aldol condensation.  When applied to two acetone molecules, it will produce mesityl oxide.  We will use an RDKit-style \"templated operator\" which is defined by [Reaction SMARTS](https://www.daylight.com/dayhtml_tutorials/languages/smarts/#RXN) with some [RDKit-specific extensions](https://www.rdkit.org/docs/RDKit_Book.html#smarts-support-and-extensions).\n",
    "\n",
    "Just like molecule objects, operator objects are obtained via the engine."
   ]
  },
  {
   "cell_type": "code",
   "execution_count": null,
   "metadata": {},
   "outputs": [],
   "source": [
    "aldol_condensation = engine.op.rdkit(\n",
    "    \"[O&+0:1]=[C&+0:2]-[C&+0;H2,H3:3].[C&+0:4]=[O&+0:5]>>[*:1]=[*:2]-[*:3]=[*:4].[*:5]\"\n",
    ")"
   ]
  },
  {
   "attachments": {},
   "cell_type": "markdown",
   "metadata": {},
   "source": [
    "We can run this operator on two acetone molecules to condense them, creating new molecules."
   ]
  },
  {
   "cell_type": "code",
   "execution_count": null,
   "metadata": {},
   "outputs": [],
   "source": [
    "aldol_condensation(acetone, acetone)"
   ]
  },
  {
   "attachments": {},
   "cell_type": "markdown",
   "metadata": {},
   "source": [
    "You may notice that there are two sets of products, and that these are equivalent.  This is because there are technically two choices for reactant atom 3 on acetone; this will be further explored in the next part.\n",
    "\n",
    "## Takeaways\n",
    "\n",
    "1. The Engine contains configuration information and can initialize most objects in Pickaxe-Generic.\n",
    "2. Molecules obtained via `engine.mol.rdkit` wrap an RDKit-style molecule using Daylight SMILES syntax.\n",
    "3. Operators obtained via `engine.op.rdkit` wrap an RDKit-style template-based operator using Daylight Reaction SMARTS syntax.\n",
    "\n",
    "Congratulations!  You have finished the second part of the Pickaxe-Generic tutorial.  Proceed to the [next part](./3-writing-operators.ipynb) to learn some nuances of writing operators in the RDKit style."
   ]
  }
 ],
 "metadata": {
  "kernelspec": {
   "display_name": "pickaxe-env",
   "language": "python",
   "name": "python3"
  },
  "language_info": {
   "codemirror_mode": {
    "name": "ipython",
    "version": 3
   },
   "file_extension": ".py",
   "mimetype": "text/x-python",
   "name": "python",
   "nbconvert_exporter": "python",
   "pygments_lexer": "ipython3",
   "version": "3.11.0"
  },
  "orig_nbformat": 4,
  "vscode": {
   "interpreter": {
    "hash": "8273e37f2a2171053bf33bc30df627caf37fbadace820462181639a26e3c3be7"
   }
  }
 },
 "nbformat": 4,
 "nbformat_minor": 2
}
