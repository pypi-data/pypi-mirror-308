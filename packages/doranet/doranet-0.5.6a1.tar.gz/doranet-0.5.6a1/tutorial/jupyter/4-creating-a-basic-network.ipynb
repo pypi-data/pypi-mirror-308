{
 "cells": [
  {
   "attachments": {},
   "cell_type": "markdown",
   "metadata": {},
   "source": [
    "# Tutorial 4: Creating a Basic Network\n",
    "\n",
    "In this tutorial, you will learn how to set up a network with some pre-existing data, how to store it in a file, and how to assign metadata.\n",
    "\n",
    "Starting off, let's import pickaxe_generic and set up some molecules and operators."
   ]
  },
  {
   "cell_type": "code",
   "execution_count": null,
   "metadata": {},
   "outputs": [],
   "source": [
    "import pickaxe_generic as pg\n",
    "\n",
    "engine = pg.create_engine()\n",
    "\n",
    "water = engine.mol.rdkit(\"O\")\n",
    "ethanol = engine.mol.rdkit(\"CCO\")\n",
    "acetone = engine.mol.rdkit(\"CC(C)=O\")\n",
    "butanone = engine.mol.rdkit(\"CCC(C)=O\")\n",
    "methyl_butanoate = engine.mol.rdkit(\"CCCC(=O)OC\")\n",
    "delta_valerolactone = engine.mol.rdkit(\"O=C1CCCCO1\")\n",
    "hydroxyvaleric_acid = engine.mol.rdkit(\"O=C(O)CCCCO\")\n",
    "\n",
    "aldol_condensation = engine.op.rdkit(\n",
    "    \"[O&+0:1]=[C&+0:2]-[C&+0;H2,H3:3].[C&+0:4]=[O&+0:5]>>[*:1]=[*:2]-[*:3]=[*:4].[*:5]\"\n",
    ")\n",
    "ester_hydrolysis_nonring = engine.op.rdkit(\n",
    "    \"[O&+0:1]=[C&+0:2]-&!@[O&+0&H0:3].[O&+0&H2:4]>>[*:1]=[*:2]-[*:4].[*:3]\"\n",
    ")\n",
    "ester_hydrolysis_ring = engine.op.rdkit(\n",
    "    \"[O&+0:1]=[C&+0:2]-&@[O&+0&H0:3].[O&+0&H2:4]>>([*:1]=[*:2]-[*:4].[*:3])\"\n",
    ")\n",
    "esterification = engine.op.rdkit(\n",
    "    \"[O&+0:1]=[C&+0:2]-[O&+0&H1:3].[O&+0&H1:4]>>[*:1]=[*:2]-[*:4].[*:3]\"\n",
    ")\n",
    "esterification_intra = engine.op.rdkit(\n",
    "    \"([O&+0:1]=[C&+0:2]-[O&+0&H1:3].[O&+0&H1:4])>>[*:1]=[*:2]-[*:4].[*:3]\"\n",
    ")"
   ]
  },
  {
   "attachments": {},
   "cell_type": "markdown",
   "metadata": {},
   "source": [
    "## Initializing Network\n",
    "\n",
    "The first step in setting up a new network is to get a new one from the engine."
   ]
  },
  {
   "cell_type": "code",
   "execution_count": null,
   "metadata": {},
   "outputs": [],
   "source": [
    "network = engine.new_network()"
   ]
  },
  {
   "attachments": {},
   "cell_type": "markdown",
   "metadata": {},
   "source": [
    "The network object provides access to the molecules, operators, and reactions of which it is constituted.\n",
    "\n",
    "At the moment, there are no molecules inside the network.  We must add our molecules to it ourselves.  Let's try adding water."
   ]
  },
  {
   "cell_type": "code",
   "execution_count": null,
   "metadata": {},
   "outputs": [],
   "source": [
    "water_i = network.add_mol(water)\n",
    "water_i"
   ]
  },
  {
   "attachments": {},
   "cell_type": "markdown",
   "metadata": {},
   "source": [
    "We've successfully added water to the network.  When you add an object to the network, the network will return an integer representing its index inside the network.  We can retrieve the molecule from the network by its index."
   ]
  },
  {
   "cell_type": "code",
   "execution_count": null,
   "metadata": {},
   "outputs": [],
   "source": [
    "network.mols[water_i]"
   ]
  },
  {
   "attachments": {},
   "cell_type": "markdown",
   "metadata": {},
   "source": [
    "### Notes for Developers\n",
    "\n",
    "The index always starts at zero and increases for every subsequent addition.  Objects cannot be removed from the network once added.  Pruning is accomplished by creating a new network with a more limited subset of items.\n",
    "\n",
    "## Retrieving Objects From Network\n",
    "\n",
    "This is all well and good, but what if someone else put water into the network before us, and we want to see if it's in there?  Fortunately, there are a couple simple solutions.\n",
    "\n",
    "One way to check for water is by making your own water molecule and then checking to see if it is present.  Using the UID of the molecule also works."
   ]
  },
  {
   "cell_type": "code",
   "execution_count": null,
   "metadata": {},
   "outputs": [],
   "source": [
    "water in network.mols"
   ]
  },
  {
   "cell_type": "code",
   "execution_count": null,
   "metadata": {},
   "outputs": [],
   "source": [
    "water.uid in network.mols"
   ]
  },
  {
   "cell_type": "code",
   "execution_count": null,
   "metadata": {},
   "outputs": [],
   "source": [
    "butanone in network.mols"
   ]
  },
  {
   "attachments": {},
   "cell_type": "markdown",
   "metadata": {},
   "source": [
    "If you want to retrieve the molecule's index from the network, you can do so using the `.i()` method.  At the moment, only lookup by UID is supported."
   ]
  },
  {
   "cell_type": "code",
   "execution_count": null,
   "metadata": {},
   "outputs": [],
   "source": [
    "network.mols.i(water.uid)"
   ]
  },
  {
   "attachments": {},
   "cell_type": "markdown",
   "metadata": {},
   "source": [
    "To retrieve the molecule, simply use its index."
   ]
  },
  {
   "cell_type": "code",
   "execution_count": null,
   "metadata": {},
   "outputs": [],
   "source": [
    "network.mols[water_i]"
   ]
  },
  {
   "attachments": {},
   "cell_type": "markdown",
   "metadata": {},
   "source": [
    "What happens if we try to add another water molecule to the network?"
   ]
  },
  {
   "cell_type": "code",
   "execution_count": null,
   "metadata": {},
   "outputs": [],
   "source": [
    "network.add_mol(water)"
   ]
  },
  {
   "attachments": {},
   "cell_type": "markdown",
   "metadata": {},
   "source": [
    "It turns out there can only be one molecule with a particular UID within the network at a time.  If it is already present, the existing index is then returned.\n",
    "\n",
    "You can also check the number of molecules in the network using `len()`."
   ]
  },
  {
   "cell_type": "code",
   "execution_count": null,
   "metadata": {},
   "outputs": [],
   "source": [
    "len(network.mols)"
   ]
  },
  {
   "attachments": {},
   "cell_type": "markdown",
   "metadata": {},
   "source": [
    "Interacting with operators on the network is largely the same as for molecules."
   ]
  },
  {
   "cell_type": "code",
   "execution_count": null,
   "metadata": {},
   "outputs": [],
   "source": [
    "ester_hydrolysis_ring_i = network.add_op(ester_hydrolysis_ring)\n",
    "ester_hydrolysis_ring_i"
   ]
  },
  {
   "attachments": {},
   "cell_type": "markdown",
   "metadata": {},
   "source": [
    "### Reactions on the Network\n",
    "\n",
    "Reactions work a little bit differently on the network.  Since they are a purely associative construct, they have a slightly different interface for adding them.  Before we do, let's add an additional molecule so that we can generate a reaction."
   ]
  },
  {
   "cell_type": "code",
   "execution_count": null,
   "metadata": {},
   "outputs": [],
   "source": [
    "network.add_mol(delta_valerolactone)"
   ]
  },
  {
   "attachments": {},
   "cell_type": "markdown",
   "metadata": {},
   "source": [
    "When we react these molecules using the ester hydrolysis operator above, we get one product, 5-hydroxyvaleric acid."
   ]
  },
  {
   "cell_type": "code",
   "execution_count": null,
   "metadata": {},
   "outputs": [],
   "source": [
    "hydroxyvaleric_acid = ester_hydrolysis_ring(delta_valerolactone, water)[0][0]\n",
    "hydroxyvaleric_acid"
   ]
  },
  {
   "attachments": {},
   "cell_type": "markdown",
   "metadata": {},
   "source": [
    "Once we add the molecule to the network, we can use the `.add_rxn()` method to add the reaction.  We know implicitly the indices of the molecules added because of the order in which they were added, but we can make sure by constructing our reaction as below."
   ]
  },
  {
   "cell_type": "code",
   "execution_count": null,
   "metadata": {},
   "outputs": [],
   "source": [
    "water_i = network.mols.i(water.uid)\n",
    "delta_valerolactone_i = network.mols.i(delta_valerolactone.uid)\n",
    "ester_hydrolysis_ring_i = network.ops.i(ester_hydrolysis_ring.uid)\n",
    "\n",
    "hydroxyvaleric_acid = ester_hydrolysis_ring(delta_valerolactone, water)[0][0]\n",
    "hydroxyvaleric_acid_i = network.add_mol(hydroxyvaleric_acid)\n",
    "\n",
    "reaction_i = network.add_rxn(\n",
    "    operator=ester_hydrolysis_ring_i,\n",
    "    reactants=(delta_valerolactone_i, water_i),\n",
    "    products=(hydroxyvaleric_acid_i,),\n",
    ")"
   ]
  },
  {
   "cell_type": "code",
   "execution_count": null,
   "metadata": {},
   "outputs": [],
   "source": [
    "reaction_i"
   ]
  },
  {
   "cell_type": "code",
   "execution_count": null,
   "metadata": {},
   "outputs": [],
   "source": [
    "network.rxns[0]"
   ]
  },
  {
   "attachments": {},
   "cell_type": "markdown",
   "metadata": {},
   "source": [
    "The Reaction object is basically just a [named tuple](https://docs.python.org/3/library/typing.html#other-special-directives) which associates the indices of the components involved, so it takes up only a minimum of storage space.\n",
    "\n",
    "\n",
    "## Connectivity of the Network\n",
    "\n",
    "The network provides a couple of methods for exploration.  The first method is simply that `network.mols`, `network.ops`, and `network.rxns` are all iterable and sliceable, so all of their information can be displayed at once if so desired.\n",
    "\n",
    "Another option, for example if you have an algorithm to find connections within an existing chemical network, is to list the \"consumer\" and \"producer\" reactions for a particular molecule.  This is, fittingly, done by calling the `.consumer()` and `.producer()` methods."
   ]
  },
  {
   "cell_type": "code",
   "execution_count": null,
   "metadata": {},
   "outputs": [],
   "source": [
    "network.consumers(0)"
   ]
  },
  {
   "cell_type": "code",
   "execution_count": null,
   "metadata": {},
   "outputs": [],
   "source": [
    "network.producers(0)"
   ]
  },
  {
   "cell_type": "code",
   "execution_count": null,
   "metadata": {},
   "outputs": [],
   "source": [
    "network.producers(2)"
   ]
  },
  {
   "attachments": {},
   "cell_type": "markdown",
   "metadata": {},
   "source": [
    "The results shown are the indices of the reactions which produce or consume the molecule queried.  Molecule 0 (water) is consumed by the only reaction we have added so far (reaction 0).  However, it is not produced by anything.  However, molecule 2 (5-hydroxyvaleric acid) is produced by the same reaction which consumed the water.  Though this information can be easily extracted and processed from `network.rxns` when necessary, we have made it available as native functionality.\n",
    "\n",
    "## Saving Network to a File\n",
    "\n",
    "It is very straightforward to save a chemical network to a file using the `.save_to_file()` method.  Simply provide a filename (without extension) and an optional path, and the function will save all network information."
   ]
  },
  {
   "cell_type": "code",
   "execution_count": null,
   "metadata": {},
   "outputs": [],
   "source": [
    "network.save_to_file(\"saved_network\")"
   ]
  },
  {
   "cell_type": "code",
   "execution_count": null,
   "metadata": {},
   "outputs": [],
   "source": [
    "! ls saved_network*"
   ]
  },
  {
   "attachments": {},
   "cell_type": "markdown",
   "metadata": {},
   "source": [
    "## Loading Network from File\n",
    "\n",
    "Network files are version-controlled, so networks saved using an older version of Pickaxe-Generic should be loaded properly.  Loading a network file from a newer version of Pickaxe-Generic should either work properly or raise an error.  Please report bugs to the GitHub.\n",
    "\n",
    "Networks may be loaded from files via the engine."
   ]
  },
  {
   "cell_type": "code",
   "execution_count": null,
   "metadata": {},
   "outputs": [],
   "source": [
    "network_loaded = engine.network_from_file(\"saved_network\")\n",
    "list(network_loaded.mols)"
   ]
  },
  {
   "attachments": {},
   "cell_type": "markdown",
   "metadata": {},
   "source": [
    "## Molecule-Operator Compatibility on the Network\n",
    "\n",
    "The network stores information about which molecules are compatible with which operators.  This information is inherent to the molecules and operators used, and can be computationally intensive to verify, so caching it makes sense.  The way to access this compatibility information is via the `.compat_table()` method."
   ]
  },
  {
   "cell_type": "code",
   "execution_count": null,
   "metadata": {},
   "outputs": [],
   "source": [
    "network.compat_table(ester_hydrolysis_ring_i)"
   ]
  },
  {
   "attachments": {},
   "cell_type": "markdown",
   "metadata": {},
   "source": [
    "What the above information demonstrates is that for the ester hydrolysis ring-opening operator, the first argument is compatible with molecule 1 (delta-valerolactone) and the second is compatible with molecule 0 (water).\n",
    "\n",
    "If you do not want this information to be calculated (for example, if certain molecules will not participate in reactions and you want to save time on compatibility tests), then when adding the molecule, simply add the keyword argument `reactive=False`.  If the molecule has already been tested for compatibility, however, it will remain in the compatibility table forever."
   ]
  },
  {
   "cell_type": "code",
   "execution_count": null,
   "metadata": {},
   "outputs": [],
   "source": [
    "network.add_mol(water, reactive=False)"
   ]
  },
  {
   "attachments": {},
   "cell_type": "markdown",
   "metadata": {},
   "source": [
    "### Notes For Developers\n",
    "\n",
    "The compatibility table will never shrink and is guaranteed due to the \"pure\" nature of molecules and operators in Pickaxe-Generic.  Each argument's listed compatible molecules are also in order of tested compatibility, so they may not be ordered with respect to molecule index.\n",
    "\n",
    "## Metadata\n",
    "\n",
    "The network also stores \"metadata,\" which consists of [Mappings](https://docs.python.org/3/library/stdtypes.html#mapping-types-dict) associated with every object in the network, including reactions.  Using metadata, you can store a key-value pair associated with a particular molecule, like enthalpy, or a cumulative cost calculation based on a particular network expansion method.\n",
    "\n",
    "To access metadata assigned to an object, we must first add metadata to the object.  The easiest way to do this is when the object is added to the network, via the `meta` argument.  As seen below, this can also be done for objects which are already in the network, though key collisions will be resolved by overwriting with the newest value.  However, for objects which are already in the network, and for which you already have the index, there is a faster method below."
   ]
  },
  {
   "cell_type": "code",
   "execution_count": null,
   "metadata": {},
   "outputs": [],
   "source": [
    "ethanol_i = network.add_mol(ethanol, meta={\"is_alcohol\": True})\n",
    "water_i = network.add_mol(water, meta={\"is_alcohol\": False, \"solvent\": True})"
   ]
  },
  {
   "attachments": {},
   "cell_type": "markdown",
   "metadata": {},
   "source": [
    "The `.set_meta()` method preferred to access and set molecule metadata.  Its use is very similar to that of `.add_mol()`, except that it is accessed through `.mols` and uses the index.  It also runs no risk of accidentally creating a new molecule."
   ]
  },
  {
   "cell_type": "code",
   "execution_count": null,
   "metadata": {},
   "outputs": [],
   "source": [
    "network.mols.set_meta(water_i, {\"is_water\": True, \"is_toxic\": False})"
   ]
  },
  {
   "attachments": {},
   "cell_type": "markdown",
   "metadata": {},
   "source": [
    "Metadata can be then accessed via the `.mols.meta()` method.  This can either be targeted at a specific molecule, or by having all the molecules print their information in order of index."
   ]
  },
  {
   "cell_type": "code",
   "execution_count": null,
   "metadata": {},
   "outputs": [],
   "source": [
    "network.mols.meta(water_i)"
   ]
  },
  {
   "cell_type": "code",
   "execution_count": null,
   "metadata": {},
   "outputs": [],
   "source": [
    "network.mols.meta(water_i, [\"is_alcohol\"])"
   ]
  },
  {
   "cell_type": "code",
   "execution_count": null,
   "metadata": {},
   "outputs": [],
   "source": [
    "network.mols.meta([ethanol_i], [\"is_alcohol\"])"
   ]
  },
  {
   "cell_type": "code",
   "execution_count": null,
   "metadata": {},
   "outputs": [],
   "source": [
    "network.mols.meta([water_i, ethanol_i], keys=[\"is_alcohol\"])"
   ]
  },
  {
   "cell_type": "code",
   "execution_count": null,
   "metadata": {},
   "outputs": [],
   "source": [
    "network.mols.meta([ethanol_i, water_i], keys=[\"solvent\"])"
   ]
  },
  {
   "cell_type": "code",
   "execution_count": null,
   "metadata": {},
   "outputs": [],
   "source": [
    "network.mols.meta(keys=[\"is_alcohol\"])"
   ]
  },
  {
   "cell_type": "code",
   "execution_count": null,
   "metadata": {},
   "outputs": [],
   "source": [
    "network.mols.meta()"
   ]
  },
  {
   "attachments": {},
   "cell_type": "markdown",
   "metadata": {},
   "source": [
    "All of the above operations apply equivalently to operators and reactions, just via their slightly different interfaces of `network.add_op()`, `network.add_rxn()`, `network.ops.meta()`, `network.rxns.meta()`, `network.ops.set_meta()`, and `network.rxns.set_meta()`.\n",
    "\n",
    "## Takeaways\n",
    "\n",
    "1. The network provides access to molecules, operators, reactions, and their associations.\n",
    "2. The primary way to identify these items is via their index in the network; between networks, the UID will uniquely identify equivalent objects.\n",
    "3. The network stores molecule-operator compatibility data, which can be accessed via `.compat_table`.\n",
    "4. The network provides access to metadata, where arbitrary information may be associated with and assigned to various objects without altering the objects themselves.\n",
    "\n",
    "Congratulations!  You have finished the fourth part of the Pickaxe-Generic tutorial.  Proceed to the [next part](./5-cartesian-expansion.ipynb) to learn how to perform a basic automated network expansion."
   ]
  }
 ],
 "metadata": {
  "kernelspec": {
   "display_name": "pickaxe-env",
   "language": "python",
   "name": "python3"
  },
  "language_info": {
   "codemirror_mode": {
    "name": "ipython",
    "version": 3
   },
   "file_extension": ".py",
   "mimetype": "text/x-python",
   "name": "python",
   "nbconvert_exporter": "python",
   "pygments_lexer": "ipython3",
   "version": "3.11.0"
  },
  "orig_nbformat": 4,
  "vscode": {
   "interpreter": {
    "hash": "8273e37f2a2171053bf33bc30df627caf37fbadace820462181639a26e3c3be7"
   }
  }
 },
 "nbformat": 4,
 "nbformat_minor": 2
}
