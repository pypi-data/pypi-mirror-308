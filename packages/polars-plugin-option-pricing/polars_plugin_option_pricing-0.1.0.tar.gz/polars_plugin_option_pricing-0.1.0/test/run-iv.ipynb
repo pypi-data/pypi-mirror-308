{
 "cells": [
  {
   "cell_type": "code",
   "execution_count": null,
   "id": "ba420de5-48ca-4590-931d-97c595f9dbb2",
   "metadata": {},
   "outputs": [
    {
     "name": "stdout",
     "output_type": "stream",
     "text": [
      "polars_plugin_option_pricing version: 0.1.0\n"
     ]
    }
   ],
   "source": [
    "import numpy as np\n",
    "import polars as pl\n",
    "import polars_plugin_option_pricing as m\n",
    "print(f\"polars_plugin_option_pricing version: {m.__version__}\")"
   ]
  },
  {
   "cell_type": "code",
   "execution_count": 2,
   "id": "0fa2d418-e80a-4ba2-8082-60b0b368722e",
   "metadata": {},
   "outputs": [],
   "source": [
    "def _range(e):\n",
    "    start = e[\"start\"]\n",
    "    end = e[\"end\"]\n",
    "    n_step = e[\"n_step\"]\n",
    "    return np.linspace(start, end, n_step)"
   ]
  },
  {
   "cell_type": "code",
   "execution_count": 3,
   "id": "7625a304-e388-458a-b207-131a35860572",
   "metadata": {},
   "outputs": [
    {
     "name": "stdout",
     "output_type": "stream",
     "text": [
      "CPU times: user 639 μs, sys: 1.01 ms, total: 1.65 ms\n",
      "Wall time: 1.45 ms\n"
     ]
    }
   ],
   "source": [
    "%%time\n",
    "\n",
    "spots = {\"start\": 98, \"end\": 102, \"n_step\": 3}\n",
    "strikes = {\"start\": 100, \"end\": 100, \"n_step\": 1}\n",
    "mats = {\"start\": 1, \"end\": 10, \"n_step\": 1}\n",
    "vols = {\"start\": 0.1, \"end\": 0.5, \"n_step\": 1}\n",
    "rates = {\"start\": 0.00, \"end\": 0.04, \"n_step\": 1}\n",
    "divs = {\"start\": 0.00, \"end\": 0.07, \"n_step\": 1}\n",
    "\n",
    "spots = {\"start\": 85, \"end\": 115, \"n_step\": 25}\n",
    "strikes = {\"start\": 85, \"end\": 115, \"n_step\": 100}\n",
    "mats = {\"start\": 1, \"end\": 10, \"n_step\": 20}\n",
    "vols = {\"start\": 0.1, \"end\": 0.5, \"n_step\": 5}\n",
    "rates = {\"start\": 0.00, \"end\": 0.04, \"n_step\": 5}\n",
    "divs = {\"start\": 0.00, \"end\": 0.07, \"n_step\": 8}\n",
    "\n",
    "df_is_call = pl.DataFrame(data=[True], schema=[\"is_call\"])\n",
    "df_spot = pl.DataFrame(data=_range(spots), schema={\"spot\": pl.Float32})\n",
    "df_strike = pl.DataFrame(data=_range(strikes), schema={\"strike\": pl.Float32})\n",
    "df_mat = pl.DataFrame(data=_range(mats), schema={\"mat\": pl.Float32})\n",
    "df_vol = pl.DataFrame(data=_range(vols), schema={\"vol\": pl.Float32})\n",
    "df_rate = pl.DataFrame(data=_range(rates), schema={\"rate\": pl.Float32})\n",
    "df_div = pl.DataFrame(data=_range(divs), schema={\"div\": pl.Float32})"
   ]
  },
  {
   "cell_type": "code",
   "execution_count": 4,
   "id": "360759a3-9215-4d1b-83d6-7648dab93f01",
   "metadata": {},
   "outputs": [
    {
     "name": "stdout",
     "output_type": "stream",
     "text": [
      "shape: (10_000_000, 7)\n",
      "┌─────────┬───────┬────────┬──────┬─────┬──────┬──────┐\n",
      "│ is_call ┆ spot  ┆ strike ┆ mat  ┆ vol ┆ rate ┆ div  │\n",
      "│ ---     ┆ ---   ┆ ---    ┆ ---  ┆ --- ┆ ---  ┆ ---  │\n",
      "│ bool    ┆ f32   ┆ f32    ┆ f32  ┆ f32 ┆ f32  ┆ f32  │\n",
      "╞═════════╪═══════╪════════╪══════╪═════╪══════╪══════╡\n",
      "│ true    ┆ 85.0  ┆ 85.0   ┆ 1.0  ┆ 0.1 ┆ 0.0  ┆ 0.0  │\n",
      "│ true    ┆ 85.0  ┆ 85.0   ┆ 1.0  ┆ 0.1 ┆ 0.0  ┆ 0.01 │\n",
      "│ true    ┆ 85.0  ┆ 85.0   ┆ 1.0  ┆ 0.1 ┆ 0.0  ┆ 0.02 │\n",
      "│ true    ┆ 85.0  ┆ 85.0   ┆ 1.0  ┆ 0.1 ┆ 0.0  ┆ 0.03 │\n",
      "│ true    ┆ 85.0  ┆ 85.0   ┆ 1.0  ┆ 0.1 ┆ 0.0  ┆ 0.04 │\n",
      "│ …       ┆ …     ┆ …      ┆ …    ┆ …   ┆ …    ┆ …    │\n",
      "│ true    ┆ 115.0 ┆ 115.0  ┆ 10.0 ┆ 0.5 ┆ 0.04 ┆ 0.03 │\n",
      "│ true    ┆ 115.0 ┆ 115.0  ┆ 10.0 ┆ 0.5 ┆ 0.04 ┆ 0.04 │\n",
      "│ true    ┆ 115.0 ┆ 115.0  ┆ 10.0 ┆ 0.5 ┆ 0.04 ┆ 0.05 │\n",
      "│ true    ┆ 115.0 ┆ 115.0  ┆ 10.0 ┆ 0.5 ┆ 0.04 ┆ 0.06 │\n",
      "│ true    ┆ 115.0 ┆ 115.0  ┆ 10.0 ┆ 0.5 ┆ 0.04 ┆ 0.07 │\n",
      "└─────────┴───────┴────────┴──────┴─────┴──────┴──────┘\n",
      "CPU times: user 190 ms, sys: 152 ms, total: 342 ms\n",
      "Wall time: 90.9 ms\n"
     ]
    }
   ],
   "source": [
    "%%time\n",
    "\n",
    "df = (\n",
    "    df_is_call.join(df_spot, how=\"cross\")\n",
    "    .join(df_strike, how=\"cross\")\n",
    "    .join(df_mat, how=\"cross\")\n",
    "    .join(df_vol, how=\"cross\")\n",
    "    .join(df_rate, how=\"cross\")\n",
    "    .join(df_div, how=\"cross\")\n",
    ")\n",
    "print(df)"
   ]
  },
  {
   "cell_type": "code",
   "execution_count": 5,
   "id": "206e595d-5e70-4179-b906-ab4cc449d97b",
   "metadata": {},
   "outputs": [
    {
     "name": "stdout",
     "output_type": "stream",
     "text": [
      "shape: (10_000_000, 25)\n",
      "┌───────┬────────┬──────┬─────┬───┬────────────┬────────────┬────────┬───────────┐\n",
      "│ spot  ┆ strike ┆ mat  ┆ vol ┆ … ┆ rho        ┆ voma       ┆ payoff ┆ pv_payoff │\n",
      "│ ---   ┆ ---    ┆ ---  ┆ --- ┆   ┆ ---        ┆ ---        ┆ ---    ┆ ---       │\n",
      "│ f32   ┆ f32    ┆ f32  ┆ f32 ┆   ┆ f32        ┆ f32        ┆ f32    ┆ f32       │\n",
      "╞═══════╪════════╪══════╪═════╪═══╪════════════╪════════════╪════════╪═══════════╡\n",
      "│ 85.0  ┆ 85.0   ┆ 1.0  ┆ 0.1 ┆ … ┆ 40.805199  ┆ -0.846693  ┆ 0.0    ┆ 0.0       │\n",
      "│ 85.0  ┆ 85.0   ┆ 1.0  ┆ 0.1 ┆ … ┆ 37.432491  ┆ 2.514806   ┆ 0.0    ┆ 0.0       │\n",
      "│ 85.0  ┆ 85.0   ┆ 1.0  ┆ 0.1 ┆ … ┆ 34.109966  ┆ 12.325046  ┆ 0.0    ┆ 0.0       │\n",
      "│ 85.0  ┆ 85.0   ┆ 1.0  ┆ 0.1 ┆ … ┆ 30.869394  ┆ 27.908499  ┆ 0.0    ┆ 0.0       │\n",
      "│ 85.0  ┆ 85.0   ┆ 1.0  ┆ 0.1 ┆ … ┆ 27.740191  ┆ 48.265541  ┆ 0.0    ┆ 0.0       │\n",
      "│ …     ┆ …      ┆ …    ┆ …   ┆ … ┆ …          ┆ …          ┆ …      ┆ …         │\n",
      "│ 115.0 ┆ 115.0  ┆ 10.0 ┆ 0.5 ┆ … ┆ 180.00824  ┆ -92.713051 ┆ 0.0    ┆ 0.0       │\n",
      "│ 115.0 ┆ 115.0  ┆ 10.0 ┆ 0.5 ┆ … ┆ 165.426422 ┆ -88.937134 ┆ 0.0    ┆ 0.0       │\n",
      "│ 115.0 ┆ 115.0  ┆ 10.0 ┆ 0.5 ┆ … ┆ 151.555527 ┆ -83.890236 ┆ 0.0    ┆ 0.0       │\n",
      "│ 115.0 ┆ 115.0  ┆ 10.0 ┆ 0.5 ┆ … ┆ 138.413559 ┆ -77.788719 ┆ 0.0    ┆ 0.0       │\n",
      "│ 115.0 ┆ 115.0  ┆ 10.0 ┆ 0.5 ┆ … ┆ 126.011871 ┆ -70.852791 ┆ 0.0    ┆ 0.0       │\n",
      "└───────┴────────┴──────┴─────┴───┴────────────┴────────────┴────────┴───────────┘\n",
      "CPU times: user 864 ms, sys: 269 ms, total: 1.13 s\n",
      "Wall time: 1.13 s\n"
     ]
    }
   ],
   "source": [
    "%%time\n",
    "\n",
    "df = df.with_columns(\n",
    "    output_bs=m.black_scholes(\"is_call\", \"spot\", \"strike\", \"mat\", \"vol\", \"rate\", \"div\"),\n",
    ").drop([\"is_call\"]).unnest(\"output_bs\")\n",
    "print(df)"
   ]
  },
  {
   "cell_type": "code",
   "execution_count": 6,
   "id": "806215fc-fa79-4fbb-8cfc-f573e4ff0751",
   "metadata": {},
   "outputs": [
    {
     "name": "stdout",
     "output_type": "stream",
     "text": [
      "CPU times: user 3.32 s, sys: 112 ms, total: 3.43 s\n",
      "Wall time: 3.43 s\n"
     ]
    }
   ],
   "source": [
    "%%time\n",
    "\n",
    "df = df.with_columns(\n",
    "    iv_output=m.implied_vol(\n",
    "        \"price\",\n",
    "        \"spot\",\n",
    "        \"strike\",\n",
    "        \"mat\",\n",
    "        \"rate\",\n",
    "        \"div\",\n",
    "        iter=10,\n",
    "        prec=1e-7,\n",
    "        # method=\"Newton\",\n",
    "        method=\"Halley\",\n",
    "    )\n",
    ")"
   ]
  },
  {
   "cell_type": "code",
   "execution_count": 7,
   "id": "8e8f2f81-f685-4cc4-8822-5f6a5d4f504f",
   "metadata": {},
   "outputs": [
    {
     "name": "stdout",
     "output_type": "stream",
     "text": [
      "shape: (10_000_000, 28)\n",
      "┌───────┬────────┬──────┬─────┬───┬───────────┬─────────────┬──────────────┬──────────────┐\n",
      "│ spot  ┆ strike ┆ mat  ┆ vol ┆ … ┆ pv_payoff ┆ vol_implied ┆ iter_implied ┆ prec_implied │\n",
      "│ ---   ┆ ---    ┆ ---  ┆ --- ┆   ┆ ---       ┆ ---         ┆ ---          ┆ ---          │\n",
      "│ f32   ┆ f32    ┆ f32  ┆ f32 ┆   ┆ f32       ┆ f32         ┆ u32          ┆ f32          │\n",
      "╞═══════╪════════╪══════╪═════╪═══╪═══════════╪═════════════╪══════════════╪══════════════╡\n",
      "│ 85.0  ┆ 85.0   ┆ 1.0  ┆ 0.1 ┆ … ┆ 0.0       ┆ 0.1         ┆ 2            ┆ -0.001411    │\n",
      "│ 85.0  ┆ 85.0   ┆ 1.0  ┆ 0.1 ┆ … ┆ 0.0       ┆ 0.1         ┆ 4            ┆ -0.000004    │\n",
      "│ 85.0  ┆ 85.0   ┆ 1.0  ┆ 0.1 ┆ … ┆ 0.0       ┆ 0.1         ┆ 2            ┆ 0.009552     │\n",
      "│ 85.0  ┆ 85.0   ┆ 1.0  ┆ 0.1 ┆ … ┆ 0.0       ┆ 0.1         ┆ 10           ┆ 0.000011     │\n",
      "│ 85.0  ┆ 85.0   ┆ 1.0  ┆ 0.1 ┆ … ┆ 0.0       ┆ 0.1         ┆ 3            ┆ 0.00001      │\n",
      "│ …     ┆ …      ┆ …    ┆ …   ┆ … ┆ …         ┆ …           ┆ …            ┆ …            │\n",
      "│ 115.0 ┆ 115.0  ┆ 10.0 ┆ 0.5 ┆ … ┆ 0.0       ┆ 0.5         ┆ 3            ┆ -0.001431    │\n",
      "│ 115.0 ┆ 115.0  ┆ 10.0 ┆ 0.5 ┆ … ┆ 0.0       ┆ 0.5         ┆ 3            ┆ -0.004036    │\n",
      "│ 115.0 ┆ 115.0  ┆ 10.0 ┆ 0.5 ┆ … ┆ 0.0       ┆ 0.5         ┆ 5            ┆ 0.000004     │\n",
      "│ 115.0 ┆ 115.0  ┆ 10.0 ┆ 0.5 ┆ … ┆ 0.0       ┆ 0.5         ┆ 3            ┆ -0.000446    │\n",
      "│ 115.0 ┆ 115.0  ┆ 10.0 ┆ 0.5 ┆ … ┆ 0.0       ┆ 0.5         ┆ 3            ┆ -0.000153    │\n",
      "└───────┴────────┴──────┴─────┴───┴───────────┴─────────────┴──────────────┴──────────────┘\n",
      "CPU times: user 412 μs, sys: 41 μs, total: 453 μs\n",
      "Wall time: 456 μs\n"
     ]
    }
   ],
   "source": [
    "%%time\n",
    "\n",
    "df = df.unnest(\"iv_output\")\n",
    "print(df)"
   ]
  },
  {
   "cell_type": "code",
   "execution_count": 8,
   "id": "473545b6-17f0-4ba9-bfa9-761cee6088ad",
   "metadata": {},
   "outputs": [
    {
     "name": "stdout",
     "output_type": "stream",
     "text": [
      "shape: (10_000_000, 29)\n",
      "┌───────┬────────┬──────┬─────┬───┬─────────────┬──────────────┬──────────────┬───────────┐\n",
      "│ spot  ┆ strike ┆ mat  ┆ vol ┆ … ┆ vol_implied ┆ iter_implied ┆ prec_implied ┆ vol_prec  │\n",
      "│ ---   ┆ ---    ┆ ---  ┆ --- ┆   ┆ ---         ┆ ---          ┆ ---          ┆ ---       │\n",
      "│ f32   ┆ f32    ┆ f32  ┆ f32 ┆   ┆ f32         ┆ u32          ┆ f32          ┆ f32       │\n",
      "╞═══════╪════════╪══════╪═════╪═══╪═════════════╪══════════════╪══════════════╪═══════════╡\n",
      "│ 85.0  ┆ 85.0   ┆ 1.0  ┆ 0.1 ┆ … ┆ 0.1         ┆ 2            ┆ -0.001411    ┆ 1.9372e-7 │\n",
      "│ 85.0  ┆ 85.0   ┆ 1.0  ┆ 0.1 ┆ … ┆ 0.1         ┆ 4            ┆ -0.000004    ┆ 2.9802e-8 │\n",
      "│ 85.0  ┆ 85.0   ┆ 1.0  ┆ 0.1 ┆ … ┆ 0.1         ┆ 2            ┆ 0.009552     ┆ 1.0431e-7 │\n",
      "│ 85.0  ┆ 85.0   ┆ 1.0  ┆ 0.1 ┆ … ┆ 0.1         ┆ 10           ┆ 0.000011     ┆ 2.6077e-7 │\n",
      "│ 85.0  ┆ 85.0   ┆ 1.0  ┆ 0.1 ┆ … ┆ 0.1         ┆ 3            ┆ 0.00001      ┆ 7.4506e-8 │\n",
      "│ …     ┆ …      ┆ …    ┆ …   ┆ … ┆ …           ┆ …            ┆ …            ┆ …         │\n",
      "│ 115.0 ┆ 115.0  ┆ 10.0 ┆ 0.5 ┆ … ┆ 0.5         ┆ 3            ┆ -0.001431    ┆ 1.1921e-7 │\n",
      "│ 115.0 ┆ 115.0  ┆ 10.0 ┆ 0.5 ┆ … ┆ 0.5         ┆ 3            ┆ -0.004036    ┆ 0.0       │\n",
      "│ 115.0 ┆ 115.0  ┆ 10.0 ┆ 0.5 ┆ … ┆ 0.5         ┆ 5            ┆ 0.000004     ┆ 0.0       │\n",
      "│ 115.0 ┆ 115.0  ┆ 10.0 ┆ 0.5 ┆ … ┆ 0.5         ┆ 3            ┆ -0.000446    ┆ 0.0       │\n",
      "│ 115.0 ┆ 115.0  ┆ 10.0 ┆ 0.5 ┆ … ┆ 0.5         ┆ 3            ┆ -0.000153    ┆ 0.0       │\n",
      "└───────┴────────┴──────┴─────┴───┴─────────────┴──────────────┴──────────────┴───────────┘\n",
      "shape: (9, 5)\n",
      "┌────────────┬─────────────┬──────────────┬──────────────┬───────────┐\n",
      "│ statistic  ┆ vol_implied ┆ iter_implied ┆ prec_implied ┆ vol_prec  │\n",
      "│ ---        ┆ ---         ┆ ---          ┆ ---          ┆ ---       │\n",
      "│ str        ┆ f64         ┆ f64          ┆ f64          ┆ f64       │\n",
      "╞════════════╪═════════════╪══════════════╪══════════════╪═══════════╡\n",
      "│ count      ┆ 1e7         ┆ 1e7          ┆ 1e7          ┆ 1e7       │\n",
      "│ null_count ┆ 0.0         ┆ 0.0          ┆ 0.0          ┆ 0.0       │\n",
      "│ mean       ┆ 0.3         ┆ 4.1297728    ┆ -0.023684    ┆ 7.5984e-8 │\n",
      "│ std        ┆ 0.141421    ┆ 2.679489     ┆ 0.094117     ┆ 1.7797e-7 │\n",
      "│ min        ┆ 0.099943    ┆ 0.0          ┆ -1.097046    ┆ 0.0       │\n",
      "│ 25%        ┆ 0.2         ┆ 2.0          ┆ -0.000103    ┆ 1.4901e-8 │\n",
      "│ 50%        ┆ 0.3         ┆ 3.0          ┆ -0.000004    ┆ 5.9605e-8 │\n",
      "│ 75%        ┆ 0.4         ┆ 5.0          ┆ 0.000008     ┆ 9.6858e-8 │\n",
      "│ max        ┆ 0.500001    ┆ 10.0         ┆ 0.766861     ┆ 0.000069  │\n",
      "└────────────┴─────────────┴──────────────┴──────────────┴───────────┘\n",
      "CPU times: user 855 ms, sys: 103 ms, total: 958 ms\n",
      "Wall time: 171 ms\n"
     ]
    }
   ],
   "source": [
    "%%time\n",
    "\n",
    "df = df.with_columns(vol_prec=(pl.col(\"vol\") - pl.col(\"vol_implied\")).abs())\n",
    "print(df)\n",
    "\n",
    "dfs = df.select([f\"{e}_implied\" for e in [\"vol\", \"iter\", \"prec\"]] + [\"vol_prec\"])\n",
    "print(dfs.describe())"
   ]
  },
  {
   "cell_type": "code",
   "execution_count": null,
   "id": "adadc814-c2ca-454b-901f-9a90ea4d0ab2",
   "metadata": {},
   "outputs": [],
   "source": []
  }
 ],
 "metadata": {
  "kernelspec": {
   "display_name": "Python 3",
   "language": "python",
   "name": "python3"
  },
  "language_info": {
   "codemirror_mode": {
    "name": "ipython",
    "version": 3
   },
   "file_extension": ".py",
   "mimetype": "text/x-python",
   "name": "python",
   "nbconvert_exporter": "python",
   "pygments_lexer": "ipython3",
   "version": "3.12.7"
  }
 },
 "nbformat": 4,
 "nbformat_minor": 5
}
