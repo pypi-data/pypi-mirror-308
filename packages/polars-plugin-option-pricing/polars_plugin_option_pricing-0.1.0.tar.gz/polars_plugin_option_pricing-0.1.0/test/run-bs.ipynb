{
 "cells": [
  {
   "cell_type": "code",
   "execution_count": 1,
   "id": "6b6470e9-b457-4583-8e2d-369635f27736",
   "metadata": {},
   "outputs": [
    {
     "name": "stdout",
     "output_type": "stream",
     "text": [
      "polars_plugin_option_pricing version: 0.1.0\n"
     ]
    }
   ],
   "source": [
    "import numpy as np\n",
    "import polars as pl\n",
    "import polars_plugin_option_pricing as m\n",
    "print(f\"polars_plugin_option_pricing version: {m.__version__}\")"
   ]
  },
  {
   "cell_type": "code",
   "execution_count": 2,
   "id": "ea831716-0f18-44f2-8354-dfeaa06155da",
   "metadata": {},
   "outputs": [],
   "source": [
    "def _range(e):\n",
    "    start = e[\"start\"]\n",
    "    end = e[\"end\"]\n",
    "    n_step = e[\"n_step\"]\n",
    "    return np.linspace(start, end, n_step)"
   ]
  },
  {
   "cell_type": "code",
   "execution_count": 3,
   "id": "f0c3f7ab-694e-4d6d-8d48-38146e352cf8",
   "metadata": {},
   "outputs": [
    {
     "name": "stdout",
     "output_type": "stream",
     "text": [
      "CPU times: user 744 μs, sys: 950 μs, total: 1.69 ms\n",
      "Wall time: 1.45 ms\n"
     ]
    }
   ],
   "source": [
    "%%time\n",
    "\n",
    "spots = {\"start\": 98, \"end\": 102, \"n_step\": 3}\n",
    "strikes = {\"start\": 100, \"end\": 100, \"n_step\": 1}\n",
    "mats = {\"start\": 1, \"end\": 10, \"n_step\": 1}\n",
    "vols = {\"start\": 0.1, \"end\": 0.5, \"n_step\": 1}\n",
    "rates = {\"start\": 0.00, \"end\": 0.04, \"n_step\": 1}\n",
    "divs = {\"start\": 0.00, \"end\": 0.07, \"n_step\": 1}\n",
    "\n",
    "spots = {\"start\": 80, \"end\": 120, \"n_step\": 25}\n",
    "strikes = {\"start\": 80, \"end\": 120, \"n_step\": 100}\n",
    "mats = {\"start\": 1, \"end\": 10, \"n_step\": 10}\n",
    "vols = {\"start\": 0.1, \"end\": 0.5, \"n_step\": 5}\n",
    "rates = {\"start\": 0.00, \"end\": 0.04, \"n_step\": 5}\n",
    "divs = {\"start\": 0.00, \"end\": 0.07, \"n_step\": 8}\n",
    "\n",
    "\n",
    "df_is_call = pl.DataFrame(data=[True, False], schema=[\"is_call\"])\n",
    "df_spot = pl.DataFrame(data=_range(spots), schema={\"spot\": pl.Float32})\n",
    "df_strike = pl.DataFrame(data=_range(strikes), schema={\"strike\": pl.Float32})\n",
    "df_mat = pl.DataFrame(data=_range(mats), schema={\"mat\": pl.Float32})\n",
    "df_vol = pl.DataFrame(data=_range(vols), schema={\"vol\": pl.Float32})\n",
    "df_rate = pl.DataFrame(data=_range(rates), schema={\"rate\": pl.Float32})\n",
    "df_div = pl.DataFrame(data=_range(divs), schema={\"div\": pl.Float32})\n"
   ]
  },
  {
   "cell_type": "code",
   "execution_count": 4,
   "id": "c9556889-cc16-4d30-9b0e-8798f5d864ef",
   "metadata": {},
   "outputs": [
    {
     "name": "stdout",
     "output_type": "stream",
     "text": [
      "shape: (10_000_000, 7)\n",
      "┌─────────┬───────┬────────┬──────┬─────┬──────┬──────┐\n",
      "│ is_call ┆ spot  ┆ strike ┆ mat  ┆ vol ┆ rate ┆ div  │\n",
      "│ ---     ┆ ---   ┆ ---    ┆ ---  ┆ --- ┆ ---  ┆ ---  │\n",
      "│ bool    ┆ f32   ┆ f32    ┆ f32  ┆ f32 ┆ f32  ┆ f32  │\n",
      "╞═════════╪═══════╪════════╪══════╪═════╪══════╪══════╡\n",
      "│ true    ┆ 80.0  ┆ 80.0   ┆ 1.0  ┆ 0.1 ┆ 0.0  ┆ 0.0  │\n",
      "│ true    ┆ 80.0  ┆ 80.0   ┆ 1.0  ┆ 0.1 ┆ 0.0  ┆ 0.01 │\n",
      "│ true    ┆ 80.0  ┆ 80.0   ┆ 1.0  ┆ 0.1 ┆ 0.0  ┆ 0.02 │\n",
      "│ true    ┆ 80.0  ┆ 80.0   ┆ 1.0  ┆ 0.1 ┆ 0.0  ┆ 0.03 │\n",
      "│ true    ┆ 80.0  ┆ 80.0   ┆ 1.0  ┆ 0.1 ┆ 0.0  ┆ 0.04 │\n",
      "│ …       ┆ …     ┆ …      ┆ …    ┆ …   ┆ …    ┆ …    │\n",
      "│ false   ┆ 120.0 ┆ 120.0  ┆ 10.0 ┆ 0.5 ┆ 0.04 ┆ 0.03 │\n",
      "│ false   ┆ 120.0 ┆ 120.0  ┆ 10.0 ┆ 0.5 ┆ 0.04 ┆ 0.04 │\n",
      "│ false   ┆ 120.0 ┆ 120.0  ┆ 10.0 ┆ 0.5 ┆ 0.04 ┆ 0.05 │\n",
      "│ false   ┆ 120.0 ┆ 120.0  ┆ 10.0 ┆ 0.5 ┆ 0.04 ┆ 0.06 │\n",
      "│ false   ┆ 120.0 ┆ 120.0  ┆ 10.0 ┆ 0.5 ┆ 0.04 ┆ 0.07 │\n",
      "└─────────┴───────┴────────┴──────┴─────┴──────┴──────┘\n",
      "CPU times: user 157 ms, sys: 128 ms, total: 285 ms\n",
      "Wall time: 79 ms\n"
     ]
    }
   ],
   "source": [
    "%%time\n",
    "\n",
    "df = (\n",
    "    df_is_call.join(df_spot, how=\"cross\")\n",
    "    .join(df_strike, how=\"cross\")\n",
    "    .join(df_mat, how=\"cross\")\n",
    "    .join(df_vol, how=\"cross\")\n",
    "    .join(df_rate, how=\"cross\")\n",
    "    .join(df_div, how=\"cross\")\n",
    ")\n",
    "print(df)"
   ]
  },
  {
   "cell_type": "code",
   "execution_count": 5,
   "id": "7a77c174-348d-463c-a10b-b450a93bfd46",
   "metadata": {},
   "outputs": [
    {
     "name": "stdout",
     "output_type": "stream",
     "text": [
      "shape: (10_000_000, 8)\n",
      "┌─────────┬───────┬────────┬──────┬─────┬──────┬──────┬─────────────────────────────────┐\n",
      "│ is_call ┆ spot  ┆ strike ┆ mat  ┆ vol ┆ rate ┆ div  ┆ input                           │\n",
      "│ ---     ┆ ---   ┆ ---    ┆ ---  ┆ --- ┆ ---  ┆ ---  ┆ ---                             │\n",
      "│ bool    ┆ f32   ┆ f32    ┆ f32  ┆ f32 ┆ f32  ┆ f32  ┆ struct[7]                       │\n",
      "╞═════════╪═══════╪════════╪══════╪═════╪══════╪══════╪═════════════════════════════════╡\n",
      "│ true    ┆ 80.0  ┆ 80.0   ┆ 1.0  ┆ 0.1 ┆ 0.0  ┆ 0.0  ┆ {true,80.0,80.0,1.0,0.1,0.0,0.… │\n",
      "│ true    ┆ 80.0  ┆ 80.0   ┆ 1.0  ┆ 0.1 ┆ 0.0  ┆ 0.01 ┆ {true,80.0,80.0,1.0,0.1,0.0,0.… │\n",
      "│ true    ┆ 80.0  ┆ 80.0   ┆ 1.0  ┆ 0.1 ┆ 0.0  ┆ 0.02 ┆ {true,80.0,80.0,1.0,0.1,0.0,0.… │\n",
      "│ true    ┆ 80.0  ┆ 80.0   ┆ 1.0  ┆ 0.1 ┆ 0.0  ┆ 0.03 ┆ {true,80.0,80.0,1.0,0.1,0.0,0.… │\n",
      "│ true    ┆ 80.0  ┆ 80.0   ┆ 1.0  ┆ 0.1 ┆ 0.0  ┆ 0.04 ┆ {true,80.0,80.0,1.0,0.1,0.0,0.… │\n",
      "│ …       ┆ …     ┆ …      ┆ …    ┆ …   ┆ …    ┆ …    ┆ …                               │\n",
      "│ false   ┆ 120.0 ┆ 120.0  ┆ 10.0 ┆ 0.5 ┆ 0.04 ┆ 0.03 ┆ {false,120.0,120.0,10.0,0.5,0.… │\n",
      "│ false   ┆ 120.0 ┆ 120.0  ┆ 10.0 ┆ 0.5 ┆ 0.04 ┆ 0.04 ┆ {false,120.0,120.0,10.0,0.5,0.… │\n",
      "│ false   ┆ 120.0 ┆ 120.0  ┆ 10.0 ┆ 0.5 ┆ 0.04 ┆ 0.05 ┆ {false,120.0,120.0,10.0,0.5,0.… │\n",
      "│ false   ┆ 120.0 ┆ 120.0  ┆ 10.0 ┆ 0.5 ┆ 0.04 ┆ 0.06 ┆ {false,120.0,120.0,10.0,0.5,0.… │\n",
      "│ false   ┆ 120.0 ┆ 120.0  ┆ 10.0 ┆ 0.5 ┆ 0.04 ┆ 0.07 ┆ {false,120.0,120.0,10.0,0.5,0.… │\n",
      "└─────────┴───────┴────────┴──────┴─────┴──────┴──────┴─────────────────────────────────┘\n",
      "CPU times: user 1.79 ms, sys: 83 μs, total: 1.87 ms\n",
      "Wall time: 708 μs\n"
     ]
    }
   ],
   "source": [
    "%%time\n",
    "\n",
    "df = df.with_columns(\n",
    "    input=pl.struct([\"is_call\", \"spot\", \"strike\", \"mat\", \"vol\", \"rate\", \"div\"])\n",
    ")\n",
    "print(df)"
   ]
  },
  {
   "cell_type": "code",
   "execution_count": 6,
   "id": "114509fd-1d4f-4f1c-bf0b-8a29eac50a6b",
   "metadata": {},
   "outputs": [
    {
     "name": "stdout",
     "output_type": "stream",
     "text": [
      "shape: (10_000_000, 9)\n",
      "┌─────────┬───────┬────────┬──────┬───┬──────┬──────┬───────────────────────┬──────────────────────┐\n",
      "│ is_call ┆ spot  ┆ strike ┆ mat  ┆ … ┆ rate ┆ div  ┆ input                 ┆ output               │\n",
      "│ ---     ┆ ---   ┆ ---    ┆ ---  ┆   ┆ ---  ┆ ---  ┆ ---                   ┆ ---                  │\n",
      "│ bool    ┆ f32   ┆ f32    ┆ f32  ┆   ┆ f32  ┆ f32  ┆ struct[7]             ┆ struct[19]           │\n",
      "╞═════════╪═══════╪════════╪══════╪═══╪══════╪══════╪═══════════════════════╪══════════════════════╡\n",
      "│ true    ┆ 80.0  ┆ 80.0   ┆ 1.0  ┆ … ┆ 0.0  ┆ 0.0  ┆ {true,80.0,80.0,1.0,0 ┆ {true,0.05,-0.05,0.5 │\n",
      "│         ┆       ┆        ┆      ┆   ┆      ┆      ┆ .1,0.0,0.…            ┆ 19939,0.48…          │\n",
      "│ true    ┆ 80.0  ┆ 80.0   ┆ 1.0  ┆ … ┆ 0.0  ┆ 0.01 ┆ {true,80.0,80.0,1.0,0 ┆ {true,-0.05,-0.15,0. │\n",
      "│         ┆       ┆        ┆      ┆   ┆      ┆      ┆ .1,0.0,0.…            ┆ 480061,0.4…          │\n",
      "│ true    ┆ 80.0  ┆ 80.0   ┆ 1.0  ┆ … ┆ 0.0  ┆ 0.02 ┆ {true,80.0,80.0,1.0,0 ┆ {true,-0.15,-0.25,0. │\n",
      "│         ┆       ┆        ┆      ┆   ┆      ┆      ┆ .1,0.0,0.…            ┆ 440382,0.4…          │\n",
      "│ true    ┆ 80.0  ┆ 80.0   ┆ 1.0  ┆ … ┆ 0.0  ┆ 0.03 ┆ {true,80.0,80.0,1.0,0 ┆ {true,-0.25,-0.35,0. │\n",
      "│         ┆       ┆        ┆      ┆   ┆      ┆      ┆ .1,0.0,0.…            ┆ 401294,0.3…          │\n",
      "│ true    ┆ 80.0  ┆ 80.0   ┆ 1.0  ┆ … ┆ 0.0  ┆ 0.04 ┆ {true,80.0,80.0,1.0,0 ┆ {true,-0.35,-0.45,0. │\n",
      "│         ┆       ┆        ┆      ┆   ┆      ┆      ┆ .1,0.0,0.…            ┆ 363169,0.3…          │\n",
      "│ …       ┆ …     ┆ …      ┆ …    ┆ … ┆ …    ┆ …    ┆ …                     ┆ …                    │\n",
      "│ false   ┆ 120.0 ┆ 120.0  ┆ 10.0 ┆ … ┆ 0.04 ┆ 0.03 ┆ {false,120.0,120.0,10 ┆ {false,0.853815,-0.7 │\n",
      "│         ┆       ┆        ┆      ┆   ┆      ┆      ┆ .0,0.5,0.…            ┆ 27324,0.19…          │\n",
      "│ false   ┆ 120.0 ┆ 120.0  ┆ 10.0 ┆ … ┆ 0.04 ┆ 0.04 ┆ {false,120.0,120.0,10 ┆ {false,0.790569,-0.7 │\n",
      "│         ┆       ┆        ┆      ┆   ┆      ┆      ┆ .0,0.5,0.…            ┆ 90569,0.21…          │\n",
      "│ false   ┆ 120.0 ┆ 120.0  ┆ 10.0 ┆ … ┆ 0.04 ┆ 0.05 ┆ {false,120.0,120.0,10 ┆ {false,0.727324,-0.8 │\n",
      "│         ┆       ┆        ┆      ┆   ┆      ┆      ┆ .0,0.5,0.…            ┆ 53815,0.23…          │\n",
      "│ false   ┆ 120.0 ┆ 120.0  ┆ 10.0 ┆ … ┆ 0.04 ┆ 0.06 ┆ {false,120.0,120.0,10 ┆ {false,0.664078,-0.9 │\n",
      "│         ┆       ┆        ┆      ┆   ┆      ┆      ┆ .0,0.5,0.…            ┆ 1706,0.253…          │\n",
      "│ false   ┆ 120.0 ┆ 120.0  ┆ 10.0 ┆ … ┆ 0.04 ┆ 0.07 ┆ {false,120.0,120.0,10 ┆ {false,0.600833,-0.9 │\n",
      "│         ┆       ┆        ┆      ┆   ┆      ┆      ┆ .0,0.5,0.…            ┆ 80306,0.27…          │\n",
      "└─────────┴───────┴────────┴──────┴───┴──────┴──────┴───────────────────────┴──────────────────────┘\n",
      "CPU times: user 783 ms, sys: 244 ms, total: 1.03 s\n",
      "Wall time: 1.02 s\n"
     ]
    }
   ],
   "source": [
    "%%time\n",
    "\n",
    "df = df.with_columns(output=m.black_scholes(\n",
    "    \"is_call\", \"spot\", \"strike\", \"mat\", \"vol\", \"rate\", \"div\"\n",
    "))\n",
    "print(df)"
   ]
  },
  {
   "cell_type": "code",
   "execution_count": 7,
   "id": "b99f97b5-7d42-4c69-8add-9f651b013b86",
   "metadata": {},
   "outputs": [
    {
     "name": "stdout",
     "output_type": "stream",
     "text": [
      "shape: (10_000_000, 26)\n",
      "┌───────┬────────┬──────┬─────┬───┬─────────────┬────────────┬────────┬───────────┐\n",
      "│ spot  ┆ strike ┆ mat  ┆ vol ┆ … ┆ rho         ┆ voma       ┆ payoff ┆ pv_payoff │\n",
      "│ ---   ┆ ---    ┆ ---  ┆ --- ┆   ┆ ---         ┆ ---        ┆ ---    ┆ ---       │\n",
      "│ f32   ┆ f32    ┆ f32  ┆ f32 ┆   ┆ f32         ┆ f32        ┆ f32    ┆ f32       │\n",
      "╞═══════╪════════╪══════╪═════╪═══╪═════════════╪════════════╪════════╪═══════════╡\n",
      "│ 80.0  ┆ 80.0   ┆ 1.0  ┆ 0.1 ┆ … ┆ 38.404892   ┆ -0.796888  ┆ 0.0    ┆ 0.0       │\n",
      "│ 80.0  ┆ 80.0   ┆ 1.0  ┆ 0.1 ┆ … ┆ 35.230583   ┆ 2.366876   ┆ 0.0    ┆ 0.0       │\n",
      "│ 80.0  ┆ 80.0   ┆ 1.0  ┆ 0.1 ┆ … ┆ 32.103497   ┆ 11.600042  ┆ 0.0    ┆ 0.0       │\n",
      "│ 80.0  ┆ 80.0   ┆ 1.0  ┆ 0.1 ┆ … ┆ 29.053547   ┆ 26.266823  ┆ 0.0    ┆ 0.0       │\n",
      "│ 80.0  ┆ 80.0   ┆ 1.0  ┆ 0.1 ┆ … ┆ 26.108416   ┆ 45.426395  ┆ 0.0    ┆ 0.0       │\n",
      "│ …     ┆ …      ┆ …    ┆ …   ┆ … ┆ …           ┆ …          ┆ …      ┆ …         │\n",
      "│ 120.0 ┆ 120.0  ┆ 10.0 ┆ 0.5 ┆ … ┆ -616.549316 ┆ -96.744064 ┆ 0.0    ┆ 0.0       │\n",
      "│ 120.0 ┆ 120.0  ┆ 10.0 ┆ 0.5 ┆ … ┆ -631.765137 ┆ -92.803955 ┆ 0.0    ┆ 0.0       │\n",
      "│ 120.0 ┆ 120.0  ┆ 10.0 ┆ 0.5 ┆ … ┆ -646.239136 ┆ -87.537636 ┆ 0.0    ┆ 0.0       │\n",
      "│ 120.0 ┆ 120.0  ┆ 10.0 ┆ 0.5 ┆ … ┆ -659.952515 ┆ -81.17083  ┆ 0.0    ┆ 0.0       │\n",
      "│ 120.0 ┆ 120.0  ┆ 10.0 ┆ 0.5 ┆ … ┆ -672.893372 ┆ -73.933342 ┆ 0.0    ┆ 0.0       │\n",
      "└───────┴────────┴──────┴─────┴───┴─────────────┴────────────┴────────┴───────────┘\n",
      "CPU times: user 134 μs, sys: 1 ms, total: 1.14 ms\n",
      "Wall time: 834 μs\n"
     ]
    }
   ],
   "source": [
    "%%time\n",
    "\n",
    "df = df.drop([\"is_call\"]).unnest(\"output\")\n",
    "print(df)"
   ]
  },
  {
   "cell_type": "code",
   "execution_count": null,
   "id": "13e9c69f-e302-479b-a942-1c869045f881",
   "metadata": {},
   "outputs": [],
   "source": []
  },
  {
   "cell_type": "code",
   "execution_count": null,
   "id": "0f22a8f7-d6d5-41f4-8c05-37b37f1b65fb",
   "metadata": {},
   "outputs": [],
   "source": []
  },
  {
   "cell_type": "code",
   "execution_count": null,
   "id": "429b2d7f-c1fb-4151-84e3-53717285afc9",
   "metadata": {},
   "outputs": [],
   "source": []
  }
 ],
 "metadata": {
  "kernelspec": {
   "display_name": "Python 3",
   "language": "python",
   "name": "python3"
  },
  "language_info": {
   "codemirror_mode": {
    "name": "ipython",
    "version": 3
   },
   "file_extension": ".py",
   "mimetype": "text/x-python",
   "name": "python",
   "nbconvert_exporter": "python",
   "pygments_lexer": "ipython3",
   "version": "3.12.7"
  }
 },
 "nbformat": 4,
 "nbformat_minor": 5
}
