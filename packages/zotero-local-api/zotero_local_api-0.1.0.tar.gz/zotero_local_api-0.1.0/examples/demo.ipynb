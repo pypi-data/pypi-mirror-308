{
 "cells": [
  {
   "cell_type": "code",
   "execution_count": 1,
   "metadata": {},
   "outputs": [],
   "source": [
    "from zotero_local_api import ZoteroLocal\n",
    "from typing import Dict, List\n",
    "from pprint import pprint"
   ]
  },
  {
   "cell_type": "code",
   "execution_count": 2,
   "metadata": {},
   "outputs": [],
   "source": [
    "client = ZoteroLocal()\n",
    "# term = \"Altering cold-regulated\"\n",
    "# search_items_results = client.search_items(term)"
   ]
  },
  {
   "cell_type": "code",
   "execution_count": 17,
   "metadata": {},
   "outputs": [
    {
     "data": {
      "text/plain": [
       "{'key': 'ETWTCMUJ',\n",
       " 'version': 0,\n",
       " 'library': {'type': 'user',\n",
       "  'id': 14810854,\n",
       "  'name': 'My Library',\n",
       "  'links': {'self': {'href': 'http://localhost:23119/api/users/14810854',\n",
       "    'type': 'application/json'},\n",
       "   'alternate': {'href': 'https://www.zotero.org/users/14810854',\n",
       "    'type': 'text/html'}}},\n",
       " 'links': {'self': {'href': 'http://localhost:23119/api/users/14810854/items/ETWTCMUJ',\n",
       "   'type': 'application/json'},\n",
       "  'alternate': {'href': 'https://www.zotero.org/users/14810854/items/ETWTCMUJ',\n",
       "   'type': 'text/html'},\n",
       "  'attachment': {'href': 'http://localhost:23119/api/users/14810854/items/YNTWDQ9I',\n",
       "   'type': 'application/json',\n",
       "   'attachmentType': 'application/pdf',\n",
       "   'attachmentSize': 44021918}},\n",
       " 'meta': {'creatorSummary': 'Ortega et al.',\n",
       "  'parsedDate': '2024-10-03',\n",
       "  'numChildren': 1},\n",
       " 'data': {'key': 'ETWTCMUJ',\n",
       "  'version': 0,\n",
       "  'itemType': 'journalArticle',\n",
       "  'title': 'Altering cold-regulated gene expression decouples the salicylic acid–growth trade-off in Arabidopsis',\n",
       "  'abstractNote': 'In Arabidopsis (Arabidopsis thaliana), overproduction of salicylic acid (SA) increases disease resistance and abiotic stress tolerance but penalizes growth. This growth–defense trade-off has hindered the adoption of SA-based disease management strategies in agriculture. However, investigation of how SA inhibits plant growth has been challenging because many SA-hyperaccumulating Arabidopsis mutants have developmental defects due to the pleiotropic effects of the underlying genes. Here, we heterologously expressed a bacterial SA synthase gene in Arabidopsis and observed that elevated SA levels decreased plant growth and reduced the expression of cold-regulated (COR) genes in a dose-dependent manner. Growth suppression was exacerbated at below-ambient temperatures. Severing the SA-responsiveness of individual COR genes was sufficient to overcome the growth inhibition caused by elevated SA at ambient and below-ambient temperatures while preserving disease- and abiotic-stress-related benefits. Our results show the potential of decoupling SA-mediated growth and defense trade-offs for improving crop productivity.',\n",
       "  'date': '2024-10-03',\n",
       "  'language': 'en',\n",
       "  'libraryCatalog': 'DOI.org (Crossref)',\n",
       "  'url': 'https://academic.oup.com/plcell/article/36/10/4293/7721303',\n",
       "  'accessDate': '2024-11-12T00:51:47Z',\n",
       "  'rights': 'https://creativecommons.org/licenses/by/4.0/',\n",
       "  'extra': 'TLDR: Heterologously expressed a bacterial SA synthase gene in Arabidopsis and observed that elevated SA levels decreased plant growth and reduced the expression of cold-regulated (COR) genes in a dose-dependent manner, showing the potential of decoupling SA-mediated growth and defense trade-offs for improving crop productivity.',\n",
       "  'volume': '36',\n",
       "  'pages': '4293-4308',\n",
       "  'publicationTitle': 'The Plant Cell',\n",
       "  'DOI': '10.1093/plcell/koae210',\n",
       "  'issue': '10',\n",
       "  'ISSN': '1040-4651, 1532-298X',\n",
       "  'creators': [{'firstName': 'María A',\n",
       "    'lastName': 'Ortega',\n",
       "    'creatorType': 'author'},\n",
       "   {'firstName': 'Rhodesia M', 'lastName': 'Celoy', 'creatorType': 'author'},\n",
       "   {'firstName': 'Francisco', 'lastName': 'Chacon', 'creatorType': 'author'},\n",
       "   {'firstName': 'Yinan', 'lastName': 'Yuan', 'creatorType': 'author'},\n",
       "   {'firstName': 'Liang-Jiao', 'lastName': 'Xue', 'creatorType': 'author'},\n",
       "   {'firstName': 'Saurabh P', 'lastName': 'Pandey', 'creatorType': 'author'},\n",
       "   {'firstName': 'MaKenzie R', 'lastName': 'Drowns', 'creatorType': 'author'},\n",
       "   {'firstName': 'Brian H', 'lastName': 'Kvitko', 'creatorType': 'author'},\n",
       "   {'firstName': 'Chung-Jui', 'lastName': 'Tsai', 'creatorType': 'author'}],\n",
       "  'tags': [],\n",
       "  'collections': ['HKUIT64H'],\n",
       "  'relations': {},\n",
       "  'dateAdded': '2024-11-12T00:51:47Z',\n",
       "  'dateModified': '2024-11-12T00:51:49Z'}}"
      ]
     },
     "execution_count": 17,
     "metadata": {},
     "output_type": "execute_result"
    }
   ],
   "source": [
    "# search_items_results[0]"
   ]
  },
  {
   "cell_type": "code",
   "execution_count": 5,
   "metadata": {},
   "outputs": [],
   "source": [
    "href = client.get_item_attachment_href(item_key='M8GF26XB')"
   ]
  },
  {
   "cell_type": "code",
   "execution_count": 4,
   "metadata": {},
   "outputs": [
    {
     "ename": "AttributeError",
     "evalue": "'ZoteroLocal' object has no attribute 'copy_attachment_to_downloads'",
     "output_type": "error",
     "traceback": [
      "\u001b[1;31m---------------------------------------------------------------------------\u001b[0m",
      "\u001b[1;31mAttributeError\u001b[0m                            Traceback (most recent call last)",
      "Cell \u001b[1;32mIn[4], line 1\u001b[0m\n\u001b[1;32m----> 1\u001b[0m custom_path \u001b[38;5;241m=\u001b[39m \u001b[43mclient\u001b[49m\u001b[38;5;241;43m.\u001b[39;49m\u001b[43mcopy_attachment_to_downloads\u001b[49m(href, download_dir\u001b[38;5;241m=\u001b[39m\u001b[38;5;124m\"\u001b[39m\u001b[38;5;124m../downloads\u001b[39m\u001b[38;5;124m\"\u001b[39m)\n",
      "\u001b[1;31mAttributeError\u001b[0m: 'ZoteroLocal' object has no attribute 'copy_attachment_to_downloads'"
     ]
    }
   ],
   "source": [
    "custom_path = client.copy_attachment_to_downloads(href, download_dir=\"../downloads\")"
   ]
  },
  {
   "cell_type": "code",
   "execution_count": null,
   "metadata": {},
   "outputs": [],
   "source": []
  }
 ],
 "metadata": {
  "kernelspec": {
   "display_name": "py311",
   "language": "python",
   "name": "python3"
  },
  "language_info": {
   "codemirror_mode": {
    "name": "ipython",
    "version": 3
   },
   "file_extension": ".py",
   "mimetype": "text/x-python",
   "name": "python",
   "nbconvert_exporter": "python",
   "pygments_lexer": "ipython3",
   "version": "3.11.10"
  }
 },
 "nbformat": 4,
 "nbformat_minor": 2
}
