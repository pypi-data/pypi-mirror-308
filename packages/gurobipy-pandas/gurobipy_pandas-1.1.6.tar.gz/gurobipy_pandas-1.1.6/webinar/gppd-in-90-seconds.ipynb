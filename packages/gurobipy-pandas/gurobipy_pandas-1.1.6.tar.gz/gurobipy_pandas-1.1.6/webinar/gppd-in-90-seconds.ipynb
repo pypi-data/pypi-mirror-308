{
 "cells": [
  {
   "cell_type": "code",
   "execution_count": 1,
   "id": "cc7db718",
   "metadata": {
    "slideshow": {
     "slide_type": "skip"
    }
   },
   "outputs": [],
   "source": [
    "# Convert to slides using\n",
    "#\n",
    "#  jupyter nbconvert --to slides gppd-in-90-seconds.ipynb\n",
    "#\n",
    "\n",
    "import pandas as pd\n",
    "import gurobipy as gp\n",
    "from gurobipy import GRB\n",
    "import gurobipy_pandas as gppd\n",
    "\n",
    "# Handy trick for live coding, not for production\n",
    "gppd.set_interactive()\n",
    "\n",
    "# Quiet please\n",
    "gp.setParam('OutputFlag', 0)\n",
    "\n",
    "# Example data\n",
    "import io\n",
    "projects_csv = io.StringIO(\"project,resource\\n0,1.1\\n1,1.4\\n2,1.2\\n3,1.1\\n4,0.9\\n5,1.3\\n6,1.0\\n7,1.6\\n8,1.7\\n9,0.9\\n10,1.5\\n11,1.1\\n12,1.2\\n13,1.7\\n14,0.4\\n15,0.4\\n16,0.3\\n17,1.5\\n18,1.5\\n19,1.6\\n20,1.8\\n21,1.5\\n22,1.0\\n23,1.5\\n24,0.5\\n25,1.3\\n26,0.5\\n27,1.7\\n28,1.1\\n29,0.9\\n\")\n",
    "projects = pd.read_csv(projects_csv).assign(project=lambda df: df['project'].apply(\"p{}\".format)).set_index('project')\n",
    "teams_csv = io.StringIO(\"team,capacity\\n0,2.4\\n1,1.8\\n2,1.1\\n3,1.9\\n4,1.4\\n\")\n",
    "teams = pd.read_csv(teams_csv).assign(team=lambda df: df['team'].apply(\"t{}\".format)).set_index('team')\n",
    "project_values_csv = io.StringIO(\"project,team,profit\\n0,4,0.4\\n1,4,1.3\\n2,0,1.7\\n2,1,1.7\\n2,2,1.7\\n2,3,1.7\\n2,4,1.7\\n3,4,1.3\\n4,0,1.3\\n4,1,1.3\\n4,2,1.3\\n4,3,1.3\\n4,4,1.3\\n5,0,1.8\\n5,1,1.8\\n5,2,1.8\\n5,3,1.8\\n5,4,1.8\\n6,0,1.2\\n6,1,1.2\\n6,2,1.2\\n6,3,1.2\\n6,4,1.2\\n7,3,0.9\\n7,4,0.9\\n8,3,1.0\\n8,4,1.0\\n9,4,1.2\\n10,0,0.8\\n10,1,0.8\\n10,2,0.8\\n10,3,0.8\\n10,4,0.8\\n11,0,1.3\\n11,1,1.3\\n11,2,1.3\\n11,3,1.3\\n11,4,1.3\\n12,3,0.8\\n12,4,0.8\\n13,0,1.5\\n13,1,1.5\\n13,2,1.5\\n13,3,1.5\\n13,4,1.5\\n14,3,1.7\\n14,4,1.7\\n15,4,1.3\\n16,4,0.3\\n17,0,1.2\\n17,1,1.2\\n17,2,1.2\\n17,3,1.2\\n17,4,1.2\\n18,3,1.3\\n18,4,1.3\\n19,3,1.8\\n19,4,1.8\\n20,3,1.6\\n20,4,1.6\\n21,3,1.1\\n21,4,1.1\\n22,4,0.4\\n23,4,1.0\\n24,4,0.3\\n25,0,1.0\\n25,1,1.0\\n25,2,1.0\\n25,3,1.0\\n25,4,1.0\\n26,4,1.8\\n27,3,0.8\\n27,4,0.8\\n28,0,1.0\\n28,1,1.0\\n28,2,1.0\\n28,3,1.0\\n28,4,1.0\\n29,3,1.3\\n29,4,1.3\\n\")\n",
    "project_values = pd.read_csv(project_values_csv).assign(\n",
    "    team=lambda df: df['team'].apply(\"t{}\".format),\n",
    "    project=lambda df: df['project'].apply(\"p{}\".format),\n",
    ").set_index([\"project\", \"team\"])"
   ]
  },
  {
   "cell_type": "markdown",
   "id": "1d2dbfdf",
   "metadata": {
    "slideshow": {
     "slide_type": "slide"
    }
   },
   "source": [
    "## gurobipy-pandas: a quick example\n",
    "\n",
    "- We have a set of projects, each requiring resources\n",
    "- We have a set of teams, each with some capacity\n",
    "- Goal: allocate projects to maximize revenue"
   ]
  },
  {
   "cell_type": "code",
   "execution_count": 2,
   "id": "df4c8a91",
   "metadata": {
    "slideshow": {
     "slide_type": "-"
    }
   },
   "outputs": [
    {
     "data": {
      "text/html": [
       "<div>\n",
       "<style scoped>\n",
       "    .dataframe tbody tr th:only-of-type {\n",
       "        vertical-align: middle;\n",
       "    }\n",
       "\n",
       "    .dataframe tbody tr th {\n",
       "        vertical-align: top;\n",
       "    }\n",
       "\n",
       "    .dataframe thead th {\n",
       "        text-align: right;\n",
       "    }\n",
       "</style>\n",
       "<table border=\"1\" class=\"dataframe\">\n",
       "  <thead>\n",
       "    <tr style=\"text-align: right;\">\n",
       "      <th></th>\n",
       "      <th>resource</th>\n",
       "    </tr>\n",
       "    <tr>\n",
       "      <th>project</th>\n",
       "      <th></th>\n",
       "    </tr>\n",
       "  </thead>\n",
       "  <tbody>\n",
       "    <tr>\n",
       "      <th>p0</th>\n",
       "      <td>1.1</td>\n",
       "    </tr>\n",
       "    <tr>\n",
       "      <th>p1</th>\n",
       "      <td>1.4</td>\n",
       "    </tr>\n",
       "    <tr>\n",
       "      <th>p2</th>\n",
       "      <td>1.2</td>\n",
       "    </tr>\n",
       "  </tbody>\n",
       "</table>\n",
       "</div>"
      ],
      "text/plain": [
       "         resource\n",
       "project          \n",
       "p0            1.1\n",
       "p1            1.4\n",
       "p2            1.2"
      ]
     },
     "execution_count": 2,
     "metadata": {},
     "output_type": "execute_result"
    }
   ],
   "source": [
    "projects.head(3)  # w_i "
   ]
  },
  {
   "cell_type": "code",
   "execution_count": 3,
   "id": "ccd22f10",
   "metadata": {
    "slideshow": {
     "slide_type": "-"
    }
   },
   "outputs": [
    {
     "data": {
      "text/html": [
       "<div>\n",
       "<style scoped>\n",
       "    .dataframe tbody tr th:only-of-type {\n",
       "        vertical-align: middle;\n",
       "    }\n",
       "\n",
       "    .dataframe tbody tr th {\n",
       "        vertical-align: top;\n",
       "    }\n",
       "\n",
       "    .dataframe thead th {\n",
       "        text-align: right;\n",
       "    }\n",
       "</style>\n",
       "<table border=\"1\" class=\"dataframe\">\n",
       "  <thead>\n",
       "    <tr style=\"text-align: right;\">\n",
       "      <th></th>\n",
       "      <th>capacity</th>\n",
       "    </tr>\n",
       "    <tr>\n",
       "      <th>team</th>\n",
       "      <th></th>\n",
       "    </tr>\n",
       "  </thead>\n",
       "  <tbody>\n",
       "    <tr>\n",
       "      <th>t0</th>\n",
       "      <td>2.4</td>\n",
       "    </tr>\n",
       "    <tr>\n",
       "      <th>t1</th>\n",
       "      <td>1.8</td>\n",
       "    </tr>\n",
       "    <tr>\n",
       "      <th>t2</th>\n",
       "      <td>1.1</td>\n",
       "    </tr>\n",
       "  </tbody>\n",
       "</table>\n",
       "</div>"
      ],
      "text/plain": [
       "      capacity\n",
       "team          \n",
       "t0         2.4\n",
       "t1         1.8\n",
       "t2         1.1"
      ]
     },
     "execution_count": 3,
     "metadata": {},
     "output_type": "execute_result"
    }
   ],
   "source": [
    "teams.head(3)  # c_j"
   ]
  },
  {
   "cell_type": "markdown",
   "id": "8b29661b",
   "metadata": {
    "slideshow": {
     "slide_type": "slide"
    }
   },
   "source": [
    "## Decision variables\n",
    "\n",
    "- Define $x_{ij} \\in \\lbrace 0, 1 \\rbrace$. If team $j$ completes project $i$, then $x_{ij} = 1$. If team $j$ completes project $i$, we profit $p_{ij}$. Maximize profit!\n",
    "\n",
    "$$\n",
    "\\max \\sum_{i \\in I} \\sum_{j \\in J} p_{i} x_{ij}\n",
    "$$"
   ]
  },
  {
   "cell_type": "code",
   "execution_count": 4,
   "id": "29641cbf",
   "metadata": {
    "slideshow": {
     "slide_type": "-"
    }
   },
   "outputs": [
    {
     "data": {
      "text/html": [
       "<div>\n",
       "<style scoped>\n",
       "    .dataframe tbody tr th:only-of-type {\n",
       "        vertical-align: middle;\n",
       "    }\n",
       "\n",
       "    .dataframe tbody tr th {\n",
       "        vertical-align: top;\n",
       "    }\n",
       "\n",
       "    .dataframe thead th {\n",
       "        text-align: right;\n",
       "    }\n",
       "</style>\n",
       "<table border=\"1\" class=\"dataframe\">\n",
       "  <thead>\n",
       "    <tr style=\"text-align: right;\">\n",
       "      <th></th>\n",
       "      <th></th>\n",
       "      <th>profit</th>\n",
       "      <th>x</th>\n",
       "    </tr>\n",
       "    <tr>\n",
       "      <th>project</th>\n",
       "      <th>team</th>\n",
       "      <th></th>\n",
       "      <th></th>\n",
       "    </tr>\n",
       "  </thead>\n",
       "  <tbody>\n",
       "    <tr>\n",
       "      <th>p0</th>\n",
       "      <th>t4</th>\n",
       "      <td>0.4</td>\n",
       "      <td>&lt;gurobi.Var x[p0,t4]&gt;</td>\n",
       "    </tr>\n",
       "    <tr>\n",
       "      <th>p1</th>\n",
       "      <th>t4</th>\n",
       "      <td>1.3</td>\n",
       "      <td>&lt;gurobi.Var x[p1,t4]&gt;</td>\n",
       "    </tr>\n",
       "    <tr>\n",
       "      <th rowspan=\"3\" valign=\"top\">p2</th>\n",
       "      <th>t0</th>\n",
       "      <td>1.7</td>\n",
       "      <td>&lt;gurobi.Var x[p2,t0]&gt;</td>\n",
       "    </tr>\n",
       "    <tr>\n",
       "      <th>t1</th>\n",
       "      <td>1.7</td>\n",
       "      <td>&lt;gurobi.Var x[p2,t1]&gt;</td>\n",
       "    </tr>\n",
       "    <tr>\n",
       "      <th>t2</th>\n",
       "      <td>1.7</td>\n",
       "      <td>&lt;gurobi.Var x[p2,t2]&gt;</td>\n",
       "    </tr>\n",
       "  </tbody>\n",
       "</table>\n",
       "</div>"
      ],
      "text/plain": [
       "              profit                      x\n",
       "project team                               \n",
       "p0      t4       0.4  <gurobi.Var x[p0,t4]>\n",
       "p1      t4       1.3  <gurobi.Var x[p1,t4]>\n",
       "p2      t0       1.7  <gurobi.Var x[p2,t0]>\n",
       "        t1       1.7  <gurobi.Var x[p2,t1]>\n",
       "        t2       1.7  <gurobi.Var x[p2,t2]>"
      ]
     },
     "execution_count": 4,
     "metadata": {},
     "output_type": "execute_result"
    }
   ],
   "source": [
    "# gurobipy-pandas creates variables as a series\n",
    "model = gp.Model()\n",
    "model.ModelSense = GRB.MAXIMIZE\n",
    "assignments = project_values.gppd.add_vars(\n",
    "    model, vtype=GRB.BINARY, obj=\"profit\", name=\"x\"\n",
    ")\n",
    "assignments.head()  # p_ij & x_ij"
   ]
  },
  {
   "cell_type": "markdown",
   "id": "8d3772e9",
   "metadata": {
    "slideshow": {
     "slide_type": "slide"
    }
   },
   "source": [
    "## Capacity constraint\n",
    "\n",
    "- Assigned projects are limited by team capacity\n",
    "\n",
    "$$\n",
    "\\sum_{i \\in I} w_{i} x_{ij} \\le c_{j} \\quad \\forall j \\in J\n",
    "$$"
   ]
  },
  {
   "cell_type": "code",
   "execution_count": 5,
   "id": "5e123143",
   "metadata": {
    "slideshow": {
     "slide_type": "-"
    }
   },
   "outputs": [
    {
     "data": {
      "text/plain": [
       "team\n",
       "t0    1.2 x[p2,t0] + 0.9 x[p4,t0] + 1.3 x[p5,t0] + x...\n",
       "t1    1.2 x[p2,t1] + 0.9 x[p4,t1] + 1.3 x[p5,t1] + x...\n",
       "t2    1.2 x[p2,t2] + 0.9 x[p4,t2] + 1.3 x[p5,t2] + x...\n",
       "t3    1.2 x[p2,t3] + 0.9 x[p4,t3] + 1.3 x[p5,t3] + x...\n",
       "t4    1.1 x[p0,t4] + 1.4 x[p1,t4] + 1.2 x[p2,t4] + 1...\n",
       "Name: capacity, dtype: object"
      ]
     },
     "execution_count": 5,
     "metadata": {},
     "output_type": "execute_result"
    }
   ],
   "source": [
    "# gurobipy-pandas adds one constraint per grouped constraint\n",
    "capacity_constraints = gppd.add_constrs(\n",
    "    model,\n",
    "    (projects[\"resource\"] * assignments[\"x\"]).groupby(\"team\").sum(),\n",
    "    GRB.LESS_EQUAL,\n",
    "    teams[\"capacity\"],\n",
    "    name='capacity',\n",
    ")\n",
    "capacity_constraints.apply(model.getRow).head()"
   ]
  },
  {
   "cell_type": "markdown",
   "id": "693a0b18",
   "metadata": {
    "slideshow": {
     "slide_type": "skip"
    }
   },
   "source": [
    "## Allocate once\n",
    "\n",
    "- Each project is allocated to at most one team\n",
    "\n",
    "$$\n",
    "\\sum_{j \\in J} x_{ij} \\le 1 \\quad \\forall i \\in I\n",
    "$$"
   ]
  },
  {
   "cell_type": "code",
   "execution_count": 6,
   "id": "ba8688b6",
   "metadata": {
    "slideshow": {
     "slide_type": "skip"
    }
   },
   "outputs": [
    {
     "data": {
      "text/plain": [
       "project\n",
       "p0                                              x[p0,t4]\n",
       "p1                                              x[p1,t4]\n",
       "p10    x[p10,t0] + x[p10,t1] + x[p10,t2] + x[p10,t3] ...\n",
       "p11    x[p11,t0] + x[p11,t1] + x[p11,t2] + x[p11,t3] ...\n",
       "p12                                x[p12,t3] + x[p12,t4]\n",
       "Name: allocate_once, dtype: object"
      ]
     },
     "execution_count": 6,
     "metadata": {},
     "output_type": "execute_result"
    }
   ],
   "source": [
    "allocate_once = gppd.add_constrs(\n",
    "    model, assignments['x'].groupby('project').sum(),\n",
    "    GRB.LESS_EQUAL, 1.0, name=\"allocate_once\",\n",
    ")\n",
    "allocate_once.apply(model.getRow).head()"
   ]
  },
  {
   "cell_type": "markdown",
   "id": "258177d6",
   "metadata": {
    "slideshow": {
     "slide_type": "slide"
    }
   },
   "source": [
    "## Solutions\n",
    "\n",
    "- Gurobi solves the model, allocating projects to maximize profit\n",
    "- Solution values retrieved as a series on our original index"
   ]
  },
  {
   "cell_type": "code",
   "execution_count": 7,
   "id": "2ee270f5",
   "metadata": {
    "slideshow": {
     "slide_type": "-"
    }
   },
   "outputs": [
    {
     "data": {
      "text/html": [
       "<div>\n",
       "<style scoped>\n",
       "    .dataframe tbody tr th:only-of-type {\n",
       "        vertical-align: middle;\n",
       "    }\n",
       "\n",
       "    .dataframe tbody tr th {\n",
       "        vertical-align: top;\n",
       "    }\n",
       "\n",
       "    .dataframe thead th {\n",
       "        text-align: right;\n",
       "    }\n",
       "</style>\n",
       "<table border=\"1\" class=\"dataframe\">\n",
       "  <thead>\n",
       "    <tr style=\"text-align: right;\">\n",
       "      <th></th>\n",
       "      <th>project</th>\n",
       "    </tr>\n",
       "    <tr>\n",
       "      <th>team</th>\n",
       "      <th></th>\n",
       "    </tr>\n",
       "  </thead>\n",
       "  <tbody>\n",
       "    <tr>\n",
       "      <th>t0</th>\n",
       "      <td>[p4, p5]</td>\n",
       "    </tr>\n",
       "    <tr>\n",
       "      <th>t1</th>\n",
       "      <td>[p2]</td>\n",
       "    </tr>\n",
       "    <tr>\n",
       "      <th>t2</th>\n",
       "      <td>[p11]</td>\n",
       "    </tr>\n",
       "    <tr>\n",
       "      <th>t3</th>\n",
       "      <td>[p6, p29]</td>\n",
       "    </tr>\n",
       "    <tr>\n",
       "      <th>t4</th>\n",
       "      <td>[p14, p15, p26]</td>\n",
       "    </tr>\n",
       "  </tbody>\n",
       "</table>\n",
       "</div>"
      ],
      "text/plain": [
       "              project\n",
       "team                 \n",
       "t0           [p4, p5]\n",
       "t1               [p2]\n",
       "t2              [p11]\n",
       "t3          [p6, p29]\n",
       "t4    [p14, p15, p26]"
      ]
     },
     "execution_count": 7,
     "metadata": {},
     "output_type": "execute_result"
    }
   ],
   "source": [
    "model.optimize()\n",
    "(\n",
    "    assignments[\"x\"].gppd.X.to_frame()\n",
    "    .query(\"x >= 0.9\").reset_index()\n",
    "    .groupby(\"team\").agg({\"project\": list})\n",
    ")"
   ]
  }
 ],
 "metadata": {
  "celltoolbar": "Slideshow",
  "kernelspec": {
   "display_name": "Python 3 (ipykernel)",
   "language": "python",
   "name": "python3"
  },
  "language_info": {
   "codemirror_mode": {
    "name": "ipython",
    "version": 3
   },
   "file_extension": ".py",
   "mimetype": "text/x-python",
   "name": "python",
   "nbconvert_exporter": "python",
   "pygments_lexer": "ipython3",
   "version": "3.11.2"
  }
 },
 "nbformat": 4,
 "nbformat_minor": 5
}
