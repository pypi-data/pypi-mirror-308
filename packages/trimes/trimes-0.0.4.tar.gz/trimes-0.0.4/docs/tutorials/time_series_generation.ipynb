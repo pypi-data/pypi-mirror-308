{
  "cells": [
    {
      "cell_type": "markdown",
      "metadata": {},
      "source": [
        "---\n",
        "title: 'Time Series Generation'\n",
        "toc: true\n",
        "number-sections: true\n",
        "mainfont: Arial\n",
        "format:\n",
        "  html: default\n",
        "---"
      ]
    },
    {
      "cell_type": "code",
      "execution_count": null,
      "metadata": {},
      "outputs": [],
      "source": [
        "#| echo: false\n",
        "#| output: false\n",
        "%load_ext autoreload\n",
        "%autoreload 2\n",
        "import sys\n",
        "sys.path.append(r\"..\\..\\src\")  # local path to trimes"
      ]
    },
    {
      "cell_type": "markdown",
      "metadata": {},
      "source": [
        "This tutorial covers the generation of time series signals. It is shown how to create linear interpolated signals and periodic signals (superimposing several frequencies)."
      ]
    },
    {
      "cell_type": "code",
      "execution_count": null,
      "metadata": {},
      "outputs": [],
      "source": [
        "import numpy as np\n",
        "from matplotlib import pyplot as plt"
      ]
    },
    {
      "cell_type": "markdown",
      "metadata": {},
      "source": [
        "# Linear Signals\n",
        "Linear interpolated time series signals can be created by specifying points in time `t` and the corresponding values `y`: "
      ]
    },
    {
      "cell_type": "code",
      "execution_count": null,
      "metadata": {},
      "outputs": [],
      "source": [
        "from trimes.signal_generation import linear_time_series\n",
        "\n",
        "t = (0, 2, 2, 3, 5)\n",
        "y = (2, 2, 1.5, 1.2, 1.2)\n",
        "sample_time = 1e-3\n",
        "\n",
        "ts = linear_time_series(t, y, sample_time)\n",
        "ts.plot(grid=True)"
      ]
    },
    {
      "cell_type": "markdown",
      "metadata": {},
      "source": [
        "If `y` is a list, several lines are generated:"
      ]
    },
    {
      "cell_type": "code",
      "execution_count": null,
      "metadata": {},
      "outputs": [],
      "source": [
        "t = (0, 2, 2, 3, 5)\n",
        "y = [(2, 2, 1.5, 1.2, 1.2), (0, 1, 1, 1, 1)]\n",
        "\n",
        "ts = linear_time_series(t, y, sample_time)\n",
        "ts.columns = (\"upper boundary\", \"lower boundary\")\n",
        "ts.plot(grid=True)"
      ]
    },
    {
      "cell_type": "markdown",
      "metadata": {},
      "source": [
        "Symmetric signals can also be created using `mirror_y` (mirroring of the signal at a y-value):"
      ]
    },
    {
      "cell_type": "code",
      "execution_count": null,
      "metadata": {},
      "outputs": [],
      "source": [
        "from trimes.signal_generation import mirror_y\n",
        "\n",
        "upper_boundary = ts.iloc[:, 0]\n",
        "ts_envelope = mirror_y(upper_boundary, 1, inplace=True)\n",
        "ts_envelope.columns = (\"upper boundary\", \"lower boundary\")\n",
        "a = ts_envelope.plot(grid=True)\n",
        "type(a)"
      ]
    },
    {
      "cell_type": "markdown",
      "metadata": {},
      "source": [
        "# Periodic Signals\n",
        "The `PeriodicSignal` class can be used to create periodic signals of any shape (flexibly set parameters like frequency, magnitude, offset and initial angle). By default, cosine signals are created:"
      ]
    },
    {
      "cell_type": "code",
      "execution_count": null,
      "metadata": {},
      "outputs": [],
      "source": [
        "from trimes.signal_generation import PeriodicSignal\n",
        "\n",
        "sample_time = 1e-4\n",
        "mag = 110 * np.sqrt(2) / np.sqrt(3)\n",
        "t = np.arange(0, 0.1, sample_time)\n",
        "cosine_wave = PeriodicSignal(t, f=50, mag=mag, offset=10, phi=np.pi * 0.3)\n",
        "cosine_wave_series = cosine_wave.get_signal_series()\n",
        "cosine_wave_series.plot()\n",
        "plt.grid()\n",
        "plt.show()"
      ]
    },
    {
      "cell_type": "markdown",
      "metadata": {},
      "source": [
        "To create gradients, use tuples as parameters (**don't use lists**)."
      ]
    },
    {
      "cell_type": "code",
      "execution_count": null,
      "metadata": {},
      "outputs": [],
      "source": [
        "plt.close(\"all\")\n",
        "\n",
        "cosine_wave = PeriodicSignal(\n",
        "    np.arange(0, 0.1, sample_time), f=(50, 150), mag=(0.9 * mag, 1.5 * mag)\n",
        ")\n",
        "cosine_wave.plot(grid=True)"
      ]
    },
    {
      "cell_type": "markdown",
      "metadata": {},
      "source": [
        "The `plot_with_attributes` illustrates the signal as well as its parameters over time."
      ]
    },
    {
      "cell_type": "code",
      "execution_count": null,
      "metadata": {},
      "outputs": [],
      "source": [
        "cosine_wave.plot_with_attributes()\n",
        "plt.grid()"
      ]
    },
    {
      "cell_type": "markdown",
      "metadata": {},
      "source": [
        "Symmetric multi-phase signals can be created based on the `PeriodicSignal` class by using `get_signal_n_phases` (angular phase difference between signals is $360/n$):"
      ]
    },
    {
      "cell_type": "code",
      "execution_count": null,
      "metadata": {},
      "outputs": [],
      "source": [
        "cosine_wave = PeriodicSignal(\n",
        "    np.arange(0, 0.1, sample_time), f=(50, 55), mag=(0.9 * mag, 1.1 * mag)\n",
        ")\n",
        "cosine_wave_series_3_phase = cosine_wave.get_signal_n_phases(3)\n",
        "cosine_wave_series_3_phase.plot(grid=True)"
      ]
    },
    {
      "cell_type": "markdown",
      "metadata": {},
      "source": [
        "Signals can be superimposed and concatenated by creating an array of signals. The rows of the array are superimposed and the resulting column is concatenated. The following signal is created:\n",
        "- two time periods (with varying frequencies)\n",
        "  - 0-0.1 s\n",
        "  - 0.1-0.2 s\n",
        "- several frequencies are superimposed:\n",
        "  - fundamental: $50$ Hz (actually varies between $50$ and $52$ Hz)\n",
        "  - fifth harmonic: $5*50=250$ Hz\n",
        "  - negative sequence: rotating with $-50$ Hz (actually varies between $-50$ and $-52$ Hz)\n",
        "- $3$ phases"
      ]
    },
    {
      "cell_type": "code",
      "execution_count": null,
      "metadata": {},
      "outputs": [],
      "source": [
        "from trimes.signal_generation import (\n",
        "    superimpose_and_concat_periodic_signals,\n",
        ")\n",
        "\n",
        "time_spans = [np.arange(0, 0.1, sample_time), np.arange(0.1, 0.2, sample_time)]\n",
        "signals = [\n",
        "    [\n",
        "        PeriodicSignal(time_spans[0], f=50, mag=mag),\n",
        "        PeriodicSignal(time_spans[0], f=5 * 50, mag=0.05 * mag),\n",
        "        PeriodicSignal(time_spans[0], f=-50, mag=0.03 * mag),\n",
        "    ],\n",
        "    [\n",
        "        PeriodicSignal(time_spans[1], f=(50, 52), mag=mag),\n",
        "        PeriodicSignal(time_spans[1], f=(50 * 5, 52 * 5), mag=0.05 * mag),\n",
        "        PeriodicSignal(time_spans[1], f=(-50, -52), mag=0.03 * mag),\n",
        "    ],\n",
        "]\n",
        "res = superimpose_and_concat_periodic_signals(\n",
        "    signals, angle_continuation=True, num_phases=3\n",
        ")\n",
        "res.plot()\n",
        "plt.grid()"
      ]
    },
    {
      "cell_type": "markdown",
      "metadata": {},
      "source": [
        "The parameters of the signals can be exctracted using `get_attributes_of_superimposed_and_concatenated_signals_over_time` and illustrated:"
      ]
    },
    {
      "cell_type": "code",
      "execution_count": null,
      "metadata": {},
      "outputs": [],
      "source": [
        "from trimes.signal_generation import (\n",
        "    get_attributes_of_superimposed_and_concatenated_signals_over_time,\n",
        ")\n",
        "\n",
        "attrs_of_columns = get_attributes_of_superimposed_and_concatenated_signals_over_time(\n",
        "    signals\n",
        ")\n",
        "attrs_of_columns[0].plot(title=\"fundamental\")\n",
        "plt.grid()\n",
        "attrs_of_columns[1].plot(title=\"harmonic\")\n",
        "plt.grid()\n",
        "attrs_of_columns[2].plot(title=\"negative sequence\")\n",
        "plt.grid()"
      ]
    }
  ],
  "metadata": {
    "kernelspec": {
      "display_name": "Python 3 (ipykernel)",
      "language": "python",
      "name": "python3",
      "path": "D:\\User\\seberlein\\FraunhIEE-UniKassel-PowSysStability\\trimes\\venv\\share\\jupyter\\kernels\\python3"
    }
  },
  "nbformat": 4,
  "nbformat_minor": 4
}
