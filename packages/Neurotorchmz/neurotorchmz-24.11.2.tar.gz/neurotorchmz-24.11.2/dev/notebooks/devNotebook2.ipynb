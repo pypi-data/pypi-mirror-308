{
 "cells": [
  {
   "cell_type": "code",
   "execution_count": 1,
   "metadata": {},
   "outputs": [],
   "source": [
    "import os, sys\n",
    "import numpy as np\n",
    "import matplotlib.pyplot as plt\n",
    "from matplotlib import cm\n",
    "from ipywidgets import interact, Button\n",
    "import ipywidgets as widgets\n",
    "import scipy.ndimage as ndimage\n",
    "from scipy.optimize import curve_fit\n",
    "from matplotlib.patches import Circle\n",
    "import xarray\n",
    "import scipy as sp"
   ]
  },
  {
   "cell_type": "code",
   "execution_count": 2,
   "metadata": {},
   "outputs": [],
   "source": [
    "sys.path.insert(1, os.path.join(os.path.join(os.path.abspath(\"\"), os.pardir), os.pardir))\n",
    "import neurotorch as neuro\n",
    "neuro.Start_Background()\n",
    "%matplotlib inline"
   ]
  },
  {
   "cell_type": "code",
   "execution_count": null,
   "metadata": {},
   "outputs": [],
   "source": [
    "frames = neuro.API.Peaks()\n",
    "print(frames)\n",
    "synapses = neuro.API.DetectedSynapses()\n",
    "for s in synapses:\n",
    "    print(s.GetUniqueName())"
   ]
  },
  {
   "cell_type": "code",
   "execution_count": null,
   "metadata": {},
   "outputs": [],
   "source": [
    "# Synapse 4 (237,135)\n",
    "loc = synapses[1].location\n",
    "bbox = (loc[0]-30, loc[1]-25, loc[0]+30, loc[1]+25) # (X0, Y0, X1, Y1)\n",
    "plt.imshow(neuro.API_IMG().imgDiffMaxTime[bbox[1]:bbox[3],bbox[0]:bbox[2]])\n",
    "plt.show()\n",
    "\n",
    "_diffMax = np.max(neuro.API_IMG().imgDiff)\n",
    "\n",
    "def gaus(x,a,x0,sigma):\n",
    "    return a*np.exp(-(x-x0)**2/(2*sigma**2))\n",
    "\n",
    "def Plot(peak):\n",
    "    global _diffMax, frames, xsclice, ysclice\n",
    "    fig = plt.figure(figsize=(13,5))\n",
    "    ax1 = fig.add_subplot(131)\n",
    "    ax2 = fig.add_subplot(132)\n",
    "    ax3 = fig.add_subplot(133)\n",
    "    img = neuro.API_IMG().imgDiff[frames[peak], bbox[1]:bbox[3], bbox[0]:bbox[2]]\n",
    "    xsclice = np.max(img, axis=0)\n",
    "    xsclice_X = range(len(xsclice))\n",
    "    ysclice = np.max(img, axis=1)\n",
    "    ysclice_X = range(len(ysclice))\n",
    "    ax1.imshow(img, vmin=0, vmax=_diffMax)\n",
    "    ax2.plot(xsclice)\n",
    "    ax3.plot(ysclice)\n",
    "\n",
    "    try:\n",
    "        poptX,pcovX = curve_fit(gaus, xsclice_X, xsclice, p0=(1,30,1))\n",
    "        pstdX = np.sqrt(np.diag(pcovX))\n",
    "        fitXSlice_Y = gaus(xsclice_X, *poptX)\n",
    "        ax2.set_title(f\"X Slice\\nx= {round(poptX[1],2)} ± {round(pstdX[1],2)}, σ = {round(poptX[2],2)} ± {round(pstdX[2],2)}\")\n",
    "        ax2.plot(fitXSlice_Y)\n",
    "    except RuntimeError:\n",
    "        print(\"X Fit not possible\")\n",
    "    \n",
    "    try:\n",
    "        poptY,pcovY = curve_fit(gaus, ysclice_X, ysclice, p0=(1,30,1))\n",
    "        pstdY = np.sqrt(np.diag(pcovY))\n",
    "        fitYSlice_Y = gaus(ysclice_X, *poptY)\n",
    "        ax3.set_title(f\"Y Slice\\ny= {round(poptY[1],2)} ± {round(pstdY[1],2)}, σ = {round(poptY[2],2)} ± {round(pstdY[2],2)}\")\n",
    "        ax3.plot(fitYSlice_Y)\n",
    "    except RuntimeError:\n",
    "        print(\"Y Fit not possible\")\n",
    "\n",
    "    if 'poptY' in locals() and 'poptX' in locals():\n",
    "        gaussCenter = (poptX[1], poptY[1])\n",
    "        c = Circle(gaussCenter, 1, color=\"red\", fill=False)\n",
    "        ax1.add_patch(c)\n",
    "        \n",
    "    plt.show()\n",
    "\n",
    "interact(Plot, peak=widgets.IntSlider(min=0, max=len(frames)-1))\n"
   ]
  },
  {
   "cell_type": "code",
   "execution_count": null,
   "metadata": {},
   "outputs": [],
   "source": [
    "mask = np.array([[[0]],[[0]],[[1]],[[1]], [[1]]])\n",
    "print(mask[:,0,0], mask.shape)\n",
    "from scipy.signal import convolve\n",
    "imgDiffConv = convolve(neuro.API_IMG().imgDiff, mask, mode=\"same\")\n",
    "print(imgDiffConv.shape)"
   ]
  },
  {
   "cell_type": "code",
   "execution_count": null,
   "metadata": {},
   "outputs": [],
   "source": [
    "gaussImg = sp.ndimage.gaussian_filter(neuro.API_IMG().imgDiff, sigma=2, axes=(1,2))\n",
    "print(gaussImg.shape)"
   ]
  },
  {
   "cell_type": "code",
   "execution_count": 29,
   "metadata": {},
   "outputs": [],
   "source": [
    "neuro.API_IMG().CalcDiff()\n",
    "neuro.API_IMG().CalcDiffMax()\n",
    "neuro.API_GUI().NewImageProvided()\n",
    "oldDiff = neuro.API_IMG().imgDiff"
   ]
  },
  {
   "cell_type": "code",
   "execution_count": 7,
   "metadata": {},
   "outputs": [],
   "source": [
    "neuro.API_IMG().imgDiff = imgDiffConv\n",
    "neuro.API_IMG().CalcDiffMax()\n",
    "neuro.API_GUI().NewImageProvided()"
   ]
  },
  {
   "cell_type": "code",
   "execution_count": null,
   "metadata": {},
   "outputs": [],
   "source": [
    "plt.imshow(imgDiffConv[100,:,:])\n",
    "plt.show()"
   ]
  },
  {
   "cell_type": "code",
   "execution_count": null,
   "metadata": {},
   "outputs": [],
   "source": [
    "plt.imshow(neuro.API_IMG().imgDiff[121,:,:])\n",
    "plt.show()"
   ]
  },
  {
   "cell_type": "code",
   "execution_count": null,
   "metadata": {},
   "outputs": [],
   "source": [
    "plt.plot(imgDiffConv[70:130,135,230])\n",
    "plt.plot(oldDiff[70:130,135,230], c=\"orange\")\n",
    "plt.show()"
   ]
  },
  {
   "cell_type": "code",
   "execution_count": null,
   "metadata": {},
   "outputs": [],
   "source": [
    "mask = np.array([[[0]],[[0]],[[1]],[[1]], [[1]]])\n",
    "testImg = np.array([[[1,1],[0,1]], [[2,1],[0,1]], [[3,1],[0,1]], [[4,10],[0,1]], [[5,1],[0,1]], [[6,0],[0,1]], [[7,0],[0,1]], [[8,0],[0,1]]])\n",
    "print(mask[:,0,0], mask.shape, testImg.shape)\n",
    "imgDiffConvTest = convolve(testImg, mask, mode=\"same\")"
   ]
  },
  {
   "cell_type": "code",
   "execution_count": null,
   "metadata": {},
   "outputs": [],
   "source": [
    "plt.plot(testImg[:,0,0])\n",
    "plt.plot(imgDiffConvTest[:,0,0], c=\"orange\")\n",
    "plt.show()\n",
    "print(imgDiffConvTest[4,0,0])"
   ]
  },
  {
   "cell_type": "code",
   "execution_count": null,
   "metadata": {},
   "outputs": [],
   "source": [
    "plt.plot(testImg[:,0,0])\n",
    "plt.plot(imgDiffConvTest[:,0,0], c=\"orange\")\n",
    "plt.show()\n",
    "print(imgDiffConvTest[4,0,0])"
   ]
  },
  {
   "cell_type": "code",
   "execution_count": null,
   "metadata": {},
   "outputs": [],
   "source": [
    "gaussImg = sp.ndimage.gaussian_filter(neuro.API_IMG().imgDiff, sigma=2, axes=(1,2))\n",
    "imgDiffGaussMaxTime = np.max(gaussImg, axis=0)\n",
    "plt.imshow(imgDiffGaussMaxTime)\n",
    "plt.show()"
   ]
  },
  {
   "cell_type": "code",
   "execution_count": 37,
   "metadata": {},
   "outputs": [],
   "source": [
    "mask = np.array([[[0]],[[0]],[[1]],[[1]], [[1]]])\n",
    "imgDiffConv = convolve(gaussImg, mask, mode=\"same\")"
   ]
  },
  {
   "cell_type": "code",
   "execution_count": null,
   "metadata": {},
   "outputs": [],
   "source": [
    "imgDiffGaussConvMaxTime = np.max(imgDiffConv, axis=0)\n",
    "\n",
    "plt.imshow(imgDiffGaussConvMaxTime)\n",
    "plt.show()"
   ]
  },
  {
   "cell_type": "code",
   "execution_count": 3,
   "metadata": {},
   "outputs": [],
   "source": [
    "imgDiff = sp.ndimage.gaussian_filter(neuro.API_IMG().imgDiff, sigma=2, axes=(1,2))\n",
    "imgDiff_Stats = {\"ClipMin\": max(0, np.min(imgDiff)), \"Max\": np.max(imgDiff)}"
   ]
  },
  {
   "cell_type": "code",
   "execution_count": 4,
   "metadata": {},
   "outputs": [],
   "source": [
    "neuro.API_IMG().imgDiff = imgDiff\n",
    "neuro.API_IMG().imgDiffStats = imgDiff_Stats"
   ]
  },
  {
   "cell_type": "code",
   "execution_count": 5,
   "metadata": {},
   "outputs": [],
   "source": [
    "neuro.API_IMG().CalcDiffMax()"
   ]
  },
  {
   "cell_type": "code",
   "execution_count": 6,
   "metadata": {},
   "outputs": [],
   "source": [
    "neuro.API_GUI().NewImageProvided()"
   ]
  }
 ],
 "metadata": {
  "kernelspec": {
   "display_name": "Python 3",
   "language": "python",
   "name": "python3"
  },
  "language_info": {
   "codemirror_mode": {
    "name": "ipython",
    "version": 3
   },
   "file_extension": ".py",
   "mimetype": "text/x-python",
   "name": "python",
   "nbconvert_exporter": "python",
   "pygments_lexer": "ipython3",
   "version": "3.12.4"
  }
 },
 "nbformat": 4,
 "nbformat_minor": 2
}
