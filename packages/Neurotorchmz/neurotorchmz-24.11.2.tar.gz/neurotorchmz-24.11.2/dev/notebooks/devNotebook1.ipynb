{
 "cells": [
  {
   "cell_type": "code",
   "execution_count": 1,
   "metadata": {},
   "outputs": [],
   "source": [
    "import os, sys\n",
    "import numpy as np\n",
    "import matplotlib.pyplot as plt\n",
    "from matplotlib import cm\n",
    "from ipywidgets import interact, Button\n",
    "import ipywidgets as widgets\n",
    "import scipy.ndimage as ndimage\n",
    "import xarray"
   ]
  },
  {
   "cell_type": "code",
   "execution_count": 2,
   "metadata": {},
   "outputs": [],
   "source": [
    "sys.path.insert(1, os.path.abspath(os.path.join(os.path.join(os.path.abspath(\"\"), os.pardir), os.pardir)))\n",
    "import neurotorch as neuro\n",
    "neuro.Start_Background()\n",
    "%matplotlib inline  "
   ]
  },
  {
   "cell_type": "code",
   "execution_count": null,
   "metadata": {},
   "outputs": [],
   "source": [
    "xDiffImg = xarray.DataArray(np.clip(neuro.API_IMG().imgDiff, a_min=0, a_max=None).astype(\"uint16\"), name=\"diffImg\", dims=(\"pln\", \"row\", \"col\"))\n",
    "print(xDiffImg)\n",
    "javaDiffImg = neuro.API_IJ().py.to_java(xDiffImg)"
   ]
  },
  {
   "cell_type": "code",
   "execution_count": null,
   "metadata": {},
   "outputs": [],
   "source": [
    "dump_info(javaDiffImg)"
   ]
  },
  {
   "cell_type": "code",
   "execution_count": 26,
   "metadata": {},
   "outputs": [],
   "source": [
    "from scyjava import jimport\n",
    "IP = jimport('ij.ImagePlus')"
   ]
  },
  {
   "cell_type": "code",
   "execution_count": 28,
   "metadata": {},
   "outputs": [],
   "source": [
    "op = neuro.API_IJ().op()"
   ]
  },
  {
   "cell_type": "code",
   "execution_count": 31,
   "metadata": {},
   "outputs": [],
   "source": [
    "ui = neuro.API_IJ().ui()"
   ]
  },
  {
   "cell_type": "code",
   "execution_count": 38,
   "metadata": {},
   "outputs": [],
   "source": [
    "ui.show(javaDiffImg)"
   ]
  },
  {
   "cell_type": "code",
   "execution_count": 41,
   "metadata": {},
   "outputs": [],
   "source": [
    "ij = neuro.API_IJ()"
   ]
  },
  {
   "cell_type": "code",
   "execution_count": null,
   "metadata": {},
   "outputs": [],
   "source": [
    "ij.py.run_macro(\"setMinAndMax(0, 1);\")"
   ]
  },
  {
   "cell_type": "code",
   "execution_count": null,
   "metadata": {},
   "outputs": [],
   "source": [
    "imgXA = neuro.API_IJ().py.active_xarray()\n",
    "print(imgXA)"
   ]
  },
  {
   "cell_type": "code",
   "execution_count": null,
   "metadata": {},
   "outputs": [],
   "source": [
    "neuro.API_IJ().py.to_java(imgXA)"
   ]
  },
  {
   "cell_type": "code",
   "execution_count": null,
   "metadata": {},
   "outputs": [],
   "source": [
    "neuro.API_IJ().py.to_java(xDiffImg)"
   ]
  },
  {
   "cell_type": "code",
   "execution_count": null,
   "metadata": {},
   "outputs": [],
   "source": [
    "neuro.API_IJ().py.to_java(imgXA)"
   ]
  },
  {
   "cell_type": "code",
   "execution_count": 39,
   "metadata": {},
   "outputs": [],
   "source": [
    "imagePlusDiffImg.show()"
   ]
  },
  {
   "cell_type": "code",
   "execution_count": 43,
   "metadata": {},
   "outputs": [],
   "source": [
    "wm = neuro.API_IJ().WindowManager"
   ]
  },
  {
   "cell_type": "code",
   "execution_count": 22,
   "metadata": {},
   "outputs": [],
   "source": [
    "import skimage\n",
    "import xarray\n",
    "\n",
    "def dump_info(image):\n",
    "    \"\"\"A handy function to print details of an image object.\"\"\"\n",
    "    name = image.name if hasattr(image, 'name') else None # xarray\n",
    "    if name is None and hasattr(image, 'getName'): name = image.getName() # Dataset\n",
    "    if name is None and hasattr(image, 'getTitle'): name = image.getTitle() # ImagePlus\n",
    "    print(f\" name: {name or 'N/A'}\")\n",
    "    print(f\" type: {type(image)}\")\n",
    "    print(f\"dtype: {image.dtype if hasattr(image, 'dtype') else 'N/A'}\")\n",
    "    print(f\"shape: {image.shape}\")\n",
    "    print(f\" dims: {image.dims if hasattr(image, 'dims') else 'N/A'}\")\n",
    "\n"
   ]
  },
  {
   "cell_type": "code",
   "execution_count": 14,
   "metadata": {},
   "outputs": [],
   "source": [
    "def _Circle_FullMask2(point, radius: int) -> np.ndarray:\n",
    "    x = np.arange(0, 20)\n",
    "    y = np.arange(0, 20)\n",
    "    mask = np.array((x[np.newaxis,:] - point[0])**2 + (y[:,np.newaxis] - point[1])**2 <= radius**2, dtype=\"uint8\")[0]\n",
    "    n = np.count_nonzero(mask==1)\n",
    "    return (mask, n)\n",
    "\n",
    "def _Circle_FullMask(point, radius: int) -> np.ndarray:\n",
    "        x = np.arange(0, neuro.API_IMG().imgDiff.shape[2])\n",
    "        y = np.arange(0, neuro.API_IMG().imgDiff.shape[1])\n",
    "        mask = np.array((x[np.newaxis,:] - point[0])**2 + (y[:,np.newaxis] - point[1])**2 <= radius**2, dtype=\"uint8\")\n",
    "        n = np.count_nonzero(mask==1)\n",
    "        return (mask, n)"
   ]
  },
  {
   "cell_type": "code",
   "execution_count": 16,
   "metadata": {},
   "outputs": [
    {
     "name": "stdout",
     "output_type": "stream",
     "text": [
      "[0 0 0 0 0 0 0 0 0 0 0 0 0 0 0 0 0 0 0 0 0 0 0 0 0 0 0 0 0 0 0 0 0 0 0 0 0\n",
      " 0 0 0 0 0 0 0 0 0 0 0 0 0 0 0 0 0 0 0 0 0 0 0 0 0 0 0 0 0 0 0 0 0 0 0 0 0\n",
      " 0 0 0 0 0 0 0 0 0 0 0 0 0 0 0 0 0 0 0 0 1 1 1 1 1 1 1 1 1 1 1 1 1 0 0 0 0\n",
      " 0 0 0 0 0 0 0 0 0 0 0 0 0 0 0 0 0 0 0 0 0 0 0 0 0 0 0 0 0 0 0 0 0 0 0 0 0\n",
      " 0 0 0 0 0 0 0 0 0 0 0 0 0 0 0 0 0 0 0 0 0 0 0 0 0 0 0 0 0 0 0 0 0 0 0 0 0\n",
      " 0 0 0 0 0 0 0 0 0 0 0 0 0 0 0 0 0 0 0 0 0 0 0 0 0 0 0 0 0 0 0 0 0 0 0 0 0\n",
      " 0 0 0 0 0 0 0 0 0 0 0 0 0 0 0 0 0 0 0 0 0 0 0 0 0 0 0 0 0 0 0 0 0 0 0 0 0\n",
      " 0 0 0 0 0 0 0 0 0 0 0 0 0 0 0 0 0 0 0 0 0 0 0 0 0 0 0 0 0 0 0 0 0 0 0 0 0\n",
      " 0 0 0 0 0 0 0 0 0 0 0 0 0 0 0 0 0 0 0 0 0 0 0 0 0 0 0 0 0 0 0 0 0 0 0 0 0\n",
      " 0 0 0 0 0 0 0 0 0 0 0 0 0 0 0 0 0 0 0 0 0 0 0 0 0 0 0 0 0 0 0 0 0 0 0 0 0\n",
      " 0 0 0 0 0 0 0 0 0 0 0 0 0 0 0 0 0 0 0 0 0 0 0 0 0 0 0 0 0 0 0 0 0 0 0 0 0\n",
      " 0 0 0 0 0 0 0 0 0 0 0 0 0 0 0 0 0 0 0 0 0 0 0 0 0 0 0 0 0 0 0 0 0 0 0 0 0\n",
      " 0 0 0 0 0 0 0 0 0 0 0 0 0 0 0 0 0 0 0 0 0 0 0 0 0 0 0 0 0 0 0 0 0 0 0 0 0\n",
      " 0 0 0 0 0 0 0 0 0 0 0 0 0 0 0 0 0 0 0 0 0 0 0 0 0 0 0 0 0 0 0]\n"
     ]
    },
    {
     "data": {
      "text/plain": [
       "<matplotlib.image.AxesImage at 0x23a73f57f50>"
      ]
     },
     "execution_count": 16,
     "metadata": {},
     "output_type": "execute_result"
    },
    {
     "data": {
      "image/png": "[encoded data removed]",
      "text/plain": [
       "<Figure size 640x480 with 1 Axes>"
      ]
     },
     "metadata": {},
     "output_type": "display_data"
    }
   ],
   "source": [
    "mask, n = _Circle_FullMask((100,100), 6)\n",
    "print(mask[100])\n",
    "plt.imshow(mask)"
   ]
  },
  {
   "cell_type": "code",
   "execution_count": 38,
   "metadata": {},
   "outputs": [
    {
     "name": "stdout",
     "output_type": "stream",
     "text": [
      "(300, 12, 12)\n"
     ]
    },
    {
     "data": {
      "text/plain": [
       "[<matplotlib.lines.Line2D at 0x23a73207050>]"
      ]
     },
     "execution_count": 38,
     "metadata": {},
     "output_type": "execute_result"
    },
    {
     "data": {
      "image/png": "[encoded data removed]",
      "text/plain": [
       "<Figure size 640x480 with 1 Axes>"
      ]
     },
     "metadata": {},
     "output_type": "display_data"
    }
   ],
   "source": [
    "bbox = neuro.API_IMG().img[:, 130:142, 230:242]\n",
    "print(bbox.shape)\n",
    "plt.plot(np.mean(bbox, axis=(1,2)))"
   ]
  },
  {
   "cell_type": "code",
   "execution_count": 54,
   "metadata": {},
   "outputs": [
    {
     "name": "stdout",
     "output_type": "stream",
     "text": [
      "[array([65, 54, 54, 54, 54], dtype=int16), array([71, 59, 60, 59, 60], dtype=int16), array([85, 70, 72, 71, 73], dtype=int16), array([95, 77, 79, 77, 79], dtype=int16), array([104,  80,  82,  80,  82], dtype=int16), array([106,  78,  81,  79,  80], dtype=int16), array([69, 55, 56, 55, 57], dtype=int16), array([75, 61, 62, 61, 63], dtype=int16), array([101,  82,  84,  83,  86], dtype=int16), array([117,  94,  97,  95,  99], dtype=int16), array([119,  92,  95,  92,  96], dtype=int16), array([124,  92,  95,  92,  95], dtype=int16), array([89, 72, 73, 72, 74], dtype=int16), array([101,  83,  85,  84,  86], dtype=int16), array([119,  95,  98,  96,  99], dtype=int16), array([122,  99, 101, 100, 102], dtype=int16), array([130, 102, 104, 102, 105], dtype=int16), array([131, 101, 102, 100, 103], dtype=int16), array([110,  87,  89,  87,  91], dtype=int16), array([122, 102, 104, 102, 106], dtype=int16), array([132, 105, 108, 107, 109], dtype=int16), array([138, 111, 113, 113, 115], dtype=int16), array([142, 111, 113, 112, 114], dtype=int16), array([130,  97,  98,  97,  99], dtype=int16), array([129, 108, 110, 108, 111], dtype=int16), array([140, 116, 119, 117, 120], dtype=int16), array([148, 124, 126, 125, 127], dtype=int16), array([140, 115, 116, 116, 117], dtype=int16), array([151, 120, 120, 120, 122], dtype=int16), array([157, 137, 138, 138, 139], dtype=int16), array([152, 132, 134, 133, 134], dtype=int16), array([151, 129, 130, 130, 130], dtype=int16), array([148, 124, 124, 125, 125], dtype=int16)]\n"
     ]
    }
   ],
   "source": [
    "test = [bbox[0:5,x,y] for x, y in np.ndindex((12+1,12+1)) if (x**2+y**2)<6**2]\n",
    "#test = [(x,y) for x, y in np.ndindex((12+1,12+1)) if ((x-6)**2+(y-6)**2)<=6**2]\n",
    "print(test)"
   ]
  },
  {
   "cell_type": "code",
   "execution_count": 45,
   "metadata": {},
   "outputs": [],
   "source": [
    "def AdvImgCircle(point, radius):\n",
    "    xmax = neuro.API_IMG().img.shape[2]\n",
    "    ymax = neuro.API_IMG().img.shape[1]\n",
    "    #bbox = neuro.API_IMG().img[:, max(0, point[1]-radius):min(ymax, point[1]+radius),max(0, point[0]-radius):min(xmax, point[0]+radius)]\n",
    "    #print(bbox.shape)\n",
    "    return np.array([neuro.API_IMG().img[:,y,x] \n",
    "                     for x in range(point[0]-radius,point[0]+2*radius+1) for y in range(point[1]-radius,point[1]+2*radius+1)\n",
    "                     if ((x-point[0])**2+(y-point[1])**2)<=radius**2 and x >= 0 and y >= 0 and x < xmax and y < ymax]).T"
   ]
  },
  {
   "cell_type": "code",
   "execution_count": 48,
   "metadata": {},
   "outputs": [
    {
     "name": "stdout",
     "output_type": "stream",
     "text": [
      "[[146 199]\n",
      " [146 200]\n",
      " [146 201]\n",
      " [147 198]\n",
      " [147 199]\n",
      " [147 200]\n",
      " [147 201]\n",
      " [147 202]\n",
      " [148 197]\n",
      " [148 198]\n",
      " [148 199]\n",
      " [148 200]\n",
      " [148 201]\n",
      " [148 202]\n",
      " [148 203]\n",
      " [149 196]\n",
      " [149 197]\n",
      " [149 198]\n",
      " [149 199]\n",
      " [149 200]\n",
      " [149 201]\n",
      " [149 202]\n",
      " [149 203]\n",
      " [149 204]\n",
      " [150 196]\n",
      " [150 197]\n",
      " [150 198]\n",
      " [150 199]\n",
      " [150 200]\n",
      " [150 201]\n",
      " [150 202]\n",
      " [150 203]\n",
      " [150 204]\n",
      " [151 196]\n",
      " [151 197]\n",
      " [151 198]\n",
      " [151 199]\n",
      " [151 200]\n",
      " [151 201]\n",
      " [151 202]\n",
      " [151 203]\n",
      " [151 204]\n",
      " [152 197]\n",
      " [152 198]\n",
      " [152 199]\n",
      " [152 200]\n",
      " [152 201]\n",
      " [152 202]\n",
      " [152 203]\n",
      " [153 198]\n",
      " [153 199]\n",
      " [153 200]\n",
      " [153 201]\n",
      " [153 202]\n",
      " [154 199]\n",
      " [154 200]\n",
      " [154 201]]\n"
     ]
    },
    {
     "data": {
      "image/png": "[encoded data removed]",
      "text/plain": [
       "<Figure size 640x480 with 1 Axes>"
      ]
     },
     "metadata": {},
     "output_type": "display_data"
    }
   ],
   "source": [
    "point = (150,200)\n",
    "radius = 4\n",
    "xmax = 512\n",
    "ymax = 512\n",
    "test = np.array([(x,y) for x in range(point[0]-radius,point[0]+2*radius+1) for y in range(point[1]-radius,point[1]+2*radius+1)\n",
    "                     if ((x-point[0])**2+(y-point[1])**2)<radius**2+2**(1/2) and x >= 0 and y >= 0 and x < xmax and y < ymax])\n",
    "print(test)\n",
    "dis = np.empty(shape=(512,512))\n",
    "for t in test:\n",
    "    dis[t[0],t[1]] = 1\n",
    "plt.imshow(dis[130:170, 180:220])\n",
    "plt.show()"
   ]
  },
  {
   "cell_type": "code",
   "execution_count": 13,
   "metadata": {},
   "outputs": [
    {
     "name": "stdout",
     "output_type": "stream",
     "text": [
      "[[ 8 10  9 ... 21 17 14]\n",
      " [ 8 11 10 ... 20 16 14]\n",
      " [ 8  8  9 ... 19 16 13]\n",
      " ...\n",
      " [ 8  9  9 ... 20 17 14]\n",
      " [ 8  9  9 ... 19 16 13]\n",
      " [ 8  9  9 ... 19 16 13]]\n"
     ]
    }
   ],
   "source": [
    "print(AdvImgCircle((100,100),6))"
   ]
  },
  {
   "cell_type": "code",
   "execution_count": 50,
   "metadata": {},
   "outputs": [
    {
     "data": {
      "image/png": "[encoded data removed]",
      "text/plain": [
       "<Figure size 640x480 with 1 Axes>"
      ]
     },
     "metadata": {},
     "output_type": "display_data"
    }
   ],
   "source": [
    "mean = np.mean(AdvImgCircle((439,158),6), axis=1)\n",
    "#print(mean)\n",
    "plt.plot(mean)\n",
    "plt.show()"
   ]
  },
  {
   "cell_type": "code",
   "execution_count": 8,
   "metadata": {},
   "outputs": [
    {
     "data": {
      "text/plain": [
       "(300,)"
      ]
     },
     "execution_count": 8,
     "metadata": {},
     "output_type": "execute_result"
    }
   ],
   "source": [
    "np.mean(neuro.API_IMG().GetImgROIAt((100,100), 6), axis=0).shape"
   ]
  },
  {
   "cell_type": "markdown",
   "metadata": {},
   "source": [
    "## Connecting to Trace_Selector"
   ]
  },
  {
   "cell_type": "code",
   "execution_count": 1,
   "metadata": {},
   "outputs": [],
   "source": [
    "import sys, os\n",
    "sys.path.insert(1, os.path.abspath(os.path.join(os.path.join(os.path.abspath(\"\"), os.pardir), os.pardir)))\n",
    "import neurotorch as neuro\n",
    "neuro.Start_Background()\n",
    "%matplotlib inline  "
   ]
  },
  {
   "cell_type": "code",
   "execution_count": 3,
   "metadata": {},
   "outputs": [
    {
     "name": "stdout",
     "output_type": "stream",
     "text": [
      "d:\\Eigene Datein\\Programmieren\\Git\\abrilka\\neurotorch\\neurotorch\n"
     ]
    }
   ],
   "source": [
    "print(neuro.settings.UserSettings.ParentPath)"
   ]
  },
  {
   "cell_type": "code",
   "execution_count": 2,
   "metadata": {},
   "outputs": [],
   "source": [
    "from trace_selector.gui.gui import MainWindow\n",
    "from trace_selector.utils.configuration import gui_settings\n",
    "from trace_selector.detection.model_zoo import ModelZoo\n",
    "from PyQt6.QtWidgets import QApplication\n",
    "import sys\n",
    "import os\n",
    "import multiprocessing\n",
    "import tkinter as tk\n",
    "from tkinter import messagebox\n",
    "\n",
    "def Show():\n",
    "    messagebox.showinfo(\"Hello World\")\n",
    "    return\n",
    "    modelzoo_folder = os.path.join(*[\"d:\\\\Eigene Datein\\\\Programmieren\\\\Git\\\\abrilka\\\\neurotorch\\\\neurotorch\", \"external\", \"synapse_selector_modelzoo\"])\n",
    "    modelzoo = ModelZoo(modelzoo_folder)\n",
    "    settings = gui_settings(modelzoo)\n",
    "    app = QApplication(sys.argv)\n",
    "    main = MainWindow(settings)\n",
    "    main.show()\n",
    "    app.exec()\n",
    "\n",
    "class _TraceSelector():\n",
    "\n",
    "    def __init__(self):\n",
    "        #import neurotorch.gui.settings as settings\n",
    "        #self.modelzoo_folder = os.path.join(*[settings.UserSettings.ParentPath, \"external\", \"synapse_selector_modelzoo\"])\n",
    "        self.modelzoo_folder = os.path.join(*[\"d:\\\\Eigene Datein\\\\Programmieren\\\\Git\\\\abrilka\\\\neurotorch\\\\neurotorch\", \"external\", \"synapse_selector_modelzoo\"])\n",
    "        self.modelzoo, self.settings, self.app, self.main, self.proc = None, None, None, None, None\n",
    "\n",
    "    def _Show(self):\n",
    "        modelzoo = ModelZoo(self.modelzoo_folder)\n",
    "        settings = gui_settings(modelzoo)\n",
    "        app = QApplication(sys.argv)\n",
    "        main = MainWindow(settings)\n",
    "        main.show()\n",
    "        app.exec()\n",
    "\n",
    "    def Show(self):\n",
    "        self.proc = multiprocessing.Process(target=self._Show, args=()) \n",
    "        self.proc.start()\n",
    "\n",
    "TraceSelector = _TraceSelector()"
   ]
  },
  {
   "cell_type": "code",
   "execution_count": 4,
   "metadata": {},
   "outputs": [],
   "source": [
    "TraceSelector.Show()"
   ]
  },
  {
   "cell_type": "code",
   "execution_count": 14,
   "metadata": {},
   "outputs": [
    {
     "name": "stdout",
     "output_type": "stream",
     "text": [
      "<Process name='Process-8' pid=41856 parent=44712 started>\n"
     ]
    }
   ],
   "source": [
    "proc = multiprocessing.Process(target=Show, args=()) \n",
    "proc.start()\n",
    "print(proc)"
   ]
  },
  {
   "cell_type": "code",
   "execution_count": 4,
   "metadata": {},
   "outputs": [],
   "source": [
    "def Test():\n",
    "    print(\"Hello World\")\n",
    "    sys.stdout.flush()\n",
    "\n",
    "proc = multiprocessing.Process(target=Test, args=()) \n",
    "proc.start()"
   ]
  }
 ],
 "metadata": {
  "kernelspec": {
   "display_name": "Python 3",
   "language": "python",
   "name": "python3"
  },
  "language_info": {
   "codemirror_mode": {
    "name": "ipython",
    "version": 3
   },
   "file_extension": ".py",
   "mimetype": "text/x-python",
   "name": "python",
   "nbconvert_exporter": "python",
   "pygments_lexer": "ipython3",
   "version": "3.12.4"
  }
 },
 "nbformat": 4,
 "nbformat_minor": 2
}
