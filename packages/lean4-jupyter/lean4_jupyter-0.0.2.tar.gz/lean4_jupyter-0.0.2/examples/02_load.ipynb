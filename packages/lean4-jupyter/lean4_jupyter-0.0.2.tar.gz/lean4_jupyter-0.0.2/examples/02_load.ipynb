{
 "cells": [
  {
   "cell_type": "code",
   "execution_count": 1,
   "id": "f74ca77d-c4a9-4bdd-baff-065da9bc508e",
   "metadata": {
    "execution": {
     "iopub.execute_input": "2024-06-03T09:59:58.708489Z",
     "iopub.status.busy": "2024-06-03T09:59:58.708209Z",
     "iopub.status.idle": "2024-06-03T09:59:59.219356Z",
     "shell.execute_reply": "2024-06-03T09:59:59.218645Z"
    },
    "papermill": {
     "duration": 0.519269,
     "end_time": "2024-06-03T09:59:59.221812",
     "exception": false,
     "start_time": "2024-06-03T09:59:58.702543",
     "status": "completed"
    },
    "tags": []
   },
   "outputs": [
    {
     "data": {
      "text/html": [
       "\n",
       "        \n",
       "        <link rel=\"stylesheet\" href=\"https://lean-lang.org/lean4/doc/alectryon.css\">\n",
       "        <link rel=\"stylesheet\" href=\"https://lean-lang.org/lean4/doc/pygments.css\">\n",
       "        <link rel=\"stylesheet\" href=\"https://cdn.jsdelivr.net/gh/utensil/lean4_jupyter@main/vendor/lean4_jupyter.css\">\n",
       "        <script src=\"https://lean-lang.org/lean4/doc/alectryon.js\"></script>\n",
       "        <script src=\"https://lean-lang.org/lean4/doc/highlight.js\"></script>\n",
       "    \n",
       "        <div class=\"alectryon-root alectryon-centered\">\n",
       "            <pre class=\"alectryon-io highlight\"><!-- Generator: Alectryon --><span class=\"alectryon-sentence\"><span class=\"alectryon-input\"><span class=\"c1\">--% load demo_proj/DemoProj/Standalone.lean</span></span></span></pre>\n",
       "<pre class=\"alectryon-io highlight\"><!-- Generator: Alectryon --><span class=\"alectryon-sentence\"><span class=\"alectryon-input\"><span class=\"c1\">--% env 0</span></span></span></pre>\n",
       "        </div>\n",
       "        <details>\n",
       "            <summary>Raw input</summary>\n",
       "            <code>{\"path\": \"demo_proj/DemoProj/Standalone.lean\", \"allTactics\": true}</code>\n",
       "        </details>\n",
       "        <details>\n",
       "            <summary>Raw output</summary>\n",
       "            <code>{\"tactics\":\r\n",
       " [{\"tactic\": \"exact rfl\",\r\n",
       "   \"proofState\": 0,\r\n",
       "   \"pos\": {\"line\": 5, \"column\": 29},\r\n",
       "   \"goals\": \"⊢ f + g = 39\",\r\n",
       "   \"endPos\": {\"line\": 5, \"column\": 38}}],\r\n",
       " \"env\": 0}</code>\n",
       "        </details>\n",
       "    "
      ],
      "text/plain": [
       "--% load demo_proj/DemoProj/Standalone.lean\n",
       "--% env 0\n",
       "\n",
       "Raw input:\n",
       "{\"path\": \"demo_proj/DemoProj/Standalone.lean\", \"allTactics\": true}\n",
       "Raw output:\n",
       "{\"tactics\":\r\n",
       " [{\"tactic\": \"exact rfl\",\r\n",
       "   \"proofState\": 0,\r\n",
       "   \"pos\": {\"line\": 5, \"column\": 29},\r\n",
       "   \"goals\": \"⊢ f + g = 39\",\r\n",
       "   \"endPos\": {\"line\": 5, \"column\": 38}}],\r\n",
       " \"env\": 0}"
      ]
     },
     "metadata": {},
     "output_type": "display_data"
    }
   ],
   "source": [
    "%load demo_proj/DemoProj/Standalone.lean"
   ]
  },
  {
   "cell_type": "code",
   "execution_count": 2,
   "id": "687c8061-817c-4eeb-8127-ea210f8113ad",
   "metadata": {
    "execution": {
     "iopub.execute_input": "2024-06-03T09:59:59.232525Z",
     "iopub.status.busy": "2024-06-03T09:59:59.232333Z",
     "iopub.status.idle": "2024-06-03T09:59:59.339164Z",
     "shell.execute_reply": "2024-06-03T09:59:59.338727Z"
    },
    "papermill": {
     "duration": 0.113631,
     "end_time": "2024-06-03T09:59:59.340638",
     "exception": false,
     "start_time": "2024-06-03T09:59:59.227007",
     "status": "completed"
    },
    "tags": []
   },
   "outputs": [
    {
     "data": {
      "text/html": [
       "\n",
       "        \n",
       "        <link rel=\"stylesheet\" href=\"https://lean-lang.org/lean4/doc/alectryon.css\">\n",
       "        <link rel=\"stylesheet\" href=\"https://lean-lang.org/lean4/doc/pygments.css\">\n",
       "        <link rel=\"stylesheet\" href=\"https://cdn.jsdelivr.net/gh/utensil/lean4_jupyter@main/vendor/lean4_jupyter.css\">\n",
       "        <script src=\"https://lean-lang.org/lean4/doc/alectryon.js\"></script>\n",
       "        <script src=\"https://lean-lang.org/lean4/doc/highlight.js\"></script>\n",
       "    \n",
       "        <div class=\"alectryon-root alectryon-centered\">\n",
       "            <pre class=\"alectryon-io highlight\"><!-- Generator: Alectryon --><span class=\"alectryon-sentence\"><input class=\"alectryon-toggle\" id=\"chk0\" style=\"display: none\" type=\"checkbox\"><label class=\"alectryon-input\" for=\"chk0\"><span class=\"bp\">#</span>check<span class=\"w\"> </span>f</label><small class=\"alectryon-output\"><div><div class=\"alectryon-messages\"><blockquote class=\"alectryon-message\"> f<span class=\"w\"> </span>:<span class=\"w\"> </span>Nat</blockquote></div></div></small></span></pre>\n",
       "<pre class=\"alectryon-io highlight\"><!-- Generator: Alectryon --><span class=\"alectryon-sentence\"><span class=\"alectryon-input\"><span class=\"c1\">--% env 1</span></span></span></pre>\n",
       "        </div>\n",
       "        <details>\n",
       "            <summary>Raw input</summary>\n",
       "            <code>{\"cmd\": \"#check f\", \"env\": 0}</code>\n",
       "        </details>\n",
       "        <details>\n",
       "            <summary>Raw output</summary>\n",
       "            <code>{\"messages\":\r\n",
       " [{\"severity\": \"info\",\r\n",
       "   \"pos\": {\"line\": 1, \"column\": 0},\r\n",
       "   \"endPos\": {\"line\": 1, \"column\": 6},\r\n",
       "   \"data\": \"f : Nat\"}],\r\n",
       " \"env\": 1}</code>\n",
       "        </details>\n",
       "    "
      ],
      "text/plain": [
       "#check f\n",
       "──────▶  f : Nat\n",
       "--% env 1\n",
       "\n",
       "Raw input:\n",
       "{\"cmd\": \"#check f\", \"env\": 0}\n",
       "Raw output:\n",
       "{\"messages\":\r\n",
       " [{\"severity\": \"info\",\r\n",
       "   \"pos\": {\"line\": 1, \"column\": 0},\r\n",
       "   \"endPos\": {\"line\": 1, \"column\": 6},\r\n",
       "   \"data\": \"f : Nat\"}],\r\n",
       " \"env\": 1}"
      ]
     },
     "metadata": {},
     "output_type": "display_data"
    }
   ],
   "source": [
    "#check f"
   ]
  },
  {
   "cell_type": "code",
   "execution_count": 3,
   "id": "0cab3c37-0c87-4858-b830-9f6c17f113b2",
   "metadata": {
    "execution": {
     "iopub.execute_input": "2024-06-03T09:59:59.344865Z",
     "iopub.status.busy": "2024-06-03T09:59:59.344703Z",
     "iopub.status.idle": "2024-06-03T09:59:59.454321Z",
     "shell.execute_reply": "2024-06-03T09:59:59.453785Z"
    },
    "papermill": {
     "duration": 0.113824,
     "end_time": "2024-06-03T09:59:59.456069",
     "exception": false,
     "start_time": "2024-06-03T09:59:59.342245",
     "status": "completed"
    },
    "tags": []
   },
   "outputs": [
    {
     "data": {
      "text/html": [
       "\n",
       "        \n",
       "        <link rel=\"stylesheet\" href=\"https://lean-lang.org/lean4/doc/alectryon.css\">\n",
       "        <link rel=\"stylesheet\" href=\"https://lean-lang.org/lean4/doc/pygments.css\">\n",
       "        <link rel=\"stylesheet\" href=\"https://cdn.jsdelivr.net/gh/utensil/lean4_jupyter@main/vendor/lean4_jupyter.css\">\n",
       "        <script src=\"https://lean-lang.org/lean4/doc/alectryon.js\"></script>\n",
       "        <script src=\"https://lean-lang.org/lean4/doc/highlight.js\"></script>\n",
       "    \n",
       "        <div class=\"alectryon-root alectryon-centered\">\n",
       "            <pre class=\"alectryon-io highlight\"><!-- Generator: Alectryon --><span class=\"alectryon-sentence\"><input class=\"alectryon-toggle\" id=\"chk1\" style=\"display: none\" type=\"checkbox\"><label class=\"alectryon-input\" for=\"chk1\"><span class=\"bp\">#</span>check<span class=\"w\"> </span>g</label><small class=\"alectryon-output\"><div><div class=\"alectryon-messages\"><blockquote class=\"alectryon-message\"> g<span class=\"w\"> </span>:<span class=\"w\"> </span>Nat</blockquote></div></div></small></span></pre>\n",
       "<pre class=\"alectryon-io highlight\"><!-- Generator: Alectryon --><span class=\"alectryon-sentence\"><span class=\"alectryon-input\"><span class=\"c1\">--% env 2</span></span></span></pre>\n",
       "        </div>\n",
       "        <details>\n",
       "            <summary>Raw input</summary>\n",
       "            <code>{\"cmd\": \"#check g\", \"env\": 1}</code>\n",
       "        </details>\n",
       "        <details>\n",
       "            <summary>Raw output</summary>\n",
       "            <code>{\"messages\":\r\n",
       " [{\"severity\": \"info\",\r\n",
       "   \"pos\": {\"line\": 1, \"column\": 0},\r\n",
       "   \"endPos\": {\"line\": 1, \"column\": 6},\r\n",
       "   \"data\": \"g : Nat\"}],\r\n",
       " \"env\": 2}</code>\n",
       "        </details>\n",
       "    "
      ],
      "text/plain": [
       "#check g\n",
       "──────▶  g : Nat\n",
       "--% env 2\n",
       "\n",
       "Raw input:\n",
       "{\"cmd\": \"#check g\", \"env\": 1}\n",
       "Raw output:\n",
       "{\"messages\":\r\n",
       " [{\"severity\": \"info\",\r\n",
       "   \"pos\": {\"line\": 1, \"column\": 0},\r\n",
       "   \"endPos\": {\"line\": 1, \"column\": 6},\r\n",
       "   \"data\": \"g : Nat\"}],\r\n",
       " \"env\": 2}"
      ]
     },
     "metadata": {},
     "output_type": "display_data"
    }
   ],
   "source": [
    "#check g"
   ]
  },
  {
   "cell_type": "code",
   "execution_count": 4,
   "id": "6f3682a1-6861-471d-87d0-d395c5b5d757",
   "metadata": {
    "execution": {
     "iopub.execute_input": "2024-06-03T09:59:59.462411Z",
     "iopub.status.busy": "2024-06-03T09:59:59.462261Z",
     "iopub.status.idle": "2024-06-03T09:59:59.571091Z",
     "shell.execute_reply": "2024-06-03T09:59:59.570750Z"
    },
    "papermill": {
     "duration": 0.113077,
     "end_time": "2024-06-03T09:59:59.572263",
     "exception": false,
     "start_time": "2024-06-03T09:59:59.459186",
     "status": "completed"
    },
    "tags": []
   },
   "outputs": [
    {
     "data": {
      "text/html": [
       "\n",
       "        \n",
       "        <link rel=\"stylesheet\" href=\"https://lean-lang.org/lean4/doc/alectryon.css\">\n",
       "        <link rel=\"stylesheet\" href=\"https://lean-lang.org/lean4/doc/pygments.css\">\n",
       "        <link rel=\"stylesheet\" href=\"https://cdn.jsdelivr.net/gh/utensil/lean4_jupyter@main/vendor/lean4_jupyter.css\">\n",
       "        <script src=\"https://lean-lang.org/lean4/doc/alectryon.js\"></script>\n",
       "        <script src=\"https://lean-lang.org/lean4/doc/highlight.js\"></script>\n",
       "    \n",
       "        <div class=\"alectryon-root alectryon-centered\">\n",
       "            <pre class=\"alectryon-io highlight\"><!-- Generator: Alectryon --><span class=\"alectryon-sentence\"><input class=\"alectryon-toggle\" id=\"chk2\" style=\"display: none\" type=\"checkbox\"><label class=\"alectryon-input\" for=\"chk2\"><span class=\"bp\">#</span>check<span class=\"w\"> </span>h</label><small class=\"alectryon-output\"><div><div class=\"alectryon-messages\"><blockquote class=\"alectryon-message\"> h<span class=\"w\"> </span>:<span class=\"w\"> </span>f<span class=\"w\"> </span><span class=\"bp\">+</span><span class=\"w\"> </span>g<span class=\"w\"> </span><span class=\"bp\">=</span><span class=\"w\"> </span><span class=\"mi\">39</span></blockquote></div></div></small></span></pre>\n",
       "<pre class=\"alectryon-io highlight\"><!-- Generator: Alectryon --><span class=\"alectryon-sentence\"><span class=\"alectryon-input\"><span class=\"c1\">--% env 3</span></span></span></pre>\n",
       "        </div>\n",
       "        <details>\n",
       "            <summary>Raw input</summary>\n",
       "            <code>{\"cmd\": \"#check h\", \"env\": 2}</code>\n",
       "        </details>\n",
       "        <details>\n",
       "            <summary>Raw output</summary>\n",
       "            <code>{\"messages\":\r\n",
       " [{\"severity\": \"info\",\r\n",
       "   \"pos\": {\"line\": 1, \"column\": 0},\r\n",
       "   \"endPos\": {\"line\": 1, \"column\": 6},\r\n",
       "   \"data\": \"h : f + g = 39\"}],\r\n",
       " \"env\": 3}</code>\n",
       "        </details>\n",
       "    "
      ],
      "text/plain": [
       "#check h\n",
       "──────▶  h : f + g = 39\n",
       "--% env 3\n",
       "\n",
       "Raw input:\n",
       "{\"cmd\": \"#check h\", \"env\": 2}\n",
       "Raw output:\n",
       "{\"messages\":\r\n",
       " [{\"severity\": \"info\",\r\n",
       "   \"pos\": {\"line\": 1, \"column\": 0},\r\n",
       "   \"endPos\": {\"line\": 1, \"column\": 6},\r\n",
       "   \"data\": \"h : f + g = 39\"}],\r\n",
       " \"env\": 3}"
      ]
     },
     "metadata": {},
     "output_type": "display_data"
    }
   ],
   "source": [
    "#check h"
   ]
  },
  {
   "cell_type": "code",
   "execution_count": 5,
   "id": "506de915-6d96-4b71-9742-a2bee906c266",
   "metadata": {
    "execution": {
     "iopub.execute_input": "2024-06-03T09:59:59.576245Z",
     "iopub.status.busy": "2024-06-03T09:59:59.576061Z",
     "iopub.status.idle": "2024-06-03T09:59:59.685541Z",
     "shell.execute_reply": "2024-06-03T09:59:59.684780Z"
    },
    "papermill": {
     "duration": 0.113436,
     "end_time": "2024-06-03T09:59:59.687377",
     "exception": false,
     "start_time": "2024-06-03T09:59:59.573941",
     "status": "completed"
    },
    "tags": []
   },
   "outputs": [
    {
     "data": {
      "text/html": [
       "\n",
       "        \n",
       "        <link rel=\"stylesheet\" href=\"https://lean-lang.org/lean4/doc/alectryon.css\">\n",
       "        <link rel=\"stylesheet\" href=\"https://lean-lang.org/lean4/doc/pygments.css\">\n",
       "        <link rel=\"stylesheet\" href=\"https://cdn.jsdelivr.net/gh/utensil/lean4_jupyter@main/vendor/lean4_jupyter.css\">\n",
       "        <script src=\"https://lean-lang.org/lean4/doc/alectryon.js\"></script>\n",
       "        <script src=\"https://lean-lang.org/lean4/doc/highlight.js\"></script>\n",
       "    \n",
       "        <div class=\"alectryon-root alectryon-centered\">\n",
       "            <pre class=\"alectryon-io highlight\"><!-- Generator: Alectryon --><span class=\"alectryon-sentence\"><span class=\"alectryon-input\"><span class=\"c1\">--% prove 0</span></span></span></pre>\n",
       "<pre class=\"alectryon-io highlight\"><!-- Generator: Alectryon --><span class=\"alectryon-sentence\"><input class=\"alectryon-toggle\" id=\"chk3\" style=\"display: none\" type=\"checkbox\"><label class=\"alectryon-input\" for=\"chk3\">rfl</label><small class=\"alectryon-output\"><div><div class=\"alectryon-messages\"><blockquote class=\"alectryon-message\"> Goals<span class=\"w\"> </span>accomplished!<span class=\"w\"> </span><span class=\"bp\">🐙</span></blockquote></div></div></small></span></pre>\n",
       "<pre class=\"alectryon-io highlight\"><!-- Generator: Alectryon --><span class=\"alectryon-sentence\"><span class=\"alectryon-input\"><span class=\"c1\">--% env 3</span></span></span></pre>\n",
       "<pre class=\"alectryon-io highlight\"><!-- Generator: Alectryon --><span class=\"alectryon-sentence\"><span class=\"alectryon-input\"><span class=\"c1\">--% prove 1</span></span></span></pre>\n",
       "        </div>\n",
       "        <details>\n",
       "            <summary>Raw input</summary>\n",
       "            <code>{\"tactic\": \"--% prove 0\\nrfl\", \"proofState\": 0}</code>\n",
       "        </details>\n",
       "        <details>\n",
       "            <summary>Raw output</summary>\n",
       "            <code>{\"proofState\": 1, \"goals\": []}</code>\n",
       "        </details>\n",
       "    "
      ],
      "text/plain": [
       "--% prove 0\n",
       "rfl\n",
       "▶  Goals accomplished! 🐙\n",
       "--% env 3\n",
       "--% prove 1\n",
       "\n",
       "Raw input:\n",
       "{\"tactic\": \"--% prove 0\\nrfl\", \"proofState\": 0}\n",
       "Raw output:\n",
       "{\"proofState\": 1, \"goals\": []}"
      ]
     },
     "metadata": {},
     "output_type": "display_data"
    }
   ],
   "source": [
    "% prove 0\n",
    "rfl"
   ]
  }
 ],
 "metadata": {
  "kernelspec": {
   "display_name": "Lean 4",
   "language": "lean4",
   "name": "lean4"
  },
  "language_info": {
   "codemirror_mode": "python",
   "file_extension": ".lean",
   "mimetype": "text/x-lean4",
   "name": "lean4"
  },
  "papermill": {
   "default_parameters": {},
   "duration": 3.711855,
   "end_time": "2024-06-03T09:59:59.910006",
   "environment_variables": {},
   "exception": null,
   "parameters": {},
   "start_time": "2024-06-03T09:59:56.198151",
   "version": "2.6.0"
  }
 },
 "nbformat": 4,
 "nbformat_minor": 5
}