{
 "cells": [
  {
   "cell_type": "code",
   "execution_count": 1,
   "id": "8b89b845-259f-4f8e-8e25-4aebb671bb2b",
   "metadata": {
    "execution": {
     "iopub.execute_input": "2024-06-03T10:00:45.322734Z",
     "iopub.status.busy": "2024-06-03T10:00:45.322489Z",
     "iopub.status.idle": "2024-06-03T10:00:45.495292Z",
     "shell.execute_reply": "2024-06-03T10:00:45.494826Z"
    },
    "papermill": {
     "duration": 0.177038,
     "end_time": "2024-06-03T10:00:45.497093",
     "exception": false,
     "start_time": "2024-06-03T10:00:45.320055",
     "status": "completed"
    },
    "tags": []
   },
   "outputs": [
    {
     "data": {
      "text/html": [
       "\n",
       "        \n",
       "        <link rel=\"stylesheet\" href=\"https://lean-lang.org/lean4/doc/alectryon.css\">\n",
       "        <link rel=\"stylesheet\" href=\"https://lean-lang.org/lean4/doc/pygments.css\">\n",
       "        <link rel=\"stylesheet\" href=\"https://cdn.jsdelivr.net/gh/utensil/lean4_jupyter@main/vendor/lean4_jupyter.css\">\n",
       "        <script src=\"https://lean-lang.org/lean4/doc/alectryon.js\"></script>\n",
       "        <script src=\"https://lean-lang.org/lean4/doc/highlight.js\"></script>\n",
       "    \n",
       "        <div class=\"alectryon-root alectryon-centered\">\n",
       "            <pre class=\"alectryon-io highlight\"><!-- Generator: Alectryon --><span class=\"alectryon-sentence\"><input class=\"alectryon-toggle\" id=\"chk0\" style=\"display: none\" type=\"checkbox\"><label class=\"alectryon-input\" for=\"chk0\"><span class=\"kn\">theorem</span><span class=\"w\"> </span>thm1<span class=\"w\"> </span>:<span class=\"w\"> </span><span class=\"mi\">1</span><span class=\"w\"> </span><span class=\"bp\">=</span><span class=\"w\"> </span><span class=\"mi\">1</span><span class=\"w\"> </span>:=<span class=\"w\"> </span><span class=\"gr\">sorry</span></label><small class=\"alectryon-output\"><div><div class=\"alectryon-messages\"><blockquote class=\"alectryon-message\"><span class=\"bp\">🟨</span><span class=\"w\"> </span>declaration<span class=\"w\"> </span>uses<span class=\"w\"> </span><span class=\"bp\">&#39;</span><span class=\"gr\">sorry</span><span class=\"bp\">&#39;</span></blockquote></div></div></small></span></pre>\n",
       "<pre class=\"alectryon-io highlight\"><!-- Generator: Alectryon --><span class=\"alectryon-sentence\"><span class=\"alectryon-input\"><span class=\"c1\">--% env 0</span></span></span></pre>\n",
       "<pre class=\"alectryon-io highlight\"><!-- Generator: Alectryon --><span class=\"alectryon-sentence\"><span class=\"alectryon-input\"><span class=\"c1\">--% prove 0</span></span></span></pre>\n",
       "        </div>\n",
       "        <details>\n",
       "            <summary>Raw input</summary>\n",
       "            <code>{\"cmd\": \"theorem thm1 : 1 = 1 := sorry\"}</code>\n",
       "        </details>\n",
       "        <details>\n",
       "            <summary>Raw output</summary>\n",
       "            <code>{\"sorries\":\r\n",
       " [{\"proofState\": 0,\r\n",
       "   \"pos\": {\"line\": 1, \"column\": 24},\r\n",
       "   \"goal\": \"⊢ 1 = 1\",\r\n",
       "   \"endPos\": {\"line\": 1, \"column\": 29}}],\r\n",
       " \"messages\":\r\n",
       " [{\"severity\": \"warning\",\r\n",
       "   \"pos\": {\"line\": 1, \"column\": 8},\r\n",
       "   \"endPos\": {\"line\": 1, \"column\": 12},\r\n",
       "   \"data\": \"declaration uses 'sorry'\"}],\r\n",
       " \"env\": 0}</code>\n",
       "        </details>\n",
       "    "
      ],
      "text/plain": [
       "theorem thm1 : 1 = 1 := sorry\n",
       "        ────▶ 🟨 declaration uses 'sorry'\n",
       "--% env 0\n",
       "--% prove 0\n",
       "\n",
       "Raw input:\n",
       "{\"cmd\": \"theorem thm1 : 1 = 1 := sorry\"}\n",
       "Raw output:\n",
       "{\"sorries\":\r\n",
       " [{\"proofState\": 0,\r\n",
       "   \"pos\": {\"line\": 1, \"column\": 24},\r\n",
       "   \"goal\": \"⊢ 1 = 1\",\r\n",
       "   \"endPos\": {\"line\": 1, \"column\": 29}}],\r\n",
       " \"messages\":\r\n",
       " [{\"severity\": \"warning\",\r\n",
       "   \"pos\": {\"line\": 1, \"column\": 8},\r\n",
       "   \"endPos\": {\"line\": 1, \"column\": 12},\r\n",
       "   \"data\": \"declaration uses 'sorry'\"}],\r\n",
       " \"env\": 0}"
      ]
     },
     "metadata": {},
     "output_type": "display_data"
    }
   ],
   "source": [
    "theorem thm1 : 1 = 1 := sorry"
   ]
  },
  {
   "cell_type": "code",
   "execution_count": 2,
   "id": "ee2fab57-dadd-465b-baca-4c4486c69c07",
   "metadata": {
    "execution": {
     "iopub.execute_input": "2024-06-03T10:00:45.500515Z",
     "iopub.status.busy": "2024-06-03T10:00:45.500307Z",
     "iopub.status.idle": "2024-06-03T10:00:45.615573Z",
     "shell.execute_reply": "2024-06-03T10:00:45.615133Z"
    },
    "papermill": {
     "duration": 0.118725,
     "end_time": "2024-06-03T10:00:45.617421",
     "exception": false,
     "start_time": "2024-06-03T10:00:45.498696",
     "status": "completed"
    },
    "tags": []
   },
   "outputs": [
    {
     "data": {
      "text/html": [
       "\n",
       "        \n",
       "        <link rel=\"stylesheet\" href=\"https://lean-lang.org/lean4/doc/alectryon.css\">\n",
       "        <link rel=\"stylesheet\" href=\"https://lean-lang.org/lean4/doc/pygments.css\">\n",
       "        <link rel=\"stylesheet\" href=\"https://cdn.jsdelivr.net/gh/utensil/lean4_jupyter@main/vendor/lean4_jupyter.css\">\n",
       "        <script src=\"https://lean-lang.org/lean4/doc/alectryon.js\"></script>\n",
       "        <script src=\"https://lean-lang.org/lean4/doc/highlight.js\"></script>\n",
       "    \n",
       "        <div class=\"alectryon-root alectryon-centered\">\n",
       "            <pre class=\"alectryon-io highlight\"><!-- Generator: Alectryon --><span class=\"alectryon-sentence\"><input class=\"alectryon-toggle\" id=\"chk1\" style=\"display: none\" type=\"checkbox\"><label class=\"alectryon-input\" for=\"chk1\"><span class=\"kn\">theorem</span><span class=\"w\"> </span>thm2<span class=\"w\"> </span>:<span class=\"w\"> </span><span class=\"mi\">2</span><span class=\"w\"> </span><span class=\"bp\">=</span><span class=\"w\"> </span><span class=\"mi\">2</span><span class=\"w\"> </span>:=<span class=\"w\"> </span><span class=\"gr\">sorry</span></label><small class=\"alectryon-output\"><div><div class=\"alectryon-messages\"><blockquote class=\"alectryon-message\"><span class=\"bp\">🟨</span><span class=\"w\"> </span>declaration<span class=\"w\"> </span>uses<span class=\"w\"> </span><span class=\"bp\">&#39;</span><span class=\"gr\">sorry</span><span class=\"bp\">&#39;</span></blockquote></div></div></small></span></pre>\n",
       "<pre class=\"alectryon-io highlight\"><!-- Generator: Alectryon --><span class=\"alectryon-sentence\"><span class=\"alectryon-input\"><span class=\"c1\">--% env 1</span></span></span></pre>\n",
       "<pre class=\"alectryon-io highlight\"><!-- Generator: Alectryon --><span class=\"alectryon-sentence\"><span class=\"alectryon-input\"><span class=\"c1\">--% prove 1</span></span></span></pre>\n",
       "        </div>\n",
       "        <details>\n",
       "            <summary>Raw input</summary>\n",
       "            <code>{\"cmd\": \"theorem thm2 : 2 = 2 := sorry\", \"env\": 0}</code>\n",
       "        </details>\n",
       "        <details>\n",
       "            <summary>Raw output</summary>\n",
       "            <code>{\"sorries\":\r\n",
       " [{\"proofState\": 1,\r\n",
       "   \"pos\": {\"line\": 1, \"column\": 24},\r\n",
       "   \"goal\": \"⊢ 2 = 2\",\r\n",
       "   \"endPos\": {\"line\": 1, \"column\": 29}}],\r\n",
       " \"messages\":\r\n",
       " [{\"severity\": \"warning\",\r\n",
       "   \"pos\": {\"line\": 1, \"column\": 8},\r\n",
       "   \"endPos\": {\"line\": 1, \"column\": 12},\r\n",
       "   \"data\": \"declaration uses 'sorry'\"}],\r\n",
       " \"env\": 1}</code>\n",
       "        </details>\n",
       "    "
      ],
      "text/plain": [
       "theorem thm2 : 2 = 2 := sorry\n",
       "        ────▶ 🟨 declaration uses 'sorry'\n",
       "--% env 1\n",
       "--% prove 1\n",
       "\n",
       "Raw input:\n",
       "{\"cmd\": \"theorem thm2 : 2 = 2 := sorry\", \"env\": 0}\n",
       "Raw output:\n",
       "{\"sorries\":\r\n",
       " [{\"proofState\": 1,\r\n",
       "   \"pos\": {\"line\": 1, \"column\": 24},\r\n",
       "   \"goal\": \"⊢ 2 = 2\",\r\n",
       "   \"endPos\": {\"line\": 1, \"column\": 29}}],\r\n",
       " \"messages\":\r\n",
       " [{\"severity\": \"warning\",\r\n",
       "   \"pos\": {\"line\": 1, \"column\": 8},\r\n",
       "   \"endPos\": {\"line\": 1, \"column\": 12},\r\n",
       "   \"data\": \"declaration uses 'sorry'\"}],\r\n",
       " \"env\": 1}"
      ]
     },
     "metadata": {},
     "output_type": "display_data"
    }
   ],
   "source": [
    "theorem thm2 : 2 = 2 := sorry"
   ]
  },
  {
   "cell_type": "code",
   "execution_count": null,
   "id": "f83e6818-6fc7-4691-af75-9d6887cd407a",
   "metadata": {
    "papermill": {
     "duration": 0.000948,
     "end_time": "2024-06-03T10:00:45.619530",
     "exception": false,
     "start_time": "2024-06-03T10:00:45.618582",
     "status": "completed"
    },
    "tags": []
   },
   "outputs": [],
   "source": []
  }
 ],
 "metadata": {
  "kernelspec": {
   "display_name": "Lean 4",
   "language": "lean4",
   "name": "lean4"
  },
  "language_info": {
   "codemirror_mode": "python",
   "file_extension": ".lean",
   "mimetype": "text/x-lean4",
   "name": "lean4"
  },
  "papermill": {
   "default_parameters": {},
   "duration": 1.720478,
   "end_time": "2024-06-03T10:00:45.839860",
   "environment_variables": {},
   "exception": null,
   "parameters": {},
   "start_time": "2024-06-03T10:00:44.119382",
   "version": "2.6.0"
  }
 },
 "nbformat": 4,
 "nbformat_minor": 5
}