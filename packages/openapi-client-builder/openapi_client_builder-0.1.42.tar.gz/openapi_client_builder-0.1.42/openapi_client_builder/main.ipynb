{
 "cells": [
  {
   "cell_type": "code",
   "execution_count": 1,
   "metadata": {},
   "outputs": [],
   "source": [
    "from tools import get_openapi_json, output_file, schemas2type, server2client\n",
    "\n",
    "host: str = \"127.0.0.1\"\n",
    "port: str = \"8000\"\n",
    "path=\"/api/openapi.json\"\n",
    "url=None\n",
    "output: str = \"./dist\"\n",
    "name=\"api.types.d.ts\"\n",
    "\n",
    "data_dict = get_openapi_json(url if url else f\"http://{host}:{port}{path}\")"
   ]
  },
  {
   "cell_type": "code",
   "execution_count": 2,
   "metadata": {},
   "outputs": [],
   "source": [
    "data_paths = data_dict[\"paths\"]"
   ]
  },
  {
   "cell_type": "code",
   "execution_count": 3,
   "metadata": {},
   "outputs": [],
   "source": [
    "\n",
    "_api = server2client(data_paths)    \n",
    "output_file(name, _api)"
   ]
  },
  {
   "cell_type": "code",
   "execution_count": null,
   "metadata": {},
   "outputs": [],
   "source": []
  }
 ],
 "metadata": {
  "kernelspec": {
   "display_name": "Python 3",
   "language": "python",
   "name": "python3"
  },
  "language_info": {
   "codemirror_mode": {
    "name": "ipython",
    "version": 3
   },
   "file_extension": ".py",
   "mimetype": "text/x-python",
   "name": "python",
   "nbconvert_exporter": "python",
   "pygments_lexer": "ipython3",
   "version": "3.11.0"
  }
 },
 "nbformat": 4,
 "nbformat_minor": 2
}
