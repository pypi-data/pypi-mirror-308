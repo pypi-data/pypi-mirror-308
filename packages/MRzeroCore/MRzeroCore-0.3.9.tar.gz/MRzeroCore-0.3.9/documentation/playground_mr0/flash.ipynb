{
 "cells": [
  {
   "cell_type": "code",
   "execution_count": null,
   "metadata": {
    "tags": [
     "hide-cell"
    ]
   },
   "outputs": [],
   "source": [
    "!pip install MRzeroCore &> /dev/null"
   ]
  },
  {
   "cell_type": "code",
   "execution_count": null,
   "metadata": {},
   "outputs": [],
   "source": [
    "import MRzeroCore as mr0\n",
    "import matplotlib.pyplot as plt\n",
    "from numpy import pi\n",
    "import torch"
   ]
  },
  {
   "attachments": {},
   "cell_type": "markdown",
   "metadata": {},
   "source": [
    "(flash)=\n",
    "# Create a FLASH Sequence\n",
    "\n",
    "This Notebook demonstrates a simple Fast Low Angle SHot sequence (FLASH). It is a simple gradient echo sequence with low TR and flip angles typically below 10°.\n",
    "\n",
    "Always prefer to write a function that builds the sequence that takes all variables of interest (often flip angles, TE, TR and/or others) as arguments. This way one can easily build variations of the sequence or optimize the arguments with gradient descent when using pyTorch tensors for all variables."
   ]
  },
  {
   "cell_type": "code",
   "execution_count": null,
   "metadata": {},
   "outputs": [],
   "source": [
    "def build_seq() -> mr0.Sequence:\n",
    "    seq = mr0.Sequence()\n",
    "\n",
    "    enc = torch.randperm(64) - 32\n",
    "\n",
    "    for i in range(64):\n",
    "        rep = seq.new_rep(2 + 64 + 1)\n",
    "        rep.pulse.usage = mr0.PulseUsage.EXCIT\n",
    "        rep.pulse.angle = 7 * pi/180\n",
    "        rep.pulse.phase = 0.5 * 137.50776405 * (i**2+i+2) * pi / 180\n",
    "\n",
    "        rep.event_time[0] = 2e-3  # Pulse\n",
    "        rep.event_time[1] = 2e-3  # Rewinder\n",
    "        rep.event_time[2:-1] = 0.08e-3  # Readout\n",
    "        rep.event_time[-1] = 2e-3  # Spoiler\n",
    "\n",
    "        rep.gradm[1, 0] = -33\n",
    "        rep.gradm[2:-1, 0] = 1\n",
    "        rep.gradm[-1, 0] = 96 - 31\n",
    "\n",
    "        # Linear reordered phase encoding\n",
    "        rep.gradm[1, 1] = i - 32\n",
    "        # rep.gradm[1, 1] = i // 2 if i % 2 == 0 else -(i + 1) // 2\n",
    "        # rep.gradm[1, 1] = enc[i]\n",
    "        rep.gradm[-1, 1] = -rep.gradm[1, 1]\n",
    "\n",
    "        rep.adc_usage[2:-1] = 1\n",
    "        rep.adc_phase[2:-1] = pi - rep.pulse.phase\n",
    "\n",
    "    return seq"
   ]
  },
  {
   "cell_type": "code",
   "execution_count": null,
   "metadata": {},
   "outputs": [],
   "source": [
    "# Build the default FLASH and show the kspace\n",
    "seq = build_seq()\n",
    "seq.plot_kspace_trajectory()\n",
    "\n",
    "# Until now, the sequence uses normalized grads: The simulation will adapt them\n",
    "# to the phantom size. If we want to hardcode a fixed FOV instead, we can do so:\n",
    "seq.normalized_grads = False\n",
    "for rep in seq:\n",
    "    rep.gradm[:] /= 200e-3  # 200 mm FOV"
   ]
  },
  {
   "cell_type": "code",
   "execution_count": null,
   "metadata": {},
   "outputs": [],
   "source": [
    "# Define phantom data\n",
    "\n",
    "def phantom_motion(time: torch.Tensor) -> tuple[torch.Tensor, torch.Tensor]:\n",
    "    time /= 0.712  # Sequence duration\n",
    "\n",
    "    phi = 0.8 * time\n",
    "    x = -0.03 * time**2\n",
    "    y = 0 * time\n",
    "\n",
    "    phi = torch.as_tensor(phi)\n",
    "    cos = torch.cos(phi)\n",
    "    sin = torch.sin(phi)\n",
    "\n",
    "    # We can't construct tensors directly as this would remove gradients\n",
    "    offset = torch.zeros(time.numel(), 3)\n",
    "    offset[:, 0] = x\n",
    "    offset[:, 1] = y\n",
    "\n",
    "    rot = torch.zeros(time.numel(), 3, 3)\n",
    "    rot[:, 0, 0] = cos\n",
    "    rot[:, 0, 1] = sin\n",
    "    rot[:, 1, 0] = -sin\n",
    "    rot[:, 1, 1] = cos\n",
    "    rot[:, 2, 2] = 1\n",
    "\n",
    "    return rot, offset\n",
    "\n",
    "\n",
    "data = mr0.util.load_default_phantom(64, 64)\n",
    "data.plot()\n",
    "data = data.build()\n",
    "data.phantom_motion = phantom_motion"
   ]
  },
  {
   "cell_type": "code",
   "execution_count": null,
   "metadata": {
    "tags": [
     "hide-output"
    ]
   },
   "outputs": [],
   "source": [
    "# Simulate the sequence\n",
    "\n",
    "graph = mr0.compute_graph(seq, data)\n",
    "signal = mr0.execute_graph(graph, seq, data)\n",
    "reco = mr0.reco_adjoint(signal, seq.get_kspace())"
   ]
  },
  {
   "cell_type": "code",
   "execution_count": null,
   "metadata": {},
   "outputs": [],
   "source": [
    "# Plot the result\n",
    "\n",
    "plt.figure()\n",
    "plt.subplot(121)\n",
    "plt.title(\"Magnitude\")\n",
    "plt.imshow(reco.abs().cpu()[:, :, 0].T, origin='lower', vmin=0)\n",
    "plt.subplot(122)\n",
    "plt.title(\"Phase\")\n",
    "import numpy as np\n",
    "plt.imshow(reco.angle().cpu()[:, :, 0].T, origin='lower', vmin=-np.pi, vmax=np.pi, cmap=\"twilight\")\n",
    "plt.show()"
   ]
  },
  {
   "cell_type": "code",
   "execution_count": null,
   "metadata": {},
   "outputs": [],
   "source": [
    "plt.figure(figsize=(7, 5), dpi=120)\n",
    "graph.plot()\n",
    "plt.grid()\n",
    "plt.show()"
   ]
  }
 ],
 "metadata": {
  "kernelspec": {
   "display_name": ".env",
   "language": "python",
   "name": "python3"
  },
  "language_info": {
   "codemirror_mode": {
    "name": "ipython",
    "version": 3
   },
   "file_extension": ".py",
   "mimetype": "text/x-python",
   "name": "python",
   "nbconvert_exporter": "python",
   "pygments_lexer": "ipython3",
   "version": "3.11.4"
  },
  "orig_nbformat": 4
 },
 "nbformat": 4,
 "nbformat_minor": 2
}
