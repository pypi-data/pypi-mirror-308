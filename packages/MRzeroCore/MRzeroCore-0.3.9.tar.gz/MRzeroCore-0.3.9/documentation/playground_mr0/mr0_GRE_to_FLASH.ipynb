{
 "cells": [
  {
   "cell_type": "markdown",
   "metadata": {
    "colab_type": "text",
    "id": "view-in-github"
   },
   "source": [
    "<a href=\"https://colab.research.google.com/github/MRsources/MRzero-Core/blob/main/documentation/playground_mr0/mr0_GRE_to_FLASH.ipynb\" target=\"_parent\"><img src=\"https://colab.research.google.com/assets/colab-badge.svg\" alt=\"Open In Colab\"/></a>"
   ]
  },
  {
   "cell_type": "code",
   "execution_count": null,
   "metadata": {
    "id": "vTjDmgyofjbF",
    "tags": [
     "hide-cell"
    ]
   },
   "outputs": [],
   "source": [
    "!pip install pypulseq &> /dev/null\n",
    "!pip install MRzeroCore &> /dev/null"
   ]
  },
  {
   "cell_type": "markdown",
   "metadata": {
    "id": "2b2tz2fZXFta"
   },
   "source": [
    "(GRE2FLASH_seq)=\n",
    "# Interactive GRE to FLASH"
   ]
  },
  {
   "cell_type": "code",
   "execution_count": null,
   "metadata": {
    "colab": {
     "base_uri": "https://localhost:8080/",
     "height": 1000
    },
    "id": "O-_sr6lZjR_n",
    "outputId": "17f74e75-85b2-4160-b2b7-2f37b7741f2b"
   },
   "outputs": [],
   "source": [
    "#@title Define GRE in PyPulseq\n",
    "#@markdown You can steer different settings by the sliders, like long TR spoiling, gradient spoiling or rf spoiling. You can investigate artifacts that occur for short TR, and can be eliminated with these measures. Check https://mriquestions.com/spoiling---what-and-how.html\n",
    "import numpy as np\n",
    "import MRzeroCore as mr0\n",
    "import pypulseq as pp\n",
    "import torch\n",
    "import matplotlib.pyplot as plt\n",
    "\n",
    "plt.rcParams['figure.figsize'] = [10, 5]\n",
    "plt.rcParams['figure.dpi'] = 100 # 200 e.g. is really fine, but slower\n",
    "\n",
    "experiment_id = 'exB05_GRE_to_FLASH'\n",
    "\n",
    "# %% S1. SETUP sys\n",
    "\n",
    "# choose the scanner limits\n",
    "system = pp.Opts(max_grad=28,grad_unit='mT/m',max_slew=150,slew_unit='T/m/s',\n",
    "                 rf_ringdown_time=20e-6,rf_dead_time=100e-6,adc_dead_time=20e-6,grad_raster_time=50*10e-6)\n",
    "\n",
    "# %% S2. DEFINE the sequence\n",
    "seq = pp.Sequence()\n",
    "\n",
    "# Define FOV and resolution\n",
    "fov = 200e-3\n",
    "slice_thickness = 8e-3\n",
    "sz = (32, 32)   # spin system size / resolution\n",
    "Nread = 64    # frequency encoding steps/samples\n",
    "Nphase = 64    # phase encoding steps/samples\n",
    "\n",
    "P_rfspoil=True #@param {type: \"boolean\"}\n",
    "P_gspoil=True  #@param {type: \"boolean\"}\n",
    "P_TR_delay=0   #@param {type: \"number\"}\n",
    "P_FA=10         #@param {type: \"slider\", min: 1, max: 90}\n",
    "P_PE=True #@param {type: \"boolean\"}\n",
    "P_PE_rewinder=True #@param {type: \"boolean\"}\n",
    "\n",
    "rf_spoiling_inc = 84\n",
    "\n",
    "# Define rf events\n",
    "rf1, _, _ = pp.make_sinc_pulse(\n",
    "    flip_angle=P_FA * np.pi / 180, duration=1e-3,slice_thickness=slice_thickness, apodization=0.5, time_bw_product=4,\n",
    "    system=system, return_gz=True\n",
    ")\n",
    "# rf1 = pp.make_block_pulse(flip_angle=P_FA * np.pi / 180, duration=1e-3, system=system)\n",
    "\n",
    "# Define other gradients and ADC events\n",
    "gx = pp.make_trapezoid(channel='y', flat_area=Nread / fov, flat_time=10e-3, system=system)\n",
    "adc = pp.make_adc(num_samples=Nread, duration=10e-3, phase_offset=0 * np.pi/180, delay=gx.rise_time, system=system)\n",
    "gx_pre = pp.make_trapezoid(channel='y', area=-gx.area / 2, duration=5e-3, system=system)\n",
    "gx_spoil = pp.make_trapezoid(channel='y', area=1.5 * gx.area, duration=2e-3, system=system)\n",
    "\n",
    "# ======\n",
    "# CONSTRUCT SEQUENCE\n",
    "# ======\n",
    "##linear reordering\n",
    "phenc = np.arange(-Nphase // 2, Nphase // 2, 1) / fov\n",
    "permvec =np.arange(0, Nphase, 1)\n",
    "## centric reordering\n",
    "permvec = sorted(np.arange(len(phenc)), key=lambda x: abs(len(phenc) // 2 - x))\n",
    "## random reordering\n",
    "#perm =np.arange(0, Nphase, 1);  permvec = np.random.permutation(perm)\n",
    "\n",
    "phenc_centr = phenc[permvec] *P_PE\n",
    "\n",
    "for ii in range(0, Nphase):  # e.g. -64:63\n",
    "\n",
    "    if P_rfspoil:\n",
    "        rf_phase = 0.5 * rf_spoiling_inc * (ii**2 + ii + 2)\n",
    "        rf1.phase_offset = rf_phase / 180 * np.pi   # set current rf phase\n",
    "        adc.phase_offset = rf_phase / 180 * np.pi  # follow with ADC\n",
    "\n",
    "    seq.add_block(rf1)\n",
    "    seq.add_block(pp.make_delay(0.005))\n",
    "    gp = pp.make_trapezoid(channel='x', area=phenc_centr[ii], duration=5e-3, system=system)\n",
    "    seq.add_block(gx_pre, gp)\n",
    "    seq.add_block(adc, gx)\n",
    "    gp = pp.make_trapezoid(channel='x', area=-phenc_centr[ii], duration=5e-3, system=system)\n",
    "    if P_gspoil and P_PE_rewinder:\n",
    "        seq.add_block(gx_spoil, gp)\n",
    "    elif P_gspoil:\n",
    "        seq.add_block(gx_spoil)\n",
    "    elif P_PE_rewinder:\n",
    "        seq.add_block(gp)\n",
    "    if ii < Nphase - 1:\n",
    "        seq.add_block(pp.make_delay(P_TR_delay))\n",
    "\n",
    "\n",
    "# %% S3. CHECK, PLOT and WRITE the sequence  as .seq\n",
    "# Check whether the timing of the sequence is correct\n",
    "ok, error_report = seq.check_timing()\n",
    "if ok:\n",
    "    print('Timing check passed successfully')\n",
    "else:\n",
    "    print('Timing check failed. Error listing follows:')\n",
    "    for e in error_report:\n",
    "        print(e, end=\"\")\n",
    "\n",
    "# Prepare the sequence output for the scanner\n",
    "seq.set_definition('FOV', [fov, fov, slice_thickness])\n",
    "seq.set_definition('Name', 'gre')\n",
    "seq.write(experiment_id + '.seq')"
   ]
  },
  {
   "cell_type": "code",
   "execution_count": null,
   "metadata": {
    "colab": {
     "base_uri": "https://localhost:8080/",
     "height": 1000
    },
    "id": "_Iu_R4XtXhiv",
    "outputId": "e49696c5-2f8c-497b-c03b-d6c219427368"
   },
   "outputs": [],
   "source": [
    "#@title Load Phantom and simulate\n",
    "\n",
    "\n",
    "# %% S4: SETUP SPIN SYSTEM/object on which we can run the MR sequence external.seq from above\n",
    "sz = [64, 64]\n",
    "obj_p = mr0.util.load_default_phantom(sz[0], sz[1])\n",
    "obj_p.plot()\n",
    "PD = obj_p.PD\n",
    "B0 = obj_p.B0\n",
    "obj_p = obj_p.build()\n",
    "\n",
    "# %% S5:. SIMULATE  the external.seq file and add acquired signal to ADC plot\n",
    "# Read in the sequence\n",
    "seq0 = mr0.Sequence.import_file(experiment_id + '.seq')\n",
    "seq0.plot_kspace_trajectory()\n",
    "# Simulate the sequence\n",
    "graph = mr0.compute_graph(seq0, obj_p, 200, 1e-3)\n",
    "signal = mr0.execute_graph(graph, seq0, obj_p, print_progress=False)\n",
    "\n",
    "# PLOT sequence with signal in the ADC subplot\n",
    "seq.plot(plot_now=False)\n",
    "mr0.util.insert_signal_plot(seq, signal.numpy())\n",
    "plt.show()"
   ]
  },
  {
   "cell_type": "code",
   "execution_count": null,
   "metadata": {
    "colab": {
     "base_uri": "https://localhost:8080/",
     "height": 463
    },
    "id": "CE3895hTXufI",
    "outputId": "c2ee04f6-1670-42da-d191-feaf2799c3e8"
   },
   "outputs": [],
   "source": [
    "#@title Reconstruct and Plot\n",
    "\n",
    "\n",
    "# additional noise as simulation is perfect\n",
    "signal += 1e-4 * np.random.randn(signal.shape[0], 2).view(np.complex128)\n",
    "\n",
    "\n",
    "# %% S6: MR IMAGE RECON of signal ::: #####################################\n",
    "fig = plt.figure(figsize=(8, 5))  # fig.clf()\n",
    "plt.subplot(411)\n",
    "plt.title('ADC signal')\n",
    "kspace = torch.reshape((signal), (Nphase, Nread)).clone()\n",
    "plt.plot(torch.real(signal), label='real')\n",
    "plt.plot(torch.imag(signal), label='imag')\n",
    "\n",
    "ipermvec = np.argsort(permvec)\n",
    "\n",
    "kspace=kspace[ipermvec,:]\n",
    "# this adds ticks at the correct position szread\n",
    "major_ticks = np.arange(0, Nphase * Nread, Nread)\n",
    "ax = plt.gca()\n",
    "ax.set_xticks(major_ticks)\n",
    "for label in ax.xaxis.get_ticklabels():\n",
    "    label.set_visible(False)\n",
    "plt.grid()\n",
    "\n",
    "# fftshift\n",
    "spectrum = torch.fft.fftshift(kspace)\n",
    "# FFT\n",
    "space = torch.fft.fft2(spectrum)\n",
    "# fftshift\n",
    "space = torch.fft.ifftshift(space)\n",
    "\n",
    "\n",
    "plt.subplot(345)\n",
    "plt.title('k-space')\n",
    "plt.imshow(np.abs(kspace.numpy().T), origin=\"lower\"); plt.axis('off');plt.colorbar()\n",
    "plt.subplot(349)\n",
    "plt.title('log. k-space')\n",
    "plt.imshow(np.log(np.abs(kspace.numpy().T)), origin=\"lower\"); plt.axis('off');plt.colorbar()\n",
    "\n",
    "plt.subplot(346)\n",
    "plt.title('FFT-mag.')\n",
    "plt.imshow(np.abs(space.numpy().T), origin=\"lower\"); plt.axis('off')\n",
    "plt.colorbar()\n",
    "plt.subplot(3, 4, 10)\n",
    "plt.title('FFT-phase')\n",
    "plt.imshow(np.angle(space.numpy().T), vmin=-np.pi, vmax=np.pi, origin=\"lower\"); plt.axis('off')\n",
    "plt.colorbar()\n",
    "\n",
    "# % compare with original phantom obj_p.PD\n",
    "plt.subplot(348)\n",
    "plt.title('phantom PD')\n",
    "plt.imshow(PD.squeeze().T, origin=\"lower\"); plt.axis('off');plt.colorbar()\n",
    "plt.subplot(3, 4, 12)\n",
    "plt.title('phantom B0')\n",
    "plt.imshow(B0.squeeze().T, origin=\"lower\"); plt.axis('off');plt.colorbar()"
   ]
  }
 ],
 "metadata": {
  "colab": {
   "include_colab_link": true,
   "provenance": []
  },
  "kernelspec": {
   "display_name": ".env",
   "language": "python",
   "name": "python3"
  },
  "language_info": {
   "codemirror_mode": {
    "name": "ipython",
    "version": 3
   },
   "file_extension": ".py",
   "mimetype": "text/x-python",
   "name": "python",
   "nbconvert_exporter": "python",
   "pygments_lexer": "ipython3",
   "version": "3.11.4"
  }
 },
 "nbformat": 4,
 "nbformat_minor": 0
}
