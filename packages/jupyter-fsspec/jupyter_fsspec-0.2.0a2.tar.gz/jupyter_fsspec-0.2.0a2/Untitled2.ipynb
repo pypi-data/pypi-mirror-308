{
 "cells": [
  {
   "cell_type": "code",
   "execution_count": null,
   "id": "7ed0870c-8342-4b11-a0d5-a540a112aa90",
   "metadata": {},
   "outputs": [],
   "source": [
    "file:///Users/egentry/workspace_ana/averager/.git/objects/46/ff7f9965f473460d65ef4df65060c1de616944"
   ]
  },
  {
   "cell_type": "code",
   "execution_count": null,
   "id": "e2f6fcd5-92da-4ce5-baac-bd4a806e7a89",
   "metadata": {},
   "outputs": [],
   "source": [
    "file:///Users/egentry/workspace_ana/averager/.idea/codeStyles/codeStyleConfig.xml"
   ]
  },
  {
   "cell_type": "code",
   "execution_count": null,
   "id": "4db5a71d-bd4f-47fd-8273-b9f4fa1882b4",
   "metadata": {},
   "outputs": [],
   "source": [
    "file:///Users/egentry/cmp/.idea/workspace.xml"
   ]
  }
 ],
 "metadata": {
  "kernelspec": {
   "display_name": "Python 3 (ipykernel)",
   "language": "python",
   "name": "python3"
  },
  "language_info": {
   "codemirror_mode": {
    "name": "ipython",
    "version": 3
   },
   "file_extension": ".py",
   "mimetype": "text/x-python",
   "name": "python",
   "nbconvert_exporter": "python",
   "pygments_lexer": "ipython3",
   "version": "3.13.0"
  }
 },
 "nbformat": 4,
 "nbformat_minor": 5
}
