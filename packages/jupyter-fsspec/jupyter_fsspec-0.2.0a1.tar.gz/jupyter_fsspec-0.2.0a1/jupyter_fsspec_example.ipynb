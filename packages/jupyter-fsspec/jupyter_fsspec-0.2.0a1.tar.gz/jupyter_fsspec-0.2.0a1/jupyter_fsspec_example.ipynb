{
 "cells": [
  {
   "cell_type": "code",
   "execution_count": 1,
   "id": "e3477724-a653-4397-955b-792cc2ac622d",
   "metadata": {},
   "outputs": [],
   "source": [
    "from jupyter_fsspec import helper"
   ]
  },
  {
   "cell_type": "code",
   "execution_count": 2,
   "id": "dcb99f7a-4779-4583-946f-c0d64afd7e70",
   "metadata": {},
   "outputs": [],
   "source": [
    "fs = helper.fs('Averager project')"
   ]
  },
  {
   "cell_type": "code",
   "execution_count": 3,
   "id": "2e861b69-5b4a-4359-a70a-444bf4a5058c",
   "metadata": {},
   "outputs": [],
   "source": [
    "pasted_path = \\\n",
    "'file:///Users/finnmertens/averager/index.html'"
   ]
  },
  {
   "cell_type": "code",
   "execution_count": 4,
   "id": "af5135c6-22a0-42a7-9c93-bc9ad615e8b4",
   "metadata": {},
   "outputs": [
    {
     "data": {
      "text/plain": [
       "b'<!doctype html>\\n<html lang=\"en-US\">\\n<head>\\n    <title>Number Averager!</title>\\n    <meta charset=\"utf-8\">\\n    <link rel=\"stylesheet\" href=\"styles.css\">\\n    <script src=\"script.js\" defer></script>\\n</head>\\n\\n<body>\\n    <div id=\"inputbox\">\\n        <input id=\"n'"
      ]
     },
     "execution_count": 4,
     "metadata": {},
     "output_type": "execute_result"
    }
   ],
   "source": [
    "with fs.open(pasted_path, 'rb') as fhandle:\n",
    "    filebytes = fhandle.read()\n",
    "filebytes[:256]"
   ]
  },
  {
   "cell_type": "code",
   "execution_count": null,
   "id": "8238f629-10a6-4656-9f33-34e6a7228b2e",
   "metadata": {},
   "outputs": [],
   "source": []
  }
 ],
 "metadata": {
  "kernelspec": {
   "display_name": "Python 3 (ipykernel)",
   "language": "python",
   "name": "python3"
  },
  "language_info": {
   "codemirror_mode": {
    "name": "ipython",
    "version": 3
   },
   "file_extension": ".py",
   "mimetype": "text/x-python",
   "name": "python",
   "nbconvert_exporter": "python",
   "pygments_lexer": "ipython3",
   "version": "3.13.0"
  }
 },
 "nbformat": 4,
 "nbformat_minor": 5
}
