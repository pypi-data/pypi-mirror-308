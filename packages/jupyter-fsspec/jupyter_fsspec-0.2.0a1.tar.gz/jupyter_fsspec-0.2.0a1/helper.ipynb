{
 "cells": [
  {
   "cell_type": "markdown",
   "id": "8ba3a5f6-8bef-49ed-a9fe-dce307f7c81b",
   "metadata": {},
   "source": [
    "## Use the `helper` for direct fsspec access to your configured filesystems"
   ]
  },
  {
   "cell_type": "code",
   "execution_count": 10,
   "id": "5e818f8f-1a17-427d-b584-cbc56e9b8171",
   "metadata": {},
   "outputs": [],
   "source": [
    "from jupyter_fsspec import helper"
   ]
  },
  {
   "cell_type": "code",
   "execution_count": 11,
   "id": "57f869b2-1b84-476d-9f2e-c68e0e393249",
   "metadata": {},
   "outputs": [
    {
     "data": {
      "text/plain": [
       "<fsspec.implementations.local.LocalFileSystem at 0x109fb2f90>"
      ]
     },
     "execution_count": 11,
     "metadata": {},
     "output_type": "execute_result"
    }
   ],
   "source": [
    "# Get an fsspec filesystem as stored/configured in the jupyter_fsspec config\n",
    "fs = helper.filesystem('homedir')  # Also helper.fs('homedir')\n",
    "fs"
   ]
  },
  {
   "cell_type": "code",
   "execution_count": 12,
   "id": "bc282bec-1409-4486-9600-17458ae5b183",
   "metadata": {},
   "outputs": [
    {
     "data": {
      "text/plain": [
       "'STATION,STATION_NAME,ELEVATION,LATITUDE,LONGITUDE,DATE,HPCP,Measurement Flag,Quality Flag\\nCOOP:310301,ASHEVILLE NC US,682.1,35.5954,-82.5568,20100101 00:00,99999,], \\nCOOP:310301,ASHEVILLE NC US,682.1,35.5954,-82.5568,20100101 01:00,0,g, \\nCOOP:310301,ASHEVILLE NC US,682.1,35.5954,-82.5568,20100102 06:00,1, , \\n'"
      ]
     },
     "execution_count": 12,
     "metadata": {},
     "output_type": "execute_result"
    }
   ],
   "source": [
    "# Proceed with your normal fsspec workflows\n",
    "with fs.open(r'/Users/egentry/data/precip_sample.csv', mode='r', encoding='utf8') as fhandle:\n",
    "    txt = fhandle.read()\n",
    "txt[:512]"
   ]
  },
  {
   "cell_type": "code",
   "execution_count": 9,
   "id": "1c21d2b8-485b-479a-802b-ea73ce0d407c",
   "metadata": {},
   "outputs": [
    {
     "data": {
      "text/plain": [
       "'\\'use strict\\';\\n\\ndocument.addEventListener(\\'DOMContentLoaded\\', main);\\n\\n// ********************\\n// >>> AppManager Class\\n// ********************\\n\\nfunction AppManager() {\\n}\\n\\nAppManager.prototype.input_hist = [];\\nAppManager.prototype.result_hist = [];\\nAppManager.prototype.numeric_chars = new Set([\\'0\\', \\'1\\', \\'2\\', \\'3\\', \\'4\\', \\'5\\', \\'6\\', \\'7\\', \\'8\\', \\'9\\']);\\n\\nfunction grabInputField() {\\n    const elem = document.querySelector(\"#numberfield\");\\n    let contents = elem.value;\\n    const re = new RegExp(\\'^(([0-9]+)|([0-9]*\\\\\\\\.[0-'"
      ]
     },
     "execution_count": 9,
     "metadata": {},
     "output_type": "execute_result"
    }
   ],
   "source": [
    "# Examples\n",
    "with fs.open(r'/Users/egentry/workspace_ana/averager/script.js', mode='r', encoding='utf8') as fhandle:\n",
    "    txt2 = fhandle.read()\n",
    "txt2[:512]"
   ]
  },
  {
   "cell_type": "code",
   "execution_count": 13,
   "id": "95114af5-01cd-47ff-ad54-39b153559dbd",
   "metadata": {},
   "outputs": [
    {
     "data": {
      "text/plain": [
       "'file:///Users/egentry/data/precip_sample.csv'"
      ]
     },
     "execution_count": 13,
     "metadata": {},
     "output_type": "execute_result"
    }
   ],
   "source": [
    "fs.unstrip_protocol('/Users/egentry/data/precip_sample.csv')"
   ]
  },
  {
   "cell_type": "markdown",
   "id": "f52c9188-53f2-484d-91de-50185b4f3807",
   "metadata": {},
   "source": [
    "## Some extra helper functions for working on a single filesystem"
   ]
  },
  {
   "cell_type": "code",
   "execution_count": 4,
   "id": "2da90be9-6598-47d1-9a6b-430b034c63f9",
   "metadata": {},
   "outputs": [
    {
     "data": {
      "text/plain": [
       "<fsspec.implementations.local.LocalFileSystem at 0x109fb2f90>"
      ]
     },
     "execution_count": 4,
     "metadata": {},
     "output_type": "execute_result"
    }
   ],
   "source": [
    "# \"Work on\" one of the configured filesystems\n",
    "helper.work_on('homedir')"
   ]
  },
  {
   "cell_type": "code",
   "execution_count": 5,
   "id": "7dd3c90d-fb18-400d-852a-a68c6563d1c5",
   "metadata": {},
   "outputs": [
    {
     "data": {
      "text/plain": [
       "b'\\xef\\xbb\\xbfThe Project Gutenberg eBook of War and Peace\\r\\n    \\r\\nThis ebook is for the use of anyone anywhere in the United States and\\r\\nmost other parts of the world at no cost and with almost no restrictions\\r\\nwhatsoever. You may copy it, give it away or re-use it under the terms\\r\\nof the Project Gutenberg License included with this ebook or online\\r\\nat www.gutenberg.org. If you are not located in the United States,\\r\\nyou will have to check the laws of the country where you are located\\r\\nbefore using this eBook.\\r\\n\\r\\nTitle'"
      ]
     },
     "execution_count": 5,
     "metadata": {},
     "output_type": "execute_result"
    }
   ],
   "source": [
    "# Get file bytes\n",
    "bb = helper.bytes('/Users/egentry/warpeace.txt')\n",
    "bb[:512]"
   ]
  },
  {
   "cell_type": "code",
   "execution_count": 6,
   "id": "f69d762b-b8a6-4381-b881-ef8ad8a08fd9",
   "metadata": {},
   "outputs": [
    {
     "data": {
      "text/plain": [
       "'AA\\nBB\\ncc\\n\\n\\n'"
      ]
     },
     "execution_count": 6,
     "metadata": {},
     "output_type": "execute_result"
    }
   ],
   "source": [
    "# Get utf8 text\n",
    "helper.utf8('/Users/egentry/foo.txt')"
   ]
  },
  {
   "cell_type": "code",
   "execution_count": null,
   "id": "27a7a27c-310d-406c-8b6c-827e2f2dbe07",
   "metadata": {},
   "outputs": [],
   "source": []
  }
 ],
 "metadata": {
  "kernelspec": {
   "display_name": "Python 3 (ipykernel)",
   "language": "python",
   "name": "python3"
  },
  "language_info": {
   "codemirror_mode": {
    "name": "ipython",
    "version": 3
   },
   "file_extension": ".py",
   "mimetype": "text/x-python",
   "name": "python",
   "nbconvert_exporter": "python",
   "pygments_lexer": "ipython3",
   "version": "3.13.0"
  }
 },
 "nbformat": 4,
 "nbformat_minor": 5
}
