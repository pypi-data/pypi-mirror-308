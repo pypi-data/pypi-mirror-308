{
 "cells": [
  {
   "cell_type": "code",
   "execution_count": null,
   "id": "f76f4492-1b1b-4a5d-838c-b477995f11ff",
   "metadata": {},
   "outputs": [],
   "source": [
    "from jupyter_fsspec import helper"
   ]
  },
  {
   "cell_type": "code",
   "execution_count": null,
   "id": "3ea2bf02-66bf-493f-9075-1132f86f46f9",
   "metadata": {},
   "outputs": [],
   "source": [
    "fs = helper.fs('Cell filter repo')"
   ]
  },
  {
   "cell_type": "code",
   "execution_count": null,
   "id": "9949e959-8f16-487f-8b91-b991393c0b33",
   "metadata": {},
   "outputs": [],
   "source": [
    "fs.ls()"
   ]
  },
  {
   "cell_type": "code",
   "execution_count": null,
   "id": "bea744b9-fcd5-427c-91b2-d2afabd386be",
   "metadata": {},
   "outputs": [],
   "source": [
    "myfile = helper.file('Cell filter repo', 'foo/bar/biz.txt')"
   ]
  },
  {
   "cell_type": "code",
   "execution_count": null,
   "id": "442c1b57-1a52-42d9-8574-aa1504a53626",
   "metadata": {},
   "outputs": [],
   "source": [
    "wikrak = 999"
   ]
  }
 ],
 "metadata": {
  "kernelspec": {
   "display_name": "Python 3 (ipykernel)",
   "language": "python",
   "name": "python3"
  },
  "language_info": {
   "codemirror_mode": {
    "name": "ipython",
    "version": 3
   },
   "file_extension": ".py",
   "mimetype": "text/x-python",
   "name": "python",
   "nbconvert_exporter": "python",
   "pygments_lexer": "ipython3",
   "version": "3.13.0"
  }
 },
 "nbformat": 4,
 "nbformat_minor": 5
}
