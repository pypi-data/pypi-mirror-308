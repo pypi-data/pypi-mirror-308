{
 "cells": [
  {
   "cell_type": "code",
   "execution_count": 40,
   "id": "9ead3659-7cfe-4ca9-8f19-3dfc12bd16da",
   "metadata": {},
   "outputs": [],
   "source": [
    "aa = 7"
   ]
  },
  {
   "cell_type": "code",
   "execution_count": 41,
   "id": "8180cb70-0eec-47c0-bd4f-e1df2ac71937",
   "metadata": {},
   "outputs": [],
   "source": [
    "bb = 88"
   ]
  },
  {
   "cell_type": "code",
   "execution_count": 42,
   "id": "19c84f6f-9aeb-4a2d-b5cd-f0b103417407",
   "metadata": {},
   "outputs": [],
   "source": [
    "cc = 99"
   ]
  },
  {
   "cell_type": "code",
   "execution_count": 43,
   "id": "edd4bcb4-551a-4ea0-b6f1-2d6d44c8a5cd",
   "metadata": {},
   "outputs": [
    {
     "data": {
      "text/plain": [
       "88"
      ]
     },
     "execution_count": 43,
     "metadata": {},
     "output_type": "execute_result"
    }
   ],
   "source": [
    "bb"
   ]
  },
  {
   "cell_type": "code",
   "execution_count": 44,
   "id": "af8ca04b-30a1-4484-9570-38874623ce17",
   "metadata": {},
   "outputs": [
    {
     "data": {
      "text/plain": [
       "99"
      ]
     },
     "execution_count": 44,
     "metadata": {},
     "output_type": "execute_result"
    }
   ],
   "source": [
    "cc"
   ]
  },
  {
   "cell_type": "code",
   "execution_count": 45,
   "id": "72643ee9-c476-4990-95b5-815968d07c34",
   "metadata": {},
   "outputs": [
    {
     "data": {
      "text/plain": [
       "7"
      ]
     },
     "execution_count": 45,
     "metadata": {},
     "output_type": "execute_result"
    }
   ],
   "source": [
    "aa"
   ]
  },
  {
   "cell_type": "code",
   "execution_count": 46,
   "id": "20cd940d-805a-49f0-9be9-d521955a1440",
   "metadata": {},
   "outputs": [
    {
     "data": {
      "text/plain": [
       "(7, 99)"
      ]
     },
     "execution_count": 46,
     "metadata": {},
     "output_type": "execute_result"
    }
   ],
   "source": [
    "aa, cc"
   ]
  },
  {
   "cell_type": "code",
   "execution_count": null,
   "id": "7fd4e1ee-bb2a-4c9b-834a-1b08b33bf684",
   "metadata": {},
   "outputs": [],
   "source": []
  }
 ],
 "metadata": {
  "kernelspec": {
   "display_name": "Python 3 (ipykernel)",
   "language": "python",
   "name": "python3"
  },
  "language_info": {
   "codemirror_mode": {
    "name": "ipython",
    "version": 3
   },
   "file_extension": ".py",
   "mimetype": "text/x-python",
   "name": "python",
   "nbconvert_exporter": "python",
   "pygments_lexer": "ipython3",
   "version": "3.13.0"
  }
 },
 "nbformat": 4,
 "nbformat_minor": 5
}
