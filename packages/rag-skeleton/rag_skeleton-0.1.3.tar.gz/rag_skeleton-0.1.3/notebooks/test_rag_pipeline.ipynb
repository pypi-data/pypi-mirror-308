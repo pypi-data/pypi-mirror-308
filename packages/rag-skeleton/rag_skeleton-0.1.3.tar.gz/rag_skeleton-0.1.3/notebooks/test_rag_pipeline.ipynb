{
 "cells": [
  {
   "cell_type": "markdown",
   "metadata": {},
   "source": [
    "# 1. Set Up the Notebook"
   ]
  },
  {
   "cell_type": "code",
   "execution_count": 1,
   "metadata": {},
   "outputs": [
    {
     "name": "stderr",
     "output_type": "stream",
     "text": [
      "c:\\Users\\hsayeed\\miniconda3\\envs\\rag_skeleton_seperate_project\\lib\\site-packages\\tqdm\\auto.py:21: TqdmWarning: IProgress not found. Please update jupyter and ipywidgets. See https://ipywidgets.readthedocs.io/en/stable/user_install.html\n",
      "  from .autonotebook import tqdm as notebook_tqdm\n"
     ]
    }
   ],
   "source": [
    "# test_rag_pipeline.ipynb\n",
    "# Import necessary modules\n",
    "from rag_skeleton.data_processing import DataProcessor\n",
    "from rag_skeleton.retrieval import DocumentRetriever\n",
    "from rag_skeleton.rag import RAGPipeline\n",
    "\n",
    "# Initialize paths and model names\n",
    "data_path = \"data/raw\"  # Path where your PDFs are stored\n",
    "vectordb_path = \"vectordb\"  # Path for vector database\n",
    "embedding_model_name = \"Alibaba-NLP/gte-large-en-v1.5\"\n",
    "model_name = \"meta-llama/Llama-3.2-3B-Instruct\""
   ]
  },
  {
   "cell_type": "markdown",
   "metadata": {},
   "source": [
    "# 2. Test Loading PDFs"
   ]
  },
  {
   "cell_type": "code",
   "execution_count": 2,
   "metadata": {},
   "outputs": [
    {
     "name": "stdout",
     "output_type": "stream",
     "text": [
      "Loaded 16 documents.\n",
      "Loaded Documents:\n",
      "Document 1:\n",
      "Content: A Comprehensive Overview of Materials Science \n",
      "1. Introduction to Materials Science \n",
      "Materials science is an interdisciplinary field that focuses on understanding and manipulating the \n",
      "properties, composition, and processing of materials to meet the needs of modern technology and \n",
      "innovation. It draws on principles from chemistry, physics, and engineering to explain how the \n",
      "atomic structure, microstructure, and composition of materials affect their macroscopic \n",
      "properties. From everyday items l\n",
      "Metadata: {'source': 'data/raw\\\\A Comprehensive Overview of Materials Science.pdf', 'file_path': 'data/raw\\\\A Comprehensive Overview of Materials Science.pdf', 'page': 0, 'total_pages': 5, 'format': 'PDF 1.7', 'title': '', 'author': 'Hasan Sayeed', 'subject': '', 'keywords': '', 'creator': 'Microsoft® Word LTSC', 'producer': 'Microsoft® Word LTSC', 'creationDate': \"D:20241110201707-07'00'\", 'modDate': \"D:20241110201707-07'00'\", 'trapped': '', 'name': 'A Comprehensive Overview of Materials Science', 'year': 2024}\n",
      "\n",
      "---\n",
      "\n",
      "Document 2:\n",
      "Content: Each class has unique advantages and limitations, making them suitable for specific industries \n",
      "and purposes. Materials scientists often combine or alter these classes to create novel materials \n",
      "that meet advanced engineering needs. \n",
      "3. Key Concepts in Materials Science \n",
      "The behavior and characteristics of materials are governed by several fundamental concepts: \n",
      "• \n",
      "Atomic Structure and Bonding: The arrangement of atoms within a material and the \n",
      "types of bonds (ionic, covalent, metallic) determi\n",
      "Metadata: {'source': 'data/raw\\\\A Comprehensive Overview of Materials Science.pdf', 'file_path': 'data/raw\\\\A Comprehensive Overview of Materials Science.pdf', 'page': 1, 'total_pages': 5, 'format': 'PDF 1.7', 'title': '', 'author': 'Hasan Sayeed', 'subject': '', 'keywords': '', 'creator': 'Microsoft® Word LTSC', 'producer': 'Microsoft® Word LTSC', 'creationDate': \"D:20241110201707-07'00'\", 'modDate': \"D:20241110201707-07'00'\", 'trapped': '', 'name': 'A Comprehensive Overview of Materials Science', 'year': 2024}\n",
      "\n",
      "---\n",
      "\n",
      "Document 3:\n",
      "Content: o Thermal Expansion: How much a material expands or contracts with temperature \n",
      "changes. \n",
      "• \n",
      "Optical Properties: These include transparency, reflectivity, and refractive index, which \n",
      "are important in applications such as lenses, screens, and solar cells. \n",
      "Understanding these properties helps engineers and scientists select appropriate materials based \n",
      "on the requirements of the end-use application. \n",
      "5. Material Processing Techniques \n",
      "Processing techniques are essential for shaping materials and\n",
      "Metadata: {'source': 'data/raw\\\\A Comprehensive Overview of Materials Science.pdf', 'file_path': 'data/raw\\\\A Comprehensive Overview of Materials Science.pdf', 'page': 2, 'total_pages': 5, 'format': 'PDF 1.7', 'title': '', 'author': 'Hasan Sayeed', 'subject': '', 'keywords': '', 'creator': 'Microsoft® Word LTSC', 'producer': 'Microsoft® Word LTSC', 'creationDate': \"D:20241110201707-07'00'\", 'modDate': \"D:20241110201707-07'00'\", 'trapped': '', 'name': 'A Comprehensive Overview of Materials Science', 'year': 2024}\n",
      "\n",
      "---\n",
      "\n"
     ]
    }
   ],
   "source": [
    "# Step 1: Load PDFs and inspect content\n",
    "processor = DataProcessor(data_path=data_path)\n",
    "documents = processor.load_documents(enrich_metadata=True)  # Enable metadata enrichment\n",
    "\n",
    "print(\"Loaded Documents:\")\n",
    "for i, doc in enumerate(documents[:3]):  # Display the first 3 documents for brevity\n",
    "    print(f\"Document {i+1}:\")\n",
    "    print(\"Content:\", doc.page_content[:500])  # Show the first 500 characters of the content\n",
    "    print(\"Metadata:\", doc.metadata)\n",
    "    print(\"\\n---\\n\")"
   ]
  },
  {
   "cell_type": "markdown",
   "metadata": {},
   "source": [
    "# 3. Test Retriever for Context Retrieval"
   ]
  },
  {
   "cell_type": "code",
   "execution_count": 3,
   "metadata": {},
   "outputs": [
    {
     "name": "stdout",
     "output_type": "stream",
     "text": [
      "Retrieved Context:\n",
      "Retrieved Document 1:\n",
      "Content: Environmental Impact and Sustainable \n",
      "Materials in Materials Science \n",
      "1. Introduction to Environmental Impact and Sustainable Materials \n",
      "The global demand for materials has grown significantly due to industrialization, population \n",
      "growth, and technological advancements. While materials are essential to modern society, their \n",
      "production and use often come with environmental costs, including resource depletion, energy \n",
      "consumption, pollution, and waste generation. Sustainable materials science see\n",
      "Metadata: {'author': 'Hasan Sayeed', 'creationDate': \"D:20241110202300-07'00'\", 'creator': 'Microsoft® Word LTSC', 'file_path': 'data/raw\\\\Environmental Impact and Sustainable Materials in Materials Science.pdf', 'format': 'PDF 1.7', 'keywords': '', 'modDate': \"D:20241110202300-07'00'\", 'page': 0, 'producer': 'Microsoft® Word LTSC', 'source': 'data/raw\\\\Environmental Impact and Sustainable Materials in Materials Science.pdf', 'subject': '', 'title': '', 'total_pages': 6, 'trapped': ''}\n",
      "\n",
      "---\n",
      "\n",
      "Retrieved Document 2:\n",
      "Content: have significant environmental consequences. Some key impacts include: \n",
      "• \n",
      "Resource Depletion: Extracting non-renewable resources, such as metals and fossil \n",
      "fuels, depletes the Earth's reserves. For example, mining metals like aluminum and \n",
      "copper requires extensive energy and resources and disrupts ecosystems. \n",
      "• \n",
      "Energy Consumption: Material production is energy-intensive. The manufacturing \n",
      "processes for metals, particularly steel and aluminum, require substantial energy, often \n",
      "derived from\n",
      "Metadata: {'author': 'Hasan Sayeed', 'creationDate': \"D:20241110202300-07'00'\", 'creator': 'Microsoft® Word LTSC', 'file_path': 'data/raw\\\\Environmental Impact and Sustainable Materials in Materials Science.pdf', 'format': 'PDF 1.7', 'keywords': '', 'modDate': \"D:20241110202300-07'00'\", 'page': 0, 'producer': 'Microsoft® Word LTSC', 'source': 'data/raw\\\\Environmental Impact and Sustainable Materials in Materials Science.pdf', 'subject': '', 'title': '', 'total_pages': 6, 'trapped': ''}\n",
      "\n",
      "---\n",
      "\n",
      "Retrieved Document 3:\n",
      "Content: Recognizing the impact of these traditional materials has led to a growing emphasis on \n",
      "sustainable alternatives that aim to mitigate resource depletion, reduce emissions, and minimize \n",
      "waste. \n",
      " \n",
      "3. Principles of Sustainable Materials \n",
      "Sustainable materials are developed and chosen based on criteria that consider their entire life \n",
      "cycle, from production to disposal. Key principles include: \n",
      "• \n",
      "Resource Efficiency: Using renewable or abundant resources instead of scarce or non-\n",
      "renewable materia\n",
      "Metadata: {'author': 'Hasan Sayeed', 'creationDate': \"D:20241110202300-07'00'\", 'creator': 'Microsoft® Word LTSC', 'file_path': 'data/raw\\\\Environmental Impact and Sustainable Materials in Materials Science.pdf', 'format': 'PDF 1.7', 'keywords': '', 'modDate': \"D:20241110202300-07'00'\", 'page': 1, 'producer': 'Microsoft® Word LTSC', 'source': 'data/raw\\\\Environmental Impact and Sustainable Materials in Materials Science.pdf', 'subject': '', 'title': '', 'total_pages': 6, 'trapped': ''}\n",
      "\n",
      "---\n",
      "\n"
     ]
    }
   ],
   "source": [
    "# Step 2: Retrieve context for a sample query\n",
    "retriever = DocumentRetriever(vectordb_path=vectordb_path, embedding_model_name=embedding_model_name)\n",
    "# retriever.index_documents(documents)  # Index the loaded documents\n",
    "\n",
    "# Define a sample question\n",
    "question = \"Can you explain the environmental impact of traditional materials, especially in terms of energy consumption and pollution?\"\n",
    "\n",
    "# Retrieve relevant documents\n",
    "retrieved_docs = retriever.get_retriever().invoke(question)\n",
    "\n",
    "print(\"Retrieved Context:\")\n",
    "for i, doc in enumerate(retrieved_docs[:3]):  # Display the first 3 retrieved documents\n",
    "    print(f\"Retrieved Document {i+1}:\")\n",
    "    print(\"Content:\", doc.page_content[:500])  # Show first 500 characters of the retrieved content\n",
    "    print(\"Metadata:\", doc.metadata)\n",
    "    print(\"\\n---\\n\")"
   ]
  },
  {
   "cell_type": "markdown",
   "metadata": {},
   "source": [
    "# 4. Test Prompt Generation with RAGPipeline"
   ]
  },
  {
   "cell_type": "code",
   "execution_count": 4,
   "metadata": {},
   "outputs": [
    {
     "name": "stderr",
     "output_type": "stream",
     "text": [
      "Loading checkpoint shards: 100%|██████████| 2/2 [00:13<00:00,  6.54s/it]\n"
     ]
    },
    {
     "name": "stdout",
     "output_type": "stream",
     "text": [
      "RAG Pipeline is ready for queries.\n",
      "Generated Prompt:\n",
      "\n",
      "        <|start_header_id|>system<|end_header_id|>\n",
      "        You are a knowledgeable assistant specializing in materials science. Answer each question directly and concisely, providing only the necessary information in a straightforward manner, using only the provided context and conversation history. Do NOT reference the question or instructions in the prompt.\n",
      "        If you lack sufficient information, respond with \"I do not know\". Don't fabricate answers.\n",
      "        <|eot_id|>\n",
      "        <|start_header_id|>user<|end_header_id|>\n",
      "        Question: Can you explain the environmental impact of traditional materials, especially in terms of energy consumption and pollution?\n",
      "        Context: Environmental Impact and Sustainable \n",
      "Materials in Materials Science \n",
      "1. Introduction to Environmental Impact and Sustainable Materials \n",
      "The global demand for materials has grown significantly due to industrialization, population \n",
      "growth, and technological advancements. While materials are essential to modern society, their \n",
      "production and use often come with environmental costs, including resource depletion, energy \n",
      "consumption, pollution, and waste generation. Sustainable materials science seeks to minimize \n",
      "these impacts by developing materials that are environmentally friendly and promoting practices \n",
      "that reduce the overall ecological footprint of material production, usage, and disposal. \n",
      "The concept of sustainability in materials science emphasizes the importance of responsible \n",
      "resource management, reduced emissions, recyclability, and biodegradability. This approach \n",
      "aims to create a \"circular economy,\" where resources are continually reused, and waste is \n",
      "minimized, benefiting both industry and the environment. This document explores the \n",
      "environmental impact of traditional materials, sustainable materials and their applications, and \n",
      "innovative approaches to mitigating environmental challenges. \n",
      " \n",
      "2. Environmental Impact of Traditional Materials \n",
      "The extraction, processing, and disposal of materials like metals, polymers, and ceramics can \n",
      "have significant environmental consequences. Some key impacts include: \n",
      "•<|eot_id|>\n",
      "        <|start_header_id|>assistant<|end_header_id|>\n",
      "        \n"
     ]
    }
   ],
   "source": [
    "# Step 3: Test prompt generation with RAGPipeline\n",
    "rag_pipeline = RAGPipeline(vectordb_path=vectordb_path, embedding_model_name=embedding_model_name, model_name=model_name)\n",
    "rag_pipeline.setup_pipeline()  # Initialize and set up the pipeline\n",
    "\n",
    "# Define the question, context, and initialize history for prompt formatting\n",
    "history = \"\"  # Start with an empty history or use some predefined history if available\n",
    "formatted_prompt = rag_pipeline.prompt.format(history=history, context=retrieved_docs[0].page_content, question=question)\n",
    "\n",
    "print(\"Generated Prompt:\")\n",
    "print(formatted_prompt)"
   ]
  },
  {
   "cell_type": "markdown",
   "metadata": {},
   "source": [
    "# 5. Full Pipeline Test: Get Response"
   ]
  },
  {
   "cell_type": "code",
   "execution_count": 5,
   "metadata": {},
   "outputs": [
    {
     "name": "stdout",
     "output_type": "stream",
     "text": [
      "Generated Response:\n",
      " The environmental impact of traditional materials is significant, resulting in resource depletion, energy consumption, pollution, and waste generation. Key impacts include:\n",
      "\n",
      "Resource Depletion: Extraction of non-renewable resources leads to depletion of Earth's reserves.\n",
      "\n",
      "Energy Consumption: Material production is energy-intensive, often derived from fossil fuels, increasing greenhouse gas emissions.\n",
      "\n",
      "Pollution and Emissions: Processing materials releases pollutants into the air, water, and soil, contributing to air pollution.\n",
      "\n",
      "Waste Generation: Industrial processes generate large amounts of waste, including hazardous waste from outdated devices and long-lasting pollution from conventional plastics.\n",
      "\n",
      "These traditional materials have led to a growing emphasis on sustainable alternatives that aim to mitigate resource depletion, reduce emissions, and minimize waste.\n",
      "\n",
      "For further reference, look at:\n",
      "- data/raw\\Environmental Impact and Sustainable Materials in Materials Science.pdf\n"
     ]
    }
   ],
   "source": [
    "# Step 4: Full pipeline test - Generate a response\n",
    "response = rag_pipeline.get_response(question)\n",
    "\n",
    "print(\"Generated Response:\")\n",
    "print(response)"
   ]
  },
  {
   "cell_type": "markdown",
   "metadata": {},
   "source": [
    "# Test multiple questions and prompt"
   ]
  },
  {
   "cell_type": "code",
   "execution_count": null,
   "metadata": {},
   "outputs": [],
   "source": [
    "from rag_skeleton.rag import RAGPipeline\n",
    "\n",
    "# Initialize the RAG pipeline\n",
    "vectordb_path = \"vectordb\"  # Replace with your vector database path\n",
    "model_name = \"meta-llama/Llama-3.2-3B-Instruct\"  # Replace with your model name\n",
    "rag_pipeline = RAGPipeline(vectordb_path=vectordb_path, model_name=model_name)\n",
    "rag_pipeline.setup_pipeline()\n",
    "\n",
    "# Define the questions you want to test with history\n",
    "questions = [\n",
    "    \"Can you explain the environmental impact of traditional materials, especially in terms of energy consumption and pollution?\",\n",
    "    \"Given the environmental concerns with traditional materials, what sustainable alternatives are commonly used to reduce this impact, and how do they compare in terms of recyclability and biodegradability?\",\n",
    "    \"Among the sustainable materials you mentioned, how does green concrete specifically contribute to reducing emissions, and what are some of its unique properties compared to traditional concrete?\",\n",
    "    \"How does the use of green concrete and other sustainable materials align with the principles of the circular economy, and what role does recycling play in this context?\"\n",
    "]\n",
    "\n",
    "# Preview the prompt that will be passed to the LLM for each question\n",
    "for i, question in enumerate(questions):\n",
    "    print(f\"Preview of Prompt for Question {i+1}:\")\n",
    "    prompt_text = rag_pipeline.preview_prompt(question)\n",
    "    print(prompt_text)\n",
    "    print(\"\\n\" + \"=\"*80 + \"\\n\")\n",
    "\n",
    "    # Optionally, invoke the response to update the history\n",
    "    response = rag_pipeline.get_response(question)\n"
   ]
  }
 ],
 "metadata": {
  "kernelspec": {
   "display_name": "rag_skeleton_seperate_project",
   "language": "python",
   "name": "python3"
  },
  "language_info": {
   "codemirror_mode": {
    "name": "ipython",
    "version": 3
   },
   "file_extension": ".py",
   "mimetype": "text/x-python",
   "name": "python",
   "nbconvert_exporter": "python",
   "pygments_lexer": "ipython3",
   "version": "3.10.15"
  }
 },
 "nbformat": 4,
 "nbformat_minor": 2
}
