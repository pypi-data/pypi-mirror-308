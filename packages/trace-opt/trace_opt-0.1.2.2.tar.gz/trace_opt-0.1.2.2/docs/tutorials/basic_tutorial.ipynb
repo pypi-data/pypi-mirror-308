{
    "cells": [
        {
            "cell_type": "markdown",
            "metadata": {},
            "source": [
                "# Basics\n",
                "\n",
                "## Node and MessageNode\n",
                "\n",
                "`trace` is a computational graph framework for tracing and optimizing codes. Its core data structure is the \"node\" container of python objects. To create a node, use `node` method, which creates a `Node` object. To access the content of a node, use the `data` attribute."
            ]
        },
        {
            "cell_type": "code",
            "execution_count": null,
            "outputs": [],
            "source": [
                "!pip install trace-opt"
            ],
            "metadata": {
                "collapsed": false
            }
        },
        {
            "cell_type": "code",
            "execution_count": 10,
            "metadata": {
                "ExecuteTime": {
                    "end_time": "2024-08-01T21:49:21.474982Z",
                    "start_time": "2024-08-01T21:49:21.469742Z"
                },
                "collapsed": false
            },
            "outputs": [],
            "source": [
                "from opto.trace import node, GRAPH\n",
                "\n",
                "def print_node(node):\n",
                "    print(node)\n",
                "    print(f\"parents: {[p.name for p in node.parents]}\")\n"
            ]
        },
        {
            "cell_type": "code",
            "execution_count": 2,
            "metadata": {
                "ExecuteTime": {
                    "end_time": "2024-08-01T21:41:21.651217Z",
                    "start_time": "2024-08-01T21:41:21.624547Z"
                }
            },
            "outputs": [
                {
                    "name": "stdout",
                    "output_type": "stream",
                    "text": [
                        "node of int 1\n",
                        "string\n",
                        "[1, 2, 3]\n",
                        "{'a': 1, 'b': 2}\n",
                        "<__main__.Foo object at 0x1062ad8d0>\n"
                    ]
                }
            ],
            "source": [
                "x = node(1)  # node of int\n",
                "print(\"node of int\", x.data)\n",
                "x = node(\"string\")  # node of str\n",
                "print(x.data)\n",
                "x = node([1, 2, 3])  # node of list\n",
                "print(x.data)\n",
                "x = node({\"a\": 1, \"b\": 2})  # node of dict\n",
                "print(x.data)\n",
                "\n",
                "\n",
                "class Foo:\n",
                "    def __init__(self, x):\n",
                "        self.x = x\n",
                "        self.secret = \"secret\"\n",
                "\n",
                "    def print(self, val):\n",
                "        print(val)\n",
                "\n",
                "\n",
                "x = node(Foo(\"foo\"))  # node of a class instance\n",
                "print(x.data)"
            ]
        },
        {
            "cell_type": "markdown",
            "metadata": {},
            "source": [
                "When a computation is performed using the contents of nodes, the result is also a node. This allows for the creation of a computation graph. The computation graph is a directed acyclic graph where the edges indicate the data dependencies.\n",
                "\n",
                "Nodes that are defined manually can be marked as trainable by setting their `trainable` attribute to True; such nodes are a subclass of Node called `ParameterNode`.\n",
                "Nodes that are created automatically as a result of computations are a different subclass of Node called `MessageNode`.\n",
                "\n",
                "Nodes can be copied. This can be done in two ways with `clone` or `detach`"
            ]
        },
        {
            "cell_type": "code",
            "execution_count": 2,
            "metadata": {},
            "outputs": [
                {
                    "name": "stdout",
                    "output_type": "stream",
                    "text": [
                        "<__main__.Foo object at 0x00000233CF901F40>\n"
                    ]
                }
            ],
            "source": [
                "# clone returns a MessageNode whose parent is the original node\n",
                "x_clone = x.clone()\n",
                "assert x in x_clone.parents\n",
                "assert x_clone.data != x.data\n",
                "assert x_clone.data.x == x.data.x\n",
                "print(x_clone.data)\n",
                "# detach returns a new Node which is not connected to the original node\n",
                "x_detach = x.detach()\n",
                "assert len(x_detach.parents) == 0\n",
                "assert x_detach.data != x.data\n",
                "assert x_detach.data.x == x.data.x"
            ]
        },
        {
            "cell_type": "markdown",
            "metadata": {},
            "source": [
                "`trace` overloads python's magic methods that gives return value explicitly (such as `__add__`), except logical operations such as `__bool__` and setters. (The comparison magic methods instead compare nodes according to the computation graph that will be explained later, rather than comparing the data.) \n",
                "\n",
                "When nodes are used with these magic methods, the output would be a `MessageNode`, which is a subclass of `Node` that has the inputs of the method as the parents. The attribute `description` of a `MessageNode` documents the method's function."
            ]
        },
        {
            "cell_type": "code",
            "execution_count": 3,
            "metadata": {},
            "outputs": [
                {
                    "name": "stdout",
                    "output_type": "stream",
                    "text": [
                        "MessageNode: (divide:0, dtype=<class 'float'>, data=0.3333333333333333)\n",
                        "MessageNode: (divide:0, dtype=<class 'float'>, data=0.3333333333333333)\n",
                        "parents: ['node_x:0', 'node_y:0']\n",
                        "\n",
                        "\n",
                        "MessageNode: (getitem:0, dtype=<class 'int'>, data=1)\n",
                        "parents: ['dict_node:0', 'str:1']\n",
                        "len(dict_node) = MessageNode: (len_:0, dtype=<class 'int'>, data=2)\n",
                        "\n",
                        "\n",
                        "Node: (str:3, dtype=<class 'str'>, data=hello world)\n",
                        "MessageNode: (node_getattr:1, dtype=<class 'str'>, data=secret)\n",
                        "parents: ['Foo:1', 'str:4']\n"
                    ]
                }
            ],
            "source": [
                "# Basic arithmetic operations\n",
                "x = node(1, name=\"node_x\")\n",
                "y = node(3, name=\"node_y\")\n",
                "z = x / y\n",
                "z2 = x / 3  # the int 3 would be converted to a node automatically\n",
                "print(z)\n",
                "print_node(z)\n",
                "print(\"\\n\")\n",
                "\n",
                "# Index a node\n",
                "dict_node = node({\"a\": 1, \"b\": 2}, name=\"dict_node\")\n",
                "a = dict_node[\"a\"]\n",
                "print_node(a)\n",
                "print(\"len(dict_node) =\", dict_node.len())\n",
                "\n",
                "print(\"\\n\")\n",
                "\n",
                "# Getting class attribute and calling class method\n",
                "x = node(Foo(\"foo\"))\n",
                "x.call(\"print\", \"hello world\")\n",
                "print_node(x.getattr(\"secret\"))"
            ]
        },
        {
            "cell_type": "markdown",
            "metadata": {},
            "source": [
                "## Operations on Nodes\n",
                "For equivalence relations between nodes, we follow the PyTorch convention. \n",
                "\n",
                "In order to work with Python's control flow statements like `if` and `while`, the result of the comparison (a boolean value) is not a node and therefore is not traced."
            ]
        },
        {
            "cell_type": "code",
            "execution_count": 22,
            "metadata": {
                "ExecuteTime": {
                    "end_time": "2024-08-01T23:22:27.324646Z",
                    "start_time": "2024-08-01T23:22:26.483003Z"
                }
            },
            "outputs": [
                {
                    "name": "stdout",
                    "output_type": "stream",
                    "text": [
                        "True\n",
                        "True\n",
                        "result is not a node, therefore, we cannot call backward() on it, but we can use `x.eq(1)` function to trace the comparison.\n"
                    ]
                },
                {
                    "data": {
                        "image/svg+xml": "<?xml version=\"1.0\" encoding=\"UTF-8\" standalone=\"no\"?>\n<!DOCTYPE svg PUBLIC \"-//W3C//DTD SVG 1.1//EN\"\n \"http://www.w3.org/Graphics/SVG/1.1/DTD/svg11.dtd\">\n<!-- Generated by graphviz version 12.0.0 (20240704.0754)\n -->\n<!-- Pages: 1 -->\n<svg width=\"334pt\" height=\"207pt\"\n viewBox=\"0.00 0.00 334.15 206.63\" xmlns=\"http://www.w3.org/2000/svg\" xmlns:xlink=\"http://www.w3.org/1999/xlink\">\n<g id=\"graph0\" class=\"graph\" transform=\"scale(1 1) rotate(0) translate(4 202.63)\">\n<polygon fill=\"white\" stroke=\"none\" points=\"-4,4 -4,-202.63 330.15,-202.63 330.15,4 -4,4\"/>\n<!-- list2 -->\n<g id=\"node1\" class=\"node\">\n<title>list2</title>\n<ellipse fill=\"#deebf6\" stroke=\"#5c9bd5\" stroke-width=\"1.2\" cx=\"77.07\" cy=\"-157.98\" rx=\"77.07\" ry=\"40.66\"/>\n<text text-anchor=\"middle\" x=\"77.07\" y=\"-169.43\" font-family=\"Times,serif\" font-size=\"14.00\">list2</text>\n<text text-anchor=\"middle\" x=\"77.07\" y=\"-152.93\" font-family=\"Times,serif\" font-size=\"14.00\">[Node] This is ...</text>\n<text text-anchor=\"middle\" x=\"77.07\" y=\"-136.43\" font-family=\"Times,serif\" font-size=\"14.00\">[1, 2, 3]</text>\n</g>\n<!-- eq3 -->\n<g id=\"node2\" class=\"node\">\n<title>eq3</title>\n<ellipse fill=\"#deebf6\" stroke=\"#5c9bd5\" stroke-width=\"1.2\" cx=\"163.07\" cy=\"-40.66\" rx=\"74.42\" ry=\"40.66\"/>\n<text text-anchor=\"middle\" x=\"163.07\" y=\"-52.11\" font-family=\"Times,serif\" font-size=\"14.00\">eq3</text>\n<text text-anchor=\"middle\" x=\"163.07\" y=\"-35.61\" font-family=\"Times,serif\" font-size=\"14.00\">[eq] This is an...</text>\n<text text-anchor=\"middle\" x=\"163.07\" y=\"-19.11\" font-family=\"Times,serif\" font-size=\"14.00\">False</text>\n</g>\n<!-- list2&#45;&gt;eq3 -->\n<g id=\"edge1\" class=\"edge\">\n<title>list2&#45;&gt;eq3</title>\n<path fill=\"none\" stroke=\"black\" d=\"M104.76,-119.85C112.35,-109.67 120.68,-98.5 128.61,-87.87\"/>\n<polygon fill=\"black\" stroke=\"black\" points=\"131.36,-90.03 134.54,-79.92 125.75,-85.85 131.36,-90.03\"/>\n</g>\n<!-- int27 -->\n<g id=\"node3\" class=\"node\">\n<title>int27</title>\n<ellipse fill=\"#deebf6\" stroke=\"#5c9bd5\" stroke-width=\"1.2\" cx=\"249.07\" cy=\"-157.98\" rx=\"77.07\" ry=\"40.66\"/>\n<text text-anchor=\"middle\" x=\"249.07\" y=\"-169.43\" font-family=\"Times,serif\" font-size=\"14.00\">int27</text>\n<text text-anchor=\"middle\" x=\"249.07\" y=\"-152.93\" font-family=\"Times,serif\" font-size=\"14.00\">[Node] This is ...</text>\n<text text-anchor=\"middle\" x=\"249.07\" y=\"-136.43\" font-family=\"Times,serif\" font-size=\"14.00\">1</text>\n</g>\n<!-- int27&#45;&gt;eq3 -->\n<g id=\"edge2\" class=\"edge\">\n<title>int27&#45;&gt;eq3</title>\n<path fill=\"none\" stroke=\"black\" d=\"M221.39,-119.85C213.79,-109.67 205.47,-98.5 197.54,-87.87\"/>\n<polygon fill=\"black\" stroke=\"black\" points=\"200.4,-85.85 191.61,-79.92 194.78,-90.03 200.4,-85.85\"/>\n</g>\n</g>\n</svg>\n",
                        "text/plain": "<graphviz.graphs.Digraph at 0x1064926b0>"
                    },
                    "execution_count": 22,
                    "metadata": {},
                    "output_type": "execute_result"
                }
            ],
            "source": [
                "x = node(True)\n",
                "if x:\n",
                "    print(\"True\")\n",
                "\n",
                "x = node([1, 2, 3])\n",
                "print(1 in x)\n",
                "\n",
                "result = 1 in x # result is not a node\n",
                "try:\n",
                "    result.backward()\n",
                "except:\n",
                "    print(\"result is not a node, therefore, we cannot call backward() on it, but we can use `x.eq(1)` function to trace the comparison.\")\n",
                "\n",
                "# In order to trace the comparison, we need to use `.eq` method\n",
                "result = x.eq(1)\n",
                "result.backward(visualize=True, print_limit=15)"
            ]
        },
        {
            "cell_type": "markdown",
            "metadata": {
                "collapsed": false
            },
            "source": [
                "If the two nodes contain the same value, they are considered equal when we use `in` operator. \n",
                "If you want to check if a node object is inside a list, use the `contain` function."
            ]
        },
        {
            "cell_type": "code",
            "execution_count": 15,
            "metadata": {
                "ExecuteTime": {
                    "end_time": "2024-08-01T22:55:43.983229Z",
                    "start_time": "2024-08-01T22:55:43.977436Z"
                },
                "collapsed": false
            },
            "outputs": [
                {
                    "name": "stdout",
                    "output_type": "stream",
                    "text": [
                        "x is in y True\n",
                        "x is not in y2 False\n",
                        "When we use `in` operator, x is in y True\n",
                        "When we use `in` operator, x is also in y2 True\n"
                    ]
                }
            ],
            "source": [
                "from opto.trace.utils import contain\n",
                "\n",
                "x = node(1)\n",
                "y = [x, node(2), node(3)]\n",
                "y2 = [node(1), node(2), node(3)]\n",
                "\n",
                "print(\"x is in y\", contain(y, x))\n",
                "print(\"x is not in y2\", contain(y2, x))\n",
                "\n",
                "# x is in y and y2 if we use `in` operator\n",
                "print(\"When we use `in` operator, x is in y\", x in y)\n",
                "print(\"When we use `in` operator, x is also in y2\", x in y2)"
            ]
        },
        {
            "cell_type": "markdown",
            "metadata": {
                "collapsed": false
            },
            "source": [
                "```{warning}\n",
                "When using a node with a logical operator like `and`, `or`, `not`, the output does not always have the same behavior -- since the result is dependent on how Python evvaluates the expression.\n",
                "``` "
            ]
        },
        {
            "cell_type": "code",
            "execution_count": 21,
            "metadata": {
                "ExecuteTime": {
                    "end_time": "2024-08-01T23:15:44.011634Z",
                    "start_time": "2024-08-01T23:15:44.004190Z"
                },
                "collapsed": false,
                "editable": true,
                "slideshow": {
                    "slide_type": ""
                },
                "tags": [
                    "hide-cell"
                ]
            },
            "outputs": [
                {
                    "name": "stdout",
                    "output_type": "stream",
                    "text": [
                        "True and x: Node: (bool:18, dtype=<class 'bool'>, data=True)\n",
                        "x and True: True\n",
                        "node(True) and x: Node: (bool:18, dtype=<class 'bool'>, data=True)\n",
                        "x and node(True): Node: (bool:20, dtype=<class 'bool'>, data=True)\n",
                        "\n",
                        "\n",
                        "False and x: False\n",
                        "x and False: False\n",
                        "node(False) and x: Node: (bool:21, dtype=<class 'bool'>, data=False)\n",
                        "x and node(False): Node: (bool:22, dtype=<class 'bool'>, data=False)\n",
                        "\n",
                        "\n",
                        "True and x: Node: (bool:23, dtype=<class 'bool'>, data=False)\n",
                        "x and True: Node: (bool:23, dtype=<class 'bool'>, data=False)\n",
                        "node(True) and x: Node: (bool:23, dtype=<class 'bool'>, data=False)\n",
                        "x and node(True): Node: (bool:23, dtype=<class 'bool'>, data=False)\n",
                        "\n",
                        "\n",
                        "False and x: False\n",
                        "x and False: Node: (bool:23, dtype=<class 'bool'>, data=False)\n",
                        "node(False) and x: Node: (bool:25, dtype=<class 'bool'>, data=False)\n",
                        "x and node(False): Node: (bool:23, dtype=<class 'bool'>, data=False)\n"
                    ]
                }
            ],
            "source": [
                "x = node(True)\n",
                "\n",
                "y = True and x  # Node\n",
                "print(\"True and x:\", y)\n",
                "y = x and True  # True\n",
                "print(\"x and True:\", y)\n",
                "y = node(True) and x  # Node\n",
                "print(\"node(True) and x:\", y)\n",
                "y = x and node(True)  # Node\n",
                "print(\"x and node(True):\", y)\n",
                "\n",
                "print('\\n')\n",
                "\n",
                "y = False and x  # False\n",
                "print(\"False and x:\", y)\n",
                "y = x and False  # False\n",
                "print(\"x and False:\", y)\n",
                "y = node(False) and x  # Node\n",
                "print(\"node(False) and x:\", y)\n",
                "y = x and node(False)  # Node\n",
                "print(\"x and node(False):\", y)\n",
                "\n",
                "print('\\n')\n",
                "\n",
                "x = node(False)\n",
                "\n",
                "y = True and x  # Node\n",
                "print(\"True and x:\", y)\n",
                "y = x and True  # Node\n",
                "print(\"x and True:\", y)\n",
                "y = node(True) and x  # Node\n",
                "print(\"node(True) and x:\", y)\n",
                "y = x and node(True)  # Node\n",
                "print(\"x and node(True):\", y)\n",
                "\n",
                "print('\\n')\n",
                "\n",
                "y = False and x  # False\n",
                "print(\"False and x:\", y)\n",
                "y = x and False  # Node\n",
                "print(\"x and False:\", y)\n",
                "y = node(False) and x  # Node\n",
                "print(\"node(False) and x:\", y)\n",
                "y = x and node(False)  # Node\n",
                "print(\"x and node(False):\", y)"
            ]
        },
        {
            "cell_type": "markdown",
            "metadata": {},
            "source": [
                "Nodes can be used to encapsulate any python object, including functions. Here are a few examples."
            ]
        },
        {
            "cell_type": "code",
            "execution_count": 5,
            "metadata": {},
            "outputs": [
                {
                    "name": "stdout",
                    "output_type": "stream",
                    "text": [
                        "output: MessageNode: (call:1, dtype=<class 'int'>, data=2)\n",
                        "parents [('function:0', <function fun at 0x00000233CF64AC10>), ('int:3', 1)]\n",
                        "\n",
                        "\n",
                        "\n",
                        "The attribute of the wrapped object cannot be directly accessed. Instead use getattr() or call()\n",
                        "foo_node: MessageNode: (node_getattr:2, dtype=<class 'int'>, data=1)\n",
                        "parents [('Foo:2', <__main__.Foo object at 0x00000233CF730FA0>), ('str:5', 'node')]\n",
                        "non_node: MessageNode: (node_getattr:3, dtype=<class 'int'>, data=2)\n",
                        "parents [('Foo:2', <__main__.Foo object at 0x00000233CF730FA0>), ('str:6', 'non_node')]\n",
                        "output: MessageNode: (call:2, dtype=<class 'int'>, data=4)\n",
                        "parents [('node_getattr:4', <bound method Foo.non_trace_fun of <__main__.Foo object at 0x00000233CF730FA0>>)]\n",
                        "output: MessageNode: (call:4, dtype=<class 'int'>, data=4)\n",
                        "parents [('node_getattr:6', <bound method Foo.non_trace_fun of <__main__.Foo object at 0x00000233CF730FA0>>)]\n"
                    ]
                }
            ],
            "source": [
                "def fun(x):\n",
                "    return x + 1\n",
                "\n",
                "\n",
                "fun_node = node(fun)\n",
                "y = fun_node(node(1))\n",
                "print(f\"output: {y}\\nparents {[(p.name, p.data) for p in y.parents]}\")\n",
                "print(\"\\n\\n\")\n",
                "\n",
                "\n",
                "class Foo:\n",
                "\n",
                "    def __init__(self):\n",
                "        self.node = node(1)\n",
                "        self.non_node = 2\n",
                "\n",
                "    def trace_fun(self):\n",
                "        return self.node * 2\n",
                "\n",
                "    def non_trace_fun(self):\n",
                "        return self.non_node * 2\n",
                "\n",
                "\n",
                "foo = node(Foo())\n",
                "\n",
                "try:\n",
                "    foo.node\n",
                "    foo.trace_fun()\n",
                "except AttributeError:\n",
                "    print(\"The attribute of the wrapped object cannot be directly accessed. Instead use getattr() or call()\")\n",
                "\n",
                "\n",
                "attr = foo.getattr(\"node\")\n",
                "print(f\"foo_node: {attr}\\nparents {[(p.name, p.data) for p in attr.parents]}\")\n",
                "\n",
                "\n",
                "attr = foo.getattr(\"non_node\")\n",
                "print(f\"non_node: {attr}\\nparents {[(p.name, p.data) for p in attr.parents]}\")\n",
                "\n",
                "\n",
                "fun = foo.getattr(\"non_trace_fun\")\n",
                "y = fun()\n",
                "print(f\"output: {y}\\nparents {[(p.name, p.data) for p in y.parents]}\")\n",
                "\n",
                "try:\n",
                "    fun = foo.getattr(\"trace_fun\")\n",
                "    y = fun()\n",
                "except AssertionError as e:\n",
                "    print(e)\n",
                "\n",
                "y = foo.call(\"non_trace_fun\")\n",
                "print(f\"output: {y}\\nparents {[(p.name, p.data) for p in y.parents]}\")\n",
                "\n",
                "try:\n",
                "    y = foo.call(\"trace_fun\")\n",
                "except AssertionError as e:\n",
                "    print(e)"
            ]
        },
        {
            "cell_type": "markdown",
            "metadata": {},
            "source": [
                "## Use Bundle to Writing Custom Node Operators\n",
                "\n",
                "In addition to magic methods, we can use `bundle` to write custom methods that are traceable. When decorating a method with `bundle`, it needs a description of the method. It has a format of `[method_name] description`. `bundle` will automatically add all nodes whose `data` attribute is used within the function as the parents of the output `MessageNode`.\n",
                "\n",
                "Given a function `fun`, the decorated function by default will unpack all the inputs (i.e. it unpacks all the data inside nodes), send them to `fun`, and then creates a `MessageNode` to wrap the output of `fun` which has parents containing all the nodes used in this operation. "
            ]
        },
        {
            "cell_type": "code",
            "execution_count": 6,
            "metadata": {},
            "outputs": [
                {
                    "name": "stdout",
                    "output_type": "stream",
                    "text": [
                        "MessageNode: (add:0, dtype=<class 'int'>, data=2)\n",
                        "parents: ['node_x:0']\n",
                        "\n",
                        "\n",
                        "MessageNode: (add:1, dtype=<class 'int'>, data=3)\n",
                        "parents: ['node_x:1', 'node_y:0']\n",
                        "\n",
                        "\n",
                        "MessageNode: (pass_through:0, dtype=<class 'tuple'>, data=(1, 2))\n"
                    ]
                }
            ],
            "source": [
                "from opto.trace import bundle, GRAPH\n",
                "from opto.trace.nodes import Node\n",
                "\n",
                "GRAPH.clear()\n",
                "\n",
                "@bundle()\n",
                "def add(x):\n",
                "    \"\"\"\n",
                "    Add 1 to input x\n",
                "    \"\"\"\n",
                "    return x + 1\n",
                "\n",
                "\n",
                "x = node(1, name=\"node_x\")\n",
                "z = add(x)\n",
                "print_node(z)\n",
                "print(\"\\n\")\n",
                "\n",
                "\n",
                "@bundle()\n",
                "def add(x, y):\n",
                "    \"\"\"\n",
                "    Add input x and input y\n",
                "    \"\"\"\n",
                "    return x + y\n",
                "\n",
                "\n",
                "x = node(1, name=\"node_x\")\n",
                "y = node(2, name=\"node_y\")\n",
                "z = add(x, y)\n",
                "print_node(z)\n",
                "print(\"\\n\")\n",
                "\n",
                "# The output is a node of a tuple of two nodes\n",
                "\n",
                "\n",
                "@bundle()\n",
                "def pass_through(x, y):\n",
                "    \"\"\"\n",
                "    No operation, just return inputs\n",
                "    \"\"\"\n",
                "    return x, y\n",
                "\n",
                "\n",
                "x = node(1, name=\"node_x\")\n",
                "y = node(2, name=\"node_y\")\n",
                "z = pass_through(x, y)\n",
                "print(z)\n",
                "\n",
                "assert isinstance(z, Node)\n",
                "assert isinstance(z.data, tuple)\n",
                "assert len(z.data) == 2\n",
                "print(\"\\n\")"
            ]
        },
        {
            "cell_type": "markdown",
            "metadata": {},
            "source": [
                "## Visualize Graph\n",
                "\n",
                "The graph of nodes can be visualized by calling `backward` method of a node. (Later we will cover how `backward` also sends feedback across the graph). "
            ]
        },
        {
            "cell_type": "code",
            "execution_count": 7,
            "metadata": {},
            "outputs": [
                {
                    "data": {
                        "image/svg+xml": [
                            "<?xml version=\"1.0\" encoding=\"UTF-8\" standalone=\"no\"?>\n",
                            "<!DOCTYPE svg PUBLIC \"-//W3C//DTD SVG 1.1//EN\"\n",
                            " \"http://www.w3.org/Graphics/SVG/1.1/DTD/svg11.dtd\">\n",
                            "<!-- Generated by graphviz version 2.50.0 (0)\n",
                            " -->\n",
                            "<!-- Pages: 1 -->\n",
                            "<svg width=\"1223pt\" height=\"305pt\"\n",
                            " viewBox=\"0.00 0.00 1223.15 304.86\" xmlns=\"http://www.w3.org/2000/svg\" xmlns:xlink=\"http://www.w3.org/1999/xlink\">\n",
                            "<g id=\"graph0\" class=\"graph\" transform=\"scale(1 1) rotate(0) translate(4 300.86)\">\n",
                            "<polygon fill=\"white\" stroke=\"transparent\" points=\"-4,4 -4,-300.86 1219.15,-300.86 1219.15,4 -4,4\"/>\n",
                            "<!-- add0 -->\n",
                            "<g id=\"node1\" class=\"node\">\n",
                            "<title>add0</title>\n",
                            "<ellipse fill=\"#deebf6\" stroke=\"#5c9bd5\" stroke-width=\"1.2\" cx=\"426.58\" cy=\"-148.43\" rx=\"171.65\" ry=\"37.45\"/>\n",
                            "<text text-anchor=\"middle\" x=\"426.58\" y=\"-159.73\" font-family=\"Times New Roman,serif\" font-size=\"14.00\">add0</text>\n",
                            "<text text-anchor=\"middle\" x=\"426.58\" y=\"-144.73\" font-family=\"Times New Roman,serif\" font-size=\"14.00\">[add] This is an add operator of x and y. .</text>\n",
                            "<text text-anchor=\"middle\" x=\"426.58\" y=\"-129.73\" font-family=\"Times New Roman,serif\" font-size=\"14.00\">3</text>\n",
                            "</g>\n",
                            "<!-- add2 -->\n",
                            "<g id=\"node2\" class=\"node\">\n",
                            "<title>add2</title>\n",
                            "<ellipse fill=\"#deebf6\" stroke=\"#5c9bd5\" stroke-width=\"1.2\" cx=\"607.58\" cy=\"-37.48\" rx=\"171.65\" ry=\"37.45\"/>\n",
                            "<text text-anchor=\"middle\" x=\"607.58\" y=\"-48.78\" font-family=\"Times New Roman,serif\" font-size=\"14.00\">add2</text>\n",
                            "<text text-anchor=\"middle\" x=\"607.58\" y=\"-33.78\" font-family=\"Times New Roman,serif\" font-size=\"14.00\">[add] This is an add operator of x and y. .</text>\n",
                            "<text text-anchor=\"middle\" x=\"607.58\" y=\"-18.78\" font-family=\"Times New Roman,serif\" font-size=\"14.00\">5</text>\n",
                            "</g>\n",
                            "<!-- add0&#45;&gt;add2 -->\n",
                            "<g id=\"edge1\" class=\"edge\">\n",
                            "<title>add0&#45;&gt;add2</title>\n",
                            "<path fill=\"none\" stroke=\"black\" d=\"M483.85,-112.96C502.26,-101.87 522.8,-89.51 541.77,-78.09\"/>\n",
                            "<polygon fill=\"black\" stroke=\"black\" points=\"543.61,-81.07 550.37,-72.91 540,-75.07 543.61,-81.07\"/>\n",
                            "</g>\n",
                            "<!-- add1 -->\n",
                            "<g id=\"node3\" class=\"node\">\n",
                            "<title>add1</title>\n",
                            "<ellipse fill=\"#deebf6\" stroke=\"#5c9bd5\" stroke-width=\"1.2\" cx=\"788.58\" cy=\"-148.43\" rx=\"171.65\" ry=\"37.45\"/>\n",
                            "<text text-anchor=\"middle\" x=\"788.58\" y=\"-159.73\" font-family=\"Times New Roman,serif\" font-size=\"14.00\">add1</text>\n",
                            "<text text-anchor=\"middle\" x=\"788.58\" y=\"-144.73\" font-family=\"Times New Roman,serif\" font-size=\"14.00\">[add] This is an add operator of x and y. .</text>\n",
                            "<text text-anchor=\"middle\" x=\"788.58\" y=\"-129.73\" font-family=\"Times New Roman,serif\" font-size=\"14.00\">2</text>\n",
                            "</g>\n",
                            "<!-- add1&#45;&gt;add2 -->\n",
                            "<g id=\"edge2\" class=\"edge\">\n",
                            "<title>add1&#45;&gt;add2</title>\n",
                            "<path fill=\"none\" stroke=\"black\" d=\"M731.31,-112.96C712.89,-101.87 692.35,-89.51 673.38,-78.09\"/>\n",
                            "<polygon fill=\"black\" stroke=\"black\" points=\"675.16,-75.07 664.78,-72.91 671.55,-81.07 675.16,-75.07\"/>\n",
                            "</g>\n",
                            "<!-- node_x0 -->\n",
                            "<g id=\"node4\" class=\"node\">\n",
                            "<title>node_x0</title>\n",
                            "<ellipse fill=\"#deebf6\" stroke=\"#5c9bd5\" stroke-width=\"1.2\" cx=\"607.58\" cy=\"-259.38\" rx=\"196.65\" ry=\"37.45\"/>\n",
                            "<text text-anchor=\"middle\" x=\"607.58\" y=\"-270.68\" font-family=\"Times New Roman,serif\" font-size=\"14.00\">node_x0</text>\n",
                            "<text text-anchor=\"middle\" x=\"607.58\" y=\"-255.68\" font-family=\"Times New Roman,serif\" font-size=\"14.00\">[Node] This is a node in a computational graph.</text>\n",
                            "<text text-anchor=\"middle\" x=\"607.58\" y=\"-240.68\" font-family=\"Times New Roman,serif\" font-size=\"14.00\">1</text>\n",
                            "</g>\n",
                            "<!-- node_x0&#45;&gt;add0 -->\n",
                            "<g id=\"edge5\" class=\"edge\">\n",
                            "<title>node_x0&#45;&gt;add0</title>\n",
                            "<path fill=\"none\" stroke=\"black\" d=\"M549.31,-223.31C531.2,-212.41 511.11,-200.31 492.51,-189.12\"/>\n",
                            "<polygon fill=\"black\" stroke=\"black\" points=\"494.18,-186.04 483.8,-183.88 490.57,-192.03 494.18,-186.04\"/>\n",
                            "</g>\n",
                            "<!-- node_x0&#45;&gt;add1 -->\n",
                            "<g id=\"edge3\" class=\"edge\">\n",
                            "<title>node_x0&#45;&gt;add1</title>\n",
                            "<path fill=\"none\" stroke=\"black\" d=\"M665.84,-223.31C683.95,-212.41 704.04,-200.31 722.64,-189.12\"/>\n",
                            "<polygon fill=\"black\" stroke=\"black\" points=\"724.58,-192.03 731.35,-183.88 720.97,-186.04 724.58,-192.03\"/>\n",
                            "</g>\n",
                            "<!-- int0 -->\n",
                            "<g id=\"node5\" class=\"node\">\n",
                            "<title>int0</title>\n",
                            "<ellipse fill=\"#deebf6\" stroke=\"#5c9bd5\" stroke-width=\"1.2\" cx=\"1018.58\" cy=\"-259.38\" rx=\"196.65\" ry=\"37.45\"/>\n",
                            "<text text-anchor=\"middle\" x=\"1018.58\" y=\"-270.68\" font-family=\"Times New Roman,serif\" font-size=\"14.00\">int0</text>\n",
                            "<text text-anchor=\"middle\" x=\"1018.58\" y=\"-255.68\" font-family=\"Times New Roman,serif\" font-size=\"14.00\">[Node] This is a node in a computational graph.</text>\n",
                            "<text text-anchor=\"middle\" x=\"1018.58\" y=\"-240.68\" font-family=\"Times New Roman,serif\" font-size=\"14.00\">1</text>\n",
                            "</g>\n",
                            "<!-- int0&#45;&gt;add1 -->\n",
                            "<g id=\"edge4\" class=\"edge\">\n",
                            "<title>int0&#45;&gt;add1</title>\n",
                            "<path fill=\"none\" stroke=\"black\" d=\"M946.75,-224.36C921.86,-212.57 893.82,-199.29 868.33,-187.21\"/>\n",
                            "<polygon fill=\"black\" stroke=\"black\" points=\"869.61,-183.94 859.07,-182.82 866.61,-190.27 869.61,-183.94\"/>\n",
                            "</g>\n",
                            "<!-- node_y0 -->\n",
                            "<g id=\"node6\" class=\"node\">\n",
                            "<title>node_y0</title>\n",
                            "<ellipse fill=\"#deebf6\" stroke=\"#5c9bd5\" stroke-width=\"1.2\" cx=\"196.58\" cy=\"-259.38\" rx=\"196.65\" ry=\"37.45\"/>\n",
                            "<text text-anchor=\"middle\" x=\"196.58\" y=\"-270.68\" font-family=\"Times New Roman,serif\" font-size=\"14.00\">node_y0</text>\n",
                            "<text text-anchor=\"middle\" x=\"196.58\" y=\"-255.68\" font-family=\"Times New Roman,serif\" font-size=\"14.00\">[Node] This is a node in a computational graph.</text>\n",
                            "<text text-anchor=\"middle\" x=\"196.58\" y=\"-240.68\" font-family=\"Times New Roman,serif\" font-size=\"14.00\">2</text>\n",
                            "</g>\n",
                            "<!-- node_y0&#45;&gt;add0 -->\n",
                            "<g id=\"edge6\" class=\"edge\">\n",
                            "<title>node_y0&#45;&gt;add0</title>\n",
                            "<path fill=\"none\" stroke=\"black\" d=\"M268.4,-224.36C293.29,-212.57 321.33,-199.29 346.82,-187.21\"/>\n",
                            "<polygon fill=\"black\" stroke=\"black\" points=\"348.54,-190.27 356.08,-182.82 345.55,-183.94 348.54,-190.27\"/>\n",
                            "</g>\n",
                            "</g>\n",
                            "</svg>\n"
                        ],
                        "text/plain": [
                            "<graphviz.graphs.Digraph at 0x233cf92b400>"
                        ]
                    },
                    "execution_count": 7,
                    "metadata": {},
                    "output_type": "execute_result"
                }
            ],
            "source": [
                "from opto.trace.nodes import GRAPH\n",
                "\n",
                "GRAPH.clear()  # to remove all the nodes\n",
                "x = node(1, name=\"node_x\")\n",
                "y = node(2, name=\"node_y\")\n",
                "a = x + y\n",
                "b = x + 1\n",
                "final = a + b\n",
                "final.backward(visualize=True)"
            ]
        },
        {
            "cell_type": "code",
            "execution_count": 8,
            "metadata": {},
            "outputs": [
                {
                    "name": "stdout",
                    "output_type": "stream",
                    "text": [
                        "Node: (bool:0, dtype=<class 'bool'>, data=True) Node: (int:0, dtype=<class 'int'>, data=1) Node: (int:1, dtype=<class 'int'>, data=0)\n"
                    ]
                },
                {
                    "data": {
                        "image/svg+xml": [
                            "<?xml version=\"1.0\" encoding=\"UTF-8\" standalone=\"no\"?>\n",
                            "<!DOCTYPE svg PUBLIC \"-//W3C//DTD SVG 1.1//EN\"\n",
                            " \"http://www.w3.org/Graphics/SVG/1.1/DTD/svg11.dtd\">\n",
                            "<!-- Generated by graphviz version 2.50.0 (0)\n",
                            " -->\n",
                            "<!-- Pages: 1 -->\n",
                            "<svg width=\"401pt\" height=\"83pt\"\n",
                            " viewBox=\"0.00 0.00 401.15 82.95\" xmlns=\"http://www.w3.org/2000/svg\" xmlns:xlink=\"http://www.w3.org/1999/xlink\">\n",
                            "<g id=\"graph0\" class=\"graph\" transform=\"scale(1 1) rotate(0) translate(4 78.95)\">\n",
                            "<polygon fill=\"white\" stroke=\"transparent\" points=\"-4,4 -4,-78.95 397.15,-78.95 397.15,4 -4,4\"/>\n",
                            "<!-- int0 -->\n",
                            "<g id=\"node1\" class=\"node\">\n",
                            "<title>int0</title>\n",
                            "<ellipse fill=\"#deebf6\" stroke=\"#5c9bd5\" stroke-width=\"1.2\" cx=\"196.58\" cy=\"-37.48\" rx=\"196.65\" ry=\"37.45\"/>\n",
                            "<text text-anchor=\"middle\" x=\"196.58\" y=\"-48.78\" font-family=\"Times New Roman,serif\" font-size=\"14.00\">int0</text>\n",
                            "<text text-anchor=\"middle\" x=\"196.58\" y=\"-33.78\" font-family=\"Times New Roman,serif\" font-size=\"14.00\">[Node] This is a node in a computational graph.</text>\n",
                            "<text text-anchor=\"middle\" x=\"196.58\" y=\"-18.78\" font-family=\"Times New Roman,serif\" font-size=\"14.00\">1</text>\n",
                            "</g>\n",
                            "</g>\n",
                            "</svg>\n"
                        ],
                        "text/plain": [
                            "<graphviz.graphs.Digraph at 0x233cf913940>"
                        ]
                    },
                    "execution_count": 8,
                    "metadata": {},
                    "output_type": "execute_result"
                }
            ],
            "source": [
                "GRAPH.clear()\n",
                "x = node(True)\n",
                "one = node(1)\n",
                "zero = node(0)\n",
                "print(x, one, zero)\n",
                "# Logical operations are not traceable\n",
                "y = one if x.data else zero\n",
                "y.backward(visualize=True)"
            ]
        },
        {
            "cell_type": "code",
            "execution_count": 9,
            "metadata": {},
            "outputs": [
                {
                    "data": {
                        "image/svg+xml": [
                            "<?xml version=\"1.0\" encoding=\"UTF-8\" standalone=\"no\"?>\n",
                            "<!DOCTYPE svg PUBLIC \"-//W3C//DTD SVG 1.1//EN\"\n",
                            " \"http://www.w3.org/Graphics/SVG/1.1/DTD/svg11.dtd\">\n",
                            "<!-- Generated by graphviz version 2.50.0 (0)\n",
                            " -->\n",
                            "<!-- Pages: 1 -->\n",
                            "<svg width=\"473pt\" height=\"194pt\"\n",
                            " viewBox=\"0.00 0.00 473.28 193.91\" xmlns=\"http://www.w3.org/2000/svg\" xmlns:xlink=\"http://www.w3.org/1999/xlink\">\n",
                            "<g id=\"graph0\" class=\"graph\" transform=\"scale(1 1) rotate(0) translate(4 189.91)\">\n",
                            "<polygon fill=\"white\" stroke=\"transparent\" points=\"-4,4 -4,-189.91 469.28,-189.91 469.28,4 -4,4\"/>\n",
                            "<!-- bool0 -->\n",
                            "<g id=\"node1\" class=\"node\">\n",
                            "<title>bool0</title>\n",
                            "<ellipse fill=\"#deebf6\" stroke=\"#5c9bd5\" stroke-width=\"1.2\" cx=\"232.64\" cy=\"-148.43\" rx=\"196.65\" ry=\"37.45\"/>\n",
                            "<text text-anchor=\"middle\" x=\"232.64\" y=\"-159.73\" font-family=\"Times New Roman,serif\" font-size=\"14.00\">bool0</text>\n",
                            "<text text-anchor=\"middle\" x=\"232.64\" y=\"-144.73\" font-family=\"Times New Roman,serif\" font-size=\"14.00\">[Node] This is a node in a computational graph.</text>\n",
                            "<text text-anchor=\"middle\" x=\"232.64\" y=\"-129.73\" font-family=\"Times New Roman,serif\" font-size=\"14.00\">True</text>\n",
                            "</g>\n",
                            "<!-- fun0 -->\n",
                            "<g id=\"node2\" class=\"node\">\n",
                            "<title>fun0</title>\n",
                            "<ellipse fill=\"#deebf6\" stroke=\"#5c9bd5\" stroke-width=\"1.2\" cx=\"232.64\" cy=\"-37.48\" rx=\"232.78\" ry=\"37.45\"/>\n",
                            "<text text-anchor=\"middle\" x=\"232.64\" y=\"-48.78\" font-family=\"Times New Roman,serif\" font-size=\"14.00\">fun0</text>\n",
                            "<text text-anchor=\"middle\" x=\"232.64\" y=\"-33.78\" font-family=\"Times New Roman,serif\" font-size=\"14.00\">[fun] Return one if input x is True, otherwise return zero.</text>\n",
                            "<text text-anchor=\"middle\" x=\"232.64\" y=\"-18.78\" font-family=\"Times New Roman,serif\" font-size=\"14.00\">1</text>\n",
                            "</g>\n",
                            "<!-- bool0&#45;&gt;fun0 -->\n",
                            "<g id=\"edge1\" class=\"edge\">\n",
                            "<title>bool0&#45;&gt;fun0</title>\n",
                            "<path fill=\"none\" stroke=\"black\" d=\"M232.64,-110.85C232.64,-102.67 232.64,-93.89 232.64,-85.37\"/>\n",
                            "<polygon fill=\"black\" stroke=\"black\" points=\"236.14,-85.15 232.64,-75.15 229.14,-85.15 236.14,-85.15\"/>\n",
                            "</g>\n",
                            "</g>\n",
                            "</svg>\n"
                        ],
                        "text/plain": [
                            "<graphviz.graphs.Digraph at 0x233cf916400>"
                        ]
                    },
                    "execution_count": 9,
                    "metadata": {},
                    "output_type": "execute_result"
                }
            ],
            "source": [
                "# This is traceable\n",
                "@bundle(allow_external_dependencies=True)\n",
                "def fun(x):\n",
                "    \"\"\"\n",
                "    Return one if input x is True, otherwise return zero\n",
                "    \"\"\"\n",
                "    return one.data if x else zero.data\n",
                "\n",
                "\n",
                "y = fun(x)\n",
                "y.backward(visualize=True)"
            ]
        },
        {
            "cell_type": "markdown",
            "metadata": {},
            "source": [
                "## Broadcasting\n",
                "Using `apply_op`, we can broadcast node operators to a container of nodes. A container of nodes are either `list`, `tuple`, `dict`, or subclass of an abstract class `BaseModule`. `apply_op` recursively applies the operator to all nodes in the container. "
            ]
        },
        {
            "cell_type": "code",
            "execution_count": 10,
            "metadata": {},
            "outputs": [
                {
                    "name": "stdout",
                    "output_type": "stream",
                    "text": [
                        "x [1, 2, 1]\n",
                        "y [3, 4, 2]\n",
                        "Elements in z should be added, except for the last one. Value:  [4, 6, 1]\n",
                        "1+3=4\n",
                        "0==0==0\n",
                        "x_plus_y.x should be added. Value:  xy\n",
                        "x_plus_y.y should be added. Value:  [2, 4]\n",
                        "x_plus_y.z should be not added, just 1. Value:  1\n"
                    ]
                }
            ],
            "source": [
                "from opto.trace import apply_op, node, NodeContainer\n",
                "from opto.trace import operators as ops\n",
                "\n",
                "import copy\n",
                "\n",
                "# Using list as a node container\n",
                "x = [node(1), node(2), 1]\n",
                "y = [node(3), node(4), 2]\n",
                "z = copy.deepcopy(x)\n",
                "z = apply_op(ops.add, z, x, y)\n",
                "print(\"x\", [x[0].data, x[1].data, x[2]])\n",
                "print(\"y\", [y[0].data, y[1].data, y[2]])\n",
                "print(\"Elements in z should be added, except for the last one. Value: \", [z[0].data, z[1].data, z[2]])\n",
                "\n",
                "\n",
                "# Using list as a node container\n",
                "x = dict(a=node(1), b=0)\n",
                "y = dict(a=node(3), b=0)\n",
                "z = copy.deepcopy(x)\n",
                "z = apply_op(ops.add, z, x, y)\n",
                "print(f\"{x['a'].data}+{y['a'].data}={z['a'].data}\")\n",
                "print(f\"{x['b']}=={y['b']}=={z['b']}\")\n",
                "\n",
                "# Using a custom class as a node container\n",
                "\n",
                "\n",
                "class Foo(NodeContainer):\n",
                "    def __init__(self, x):\n",
                "        self.x = node(x)\n",
                "        self.y = [node(1), node(2)]\n",
                "        self.z = 1\n",
                "\n",
                "\n",
                "x = Foo(\"x\")\n",
                "y = Foo(\"y\")\n",
                "x_plus_y = Foo(\"template\")\n",
                "x_plus_y = apply_op(ops.add, x_plus_y, x, y)\n",
                "print(\"x_plus_y.x should be added. Value: \", x_plus_y.x.data)\n",
                "print(\"x_plus_y.y should be added. Value: \", [n.data for n in x_plus_y.y])\n",
                "print(\"x_plus_y.z should be not added, just 1. Value: \", x_plus_y.z)"
            ]
        },
        {
            "cell_type": "markdown",
            "metadata": {},
            "source": [
                "## Nodes and Python Data Structure\n",
                "\n",
                "We can create a `node` over Python data structure like dictionary, tuple, set, or list. We automatically handle the iteration and you can wrap a node around any data structure and use them like normal python objects."
            ]
        },
        {
            "cell_type": "code",
            "execution_count": 11,
            "metadata": {},
            "outputs": [
                {
                    "name": "stdout",
                    "output_type": "stream",
                    "text": [
                        "MessageNode: (getitem:0, dtype=<class 'str'>, data=arg2)\n",
                        "MessageNode: (getitem:1, dtype=<class 'str'>, data=arg1)\n"
                    ]
                },
                {
                    "data": {
                        "image/svg+xml": [
                            "<?xml version=\"1.0\" encoding=\"UTF-8\" standalone=\"no\"?>\n",
                            "<!DOCTYPE svg PUBLIC \"-//W3C//DTD SVG 1.1//EN\"\n",
                            " \"http://www.w3.org/Graphics/SVG/1.1/DTD/svg11.dtd\">\n",
                            "<!-- Generated by graphviz version 2.50.0 (0)\n",
                            " -->\n",
                            "<!-- Pages: 1 -->\n",
                            "<svg width=\"761pt\" height=\"305pt\"\n",
                            " viewBox=\"0.00 0.00 761.15 304.86\" xmlns=\"http://www.w3.org/2000/svg\" xmlns:xlink=\"http://www.w3.org/1999/xlink\">\n",
                            "<g id=\"graph0\" class=\"graph\" transform=\"scale(1 1) rotate(0) translate(4 300.86)\">\n",
                            "<polygon fill=\"white\" stroke=\"transparent\" points=\"-4,4 -4,-300.86 757.15,-300.86 757.15,4 -4,4\"/>\n",
                            "<!-- to_list0 -->\n",
                            "<g id=\"node1\" class=\"node\">\n",
                            "<title>to_list0</title>\n",
                            "<ellipse fill=\"#deebf6\" stroke=\"#5c9bd5\" stroke-width=\"1.2\" cx=\"556.58\" cy=\"-148.43\" rx=\"145.83\" ry=\"37.45\"/>\n",
                            "<text text-anchor=\"middle\" x=\"556.58\" y=\"-159.73\" font-family=\"Times New Roman,serif\" font-size=\"14.00\">to_list0</text>\n",
                            "<text text-anchor=\"middle\" x=\"556.58\" y=\"-144.73\" font-family=\"Times New Roman,serif\" font-size=\"14.00\">[to_list] This converts x to a list. &#160;.</text>\n",
                            "<text text-anchor=\"middle\" x=\"556.58\" y=\"-129.73\" font-family=\"Times New Roman,serif\" font-size=\"14.00\">[&#39;arg2&#39;, &#39;arg1&#39;]</text>\n",
                            "</g>\n",
                            "<!-- getitem1 -->\n",
                            "<g id=\"node2\" class=\"node\">\n",
                            "<title>getitem1</title>\n",
                            "<ellipse fill=\"#deebf6\" stroke=\"#5c9bd5\" stroke-width=\"1.2\" cx=\"376.58\" cy=\"-37.48\" rx=\"234.52\" ry=\"37.45\"/>\n",
                            "<text text-anchor=\"middle\" x=\"376.58\" y=\"-48.78\" font-family=\"Times New Roman,serif\" font-size=\"14.00\">getitem1</text>\n",
                            "<text text-anchor=\"middle\" x=\"376.58\" y=\"-33.78\" font-family=\"Times New Roman,serif\" font-size=\"14.00\">[getitem] This is a getitem operator of x based on index. .</text>\n",
                            "<text text-anchor=\"middle\" x=\"376.58\" y=\"-18.78\" font-family=\"Times New Roman,serif\" font-size=\"14.00\">arg1</text>\n",
                            "</g>\n",
                            "<!-- to_list0&#45;&gt;getitem1 -->\n",
                            "<g id=\"edge1\" class=\"edge\">\n",
                            "<title>to_list0&#45;&gt;getitem1</title>\n",
                            "<path fill=\"none\" stroke=\"black\" d=\"M500.61,-113.55C482.61,-102.66 462.49,-90.48 443.77,-79.15\"/>\n",
                            "<polygon fill=\"black\" stroke=\"black\" points=\"445.36,-76.02 435,-73.84 441.74,-82.01 445.36,-76.02\"/>\n",
                            "</g>\n",
                            "<!-- int15 -->\n",
                            "<g id=\"node3\" class=\"node\">\n",
                            "<title>int15</title>\n",
                            "<ellipse fill=\"#deebf6\" stroke=\"#5c9bd5\" stroke-width=\"1.2\" cx=\"196.58\" cy=\"-148.43\" rx=\"196.65\" ry=\"37.45\"/>\n",
                            "<text text-anchor=\"middle\" x=\"196.58\" y=\"-159.73\" font-family=\"Times New Roman,serif\" font-size=\"14.00\">int15</text>\n",
                            "<text text-anchor=\"middle\" x=\"196.58\" y=\"-144.73\" font-family=\"Times New Roman,serif\" font-size=\"14.00\">[Node] This is a node in a computational graph.</text>\n",
                            "<text text-anchor=\"middle\" x=\"196.58\" y=\"-129.73\" font-family=\"Times New Roman,serif\" font-size=\"14.00\">1</text>\n",
                            "</g>\n",
                            "<!-- int15&#45;&gt;getitem1 -->\n",
                            "<g id=\"edge2\" class=\"edge\">\n",
                            "<title>int15&#45;&gt;getitem1</title>\n",
                            "<path fill=\"none\" stroke=\"black\" d=\"M254.52,-112.36C272.01,-101.77 291.35,-90.06 309.39,-79.15\"/>\n",
                            "<polygon fill=\"black\" stroke=\"black\" points=\"311.38,-82.03 318.12,-73.86 307.76,-76.04 311.38,-82.03\"/>\n",
                            "</g>\n",
                            "<!-- set0 -->\n",
                            "<g id=\"node4\" class=\"node\">\n",
                            "<title>set0</title>\n",
                            "<ellipse fill=\"#deebf6\" stroke=\"#5c9bd5\" stroke-width=\"1.2\" cx=\"556.58\" cy=\"-259.38\" rx=\"196.65\" ry=\"37.45\"/>\n",
                            "<text text-anchor=\"middle\" x=\"556.58\" y=\"-270.68\" font-family=\"Times New Roman,serif\" font-size=\"14.00\">set0</text>\n",
                            "<text text-anchor=\"middle\" x=\"556.58\" y=\"-255.68\" font-family=\"Times New Roman,serif\" font-size=\"14.00\">[Node] This is a node in a computational graph.</text>\n",
                            "<text text-anchor=\"middle\" x=\"556.58\" y=\"-240.68\" font-family=\"Times New Roman,serif\" font-size=\"14.00\">{&#39;arg2&#39;, &#39;arg1&#39;}</text>\n",
                            "</g>\n",
                            "<!-- set0&#45;&gt;to_list0 -->\n",
                            "<g id=\"edge3\" class=\"edge\">\n",
                            "<title>set0&#45;&gt;to_list0</title>\n",
                            "<path fill=\"none\" stroke=\"black\" d=\"M556.58,-221.8C556.58,-213.63 556.58,-204.85 556.58,-196.32\"/>\n",
                            "<polygon fill=\"black\" stroke=\"black\" points=\"560.08,-196.1 556.58,-186.1 553.08,-196.1 560.08,-196.1\"/>\n",
                            "</g>\n",
                            "</g>\n",
                            "</svg>\n"
                        ],
                        "text/plain": [
                            "<graphviz.graphs.Digraph at 0x233cf928dc0>"
                        ]
                    },
                    "execution_count": 11,
                    "metadata": {},
                    "output_type": "execute_result"
                }
            ],
            "source": [
                "from opto.trace import node\n",
                "\n",
                "args = node({\"arg1\", \"arg2\"}, trainable=False)\n",
                "for a in args:\n",
                "    print(a)\n",
                "\n",
                "a.backward(visualize=True)"
            ]
        },
        {
            "cell_type": "code",
            "execution_count": 12,
            "metadata": {},
            "outputs": [
                {
                    "name": "stdout",
                    "output_type": "stream",
                    "text": [
                        "MessageNode: (getitem:2, dtype=<class 'str'>, data=arg1) MessageNode: (getitem:3, dtype=<class 'int'>, data=1)\n",
                        "MessageNode: (getitem:4, dtype=<class 'str'>, data=arg2) MessageNode: (getitem:5, dtype=<class 'int'>, data=2)\n"
                    ]
                },
                {
                    "data": {
                        "image/svg+xml": [
                            "<?xml version=\"1.0\" encoding=\"UTF-8\" standalone=\"no\"?>\n",
                            "<!DOCTYPE svg PUBLIC \"-//W3C//DTD SVG 1.1//EN\"\n",
                            " \"http://www.w3.org/Graphics/SVG/1.1/DTD/svg11.dtd\">\n",
                            "<!-- Generated by graphviz version 2.50.0 (0)\n",
                            " -->\n",
                            "<!-- Pages: 1 -->\n",
                            "<svg width=\"812pt\" height=\"194pt\"\n",
                            " viewBox=\"0.00 0.00 812.15 193.91\" xmlns=\"http://www.w3.org/2000/svg\" xmlns:xlink=\"http://www.w3.org/1999/xlink\">\n",
                            "<g id=\"graph0\" class=\"graph\" transform=\"scale(1 1) rotate(0) translate(4 189.91)\">\n",
                            "<polygon fill=\"white\" stroke=\"transparent\" points=\"-4,4 -4,-189.91 808.15,-189.91 808.15,4 -4,4\"/>\n",
                            "<!-- list0 -->\n",
                            "<g id=\"node1\" class=\"node\">\n",
                            "<title>list0</title>\n",
                            "<ellipse fill=\"#deebf6\" stroke=\"#5c9bd5\" stroke-width=\"1.2\" cx=\"196.58\" cy=\"-148.43\" rx=\"196.65\" ry=\"37.45\"/>\n",
                            "<text text-anchor=\"middle\" x=\"196.58\" y=\"-159.73\" font-family=\"Times New Roman,serif\" font-size=\"14.00\">list0</text>\n",
                            "<text text-anchor=\"middle\" x=\"196.58\" y=\"-144.73\" font-family=\"Times New Roman,serif\" font-size=\"14.00\">[Node] This is a node in a computational graph.</text>\n",
                            "<text text-anchor=\"middle\" x=\"196.58\" y=\"-129.73\" font-family=\"Times New Roman,serif\" font-size=\"14.00\">[1, 2]</text>\n",
                            "</g>\n",
                            "<!-- getitem5 -->\n",
                            "<g id=\"node2\" class=\"node\">\n",
                            "<title>getitem5</title>\n",
                            "<ellipse fill=\"#deebf6\" stroke=\"#5c9bd5\" stroke-width=\"1.2\" cx=\"401.58\" cy=\"-37.48\" rx=\"234.52\" ry=\"37.45\"/>\n",
                            "<text text-anchor=\"middle\" x=\"401.58\" y=\"-48.78\" font-family=\"Times New Roman,serif\" font-size=\"14.00\">getitem5</text>\n",
                            "<text text-anchor=\"middle\" x=\"401.58\" y=\"-33.78\" font-family=\"Times New Roman,serif\" font-size=\"14.00\">[getitem] This is a getitem operator of x based on index. .</text>\n",
                            "<text text-anchor=\"middle\" x=\"401.58\" y=\"-18.78\" font-family=\"Times New Roman,serif\" font-size=\"14.00\">2</text>\n",
                            "</g>\n",
                            "<!-- list0&#45;&gt;getitem5 -->\n",
                            "<g id=\"edge1\" class=\"edge\">\n",
                            "<title>list0&#45;&gt;getitem5</title>\n",
                            "<path fill=\"none\" stroke=\"black\" d=\"M261.44,-112.96C282.17,-101.94 305.29,-89.65 326.68,-78.28\"/>\n",
                            "<polygon fill=\"black\" stroke=\"black\" points=\"328.54,-81.26 335.73,-73.47 325.25,-75.08 328.54,-81.26\"/>\n",
                            "</g>\n",
                            "<!-- int19 -->\n",
                            "<g id=\"node3\" class=\"node\">\n",
                            "<title>int19</title>\n",
                            "<ellipse fill=\"#deebf6\" stroke=\"#5c9bd5\" stroke-width=\"1.2\" cx=\"607.58\" cy=\"-148.43\" rx=\"196.65\" ry=\"37.45\"/>\n",
                            "<text text-anchor=\"middle\" x=\"607.58\" y=\"-159.73\" font-family=\"Times New Roman,serif\" font-size=\"14.00\">int19</text>\n",
                            "<text text-anchor=\"middle\" x=\"607.58\" y=\"-144.73\" font-family=\"Times New Roman,serif\" font-size=\"14.00\">[Node] This is a node in a computational graph.</text>\n",
                            "<text text-anchor=\"middle\" x=\"607.58\" y=\"-129.73\" font-family=\"Times New Roman,serif\" font-size=\"14.00\">1</text>\n",
                            "</g>\n",
                            "<!-- int19&#45;&gt;getitem5 -->\n",
                            "<g id=\"edge2\" class=\"edge\">\n",
                            "<title>int19&#45;&gt;getitem5</title>\n",
                            "<path fill=\"none\" stroke=\"black\" d=\"M542.4,-112.96C521.56,-101.94 498.33,-89.65 476.84,-78.28\"/>\n",
                            "<polygon fill=\"black\" stroke=\"black\" points=\"478.22,-75.06 467.75,-73.47 474.95,-81.24 478.22,-75.06\"/>\n",
                            "</g>\n",
                            "</g>\n",
                            "</svg>\n"
                        ],
                        "text/plain": [
                            "<graphviz.graphs.Digraph at 0x233cf92ecd0>"
                        ]
                    },
                    "execution_count": 12,
                    "metadata": {},
                    "output_type": "execute_result"
                }
            ],
            "source": [
                "parms = node([1, 2], trainable=False)\n",
                "args = node([\"arg1\", \"arg2\"], trainable=False)\n",
                "\n",
                "for a, p in zip(args, parms):\n",
                "    print(a, p)\n",
                "\n",
                "p.backward(visualize=True)"
            ]
        }
    ],
    "metadata": {
        "language_info": {
            "codemirror_mode": {
                "name": "ipython",
                "version": 3
            },
            "file_extension": ".py",
            "mimetype": "text/x-python",
            "name": "python",
            "nbconvert_exporter": "python",
            "pygments_lexer": "ipython3",
            "version": "3.9.5"
        }
    },
    "nbformat": 4,
    "nbformat_minor": 4
}