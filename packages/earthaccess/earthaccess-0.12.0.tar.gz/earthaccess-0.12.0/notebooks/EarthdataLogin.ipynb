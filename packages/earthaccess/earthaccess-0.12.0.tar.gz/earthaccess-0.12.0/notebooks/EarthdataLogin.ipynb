{
 "cells": [
  {
   "cell_type": "markdown",
   "id": "fe0e1606-699a-4f1c-8348-209cf4ca84e6",
   "metadata": {},
   "source": [
    "# NASA EarthData Login (EDL)\n",
    "### Authentication for data on-prem and in the cloud\n",
    "\n",
    "> This tutorial assumes you already know the dataset's `short_name` or the dataset's `concept_id`."
   ]
  },
  {
   "cell_type": "code",
   "execution_count": null,
   "id": "adc12546-827a-4d14-b92e-cf10e3823231",
   "metadata": {},
   "outputs": [],
   "source": [
    "import earthaccess\n",
    "\n",
    "auth = earthaccess.login()\n",
    "print(f\"Using earthaccess version {earthaccess.__version__}\")\n",
    "# are we authenticated"
   ]
  },
  {
   "cell_type": "code",
   "execution_count": null,
   "id": "901a1c21-29c1-4534-97bb-e4a75e63a477",
   "metadata": {},
   "outputs": [],
   "source": [
    "auth = earthaccess.login(strategy=\"environment\")"
   ]
  },
  {
   "cell_type": "code",
   "execution_count": null,
   "id": "668d4bce-3a26-4e54-be30-6be2bc82bd44",
   "metadata": {},
   "outputs": [],
   "source": [
    "auth = earthaccess.login(strategy=\"netrc\")"
   ]
  },
  {
   "cell_type": "code",
   "execution_count": null,
   "id": "6d9726cd-47f2-464f-80f9-d51fb006c545",
   "metadata": {},
   "outputs": [],
   "source": [
    "# using earthaccess authenticated session to fetch restricted files behind EDL\n",
    "req_session = earthaccess.get_requests_https_session()\n",
    "\n",
    "restricted_podaac_resource = \"https://e4ftl01.cr.usgs.gov/ECOB/ECOSTRESS/ECO2LSTE.001/2022.07.13/ECOSTRESS_L2_LSTE_22783_013_20220713T101229_0601_02.h5\"\n",
    "restricted_gesdisc_resource = \"https://data.gesdisc.earthdata.nasa.gov/data/MERGED_IR/GPM_MERGIR.1/1998/002/merg_1998010217_4km-pixel.nc4\"\n",
    "restricted_lpdaac_resource = \"https://data.lpdaac.earthdatacloud.nasa.gov/lp-prod-protected/ASTGTM.003/ASTGTMV003_N01E024_dem.tif\"\n",
    "# reading the first 100 bytes\n",
    "data = req_session.get(restricted_lpdaac_resource, headers={\"Range\": \"bytes=0-100\"})\n",
    "data.text"
   ]
  },
  {
   "cell_type": "code",
   "execution_count": null,
   "id": "8f32b7c0-e9a3-4ea4-b101-6a3cb69179c7",
   "metadata": {},
   "outputs": [],
   "source": [
    "# Using earthaccess to get fsspec sessions and open remote resources behind EDL as local files\n",
    "fs = earthaccess.get_fsspec_https_session()\n",
    "\n",
    "with fs.open(restricted_gesdisc_resource) as f:\n",
    "    print(f.read(20))"
   ]
  },
  {
   "cell_type": "markdown",
   "id": "ac5cb775-ac1a-4bd8-9c47-0d1baaabd718",
   "metadata": {
    "tags": []
   },
   "source": [
    "## Authentication in the cloud\n",
    "\n",
    "If the collection is a cloud-hosted collection we can print the `summary()` and get the endpouint to the S3 credentials. These S3 credentials are temporary and we can use them with third party libraries such as s3fs, boto3 or awscli."
   ]
  },
  {
   "cell_type": "code",
   "execution_count": null,
   "id": "9ecafd00-d5d5-4c10-99a8-5e48f2614407",
   "metadata": {},
   "outputs": [],
   "source": [
    "from pprint import pprint\n",
    "\n",
    "query = earthaccess.collection_query()\n",
    "# This always returns an array\n",
    "datasets = query.cloud_hosted(True).keyword(\"GLAH14\").get(2)\n",
    "\n",
    "for dataset in datasets:\n",
    "    pprint(dataset.summary())"
   ]
  },
  {
   "cell_type": "code",
   "execution_count": null,
   "id": "2044634d-2d60-4890-a357-8dcbc9f03fd2",
   "metadata": {
    "tags": []
   },
   "outputs": [],
   "source": [
    "# C2153549818-NSIDC_CPRD\n",
    "granules = earthaccess.granule_query().concept_id(\"C2153549818-NSIDC_CPRD\").get(10)\n",
    "# granules = earthaccess.granule_query().concept_id(\"C1000000461-NSIDC_ECS\").get(10)\n",
    "granules[0]"
   ]
  },
  {
   "cell_type": "code",
   "execution_count": null,
   "id": "159b710c-531b-4c65-ae44-d7c2a0f3c9bb",
   "metadata": {
    "tags": []
   },
   "outputs": [],
   "source": [
    "file = earthaccess.download(granules[0:2], \"data\")"
   ]
  },
  {
   "cell_type": "markdown",
   "id": "5bfff66e-d716-4e0e-9cb7-c77d250c714d",
   "metadata": {},
   "source": [
    "## Getting temporary S3 credentials\n",
    "\n",
    "Some DAACs (ASF) require to accept EULAs to be able to access their S3 Buckets. "
   ]
  },
  {
   "cell_type": "code",
   "execution_count": null,
   "id": "089b888b-31d7-40f8-88f5-c41752bacb97",
   "metadata": {},
   "outputs": [],
   "source": [
    "temp_s3_credentials = earthaccess.get_s3_credentials(\"ORNLDAAC\")\n",
    "# these credentials expire after 1 hour\n",
    "temp_s3_credentials"
   ]
  }
 ],
 "metadata": {
  "kernelspec": {
   "display_name": "Python 3 (ipykernel)",
   "language": "python",
   "name": "python3"
  },
  "language_info": {
   "codemirror_mode": {
    "name": "ipython",
    "version": 3
   },
   "file_extension": ".py",
   "mimetype": "text/x-python",
   "name": "python",
   "nbconvert_exporter": "python",
   "pygments_lexer": "ipython3",
   "version": "3.11.9"
  }
 },
 "nbformat": 4,
 "nbformat_minor": 5
}
