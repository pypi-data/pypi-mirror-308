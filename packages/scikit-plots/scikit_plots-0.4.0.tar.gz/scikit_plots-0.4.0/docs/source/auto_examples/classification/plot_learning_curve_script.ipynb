{
  "cells": [
    {
      "cell_type": "markdown",
      "metadata": {},
      "source": [
        "\n# plot_learning_curve with examples\n\nAn example showing the :py:func:`~scikitplot.api.estimators.plot_learning_curve` function\nused by a scikit-learn classifier.\n"
      ]
    },
    {
      "cell_type": "code",
      "execution_count": null,
      "metadata": {
        "collapsed": false
      },
      "outputs": [],
      "source": [
        "# Authors: scikit-plots developers\n# License: MIT\n\nfrom sklearn.datasets import (\n    make_classification,\n    load_breast_cancer as data_2_classes,\n    load_iris as data_3_classes,\n    load_digits as data_10_classes,\n)\nfrom sklearn.model_selection import train_test_split\nfrom sklearn.linear_model import LogisticRegression\nfrom sklearn.naive_bayes import GaussianNB\nfrom sklearn.svm import LinearSVC\nfrom sklearn.ensemble import RandomForestClassifier\nfrom sklearn.model_selection import cross_val_predict\nimport numpy as np; np.random.seed(0)\n# importing pylab or pyplot\nimport matplotlib.pyplot as plt\n\n# Import scikit-plot\n# import scikitplot as skplt\nimport scikitplot.api as skplt\n\n# Load the data\nX, y = data_10_classes(return_X_y=True, as_frame=False)\n\n# Create an instance of the LogisticRegression\nmodel = LogisticRegression(max_iter=int(1e5), random_state=0)\n\n# Plot!\nax = skplt.estimators.plot_learning_curve(\n    model, X, y\n);\n\n# Adjust layout to make sure everything fits\nplt.tight_layout()\n# Save the plot to a file\n# plt.savefig('plot_learning_curve_script.png')\n# Display the plot\nplt.show(block=True)"
      ]
    },
    {
      "cell_type": "markdown",
      "metadata": {},
      "source": [
        ".. tags::\n\n   model-type: Classification\n   model-workflow: Model Evaluation\n   plot-type: line\n   plot-type: learning-curve\n   level: beginner\n   purpose: showcase\n"
      ]
    }
  ],
  "metadata": {
    "kernelspec": {
      "display_name": "Python 3",
      "language": "python",
      "name": "python3"
    },
    "language_info": {
      "codemirror_mode": {
        "name": "ipython",
        "version": 3
      },
      "file_extension": ".py",
      "mimetype": "text/x-python",
      "name": "python",
      "nbconvert_exporter": "python",
      "pygments_lexer": "ipython3",
      "version": "3.11.6"
    }
  },
  "nbformat": 4,
  "nbformat_minor": 0
}