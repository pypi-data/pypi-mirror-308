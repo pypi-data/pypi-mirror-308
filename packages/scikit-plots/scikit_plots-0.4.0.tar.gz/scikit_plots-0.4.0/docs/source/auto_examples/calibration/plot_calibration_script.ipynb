{
  "cells": [
    {
      "cell_type": "markdown",
      "metadata": {},
      "source": [
        "\n# plot_calibration with examples\n\nAn example showing the :py:func:`~scikitplot.api.metrics.plot_calibration` function\nused by a scikit-learn classifier.\n"
      ]
    },
    {
      "cell_type": "code",
      "execution_count": null,
      "metadata": {
        "collapsed": false
      },
      "outputs": [],
      "source": [
        "# Authors: scikit-plots developers\n# License: MIT\n\nfrom sklearn.datasets import make_classification\nfrom sklearn.model_selection import train_test_split\nfrom sklearn.linear_model import LogisticRegression\nfrom sklearn.naive_bayes import GaussianNB\nfrom sklearn.svm import LinearSVC\nfrom sklearn.calibration import CalibratedClassifierCV\nfrom sklearn.ensemble import RandomForestClassifier\nfrom sklearn.model_selection import cross_val_predict\nimport numpy as np; np.random.seed(0)\n# importing pylab or pyplot\nimport matplotlib.pyplot as plt\n\n# Import scikit-plot\n# import scikitplot as skplt\nimport scikitplot.api as skplt\n\n# Load the data\nX, y = make_classification(\n    n_samples=100000, \n    n_features=20,\n    n_informative=4,\n    n_redundant=2,\n    n_repeated=0,\n    n_classes=3,\n    n_clusters_per_class=2,\n    random_state=0\n)\nX_train, y_train, X_val, y_val = X[:1000], y[:1000], X[1000:], y[1000:]\n\n# Create an instance of the LogisticRegression\nlr_probas = LogisticRegression(max_iter=int(1e5), random_state=0).fit(X_train, y_train).predict_proba(X_val)\nnb_probas = GaussianNB().fit(X_train, y_train).predict_proba(X_val)\nsvc_scores = LinearSVC().fit(X_train, y_train).decision_function(X_val)\nsvc_isotonic = CalibratedClassifierCV(LinearSVC(), cv=2, method=\"isotonic\").fit(X_train, y_train).predict_proba(X_val)\nsvc_sigmoid = CalibratedClassifierCV(LinearSVC(), cv=2, method=\"sigmoid\").fit(X_train, y_train).predict_proba(X_val)\nrf_probas = RandomForestClassifier(random_state=0).fit(X_train, y_train).predict_proba(X_val)\n\nprobas_dict = {\n    LogisticRegression(): lr_probas,\n    # GaussianNB(): nb_probas,\n    \"LinearSVC() + MinMax\": svc_scores,\n    \"LinearSVC() + Isotonic\": svc_isotonic,\n    \"LinearSVC() + Sigmoid\": svc_sigmoid,\n    # RandomForestClassifier(): rf_probas,\n}\n# Plot!\nfig, ax = plt.subplots(figsize=(12, 6))\nax = skplt.metrics.plot_calibration(\n    y_val,\n    y_probas_list=probas_dict.values(),\n    estimator_names=probas_dict.keys(),\n    ax=ax,\n);\n# Adjust layout to make sure everything fits\nplt.tight_layout()\n# Save the plot to a file\n# plt.savefig('plot_calibration_curve_script.png')\n# Display the plot\nplt.show(block=True)"
      ]
    },
    {
      "cell_type": "markdown",
      "metadata": {},
      "source": [
        ".. admonition:: Interpretation\n\n    Primary Use: Evaluating probabilistic classifiers by comparing predicted probabilities to observed frequencies of the positive class.\n\n    Goal: To assess how well the predicted probabilities align with the actual outcomes, identifying if a model is well-calibrated, overconfident, or underconfident.\n\n    Typical Characteristics:\n\n    - X-axis: Predicted probability (e.g., in bins from 0 to 1).\n    - Y-axis: Observed frequency of the positive class within each bin.\n    - Reference line (diagonal at 45\u00b0): Represents perfect calibration, where predicted probabilities match observed frequencies.\n\n.. tags::\n\n   model-type: Classification\n   model-workflow: Model Evaluation\n   component: fitted-model\n   plot-type: line\n   plot-type: calibration-plot\n   level: beginner\n   purpose: showcase\n"
      ]
    }
  ],
  "metadata": {
    "kernelspec": {
      "display_name": "Python 3",
      "language": "python",
      "name": "python3"
    },
    "language_info": {
      "codemirror_mode": {
        "name": "ipython",
        "version": 3
      },
      "file_extension": ".py",
      "mimetype": "text/x-python",
      "name": "python",
      "nbconvert_exporter": "python",
      "pygments_lexer": "ipython3",
      "version": "3.11.6"
    }
  },
  "nbformat": 4,
  "nbformat_minor": 0
}