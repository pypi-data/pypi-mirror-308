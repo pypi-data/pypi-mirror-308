{
  "cells": [
    {
      "cell_type": "markdown",
      "metadata": {},
      "source": [
        "\n# plot_residuals_distribution with examples\n\nAn example showing the :py:func:`~scikitplot.api.metrics.plot_residuals_distribution` function\nused by a scikit-learn regressor.\n"
      ]
    },
    {
      "cell_type": "code",
      "execution_count": null,
      "metadata": {
        "collapsed": false
      },
      "outputs": [],
      "source": [
        "# Authors: scikit-plots developers\n# License: BSD-3 Clause\n\nfrom sklearn.datasets import (\n    make_classification,\n    load_diabetes as load_data,\n)\nfrom sklearn.model_selection import train_test_split\nfrom sklearn.linear_model import LinearRegression\nfrom sklearn.svm import LinearSVR\nfrom sklearn.ensemble import RandomForestRegressor\nfrom sklearn.model_selection import cross_val_predict\nimport numpy as np; np.random.seed(0)\n# importing pylab or pyplot\nimport matplotlib.pyplot as plt\n\n# Import scikit-plot\n# import scikitplot as skplt\nimport scikitplot.api as skplt\nimport scikitplot.probscale as probscale\n\n# Load the data\nX, y = load_data(return_X_y=True, as_frame=True)\nX_train, X_val, y_train, y_val = train_test_split(X, y, test_size=0.5, random_state=0)\n\n# Create an instance of the LogisticRegression\nmodel = LinearRegression().fit(X_train, y_train)\n\n# Perform predictions\ny_val_pred = model.predict(X_val)\n\n# Plot!\nax = skplt.metrics.plot_residuals_distribution(\n    y_val, y_val_pred, dist_type='normal'\n);\n# Adjust layout to make sure everything fits\nplt.tight_layout()\n# Save the plot to a file\n# plt.savefig('plot_residuals_distribution_script.png')\n# Display the plot\nplt.show(block=True)"
      ]
    },
    {
      "cell_type": "markdown",
      "metadata": {},
      "source": [
        ".. admonition:: References\n\n   The use of the following functions, methods, classes and modules is shown\n   in this example:\n\n   - https://www.itl.nist.gov/div898/handbook/pri/section2/pri24.htm\n   - https://online.stat.psu.edu/stat462/node/122/\n\n.. tags::\n\n   model-type: Regression\n   model-workflow: Model Evaluation\n   plot-type: histogram\n   plot-type: qqplot\n   domain: statistics\n   level: intermediate\n   purpose: showcase\n"
      ]
    }
  ],
  "metadata": {
    "kernelspec": {
      "display_name": "Python 3",
      "language": "python",
      "name": "python3"
    },
    "language_info": {
      "codemirror_mode": {
        "name": "ipython",
        "version": 3
      },
      "file_extension": ".py",
      "mimetype": "text/x-python",
      "name": "python",
      "nbconvert_exporter": "python",
      "pygments_lexer": "ipython3",
      "version": "3.11.6"
    }
  },
  "nbformat": 4,
  "nbformat_minor": 0
}