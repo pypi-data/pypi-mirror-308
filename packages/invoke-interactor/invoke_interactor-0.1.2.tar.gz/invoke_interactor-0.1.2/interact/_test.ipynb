{
 "cells": [
  {
   "cell_type": "code",
   "execution_count": 1,
   "metadata": {},
   "outputs": [],
   "source": [
    "from interact import Interactor\n",
    "\n",
    "interactor = Interactor(\n",
    "    api_key=\"0e60697d-06a8-446c-89e0-83d74b956d88\",\n",
    ")"
   ]
  },
  {
   "cell_type": "code",
   "execution_count": 2,
   "metadata": {},
   "outputs": [],
   "source": [
    "from interact import TaskType\n",
    "\n",
    "task_id_json = interactor.label_request(\n",
    "    task_name=\"Test Task\",\n",
    "    task_type=TaskType.LABELING,\n",
    "    instructions=\"Test instructions\",\n",
    "    labels=[\"Label 1\", \"Label 2\"],\n",
    "    priority=1,\n",
    "    stake=10,\n",
    "    expiration=3600,\n",
    "    image_urls=[\n",
    "        \"https://i1.sndcdn.com/artworks-000031761730-v6yxg3-t1080x1080.jpg\",\n",
    "        \"https://i.scdn.co/image/ab67616d00001e02c60f90a16d7ebc57bc8b84d7\",\n",
    "    ],\n",
    ")\n"
   ]
  },
  {
   "cell_type": "code",
   "execution_count": 2,
   "metadata": {},
   "outputs": [],
   "source": [
    "task_status = interactor.status(\n",
    "    task_id=\"38baca09-ef6f-4839-82d9-f801f1166323\"\n",
    ")"
   ]
  },
  {
   "cell_type": "code",
   "execution_count": 8,
   "metadata": {},
   "outputs": [
    {
     "data": {
      "text/plain": [
       "{'task_id': '[{\"model\": \"nexus.task\", \"pk\": \"38baca09-ef6f-4839-82d9-f801f1166323\", \"fields\": {\"requester_id\": \"ac90dd89-45c1-459e-81f2-771a8ac09c0a\", \"instructions\": \"Test instructions\", \"task_data_id\": \"e33065bf-7e9b-4fd3-9bd7-706b3c49d991\", \"task_name\": \"Test Task\", \"task_type\": \"LABELING\", \"worker_ids\": [], \"adjudicator_ids\": [], \"priority\": 1, \"stake\": 10, \"running_cost\": {}, \"expiration\": 3600, \"created_at\": \"2024-07-31T06:39:28.940Z\", \"started_at\": null, \"completed_at\": null, \"status\": \"PENDING\"}}]',\n",
       " 'images': [{'image_id': 'd5ed1832-c226-4907-89ff-3c9987520863',\n",
       "   'image_url': 'https://interact-data.s3.us-west-1.amazonaws.com/files/9414d54e-b7db-427a-92bd-cea89495df89',\n",
       "   'label': None},\n",
       "  {'image_id': '27b9ae4f-3b6b-4520-abf3-0f25fd6c47a7',\n",
       "   'image_url': 'https://interact-data.s3.us-west-1.amazonaws.com/files/53a9521d-4043-49f5-807e-98882eb86a49',\n",
       "   'label': None}],\n",
       " 'files': []}"
      ]
     },
     "execution_count": 8,
     "metadata": {},
     "output_type": "execute_result"
    }
   ],
   "source": [
    "task_results = interactor.results(\n",
    "    task_id=\"38baca09-ef6f-4839-82d9-f801f1166323\"\n",
    ")\n",
    "task_results"
   ]
  }
 ],
 "metadata": {
  "kernelspec": {
   "display_name": "interact-c9S9iv-6-py3.11",
   "language": "python",
   "name": "python3"
  },
  "language_info": {
   "codemirror_mode": {
    "name": "ipython",
    "version": 3
   },
   "file_extension": ".py",
   "mimetype": "text/x-python",
   "name": "python",
   "nbconvert_exporter": "python",
   "pygments_lexer": "ipython3",
   "version": "3.11.9"
  }
 },
 "nbformat": 4,
 "nbformat_minor": 2
}
