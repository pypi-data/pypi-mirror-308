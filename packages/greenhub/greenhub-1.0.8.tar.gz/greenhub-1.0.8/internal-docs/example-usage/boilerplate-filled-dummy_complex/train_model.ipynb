{
 "cells": [
  {
   "metadata": {},
   "cell_type": "markdown",
   "source": [
    "# Example Model Creation\n",
    "\n",
    "The following Jupyter Notebook is a very simple example of how to fetch data using the Greenhub SDK, train a yield prediction model, and then save it. This saved yield model can later be used in a run method to upload the model to Greenhub.ai.\n",
    "\n",
    "The model created is a \"end of Season\" model, which is executed only once a year in june, \n",
    "only using climate data from may for predicting the yield. \n",
    "\n",
    "[greenhub.ai](https://greenhub.ai)\n",
    "[docs](https://docs.greenhub.ai)"
   ],
   "id": "8b7fd852c5edee0d"
  },
  {
   "metadata": {
    "ExecuteTime": {
     "end_time": "2024-11-12T09:44:34.284631Z",
     "start_time": "2024-11-12T09:44:34.270713Z"
    }
   },
   "cell_type": "code",
   "source": [
    "import greenhub as gh\n",
    "import pandas as pd\n",
    "import json\n",
    "\n",
    "from sklearn.linear_model import LinearRegression\n",
    "from sklearn.metrics import mean_squared_error\n",
    "from sklearn.model_selection import train_test_split"
   ],
   "id": "1136143bf3ccdf4a",
   "execution_count": 99,
   "outputs": []
  },
  {
   "metadata": {},
   "cell_type": "markdown",
   "source": [
    "# 1. Fetch Data"
   ],
   "id": "e3fa63c84c96fdbc"
  },
  {
   "metadata": {
    "ExecuteTime": {
     "end_time": "2024-11-12T09:44:34.675918Z",
     "start_time": "2024-11-12T09:44:34.274979Z"
    }
   },
   "cell_type": "code",
   "source": [
    "# initialize greenhub sdk\n",
    "gh.initialize(\"[GREENHUB_API_KEY]\")  # todo - add greenhub api key"
   ],
   "id": "878c8f1fbf003658",
   "execution_count": 100,
   "outputs": [
    {
     "name": "stdout",
     "output_type": "stream",
     "text": [
      "Using api key auth\n"
     ]
    }
   ]
  },
  {
   "metadata": {},
   "cell_type": "markdown",
   "source": [
    "## 1.1 Load Historical Yield Data (Training Targets)"
   ],
   "id": "396a3e651093c503"
  },
  {
   "cell_type": "code",
   "execution_count": 101,
   "source": [
    "# get historical yield data for MISSOURI\n",
    "yield_dfs: [pd.DataFrame] = []\n",
    "for y in range(2001, 2021):\n",
    "    yield_dfs.append(\n",
    "        gh.get_historical_yield_data(\n",
    "            crop=\"Wheat-winter\",\n",
    "            year=y,\n",
    "            country='US',\n",
    "            spatial_resolution='state'\n",
    "        )\n",
    "    )\n",
    "yield_data = pd.concat(yield_dfs, axis=0, ignore_index=True)\n",
    "yield_data = yield_data[yield_data['State'] == 'MISSOURI']\n",
    "yield_data"
   ],
   "metadata": {
    "collapsed": false,
    "ExecuteTime": {
     "end_time": "2024-11-12T09:44:35.002046Z",
     "start_time": "2024-11-12T09:44:34.680012Z"
    }
   },
   "id": "6ba778d4f7b87968",
   "outputs": [
    {
     "data": {
      "text/plain": "Loading Historical Yield data:   0%|          | 0/1 [00:00<?, ?items/s]",
      "application/vnd.jupyter.widget-view+json": {
       "version_major": 2,
       "version_minor": 0,
       "model_id": "ac516deda6bd418295da4501d3cbac9f"
      }
     },
     "metadata": {},
     "output_type": "display_data"
    },
    {
     "data": {
      "text/plain": "Loading Historical Yield data:   0%|          | 0/1 [00:00<?, ?items/s]",
      "application/vnd.jupyter.widget-view+json": {
       "version_major": 2,
       "version_minor": 0,
       "model_id": "7a7398a9f7324f8b82e8c0660c9d7800"
      }
     },
     "metadata": {},
     "output_type": "display_data"
    },
    {
     "data": {
      "text/plain": "Loading Historical Yield data:   0%|          | 0/1 [00:00<?, ?items/s]",
      "application/vnd.jupyter.widget-view+json": {
       "version_major": 2,
       "version_minor": 0,
       "model_id": "5f3375f6739842dda000461b00651f27"
      }
     },
     "metadata": {},
     "output_type": "display_data"
    },
    {
     "data": {
      "text/plain": "Loading Historical Yield data:   0%|          | 0/1 [00:00<?, ?items/s]",
      "application/vnd.jupyter.widget-view+json": {
       "version_major": 2,
       "version_minor": 0,
       "model_id": "b74fee61adad48b6ab4bcbe22e38d901"
      }
     },
     "metadata": {},
     "output_type": "display_data"
    },
    {
     "data": {
      "text/plain": "Loading Historical Yield data:   0%|          | 0/1 [00:00<?, ?items/s]",
      "application/vnd.jupyter.widget-view+json": {
       "version_major": 2,
       "version_minor": 0,
       "model_id": "4551b04638f14799b8ea0fa81787fa57"
      }
     },
     "metadata": {},
     "output_type": "display_data"
    },
    {
     "data": {
      "text/plain": "Loading Historical Yield data:   0%|          | 0/1 [00:00<?, ?items/s]",
      "application/vnd.jupyter.widget-view+json": {
       "version_major": 2,
       "version_minor": 0,
       "model_id": "c76c5afd032643b2b6fa218b0ac01f90"
      }
     },
     "metadata": {},
     "output_type": "display_data"
    },
    {
     "data": {
      "text/plain": "Loading Historical Yield data:   0%|          | 0/1 [00:00<?, ?items/s]",
      "application/vnd.jupyter.widget-view+json": {
       "version_major": 2,
       "version_minor": 0,
       "model_id": "869400647065488799bc31ef72a0c653"
      }
     },
     "metadata": {},
     "output_type": "display_data"
    },
    {
     "data": {
      "text/plain": "Loading Historical Yield data:   0%|          | 0/1 [00:00<?, ?items/s]",
      "application/vnd.jupyter.widget-view+json": {
       "version_major": 2,
       "version_minor": 0,
       "model_id": "56dba960b61d4cfa908344302f8fd194"
      }
     },
     "metadata": {},
     "output_type": "display_data"
    },
    {
     "data": {
      "text/plain": "Loading Historical Yield data:   0%|          | 0/1 [00:00<?, ?items/s]",
      "application/vnd.jupyter.widget-view+json": {
       "version_major": 2,
       "version_minor": 0,
       "model_id": "7fd92eaff8dc4920bf73fabb3bff2876"
      }
     },
     "metadata": {},
     "output_type": "display_data"
    },
    {
     "data": {
      "text/plain": "Loading Historical Yield data:   0%|          | 0/1 [00:00<?, ?items/s]",
      "application/vnd.jupyter.widget-view+json": {
       "version_major": 2,
       "version_minor": 0,
       "model_id": "af05d9e0a47d4fdaaec7c804ff6262aa"
      }
     },
     "metadata": {},
     "output_type": "display_data"
    },
    {
     "data": {
      "text/plain": "Loading Historical Yield data:   0%|          | 0/1 [00:00<?, ?items/s]",
      "application/vnd.jupyter.widget-view+json": {
       "version_major": 2,
       "version_minor": 0,
       "model_id": "4727bde733e0442e9847c0ef95d3079b"
      }
     },
     "metadata": {},
     "output_type": "display_data"
    },
    {
     "data": {
      "text/plain": "Loading Historical Yield data:   0%|          | 0/1 [00:00<?, ?items/s]",
      "application/vnd.jupyter.widget-view+json": {
       "version_major": 2,
       "version_minor": 0,
       "model_id": "67b035795e9b49d5b02cf5ed6608d3a9"
      }
     },
     "metadata": {},
     "output_type": "display_data"
    },
    {
     "data": {
      "text/plain": "Loading Historical Yield data:   0%|          | 0/1 [00:00<?, ?items/s]",
      "application/vnd.jupyter.widget-view+json": {
       "version_major": 2,
       "version_minor": 0,
       "model_id": "d971a74bb8614a43902b1aec58a926cc"
      }
     },
     "metadata": {},
     "output_type": "display_data"
    },
    {
     "data": {
      "text/plain": "Loading Historical Yield data:   0%|          | 0/1 [00:00<?, ?items/s]",
      "application/vnd.jupyter.widget-view+json": {
       "version_major": 2,
       "version_minor": 0,
       "model_id": "2c3568d1104e4c6b9f1399827976747d"
      }
     },
     "metadata": {},
     "output_type": "display_data"
    },
    {
     "data": {
      "text/plain": "Loading Historical Yield data:   0%|          | 0/1 [00:00<?, ?items/s]",
      "application/vnd.jupyter.widget-view+json": {
       "version_major": 2,
       "version_minor": 0,
       "model_id": "6734e4a8422348feb6b81cbfbb56586a"
      }
     },
     "metadata": {},
     "output_type": "display_data"
    },
    {
     "data": {
      "text/plain": "Loading Historical Yield data:   0%|          | 0/1 [00:00<?, ?items/s]",
      "application/vnd.jupyter.widget-view+json": {
       "version_major": 2,
       "version_minor": 0,
       "model_id": "ca2d9e64c721429298a80854ea13a268"
      }
     },
     "metadata": {},
     "output_type": "display_data"
    },
    {
     "data": {
      "text/plain": "Loading Historical Yield data:   0%|          | 0/1 [00:00<?, ?items/s]",
      "application/vnd.jupyter.widget-view+json": {
       "version_major": 2,
       "version_minor": 0,
       "model_id": "175d47c69e0e47f0a205b26a12bd6243"
      }
     },
     "metadata": {},
     "output_type": "display_data"
    },
    {
     "data": {
      "text/plain": "Loading Historical Yield data:   0%|          | 0/1 [00:00<?, ?items/s]",
      "application/vnd.jupyter.widget-view+json": {
       "version_major": 2,
       "version_minor": 0,
       "model_id": "4561775ba47b47cd96df1c9b8bc411a8"
      }
     },
     "metadata": {},
     "output_type": "display_data"
    },
    {
     "data": {
      "text/plain": "Loading Historical Yield data:   0%|          | 0/1 [00:00<?, ?items/s]",
      "application/vnd.jupyter.widget-view+json": {
       "version_major": 2,
       "version_minor": 0,
       "model_id": "c7fd193a26714338a3a3ccd0b84a6d1a"
      }
     },
     "metadata": {},
     "output_type": "display_data"
    },
    {
     "data": {
      "text/plain": "Loading Historical Yield data:   0%|          | 0/1 [00:00<?, ?items/s]",
      "application/vnd.jupyter.widget-view+json": {
       "version_major": 2,
       "version_minor": 0,
       "model_id": "109f4f2cc235449880873fd023bc57f1"
      }
     },
     "metadata": {},
     "output_type": "display_data"
    },
    {
     "data": {
      "text/plain": "    ValueType  Year          Crop SpatialResolution Country     State  \\\n21      Yield  2001  Wheat-winter             State      US  MISSOURI   \n66      Yield  2002  Wheat-winter             State      US  MISSOURI   \n95      Yield  2003  Wheat-winter             State      US  MISSOURI   \n143     Yield  2004  Wheat-winter             State      US  MISSOURI   \n197     Yield  2005  Wheat-winter             State      US  MISSOURI   \n214     Yield  2006  Wheat-winter             State      US  MISSOURI   \n268     Yield  2007  Wheat-winter             State      US  MISSOURI   \n300     Yield  2008  Wheat-winter             State      US  MISSOURI   \n354     Yield  2009  Wheat-winter             State      US  MISSOURI   \n388     Yield  2010  Wheat-winter             State      US  MISSOURI   \n424     Yield  2011  Wheat-winter             State      US  MISSOURI   \n494     Yield  2012  Wheat-winter             State      US  MISSOURI   \n521     Yield  2013  Wheat-winter             State      US  MISSOURI   \n573     Yield  2014  Wheat-winter             State      US  MISSOURI   \n620     Yield  2015  Wheat-winter             State      US  MISSOURI   \n649     Yield  2016  Wheat-winter             State      US  MISSOURI   \n679     Yield  2017  Wheat-winter             State      US  MISSOURI   \n752     Yield  2018  Wheat-winter             State      US  MISSOURI   \n792     Yield  2019  Wheat-winter             State      US  MISSOURI   \n831     Yield  2020  Wheat-winter             State      US  MISSOURI   \n\n     Municipality     Value  \n21            NaN  3.631473  \n66            NaN  2.958978  \n95            NaN  4.102220  \n143           NaN  3.496974  \n197           NaN  3.564224  \n214           NaN  3.631473  \n268           NaN  2.891729  \n300           NaN  3.227976  \n354           NaN  3.160727  \n388           NaN  3.093477  \n424           NaN  3.362475  \n494           NaN  3.900471  \n521           NaN  3.833222  \n573           NaN  3.900471  \n620           NaN  3.564224  \n649           NaN  4.707465  \n679           NaN  4.572966  \n752           NaN  3.967721  \n792           NaN  4.236719  \n831           NaN  4.169469  ",
      "text/html": "<div>\n<style scoped>\n    .dataframe tbody tr th:only-of-type {\n        vertical-align: middle;\n    }\n\n    .dataframe tbody tr th {\n        vertical-align: top;\n    }\n\n    .dataframe thead th {\n        text-align: right;\n    }\n</style>\n<table border=\"1\" class=\"dataframe\">\n  <thead>\n    <tr style=\"text-align: right;\">\n      <th></th>\n      <th>ValueType</th>\n      <th>Year</th>\n      <th>Crop</th>\n      <th>SpatialResolution</th>\n      <th>Country</th>\n      <th>State</th>\n      <th>Municipality</th>\n      <th>Value</th>\n    </tr>\n  </thead>\n  <tbody>\n    <tr>\n      <th>21</th>\n      <td>Yield</td>\n      <td>2001</td>\n      <td>Wheat-winter</td>\n      <td>State</td>\n      <td>US</td>\n      <td>MISSOURI</td>\n      <td>NaN</td>\n      <td>3.631473</td>\n    </tr>\n    <tr>\n      <th>66</th>\n      <td>Yield</td>\n      <td>2002</td>\n      <td>Wheat-winter</td>\n      <td>State</td>\n      <td>US</td>\n      <td>MISSOURI</td>\n      <td>NaN</td>\n      <td>2.958978</td>\n    </tr>\n    <tr>\n      <th>95</th>\n      <td>Yield</td>\n      <td>2003</td>\n      <td>Wheat-winter</td>\n      <td>State</td>\n      <td>US</td>\n      <td>MISSOURI</td>\n      <td>NaN</td>\n      <td>4.102220</td>\n    </tr>\n    <tr>\n      <th>143</th>\n      <td>Yield</td>\n      <td>2004</td>\n      <td>Wheat-winter</td>\n      <td>State</td>\n      <td>US</td>\n      <td>MISSOURI</td>\n      <td>NaN</td>\n      <td>3.496974</td>\n    </tr>\n    <tr>\n      <th>197</th>\n      <td>Yield</td>\n      <td>2005</td>\n      <td>Wheat-winter</td>\n      <td>State</td>\n      <td>US</td>\n      <td>MISSOURI</td>\n      <td>NaN</td>\n      <td>3.564224</td>\n    </tr>\n    <tr>\n      <th>214</th>\n      <td>Yield</td>\n      <td>2006</td>\n      <td>Wheat-winter</td>\n      <td>State</td>\n      <td>US</td>\n      <td>MISSOURI</td>\n      <td>NaN</td>\n      <td>3.631473</td>\n    </tr>\n    <tr>\n      <th>268</th>\n      <td>Yield</td>\n      <td>2007</td>\n      <td>Wheat-winter</td>\n      <td>State</td>\n      <td>US</td>\n      <td>MISSOURI</td>\n      <td>NaN</td>\n      <td>2.891729</td>\n    </tr>\n    <tr>\n      <th>300</th>\n      <td>Yield</td>\n      <td>2008</td>\n      <td>Wheat-winter</td>\n      <td>State</td>\n      <td>US</td>\n      <td>MISSOURI</td>\n      <td>NaN</td>\n      <td>3.227976</td>\n    </tr>\n    <tr>\n      <th>354</th>\n      <td>Yield</td>\n      <td>2009</td>\n      <td>Wheat-winter</td>\n      <td>State</td>\n      <td>US</td>\n      <td>MISSOURI</td>\n      <td>NaN</td>\n      <td>3.160727</td>\n    </tr>\n    <tr>\n      <th>388</th>\n      <td>Yield</td>\n      <td>2010</td>\n      <td>Wheat-winter</td>\n      <td>State</td>\n      <td>US</td>\n      <td>MISSOURI</td>\n      <td>NaN</td>\n      <td>3.093477</td>\n    </tr>\n    <tr>\n      <th>424</th>\n      <td>Yield</td>\n      <td>2011</td>\n      <td>Wheat-winter</td>\n      <td>State</td>\n      <td>US</td>\n      <td>MISSOURI</td>\n      <td>NaN</td>\n      <td>3.362475</td>\n    </tr>\n    <tr>\n      <th>494</th>\n      <td>Yield</td>\n      <td>2012</td>\n      <td>Wheat-winter</td>\n      <td>State</td>\n      <td>US</td>\n      <td>MISSOURI</td>\n      <td>NaN</td>\n      <td>3.900471</td>\n    </tr>\n    <tr>\n      <th>521</th>\n      <td>Yield</td>\n      <td>2013</td>\n      <td>Wheat-winter</td>\n      <td>State</td>\n      <td>US</td>\n      <td>MISSOURI</td>\n      <td>NaN</td>\n      <td>3.833222</td>\n    </tr>\n    <tr>\n      <th>573</th>\n      <td>Yield</td>\n      <td>2014</td>\n      <td>Wheat-winter</td>\n      <td>State</td>\n      <td>US</td>\n      <td>MISSOURI</td>\n      <td>NaN</td>\n      <td>3.900471</td>\n    </tr>\n    <tr>\n      <th>620</th>\n      <td>Yield</td>\n      <td>2015</td>\n      <td>Wheat-winter</td>\n      <td>State</td>\n      <td>US</td>\n      <td>MISSOURI</td>\n      <td>NaN</td>\n      <td>3.564224</td>\n    </tr>\n    <tr>\n      <th>649</th>\n      <td>Yield</td>\n      <td>2016</td>\n      <td>Wheat-winter</td>\n      <td>State</td>\n      <td>US</td>\n      <td>MISSOURI</td>\n      <td>NaN</td>\n      <td>4.707465</td>\n    </tr>\n    <tr>\n      <th>679</th>\n      <td>Yield</td>\n      <td>2017</td>\n      <td>Wheat-winter</td>\n      <td>State</td>\n      <td>US</td>\n      <td>MISSOURI</td>\n      <td>NaN</td>\n      <td>4.572966</td>\n    </tr>\n    <tr>\n      <th>752</th>\n      <td>Yield</td>\n      <td>2018</td>\n      <td>Wheat-winter</td>\n      <td>State</td>\n      <td>US</td>\n      <td>MISSOURI</td>\n      <td>NaN</td>\n      <td>3.967721</td>\n    </tr>\n    <tr>\n      <th>792</th>\n      <td>Yield</td>\n      <td>2019</td>\n      <td>Wheat-winter</td>\n      <td>State</td>\n      <td>US</td>\n      <td>MISSOURI</td>\n      <td>NaN</td>\n      <td>4.236719</td>\n    </tr>\n    <tr>\n      <th>831</th>\n      <td>Yield</td>\n      <td>2020</td>\n      <td>Wheat-winter</td>\n      <td>State</td>\n      <td>US</td>\n      <td>MISSOURI</td>\n      <td>NaN</td>\n      <td>4.169469</td>\n    </tr>\n  </tbody>\n</table>\n</div>"
     },
     "execution_count": 101,
     "metadata": {},
     "output_type": "execute_result"
    }
   ]
  },
  {
   "cell_type": "markdown",
   "source": [
    "## 1.2 Load Feature Data"
   ],
   "metadata": {
    "collapsed": false
   },
   "id": "a5fa4c53daee58b6"
  },
  {
   "metadata": {
    "ExecuteTime": {
     "end_time": "2024-11-12T09:44:35.948989Z",
     "start_time": "2024-11-12T09:44:34.863843Z"
    }
   },
   "cell_type": "code",
   "source": [
    "# get climate data for MISSOURI from 2010 to 2020\n",
    "climate_data = gh.get_climate_data(\n",
    "    country='US',\n",
    "    start_year=2001,\n",
    "    end_year=2020,\n",
    "    spatial_resolution='state',\n",
    "    time_resolution='monthly'\n",
    ")\n",
    "# we only consider past climate data for MISSOURI\n",
    "climate_data = climate_data[climate_data['State'] == 'MISSOURI']\n",
    "# we only consider past climate data for May \n",
    "climate_data = climate_data[(climate_data['Month'] == 5)]\n",
    "climate_data"
   ],
   "id": "1c379f9439787eca",
   "execution_count": 102,
   "outputs": [
    {
     "data": {
      "text/plain": "Loading Climate data:   0%|          | 0/240 [00:00<?, ?items/s]",
      "application/vnd.jupyter.widget-view+json": {
       "version_major": 2,
       "version_minor": 0,
       "model_id": "4bb8445e56ac47b79bd823ca16029eaa"
      }
     },
     "metadata": {},
     "output_type": "display_data"
    },
    {
     "data": {
      "text/plain": "       Year  Month     State CountryCode  Mean Min Temperature [K]  \\\n229    2001      5  MISSOURI          US                284.662582   \n841    2002      5  MISSOURI          US                282.070304   \n1453   2003      5  MISSOURI          US                282.263316   \n2065   2004      5  MISSOURI          US                284.961222   \n2677   2005      5  MISSOURI          US                282.234414   \n3289   2006      5  MISSOURI          US                284.260853   \n3901   2007      5  MISSOURI          US                285.849971   \n4513   2008      5  MISSOURI          US                282.424220   \n5125   2009      5  MISSOURI          US                283.549226   \n5737   2010      5  MISSOURI          US                284.149137   \n6349   2011      5  MISSOURI          US                283.681024   \n6961   2012      5  MISSOURI          US                286.270274   \n7573   2013      5  MISSOURI          US                283.566986   \n8185   2014      5  MISSOURI          US                284.116032   \n8797   2015      5  MISSOURI          US                284.758912   \n9409   2016      5  MISSOURI          US                283.436395   \n10021  2017      5  MISSOURI          US                283.306069   \n10633  2018      5  MISSOURI          US                288.117624   \n11245  2019      5  MISSOURI          US                283.452453   \n11857  2020      5  MISSOURI          US                283.472718   \n\n       Mean Max Temperature [K]  Mean Temperature [K]  \\\n229                  300.878114            292.263144   \n841                  299.356973            290.078610   \n1453                 300.207909            291.022210   \n2065                 301.150538            293.118775   \n2677                 301.160100            291.522554   \n3289                 301.364350            292.041527   \n3901                 302.204484            293.887910   \n4513                 300.018799            290.820751   \n5125                 300.066980            291.461370   \n5737                 300.806467            291.874930   \n6349                 300.142997            290.970161   \n6961                 304.777444            295.163567   \n7573                 300.233046            291.059554   \n8185                 301.791731            292.362245   \n8797                 300.236889            292.071598   \n9409                 299.653635            290.900491   \n10021                300.877579            291.766780   \n10633                305.227954            296.338614   \n11245                300.883186            291.640119   \n11857                298.745371            290.310237   \n\n       Total Precipitation [mm]  Temperature*Precipitation  Temperature^2  \\\n229                  151.964422                1431.524499   85429.525869   \n841                  214.405235                2013.966248   84157.815308   \n1453                 160.309631                1505.018808   84699.263643   \n2065                 139.540869                1316.629529   85939.249018   \n2677                  50.905140                 481.993457   85004.133967   \n3289                  86.425210                 814.606984   85311.259123   \n3901                 105.564446                1000.572259   86375.741807   \n4513                 148.331123                1391.685290   84587.039631   \n5125                 134.825296                1268.749725   84958.836121   \n5737                 162.123630                1517.256067   85209.372264   \n6349                 149.506342                1404.134944   84692.296665   \n6961                  64.005244                 608.353830   87132.373087   \n7573                 159.826668                1494.565638   84743.726532   \n8185                  88.141943                 831.898290   85502.164259   \n8797                 180.411002                1701.474664   85315.974120   \n9409                 129.304133                1215.718091   84637.367156   \n10021                149.325799                1399.384516   85142.538363   \n10633                107.170175                1021.660926   87820.970917   \n11245                246.025258                2316.646286   85072.015759   \n11857                154.231518                1450.567611   84297.500311   \n\n       Precipitation^2  Min Precipitation [mm]  Max Precipitation [mm]  \\\n229          71.203982                0.006218               32.215533   \n841         118.618068                0.000045               28.872253   \n1453         63.014228                0.000024               25.646800   \n2065         46.459441                0.000000               16.844388   \n2677         11.284445               -0.000022               13.351218   \n3289         18.178048                0.029726               13.962424   \n3901         24.304264                0.000000               12.086929   \n4513         57.157087               -0.000022               18.396339   \n5125         45.513927                0.000000               18.143862   \n5737         69.164610                0.001666               26.293345   \n6349         53.880161                0.000008               27.098957   \n6961         19.160436                0.000000               14.996534   \n7573         65.435132                0.000000               27.595642   \n8185         21.729171                0.000703               13.647958   \n8797         72.907837               -0.000045               21.419212   \n9409         41.247400                0.000000               18.016967   \n10021        79.205925                0.000132               32.308936   \n10633        32.194748                0.053771               21.207011   \n11245       115.040072                0.031420               27.917236   \n11857        50.706577                0.017605               15.705214   \n\n       Mean Precipitation [mm]  \n229                   4.902078  \n841                   6.916298  \n1453                  5.171278  \n2065                  4.501318  \n2677                  1.642101  \n3289                  2.787910  \n3901                  3.405305  \n4513                  4.784875  \n5125                  4.349203  \n5737                  5.229795  \n6349                  4.822785  \n6961                  2.064685  \n7573                  5.155699  \n8185                  2.843288  \n8797                  5.819710  \n9409                  4.171101  \n10021                 4.816961  \n10633                 3.457102  \n11245                 7.936299  \n11857                 4.975210  ",
      "text/html": "<div>\n<style scoped>\n    .dataframe tbody tr th:only-of-type {\n        vertical-align: middle;\n    }\n\n    .dataframe tbody tr th {\n        vertical-align: top;\n    }\n\n    .dataframe thead th {\n        text-align: right;\n    }\n</style>\n<table border=\"1\" class=\"dataframe\">\n  <thead>\n    <tr style=\"text-align: right;\">\n      <th></th>\n      <th>Year</th>\n      <th>Month</th>\n      <th>State</th>\n      <th>CountryCode</th>\n      <th>Mean Min Temperature [K]</th>\n      <th>Mean Max Temperature [K]</th>\n      <th>Mean Temperature [K]</th>\n      <th>Total Precipitation [mm]</th>\n      <th>Temperature*Precipitation</th>\n      <th>Temperature^2</th>\n      <th>Precipitation^2</th>\n      <th>Min Precipitation [mm]</th>\n      <th>Max Precipitation [mm]</th>\n      <th>Mean Precipitation [mm]</th>\n    </tr>\n  </thead>\n  <tbody>\n    <tr>\n      <th>229</th>\n      <td>2001</td>\n      <td>5</td>\n      <td>MISSOURI</td>\n      <td>US</td>\n      <td>284.662582</td>\n      <td>300.878114</td>\n      <td>292.263144</td>\n      <td>151.964422</td>\n      <td>1431.524499</td>\n      <td>85429.525869</td>\n      <td>71.203982</td>\n      <td>0.006218</td>\n      <td>32.215533</td>\n      <td>4.902078</td>\n    </tr>\n    <tr>\n      <th>841</th>\n      <td>2002</td>\n      <td>5</td>\n      <td>MISSOURI</td>\n      <td>US</td>\n      <td>282.070304</td>\n      <td>299.356973</td>\n      <td>290.078610</td>\n      <td>214.405235</td>\n      <td>2013.966248</td>\n      <td>84157.815308</td>\n      <td>118.618068</td>\n      <td>0.000045</td>\n      <td>28.872253</td>\n      <td>6.916298</td>\n    </tr>\n    <tr>\n      <th>1453</th>\n      <td>2003</td>\n      <td>5</td>\n      <td>MISSOURI</td>\n      <td>US</td>\n      <td>282.263316</td>\n      <td>300.207909</td>\n      <td>291.022210</td>\n      <td>160.309631</td>\n      <td>1505.018808</td>\n      <td>84699.263643</td>\n      <td>63.014228</td>\n      <td>0.000024</td>\n      <td>25.646800</td>\n      <td>5.171278</td>\n    </tr>\n    <tr>\n      <th>2065</th>\n      <td>2004</td>\n      <td>5</td>\n      <td>MISSOURI</td>\n      <td>US</td>\n      <td>284.961222</td>\n      <td>301.150538</td>\n      <td>293.118775</td>\n      <td>139.540869</td>\n      <td>1316.629529</td>\n      <td>85939.249018</td>\n      <td>46.459441</td>\n      <td>0.000000</td>\n      <td>16.844388</td>\n      <td>4.501318</td>\n    </tr>\n    <tr>\n      <th>2677</th>\n      <td>2005</td>\n      <td>5</td>\n      <td>MISSOURI</td>\n      <td>US</td>\n      <td>282.234414</td>\n      <td>301.160100</td>\n      <td>291.522554</td>\n      <td>50.905140</td>\n      <td>481.993457</td>\n      <td>85004.133967</td>\n      <td>11.284445</td>\n      <td>-0.000022</td>\n      <td>13.351218</td>\n      <td>1.642101</td>\n    </tr>\n    <tr>\n      <th>3289</th>\n      <td>2006</td>\n      <td>5</td>\n      <td>MISSOURI</td>\n      <td>US</td>\n      <td>284.260853</td>\n      <td>301.364350</td>\n      <td>292.041527</td>\n      <td>86.425210</td>\n      <td>814.606984</td>\n      <td>85311.259123</td>\n      <td>18.178048</td>\n      <td>0.029726</td>\n      <td>13.962424</td>\n      <td>2.787910</td>\n    </tr>\n    <tr>\n      <th>3901</th>\n      <td>2007</td>\n      <td>5</td>\n      <td>MISSOURI</td>\n      <td>US</td>\n      <td>285.849971</td>\n      <td>302.204484</td>\n      <td>293.887910</td>\n      <td>105.564446</td>\n      <td>1000.572259</td>\n      <td>86375.741807</td>\n      <td>24.304264</td>\n      <td>0.000000</td>\n      <td>12.086929</td>\n      <td>3.405305</td>\n    </tr>\n    <tr>\n      <th>4513</th>\n      <td>2008</td>\n      <td>5</td>\n      <td>MISSOURI</td>\n      <td>US</td>\n      <td>282.424220</td>\n      <td>300.018799</td>\n      <td>290.820751</td>\n      <td>148.331123</td>\n      <td>1391.685290</td>\n      <td>84587.039631</td>\n      <td>57.157087</td>\n      <td>-0.000022</td>\n      <td>18.396339</td>\n      <td>4.784875</td>\n    </tr>\n    <tr>\n      <th>5125</th>\n      <td>2009</td>\n      <td>5</td>\n      <td>MISSOURI</td>\n      <td>US</td>\n      <td>283.549226</td>\n      <td>300.066980</td>\n      <td>291.461370</td>\n      <td>134.825296</td>\n      <td>1268.749725</td>\n      <td>84958.836121</td>\n      <td>45.513927</td>\n      <td>0.000000</td>\n      <td>18.143862</td>\n      <td>4.349203</td>\n    </tr>\n    <tr>\n      <th>5737</th>\n      <td>2010</td>\n      <td>5</td>\n      <td>MISSOURI</td>\n      <td>US</td>\n      <td>284.149137</td>\n      <td>300.806467</td>\n      <td>291.874930</td>\n      <td>162.123630</td>\n      <td>1517.256067</td>\n      <td>85209.372264</td>\n      <td>69.164610</td>\n      <td>0.001666</td>\n      <td>26.293345</td>\n      <td>5.229795</td>\n    </tr>\n    <tr>\n      <th>6349</th>\n      <td>2011</td>\n      <td>5</td>\n      <td>MISSOURI</td>\n      <td>US</td>\n      <td>283.681024</td>\n      <td>300.142997</td>\n      <td>290.970161</td>\n      <td>149.506342</td>\n      <td>1404.134944</td>\n      <td>84692.296665</td>\n      <td>53.880161</td>\n      <td>0.000008</td>\n      <td>27.098957</td>\n      <td>4.822785</td>\n    </tr>\n    <tr>\n      <th>6961</th>\n      <td>2012</td>\n      <td>5</td>\n      <td>MISSOURI</td>\n      <td>US</td>\n      <td>286.270274</td>\n      <td>304.777444</td>\n      <td>295.163567</td>\n      <td>64.005244</td>\n      <td>608.353830</td>\n      <td>87132.373087</td>\n      <td>19.160436</td>\n      <td>0.000000</td>\n      <td>14.996534</td>\n      <td>2.064685</td>\n    </tr>\n    <tr>\n      <th>7573</th>\n      <td>2013</td>\n      <td>5</td>\n      <td>MISSOURI</td>\n      <td>US</td>\n      <td>283.566986</td>\n      <td>300.233046</td>\n      <td>291.059554</td>\n      <td>159.826668</td>\n      <td>1494.565638</td>\n      <td>84743.726532</td>\n      <td>65.435132</td>\n      <td>0.000000</td>\n      <td>27.595642</td>\n      <td>5.155699</td>\n    </tr>\n    <tr>\n      <th>8185</th>\n      <td>2014</td>\n      <td>5</td>\n      <td>MISSOURI</td>\n      <td>US</td>\n      <td>284.116032</td>\n      <td>301.791731</td>\n      <td>292.362245</td>\n      <td>88.141943</td>\n      <td>831.898290</td>\n      <td>85502.164259</td>\n      <td>21.729171</td>\n      <td>0.000703</td>\n      <td>13.647958</td>\n      <td>2.843288</td>\n    </tr>\n    <tr>\n      <th>8797</th>\n      <td>2015</td>\n      <td>5</td>\n      <td>MISSOURI</td>\n      <td>US</td>\n      <td>284.758912</td>\n      <td>300.236889</td>\n      <td>292.071598</td>\n      <td>180.411002</td>\n      <td>1701.474664</td>\n      <td>85315.974120</td>\n      <td>72.907837</td>\n      <td>-0.000045</td>\n      <td>21.419212</td>\n      <td>5.819710</td>\n    </tr>\n    <tr>\n      <th>9409</th>\n      <td>2016</td>\n      <td>5</td>\n      <td>MISSOURI</td>\n      <td>US</td>\n      <td>283.436395</td>\n      <td>299.653635</td>\n      <td>290.900491</td>\n      <td>129.304133</td>\n      <td>1215.718091</td>\n      <td>84637.367156</td>\n      <td>41.247400</td>\n      <td>0.000000</td>\n      <td>18.016967</td>\n      <td>4.171101</td>\n    </tr>\n    <tr>\n      <th>10021</th>\n      <td>2017</td>\n      <td>5</td>\n      <td>MISSOURI</td>\n      <td>US</td>\n      <td>283.306069</td>\n      <td>300.877579</td>\n      <td>291.766780</td>\n      <td>149.325799</td>\n      <td>1399.384516</td>\n      <td>85142.538363</td>\n      <td>79.205925</td>\n      <td>0.000132</td>\n      <td>32.308936</td>\n      <td>4.816961</td>\n    </tr>\n    <tr>\n      <th>10633</th>\n      <td>2018</td>\n      <td>5</td>\n      <td>MISSOURI</td>\n      <td>US</td>\n      <td>288.117624</td>\n      <td>305.227954</td>\n      <td>296.338614</td>\n      <td>107.170175</td>\n      <td>1021.660926</td>\n      <td>87820.970917</td>\n      <td>32.194748</td>\n      <td>0.053771</td>\n      <td>21.207011</td>\n      <td>3.457102</td>\n    </tr>\n    <tr>\n      <th>11245</th>\n      <td>2019</td>\n      <td>5</td>\n      <td>MISSOURI</td>\n      <td>US</td>\n      <td>283.452453</td>\n      <td>300.883186</td>\n      <td>291.640119</td>\n      <td>246.025258</td>\n      <td>2316.646286</td>\n      <td>85072.015759</td>\n      <td>115.040072</td>\n      <td>0.031420</td>\n      <td>27.917236</td>\n      <td>7.936299</td>\n    </tr>\n    <tr>\n      <th>11857</th>\n      <td>2020</td>\n      <td>5</td>\n      <td>MISSOURI</td>\n      <td>US</td>\n      <td>283.472718</td>\n      <td>298.745371</td>\n      <td>290.310237</td>\n      <td>154.231518</td>\n      <td>1450.567611</td>\n      <td>84297.500311</td>\n      <td>50.706577</td>\n      <td>0.017605</td>\n      <td>15.705214</td>\n      <td>4.975210</td>\n    </tr>\n  </tbody>\n</table>\n</div>"
     },
     "execution_count": 102,
     "metadata": {},
     "output_type": "execute_result"
    }
   ]
  },
  {
   "cell_type": "markdown",
   "source": [
    "# 2. Create training dataset"
   ],
   "metadata": {
    "collapsed": false
   },
   "id": "1ba2571473f85c0c"
  },
  {
   "cell_type": "code",
   "execution_count": 103,
   "outputs": [
    {
     "data": {
      "text/plain": "    Year  Month     State CountryCode  Mean Min Temperature [K]  \\\n0   2001      5  MISSOURI          US                284.662582   \n1   2002      5  MISSOURI          US                282.070304   \n2   2003      5  MISSOURI          US                282.263316   \n3   2004      5  MISSOURI          US                284.961222   \n4   2005      5  MISSOURI          US                282.234414   \n5   2006      5  MISSOURI          US                284.260853   \n6   2007      5  MISSOURI          US                285.849971   \n7   2008      5  MISSOURI          US                282.424220   \n8   2009      5  MISSOURI          US                283.549226   \n9   2010      5  MISSOURI          US                284.149137   \n10  2011      5  MISSOURI          US                283.681024   \n11  2012      5  MISSOURI          US                286.270274   \n12  2013      5  MISSOURI          US                283.566986   \n13  2014      5  MISSOURI          US                284.116032   \n14  2015      5  MISSOURI          US                284.758912   \n15  2016      5  MISSOURI          US                283.436395   \n16  2017      5  MISSOURI          US                283.306069   \n17  2018      5  MISSOURI          US                288.117624   \n18  2019      5  MISSOURI          US                283.452453   \n19  2020      5  MISSOURI          US                283.472718   \n\n    Mean Max Temperature [K]  Mean Temperature [K]  Total Precipitation [mm]  \\\n0                 300.878114            292.263144                151.964422   \n1                 299.356973            290.078610                214.405235   \n2                 300.207909            291.022210                160.309631   \n3                 301.150538            293.118775                139.540869   \n4                 301.160100            291.522554                 50.905140   \n5                 301.364350            292.041527                 86.425210   \n6                 302.204484            293.887910                105.564446   \n7                 300.018799            290.820751                148.331123   \n8                 300.066980            291.461370                134.825296   \n9                 300.806467            291.874930                162.123630   \n10                300.142997            290.970161                149.506342   \n11                304.777444            295.163567                 64.005244   \n12                300.233046            291.059554                159.826668   \n13                301.791731            292.362245                 88.141943   \n14                300.236889            292.071598                180.411002   \n15                299.653635            290.900491                129.304133   \n16                300.877579            291.766780                149.325799   \n17                305.227954            296.338614                107.170175   \n18                300.883186            291.640119                246.025258   \n19                298.745371            290.310237                154.231518   \n\n    Temperature*Precipitation  Temperature^2  Precipitation^2  \\\n0                 1431.524499   85429.525869        71.203982   \n1                 2013.966248   84157.815308       118.618068   \n2                 1505.018808   84699.263643        63.014228   \n3                 1316.629529   85939.249018        46.459441   \n4                  481.993457   85004.133967        11.284445   \n5                  814.606984   85311.259123        18.178048   \n6                 1000.572259   86375.741807        24.304264   \n7                 1391.685290   84587.039631        57.157087   \n8                 1268.749725   84958.836121        45.513927   \n9                 1517.256067   85209.372264        69.164610   \n10                1404.134944   84692.296665        53.880161   \n11                 608.353830   87132.373087        19.160436   \n12                1494.565638   84743.726532        65.435132   \n13                 831.898290   85502.164259        21.729171   \n14                1701.474664   85315.974120        72.907837   \n15                1215.718091   84637.367156        41.247400   \n16                1399.384516   85142.538363        79.205925   \n17                1021.660926   87820.970917        32.194748   \n18                2316.646286   85072.015759       115.040072   \n19                1450.567611   84297.500311        50.706577   \n\n    Min Precipitation [mm]  Max Precipitation [mm]  Mean Precipitation [mm]  \\\n0                 0.006218               32.215533                 4.902078   \n1                 0.000045               28.872253                 6.916298   \n2                 0.000024               25.646800                 5.171278   \n3                 0.000000               16.844388                 4.501318   \n4                -0.000022               13.351218                 1.642101   \n5                 0.029726               13.962424                 2.787910   \n6                 0.000000               12.086929                 3.405305   \n7                -0.000022               18.396339                 4.784875   \n8                 0.000000               18.143862                 4.349203   \n9                 0.001666               26.293345                 5.229795   \n10                0.000008               27.098957                 4.822785   \n11                0.000000               14.996534                 2.064685   \n12                0.000000               27.595642                 5.155699   \n13                0.000703               13.647958                 2.843288   \n14               -0.000045               21.419212                 5.819710   \n15                0.000000               18.016967                 4.171101   \n16                0.000132               32.308936                 4.816961   \n17                0.053771               21.207011                 3.457102   \n18                0.031420               27.917236                 7.936299   \n19                0.017605               15.705214                 4.975210   \n\n       Value  \n0   3.631473  \n1   2.958978  \n2   4.102220  \n3   3.496974  \n4   3.564224  \n5   3.631473  \n6   2.891729  \n7   3.227976  \n8   3.160727  \n9   3.093477  \n10  3.362475  \n11  3.900471  \n12  3.833222  \n13  3.900471  \n14  3.564224  \n15  4.707465  \n16  4.572966  \n17  3.967721  \n18  4.236719  \n19  4.169469  ",
      "text/html": "<div>\n<style scoped>\n    .dataframe tbody tr th:only-of-type {\n        vertical-align: middle;\n    }\n\n    .dataframe tbody tr th {\n        vertical-align: top;\n    }\n\n    .dataframe thead th {\n        text-align: right;\n    }\n</style>\n<table border=\"1\" class=\"dataframe\">\n  <thead>\n    <tr style=\"text-align: right;\">\n      <th></th>\n      <th>Year</th>\n      <th>Month</th>\n      <th>State</th>\n      <th>CountryCode</th>\n      <th>Mean Min Temperature [K]</th>\n      <th>Mean Max Temperature [K]</th>\n      <th>Mean Temperature [K]</th>\n      <th>Total Precipitation [mm]</th>\n      <th>Temperature*Precipitation</th>\n      <th>Temperature^2</th>\n      <th>Precipitation^2</th>\n      <th>Min Precipitation [mm]</th>\n      <th>Max Precipitation [mm]</th>\n      <th>Mean Precipitation [mm]</th>\n      <th>Value</th>\n    </tr>\n  </thead>\n  <tbody>\n    <tr>\n      <th>0</th>\n      <td>2001</td>\n      <td>5</td>\n      <td>MISSOURI</td>\n      <td>US</td>\n      <td>284.662582</td>\n      <td>300.878114</td>\n      <td>292.263144</td>\n      <td>151.964422</td>\n      <td>1431.524499</td>\n      <td>85429.525869</td>\n      <td>71.203982</td>\n      <td>0.006218</td>\n      <td>32.215533</td>\n      <td>4.902078</td>\n      <td>3.631473</td>\n    </tr>\n    <tr>\n      <th>1</th>\n      <td>2002</td>\n      <td>5</td>\n      <td>MISSOURI</td>\n      <td>US</td>\n      <td>282.070304</td>\n      <td>299.356973</td>\n      <td>290.078610</td>\n      <td>214.405235</td>\n      <td>2013.966248</td>\n      <td>84157.815308</td>\n      <td>118.618068</td>\n      <td>0.000045</td>\n      <td>28.872253</td>\n      <td>6.916298</td>\n      <td>2.958978</td>\n    </tr>\n    <tr>\n      <th>2</th>\n      <td>2003</td>\n      <td>5</td>\n      <td>MISSOURI</td>\n      <td>US</td>\n      <td>282.263316</td>\n      <td>300.207909</td>\n      <td>291.022210</td>\n      <td>160.309631</td>\n      <td>1505.018808</td>\n      <td>84699.263643</td>\n      <td>63.014228</td>\n      <td>0.000024</td>\n      <td>25.646800</td>\n      <td>5.171278</td>\n      <td>4.102220</td>\n    </tr>\n    <tr>\n      <th>3</th>\n      <td>2004</td>\n      <td>5</td>\n      <td>MISSOURI</td>\n      <td>US</td>\n      <td>284.961222</td>\n      <td>301.150538</td>\n      <td>293.118775</td>\n      <td>139.540869</td>\n      <td>1316.629529</td>\n      <td>85939.249018</td>\n      <td>46.459441</td>\n      <td>0.000000</td>\n      <td>16.844388</td>\n      <td>4.501318</td>\n      <td>3.496974</td>\n    </tr>\n    <tr>\n      <th>4</th>\n      <td>2005</td>\n      <td>5</td>\n      <td>MISSOURI</td>\n      <td>US</td>\n      <td>282.234414</td>\n      <td>301.160100</td>\n      <td>291.522554</td>\n      <td>50.905140</td>\n      <td>481.993457</td>\n      <td>85004.133967</td>\n      <td>11.284445</td>\n      <td>-0.000022</td>\n      <td>13.351218</td>\n      <td>1.642101</td>\n      <td>3.564224</td>\n    </tr>\n    <tr>\n      <th>5</th>\n      <td>2006</td>\n      <td>5</td>\n      <td>MISSOURI</td>\n      <td>US</td>\n      <td>284.260853</td>\n      <td>301.364350</td>\n      <td>292.041527</td>\n      <td>86.425210</td>\n      <td>814.606984</td>\n      <td>85311.259123</td>\n      <td>18.178048</td>\n      <td>0.029726</td>\n      <td>13.962424</td>\n      <td>2.787910</td>\n      <td>3.631473</td>\n    </tr>\n    <tr>\n      <th>6</th>\n      <td>2007</td>\n      <td>5</td>\n      <td>MISSOURI</td>\n      <td>US</td>\n      <td>285.849971</td>\n      <td>302.204484</td>\n      <td>293.887910</td>\n      <td>105.564446</td>\n      <td>1000.572259</td>\n      <td>86375.741807</td>\n      <td>24.304264</td>\n      <td>0.000000</td>\n      <td>12.086929</td>\n      <td>3.405305</td>\n      <td>2.891729</td>\n    </tr>\n    <tr>\n      <th>7</th>\n      <td>2008</td>\n      <td>5</td>\n      <td>MISSOURI</td>\n      <td>US</td>\n      <td>282.424220</td>\n      <td>300.018799</td>\n      <td>290.820751</td>\n      <td>148.331123</td>\n      <td>1391.685290</td>\n      <td>84587.039631</td>\n      <td>57.157087</td>\n      <td>-0.000022</td>\n      <td>18.396339</td>\n      <td>4.784875</td>\n      <td>3.227976</td>\n    </tr>\n    <tr>\n      <th>8</th>\n      <td>2009</td>\n      <td>5</td>\n      <td>MISSOURI</td>\n      <td>US</td>\n      <td>283.549226</td>\n      <td>300.066980</td>\n      <td>291.461370</td>\n      <td>134.825296</td>\n      <td>1268.749725</td>\n      <td>84958.836121</td>\n      <td>45.513927</td>\n      <td>0.000000</td>\n      <td>18.143862</td>\n      <td>4.349203</td>\n      <td>3.160727</td>\n    </tr>\n    <tr>\n      <th>9</th>\n      <td>2010</td>\n      <td>5</td>\n      <td>MISSOURI</td>\n      <td>US</td>\n      <td>284.149137</td>\n      <td>300.806467</td>\n      <td>291.874930</td>\n      <td>162.123630</td>\n      <td>1517.256067</td>\n      <td>85209.372264</td>\n      <td>69.164610</td>\n      <td>0.001666</td>\n      <td>26.293345</td>\n      <td>5.229795</td>\n      <td>3.093477</td>\n    </tr>\n    <tr>\n      <th>10</th>\n      <td>2011</td>\n      <td>5</td>\n      <td>MISSOURI</td>\n      <td>US</td>\n      <td>283.681024</td>\n      <td>300.142997</td>\n      <td>290.970161</td>\n      <td>149.506342</td>\n      <td>1404.134944</td>\n      <td>84692.296665</td>\n      <td>53.880161</td>\n      <td>0.000008</td>\n      <td>27.098957</td>\n      <td>4.822785</td>\n      <td>3.362475</td>\n    </tr>\n    <tr>\n      <th>11</th>\n      <td>2012</td>\n      <td>5</td>\n      <td>MISSOURI</td>\n      <td>US</td>\n      <td>286.270274</td>\n      <td>304.777444</td>\n      <td>295.163567</td>\n      <td>64.005244</td>\n      <td>608.353830</td>\n      <td>87132.373087</td>\n      <td>19.160436</td>\n      <td>0.000000</td>\n      <td>14.996534</td>\n      <td>2.064685</td>\n      <td>3.900471</td>\n    </tr>\n    <tr>\n      <th>12</th>\n      <td>2013</td>\n      <td>5</td>\n      <td>MISSOURI</td>\n      <td>US</td>\n      <td>283.566986</td>\n      <td>300.233046</td>\n      <td>291.059554</td>\n      <td>159.826668</td>\n      <td>1494.565638</td>\n      <td>84743.726532</td>\n      <td>65.435132</td>\n      <td>0.000000</td>\n      <td>27.595642</td>\n      <td>5.155699</td>\n      <td>3.833222</td>\n    </tr>\n    <tr>\n      <th>13</th>\n      <td>2014</td>\n      <td>5</td>\n      <td>MISSOURI</td>\n      <td>US</td>\n      <td>284.116032</td>\n      <td>301.791731</td>\n      <td>292.362245</td>\n      <td>88.141943</td>\n      <td>831.898290</td>\n      <td>85502.164259</td>\n      <td>21.729171</td>\n      <td>0.000703</td>\n      <td>13.647958</td>\n      <td>2.843288</td>\n      <td>3.900471</td>\n    </tr>\n    <tr>\n      <th>14</th>\n      <td>2015</td>\n      <td>5</td>\n      <td>MISSOURI</td>\n      <td>US</td>\n      <td>284.758912</td>\n      <td>300.236889</td>\n      <td>292.071598</td>\n      <td>180.411002</td>\n      <td>1701.474664</td>\n      <td>85315.974120</td>\n      <td>72.907837</td>\n      <td>-0.000045</td>\n      <td>21.419212</td>\n      <td>5.819710</td>\n      <td>3.564224</td>\n    </tr>\n    <tr>\n      <th>15</th>\n      <td>2016</td>\n      <td>5</td>\n      <td>MISSOURI</td>\n      <td>US</td>\n      <td>283.436395</td>\n      <td>299.653635</td>\n      <td>290.900491</td>\n      <td>129.304133</td>\n      <td>1215.718091</td>\n      <td>84637.367156</td>\n      <td>41.247400</td>\n      <td>0.000000</td>\n      <td>18.016967</td>\n      <td>4.171101</td>\n      <td>4.707465</td>\n    </tr>\n    <tr>\n      <th>16</th>\n      <td>2017</td>\n      <td>5</td>\n      <td>MISSOURI</td>\n      <td>US</td>\n      <td>283.306069</td>\n      <td>300.877579</td>\n      <td>291.766780</td>\n      <td>149.325799</td>\n      <td>1399.384516</td>\n      <td>85142.538363</td>\n      <td>79.205925</td>\n      <td>0.000132</td>\n      <td>32.308936</td>\n      <td>4.816961</td>\n      <td>4.572966</td>\n    </tr>\n    <tr>\n      <th>17</th>\n      <td>2018</td>\n      <td>5</td>\n      <td>MISSOURI</td>\n      <td>US</td>\n      <td>288.117624</td>\n      <td>305.227954</td>\n      <td>296.338614</td>\n      <td>107.170175</td>\n      <td>1021.660926</td>\n      <td>87820.970917</td>\n      <td>32.194748</td>\n      <td>0.053771</td>\n      <td>21.207011</td>\n      <td>3.457102</td>\n      <td>3.967721</td>\n    </tr>\n    <tr>\n      <th>18</th>\n      <td>2019</td>\n      <td>5</td>\n      <td>MISSOURI</td>\n      <td>US</td>\n      <td>283.452453</td>\n      <td>300.883186</td>\n      <td>291.640119</td>\n      <td>246.025258</td>\n      <td>2316.646286</td>\n      <td>85072.015759</td>\n      <td>115.040072</td>\n      <td>0.031420</td>\n      <td>27.917236</td>\n      <td>7.936299</td>\n      <td>4.236719</td>\n    </tr>\n    <tr>\n      <th>19</th>\n      <td>2020</td>\n      <td>5</td>\n      <td>MISSOURI</td>\n      <td>US</td>\n      <td>283.472718</td>\n      <td>298.745371</td>\n      <td>290.310237</td>\n      <td>154.231518</td>\n      <td>1450.567611</td>\n      <td>84297.500311</td>\n      <td>50.706577</td>\n      <td>0.017605</td>\n      <td>15.705214</td>\n      <td>4.975210</td>\n      <td>4.169469</td>\n    </tr>\n  </tbody>\n</table>\n</div>"
     },
     "execution_count": 103,
     "metadata": {},
     "output_type": "execute_result"
    }
   ],
   "source": [
    "# we append the climate dataframe with the corresponding historical yields\n",
    "training_data = pd.merge(climate_data, yield_data[['Year', 'Value']], on=\"Year\", how=\"inner\")\n",
    "training_data"
   ],
   "metadata": {
    "collapsed": false,
    "ExecuteTime": {
     "end_time": "2024-11-12T09:44:35.949652Z",
     "start_time": "2024-11-12T09:44:35.095621Z"
    }
   },
   "id": "e0b58c57cd0fc76e"
  },
  {
   "cell_type": "code",
   "execution_count": 104,
   "outputs": [],
   "source": [
    "# splitting data into X (features) and y (target)\n",
    "y = training_data[[\"Value\"]]\n",
    "X = training_data[[\n",
    "    'Mean Min Temperature [K]', \n",
    "    'Mean Max Temperature [K]',\n",
    "    'Mean Temperature [K]', \n",
    "    'Total Precipitation [mm]',\n",
    "    'Temperature*Precipitation', \n",
    "    'Temperature^2', \n",
    "    'Precipitation^2',\n",
    "    'Min Precipitation [mm]', \n",
    "    'Max Precipitation [mm]',\n",
    "    'Mean Precipitation [mm]'\n",
    "]]"
   ],
   "metadata": {
    "collapsed": false,
    "ExecuteTime": {
     "end_time": "2024-11-12T09:44:35.949715Z",
     "start_time": "2024-11-12T09:44:35.099605Z"
    }
   },
   "id": "243c6b7b002f8190"
  },
  {
   "cell_type": "code",
   "execution_count": 105,
   "outputs": [
    {
     "data": {
      "text/plain": "    Mean Min Temperature [K]  Mean Max Temperature [K]  Mean Temperature [K]  \\\n6                 285.849971                302.204484            293.887910   \n15                283.436395                299.653635            290.900491   \n18                283.452453                300.883186            291.640119   \n4                 282.234414                301.160100            291.522554   \n12                283.566986                300.233046            291.059554   \n2                 282.263316                300.207909            291.022210   \n13                284.116032                301.791731            292.362245   \n1                 282.070304                299.356973            290.078610   \n16                283.306069                300.877579            291.766780   \n0                 284.662582                300.878114            292.263144   \n14                284.758912                300.236889            292.071598   \n19                283.472718                298.745371            290.310237   \n8                 283.549226                300.066980            291.461370   \n10                283.681024                300.142997            290.970161   \n5                 284.260853                301.364350            292.041527   \n9                 284.149137                300.806467            291.874930   \n17                288.117624                305.227954            296.338614   \n3                 284.961222                301.150538            293.118775   \n\n    Total Precipitation [mm]  Temperature*Precipitation  Temperature^2  \\\n6                 105.564446                1000.572259   86375.741807   \n15                129.304133                1215.718091   84637.367156   \n18                246.025258                2316.646286   85072.015759   \n4                  50.905140                 481.993457   85004.133967   \n12                159.826668                1494.565638   84743.726532   \n2                 160.309631                1505.018808   84699.263643   \n13                 88.141943                 831.898290   85502.164259   \n1                 214.405235                2013.966248   84157.815308   \n16                149.325799                1399.384516   85142.538363   \n0                 151.964422                1431.524499   85429.525869   \n14                180.411002                1701.474664   85315.974120   \n19                154.231518                1450.567611   84297.500311   \n8                 134.825296                1268.749725   84958.836121   \n10                149.506342                1404.134944   84692.296665   \n5                  86.425210                 814.606984   85311.259123   \n9                 162.123630                1517.256067   85209.372264   \n17                107.170175                1021.660926   87820.970917   \n3                 139.540869                1316.629529   85939.249018   \n\n    Precipitation^2  Min Precipitation [mm]  Max Precipitation [mm]  \\\n6         24.304264                0.000000               12.086929   \n15        41.247400                0.000000               18.016967   \n18       115.040072                0.031420               27.917236   \n4         11.284445               -0.000022               13.351218   \n12        65.435132                0.000000               27.595642   \n2         63.014228                0.000024               25.646800   \n13        21.729171                0.000703               13.647958   \n1        118.618068                0.000045               28.872253   \n16        79.205925                0.000132               32.308936   \n0         71.203982                0.006218               32.215533   \n14        72.907837               -0.000045               21.419212   \n19        50.706577                0.017605               15.705214   \n8         45.513927                0.000000               18.143862   \n10        53.880161                0.000008               27.098957   \n5         18.178048                0.029726               13.962424   \n9         69.164610                0.001666               26.293345   \n17        32.194748                0.053771               21.207011   \n3         46.459441                0.000000               16.844388   \n\n    Mean Precipitation [mm]  \n6                  3.405305  \n15                 4.171101  \n18                 7.936299  \n4                  1.642101  \n12                 5.155699  \n2                  5.171278  \n13                 2.843288  \n1                  6.916298  \n16                 4.816961  \n0                  4.902078  \n14                 5.819710  \n19                 4.975210  \n8                  4.349203  \n10                 4.822785  \n5                  2.787910  \n9                  5.229795  \n17                 3.457102  \n3                  4.501318  ",
      "text/html": "<div>\n<style scoped>\n    .dataframe tbody tr th:only-of-type {\n        vertical-align: middle;\n    }\n\n    .dataframe tbody tr th {\n        vertical-align: top;\n    }\n\n    .dataframe thead th {\n        text-align: right;\n    }\n</style>\n<table border=\"1\" class=\"dataframe\">\n  <thead>\n    <tr style=\"text-align: right;\">\n      <th></th>\n      <th>Mean Min Temperature [K]</th>\n      <th>Mean Max Temperature [K]</th>\n      <th>Mean Temperature [K]</th>\n      <th>Total Precipitation [mm]</th>\n      <th>Temperature*Precipitation</th>\n      <th>Temperature^2</th>\n      <th>Precipitation^2</th>\n      <th>Min Precipitation [mm]</th>\n      <th>Max Precipitation [mm]</th>\n      <th>Mean Precipitation [mm]</th>\n    </tr>\n  </thead>\n  <tbody>\n    <tr>\n      <th>6</th>\n      <td>285.849971</td>\n      <td>302.204484</td>\n      <td>293.887910</td>\n      <td>105.564446</td>\n      <td>1000.572259</td>\n      <td>86375.741807</td>\n      <td>24.304264</td>\n      <td>0.000000</td>\n      <td>12.086929</td>\n      <td>3.405305</td>\n    </tr>\n    <tr>\n      <th>15</th>\n      <td>283.436395</td>\n      <td>299.653635</td>\n      <td>290.900491</td>\n      <td>129.304133</td>\n      <td>1215.718091</td>\n      <td>84637.367156</td>\n      <td>41.247400</td>\n      <td>0.000000</td>\n      <td>18.016967</td>\n      <td>4.171101</td>\n    </tr>\n    <tr>\n      <th>18</th>\n      <td>283.452453</td>\n      <td>300.883186</td>\n      <td>291.640119</td>\n      <td>246.025258</td>\n      <td>2316.646286</td>\n      <td>85072.015759</td>\n      <td>115.040072</td>\n      <td>0.031420</td>\n      <td>27.917236</td>\n      <td>7.936299</td>\n    </tr>\n    <tr>\n      <th>4</th>\n      <td>282.234414</td>\n      <td>301.160100</td>\n      <td>291.522554</td>\n      <td>50.905140</td>\n      <td>481.993457</td>\n      <td>85004.133967</td>\n      <td>11.284445</td>\n      <td>-0.000022</td>\n      <td>13.351218</td>\n      <td>1.642101</td>\n    </tr>\n    <tr>\n      <th>12</th>\n      <td>283.566986</td>\n      <td>300.233046</td>\n      <td>291.059554</td>\n      <td>159.826668</td>\n      <td>1494.565638</td>\n      <td>84743.726532</td>\n      <td>65.435132</td>\n      <td>0.000000</td>\n      <td>27.595642</td>\n      <td>5.155699</td>\n    </tr>\n    <tr>\n      <th>2</th>\n      <td>282.263316</td>\n      <td>300.207909</td>\n      <td>291.022210</td>\n      <td>160.309631</td>\n      <td>1505.018808</td>\n      <td>84699.263643</td>\n      <td>63.014228</td>\n      <td>0.000024</td>\n      <td>25.646800</td>\n      <td>5.171278</td>\n    </tr>\n    <tr>\n      <th>13</th>\n      <td>284.116032</td>\n      <td>301.791731</td>\n      <td>292.362245</td>\n      <td>88.141943</td>\n      <td>831.898290</td>\n      <td>85502.164259</td>\n      <td>21.729171</td>\n      <td>0.000703</td>\n      <td>13.647958</td>\n      <td>2.843288</td>\n    </tr>\n    <tr>\n      <th>1</th>\n      <td>282.070304</td>\n      <td>299.356973</td>\n      <td>290.078610</td>\n      <td>214.405235</td>\n      <td>2013.966248</td>\n      <td>84157.815308</td>\n      <td>118.618068</td>\n      <td>0.000045</td>\n      <td>28.872253</td>\n      <td>6.916298</td>\n    </tr>\n    <tr>\n      <th>16</th>\n      <td>283.306069</td>\n      <td>300.877579</td>\n      <td>291.766780</td>\n      <td>149.325799</td>\n      <td>1399.384516</td>\n      <td>85142.538363</td>\n      <td>79.205925</td>\n      <td>0.000132</td>\n      <td>32.308936</td>\n      <td>4.816961</td>\n    </tr>\n    <tr>\n      <th>0</th>\n      <td>284.662582</td>\n      <td>300.878114</td>\n      <td>292.263144</td>\n      <td>151.964422</td>\n      <td>1431.524499</td>\n      <td>85429.525869</td>\n      <td>71.203982</td>\n      <td>0.006218</td>\n      <td>32.215533</td>\n      <td>4.902078</td>\n    </tr>\n    <tr>\n      <th>14</th>\n      <td>284.758912</td>\n      <td>300.236889</td>\n      <td>292.071598</td>\n      <td>180.411002</td>\n      <td>1701.474664</td>\n      <td>85315.974120</td>\n      <td>72.907837</td>\n      <td>-0.000045</td>\n      <td>21.419212</td>\n      <td>5.819710</td>\n    </tr>\n    <tr>\n      <th>19</th>\n      <td>283.472718</td>\n      <td>298.745371</td>\n      <td>290.310237</td>\n      <td>154.231518</td>\n      <td>1450.567611</td>\n      <td>84297.500311</td>\n      <td>50.706577</td>\n      <td>0.017605</td>\n      <td>15.705214</td>\n      <td>4.975210</td>\n    </tr>\n    <tr>\n      <th>8</th>\n      <td>283.549226</td>\n      <td>300.066980</td>\n      <td>291.461370</td>\n      <td>134.825296</td>\n      <td>1268.749725</td>\n      <td>84958.836121</td>\n      <td>45.513927</td>\n      <td>0.000000</td>\n      <td>18.143862</td>\n      <td>4.349203</td>\n    </tr>\n    <tr>\n      <th>10</th>\n      <td>283.681024</td>\n      <td>300.142997</td>\n      <td>290.970161</td>\n      <td>149.506342</td>\n      <td>1404.134944</td>\n      <td>84692.296665</td>\n      <td>53.880161</td>\n      <td>0.000008</td>\n      <td>27.098957</td>\n      <td>4.822785</td>\n    </tr>\n    <tr>\n      <th>5</th>\n      <td>284.260853</td>\n      <td>301.364350</td>\n      <td>292.041527</td>\n      <td>86.425210</td>\n      <td>814.606984</td>\n      <td>85311.259123</td>\n      <td>18.178048</td>\n      <td>0.029726</td>\n      <td>13.962424</td>\n      <td>2.787910</td>\n    </tr>\n    <tr>\n      <th>9</th>\n      <td>284.149137</td>\n      <td>300.806467</td>\n      <td>291.874930</td>\n      <td>162.123630</td>\n      <td>1517.256067</td>\n      <td>85209.372264</td>\n      <td>69.164610</td>\n      <td>0.001666</td>\n      <td>26.293345</td>\n      <td>5.229795</td>\n    </tr>\n    <tr>\n      <th>17</th>\n      <td>288.117624</td>\n      <td>305.227954</td>\n      <td>296.338614</td>\n      <td>107.170175</td>\n      <td>1021.660926</td>\n      <td>87820.970917</td>\n      <td>32.194748</td>\n      <td>0.053771</td>\n      <td>21.207011</td>\n      <td>3.457102</td>\n    </tr>\n    <tr>\n      <th>3</th>\n      <td>284.961222</td>\n      <td>301.150538</td>\n      <td>293.118775</td>\n      <td>139.540869</td>\n      <td>1316.629529</td>\n      <td>85939.249018</td>\n      <td>46.459441</td>\n      <td>0.000000</td>\n      <td>16.844388</td>\n      <td>4.501318</td>\n    </tr>\n  </tbody>\n</table>\n</div>"
     },
     "execution_count": 105,
     "metadata": {},
     "output_type": "execute_result"
    }
   ],
   "source": [
    "# split data into training and test sets\n",
    "X_train, X_test, y_train, y_test = train_test_split(X, y, test_size=0.1, random_state=8)\n",
    "X_train"
   ],
   "metadata": {
    "collapsed": false,
    "ExecuteTime": {
     "end_time": "2024-11-12T09:44:35.950183Z",
     "start_time": "2024-11-12T09:44:35.103197Z"
    }
   },
   "id": "27cf7df62b906112"
  },
  {
   "cell_type": "markdown",
   "source": [
    "# 3. Train model"
   ],
   "metadata": {
    "collapsed": false
   },
   "id": "9438bb45a3632823"
  },
  {
   "cell_type": "code",
   "execution_count": 106,
   "outputs": [
    {
     "name": "stdout",
     "output_type": "stream",
     "text": [
      "Mean Squared Error: [0.96778055]\n"
     ]
    }
   ],
   "source": [
    "# create and train a basic linear regression model\n",
    "model = LinearRegression()\n",
    "model.fit(X_train, y_train)\n",
    "\n",
    "# predict on test set\n",
    "y_pred = model.predict(X_test)\n",
    "\n",
    "# evaluate\n",
    "mse = mean_squared_error(y_test, y_pred, multioutput=\"raw_values\")\n",
    "print(\"Mean Squared Error:\", mse)"
   ],
   "metadata": {
    "collapsed": false,
    "ExecuteTime": {
     "end_time": "2024-11-12T09:44:35.950356Z",
     "start_time": "2024-11-12T09:44:35.114400Z"
    }
   },
   "id": "a570ecab2d1548b7"
  },
  {
   "cell_type": "markdown",
   "source": [
    "# 4. Save model"
   ],
   "metadata": {
    "collapsed": false
   },
   "id": "1d4c13888f189030"
  },
  {
   "cell_type": "code",
   "execution_count": 108,
   "outputs": [],
   "source": [
    "model_params = {\n",
    "    \"coef\": model.coef_.tolist(),  \n",
    "    \"intercept\": model.intercept_.tolist()\n",
    "}\n",
    "\n",
    "with open(\"./model.json\", \"w\") as f:\n",
    "    json.dump(model_params, f)"
   ],
   "metadata": {
    "collapsed": false,
    "ExecuteTime": {
     "end_time": "2024-11-12T09:45:24.219338Z",
     "start_time": "2024-11-12T09:45:24.209676Z"
    }
   },
   "id": "b6d811c9784f367f"
  }
 ],
 "metadata": {
  "kernelspec": {
   "display_name": "Python 3 (ipykernel)",
   "language": "python",
   "name": "python3"
  },
  "language_info": {
   "codemirror_mode": {
    "name": "ipython",
    "version": 2
   },
   "file_extension": ".py",
   "mimetype": "text/x-python",
   "name": "python",
   "nbconvert_exporter": "python",
   "pygments_lexer": "ipython2",
   "version": "2.7.6"
  }
 },
 "nbformat": 4,
 "nbformat_minor": 5
}
