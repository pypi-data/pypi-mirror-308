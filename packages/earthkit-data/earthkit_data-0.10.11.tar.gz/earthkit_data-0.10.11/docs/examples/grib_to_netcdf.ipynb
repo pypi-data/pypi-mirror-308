{
 "cells": [
  {
   "cell_type": "markdown",
   "id": "9c53d7c8-7f38-4a5f-93d0-e05919408b6e",
   "metadata": {
    "editable": true,
    "slideshow": {
     "slide_type": ""
    },
    "tags": []
   },
   "source": [
    "## GRIB: converting to NetCDF"
   ]
  },
  {
   "cell_type": "code",
   "execution_count": 1,
   "id": "950b9aa8-6b76-47f8-b470-17476f99a733",
   "metadata": {},
   "outputs": [],
   "source": [
    "import earthkit.data\n",
    "earthkit.data.download_example_file(\"tuv_pl.grib\")"
   ]
  },
  {
   "cell_type": "code",
   "execution_count": 2,
   "id": "96b640fd-0039-4061-8cb4-70cfc751cb9c",
   "metadata": {},
   "outputs": [],
   "source": [
    "fs = earthkit.data.from_source(\"file\", \"tuv_pl.grib\")"
   ]
  },
  {
   "cell_type": "code",
   "execution_count": 3,
   "id": "0efd9676-6c4f-4e07-a14a-a5337de50461",
   "metadata": {},
   "outputs": [],
   "source": [
    "fs.to_xarray().to_netcdf(\"_tuv_pl.nc\")"
   ]
  },
  {
   "cell_type": "code",
   "execution_count": 4,
   "id": "a45aa289-8c85-42bd-a637-8999d8720fcf",
   "metadata": {},
   "outputs": [
    {
     "name": "stdout",
     "output_type": "stream",
     "text": [
      "{'number': <class 'netCDF4._netCDF4.Dimension'>: name = 'number', size = 1, 'time': <class 'netCDF4._netCDF4.Dimension'>: name = 'time', size = 1, 'step': <class 'netCDF4._netCDF4.Dimension'>: name = 'step', size = 1, 'isobaricInhPa': <class 'netCDF4._netCDF4.Dimension'>: name = 'isobaricInhPa', size = 6, 'latitude': <class 'netCDF4._netCDF4.Dimension'>: name = 'latitude', size = 7, 'longitude': <class 'netCDF4._netCDF4.Dimension'>: name = 'longitude', size = 12}\n"
     ]
    }
   ],
   "source": [
    "try:\n",
    "    from netCDF4 import Dataset\n",
    "    r = Dataset(\"_tuv_pl.nc\", \"r\")\n",
    "    print(r.dimensions)\n",
    "except ImportError:\n",
    "    pass"
   ]
  },
  {
   "cell_type": "code",
   "execution_count": null,
   "id": "8bd59c3f-5a6b-4930-8d49-9d948f640da7",
   "metadata": {},
   "outputs": [],
   "source": []
  }
 ],
 "metadata": {
  "kernelspec": {
   "display_name": "dev_ecc",
   "language": "python",
   "name": "dev_ecc"
  },
  "language_info": {
   "codemirror_mode": {
    "name": "ipython",
    "version": 3
   },
   "file_extension": ".py",
   "mimetype": "text/x-python",
   "name": "python",
   "nbconvert_exporter": "python",
   "pygments_lexer": "ipython3",
   "version": "3.10.13"
  }
 },
 "nbformat": 4,
 "nbformat_minor": 5
}
