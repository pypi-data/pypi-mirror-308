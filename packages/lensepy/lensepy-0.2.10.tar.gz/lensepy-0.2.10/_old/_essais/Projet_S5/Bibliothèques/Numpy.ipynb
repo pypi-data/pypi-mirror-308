{
 "cells": [
  {
   "cell_type": "markdown",
   "id": "5e48471a",
   "metadata": {},
   "source": [
    "# Bibliothèque Numpy\n",
    "\n",
    "Numpy est la bibliothèque classique utilisée en sciences et très utile pour la bibliothèque matplotlib\n",
    "Les deux principales motivations de son utilisation sont l'implémentation de la notion de vecteur dans python ou encore l'accès aux fonctions mathématiques classiques"
   ]
  },
  {
   "cell_type": "markdown",
   "id": "1d5c4ba1",
   "metadata": {},
   "source": [
    "## Importation de la bibliothèque"
   ]
  },
  {
   "cell_type": "code",
   "execution_count": 1,
   "id": "cc289292",
   "metadata": {},
   "outputs": [],
   "source": [
    "#as np pour faciliter l'écriture, on aura np.array() au lieu de numpy.array() par exemple\n",
    "import numpy as np"
   ]
  },
  {
   "cell_type": "markdown",
   "id": "be1bdbd5",
   "metadata": {},
   "source": [
    "## Les \"arrays\" ou vecteurs en python"
   ]
  },
  {
   "cell_type": "markdown",
   "id": "59de129a",
   "metadata": {},
   "source": [
    "### Création à partir de liste et opérations\n",
    "Nous verrons ici les opérations classiques avec des vecteurs"
   ]
  },
  {
   "cell_type": "code",
   "execution_count": 4,
   "id": "8bb87081",
   "metadata": {},
   "outputs": [
    {
     "name": "stdout",
     "output_type": "stream",
     "text": [
      "[1, 2, 3, 4, 5]\n",
      "[-1, -2, -3, -4, -5]\n",
      "Addition des deux listes :  [1, 2, 3, 4, 5, -1, -2, -3, -4, -5]\n",
      "[1 2 3 4 5]\n",
      "[-1 -2 -3 -4 -5]\n",
      "Addition des deux vecteurs obtenus à l'aide de numpy :  [0 0 0 0 0]\n",
      "Multiplication d'un vecteur par un nombre (ici 2.1) : [ 2.1  4.2  6.3  8.4 10.5]\n",
      "Multiplication de deux vecteurs entre eux : [ -1  -4  -9 -16 -25]\n"
     ]
    }
   ],
   "source": [
    "#La version avec les listes classiques de python\n",
    "a_list = [1,2,3,4,5]\n",
    "b_list = [-1,-2,-3,-4,-5]\n",
    "print(a_list)\n",
    "print(b_list)\n",
    "print(\"Addition des deux listes : \", a_list + b_list)\n",
    "\n",
    "#La version avec les arrays 1D\n",
    "a_vect = np.array([1,2,3,4,5])\n",
    "b_vect = np.array([-1,-2,-3,-4,-5])\n",
    "print(a_vect)\n",
    "print(b_vect)\n",
    "\n",
    "print(\"Addition des deux vecteurs obtenus à l'aide de numpy : \", a_vect + b_vect)\n",
    "\n",
    "print(\"Multiplication d'un vecteur par un nombre (ici 2.1) :\", a_vect * 2.1)\n",
    "\n",
    "print(\"Multiplication de deux vecteurs entre eux :\", a_vect*b_vect)"
   ]
  },
  {
   "cell_type": "code",
   "execution_count": 8,
   "id": "a4173795",
   "metadata": {},
   "outputs": [
    {
     "name": "stdout",
     "output_type": "stream",
     "text": [
      "5\n",
      "5\n"
     ]
    }
   ],
   "source": [
    "print(len(b_vect))\n",
    "print(b_vect.size)"
   ]
  },
  {
   "cell_type": "markdown",
   "id": "7cdbe1e8",
   "metadata": {},
   "source": [
    "### Indexation des vecteurs\n",
    "L'indexation des vecteurs de numpy est la même que pour des listes classique en Python, en 1 dimension comme en N dimensions"
   ]
  },
  {
   "cell_type": "code",
   "execution_count": 11,
   "id": "6c875490",
   "metadata": {},
   "outputs": [
    {
     "name": "stdout",
     "output_type": "stream",
     "text": [
      "Premier élément du vecteur vect_1D : 1\n",
      "3ème élément de la deuxième colonne du vecteur vect_1D : -3\n",
      "Vecteur intermédiaire 1D : [-1 -2 -3]\n",
      "Qu'on indexe comme un vecteur 1D : -3\n"
     ]
    }
   ],
   "source": [
    "#Cas 1D\n",
    "vect_1D = np.array([1,2,3])\n",
    "print(\"Premier élément du vecteur vect_1D :\", vect_1D[0])\n",
    "\n",
    "#Cas 2D et supérieur\n",
    "vect_2D = np.array(([1,2,3],[-1,-2,-3]))\n",
    "print(\"3ème élément de la deuxième colonne du vecteur vect_1D :\", vect_2D[1, 2])\n",
    "\n",
    "#Pour être plus explicite, cette indexation revient à faire ces deux opérations à la suite :\n",
    "vect_intermediaire = vect_2D[1]\n",
    "print(\"Vecteur intermédiaire 1D :\", vect_intermediaire)\n",
    "print(\"Qu'on indexe comme un vecteur 1D :\", vect_intermediaire[2])"
   ]
  },
  {
   "cell_type": "markdown",
   "id": "da881580",
   "metadata": {},
   "source": [
    "### Création de vecteurs : np.linspace() et np.arange()\n",
    "Il peut être utile de créer directement un vecteur sans avoir à taper 1 un 1 ses éléments comme nous l'avons fait précédemment, np.linspace() et np.arange() sont deux fonctions qui remplissent cet objectif"
   ]
  },
  {
   "cell_type": "code",
   "execution_count": 12,
   "id": "dbeb9320",
   "metadata": {},
   "outputs": [
    {
     "name": "stdout",
     "output_type": "stream",
     "text": [
      "np.linspace :\n",
      " [ 0.          0.71428571  1.42857143  2.14285714  2.85714286  3.57142857\n",
      "  4.28571429  5.          5.71428571  6.42857143  7.14285714  7.85714286\n",
      "  8.57142857  9.28571429 10.        ]\n",
      "np.arange :\n",
      " [ 0.   2.1  4.2  6.3  8.4 10.5 12.6 14.7 16.8 18.9]\n"
     ]
    }
   ],
   "source": [
    "#np.linspace(début,fin,taille)\n",
    "x_lin = np.linspace(0,10,15) #Créé un vecteur de taille 15 allant de 0 à 10 à pas constant\n",
    "print(\"np.linspace :\\n\", x_lin)\n",
    "\n",
    "#np.arange(début,fin,pas)\n",
    "x_ara = np.arange(0,20,2.1) #Créé un vecteur allant de 0 à 18.9 avec un pas de 2.1\n",
    "print(\"np.arange :\\n\", x_ara)"
   ]
  },
  {
   "cell_type": "markdown",
   "id": "b6566274",
   "metadata": {},
   "source": [
    "### Création de vecteurs particuliers : np.zeros() et np.ones()\n",
    "Il existe des vecteurs qu'il peut être intéressant de créer facilement pour réaliser des opérations plus tard"
   ]
  },
  {
   "cell_type": "code",
   "execution_count": 5,
   "id": "af1358ee",
   "metadata": {},
   "outputs": [
    {
     "name": "stdout",
     "output_type": "stream",
     "text": [
      "np.zeros() :\n",
      " [[0. 0.]\n",
      " [0. 0.]\n",
      " [0. 0.]]\n",
      "np.ones() :\n",
      " [[1. 1.]\n",
      " [1. 1.]\n",
      " [1. 1.]]\n"
     ]
    }
   ],
   "source": [
    "#np.zeros((lignes,colonnes)) \n",
    "x_zeros = np.zeros((3,2)) #Créé un array de 3 lignes et 2 collones remplie de zéros\n",
    "print(\"np.zeros() :\\n\", x_zeros)\n",
    "\n",
    "#np.ones((lignes,colonnes))\n",
    "x_ones = np.ones((3,2)) #Créé un array de 3 lignes et 2 collones remplie de uns\n",
    "print(\"np.ones() :\\n\", x_ones)"
   ]
  },
  {
   "cell_type": "markdown",
   "id": "d21519db",
   "metadata": {},
   "source": [
    "### Manipulation sur les arrays : np.transpose() et np.concatenate()\n",
    "Les dernières fonctionnalités importantes à retenir pour la bibliothèque numpy concernent la manipulation d'array : comment échanger les lignes et colonnes avec np.transpose() et comment faire append comme sur une liste pour un array avec np.concatenate()"
   ]
  },
  {
   "cell_type": "code",
   "execution_count": 13,
   "id": "45cdec5a",
   "metadata": {},
   "outputs": [
    {
     "name": "stdout",
     "output_type": "stream",
     "text": [
      "[0. 0. 0.]\n",
      "[1. 1. 1.]\n"
     ]
    }
   ],
   "source": [
    "#np.zeros((lignes,colonnes))\n",
    "vect_zeros = np.zeros(3) #Créé un vecteur de 3 éléments dont la valeur vaut 0\n",
    "print(vect_zeros)\n",
    "#np.ones(taille)\n",
    "vect_ones = np.ones(3) #Créé un vecteur de 3 éléments dont la valeur de chaque élément vaut 1\n",
    "print(vect_ones)"
   ]
  },
  {
   "cell_type": "code",
   "execution_count": 6,
   "id": "3c6a4191",
   "metadata": {},
   "outputs": [
    {
     "name": "stdout",
     "output_type": "stream",
     "text": [
      "x1 et x2 mis bout à bout : [ 0.   1.   2.   3.   4.  -2.5 -1.5 -0.5  0.5  1.5]\n",
      "array 2D constitué de x1 et x2 :\n",
      " [[ 0.   1.   2.   3.   4. ]\n",
      " [-2.5 -1.5 -0.5  0.5  1.5]]\n",
      "array 2D transposé constitué de x1 et x2 :\n",
      " [[ 0.  -2.5]\n",
      " [ 1.  -1.5]\n",
      " [ 2.  -0.5]\n",
      " [ 3.   0.5]\n",
      " [ 4.   1.5]]\n"
     ]
    }
   ],
   "source": [
    "#x1 et x2 deux vecteurs de même dimension\n",
    "x1 = np.arange(0,5)\n",
    "x2 = np.arange(-2.5,2.5)\n",
    "\n",
    "#On va les mettres bout à bout avec np.concatenate(), à la façon de append() nativement pour les listes\n",
    "bout_a_bout = np.concatenate((x1,x2))\n",
    "print(\"x1 et x2 mis bout à bout :\", bout_a_bout)\n",
    "\n",
    "#On les mets maintenant dans un array en 2D\n",
    "x_2D = np.array((x1,x2))\n",
    "print(\"array 2D constitué de x1 et x2 :\\n\", x_2D)\n",
    "\n",
    "#On échange les lignes et les colonnes avec np.transpose()\n",
    "x_2D_transpose = np.transpose(x_2D)\n",
    "print(\"array 2D transposé constitué de x1 et x2 :\\n\", x_2D_transpose)"
   ]
  },
  {
   "cell_type": "markdown",
   "id": "22057c0e",
   "metadata": {},
   "source": [
    "## Comportement avec les fonctions"
   ]
  },
  {
   "cell_type": "markdown",
   "id": "515fd81d",
   "metadata": {},
   "source": [
    "### Sans vecteurs\n",
    "Il est possible d'utiliser des fonctions connus comme la racine carré, l'exponentielle ...\n",
    "\n",
    "Ou encore d'utiliser pi sous python"
   ]
  },
  {
   "cell_type": "code",
   "execution_count": 14,
   "id": "2c922ff5",
   "metadata": {},
   "outputs": [
    {
     "name": "stdout",
     "output_type": "stream",
     "text": [
      "Pi : 3.141592653589793\n",
      "Racine carrée : 1.4142135623730951\n",
      "Exponentielle : 2.718281828459045\n",
      "Sinus : 0.1411200080598672\n"
     ]
    }
   ],
   "source": [
    "print(\"Pi :\", np.pi)\n",
    "print(\"Racine carrée :\", np.sqrt(2))\n",
    "print(\"Exponentielle :\", np.exp(1))\n",
    "print(\"Sinus :\", np.sin(3))"
   ]
  },
  {
   "cell_type": "markdown",
   "id": "6a8d46df",
   "metadata": {},
   "source": [
    "### Avec des vecteurs\n",
    "On peut utiliser ces fonctions directement avec des vecteurs sans listes ou boucles qui seraient très inefficaces et pas très lisibles dans le code, il en va de même pour les fonctions python, ce qui sera très utile lorsque l'on veut tracer des courbes sous matplotlib, ce que nous verrons en dernière partie"
   ]
  },
  {
   "cell_type": "code",
   "execution_count": 15,
   "id": "42904e73",
   "metadata": {},
   "outputs": [
    {
     "name": "stdout",
     "output_type": "stream",
     "text": [
      "Avec les listes classiques (à ne pas utiliser !) :\n",
      "exp(1) = 2.718281828459045\n",
      "exp(2) = 7.38905609893065\n",
      "exp(3) = 20.085536923187668\n",
      "exp(4) = 54.598150033144236\n",
      "Avec les arrays de numpy on obtient l'array suivant : [ 2.71828183  7.3890561  20.08553692 54.59815003]\n",
      "Fonction f(x) pour x_vect : [10 19 36 61]\n"
     ]
    }
   ],
   "source": [
    "#Version avec des listes : à ne pas utiliser !\n",
    "print(\"Avec les listes classiques (à ne pas utiliser !) :\")\n",
    "x_list = [1,2,3,4] #A ne pas utiliser !\n",
    "for i in x_list: #A ne pas utiliser !\n",
    "    print(\"exp(\"+str(i)+\") =\", np.exp(i)) #A ne pas utiliser !\n",
    "\n",
    "#Version avec les vecteurs/arrays, plus rapide et plus élégant\n",
    "x_vect = np.array([1,2,3,4])\n",
    "x_vect_exp = np.exp(x_vect)\n",
    "print(\"Avec les arrays de numpy on obtient l'array suivant :\", x_vect_exp)\n",
    "\n",
    "#Il en va de même pour une fonction python\n",
    "def f(x):\n",
    "    return 4*x**2 - 3*x +9\n",
    "\n",
    "print(\"Fonction f(x) pour x_vect :\", f(x_vect))"
   ]
  },
  {
   "cell_type": "markdown",
   "id": "03b9ec3e",
   "metadata": {},
   "source": [
    "### Avec des vecteurs pour Matplotlib (voir tutoriel matlotlib avant)\n",
    "Si l'on veut tracer par exemple la fonction cosinus entre 0 et 10 à l'aide de matplotlib, on peut le faire facilement avec numpy, et ce sans utiliser de boucle for, à l'aide de np.linspace()"
   ]
  },
  {
   "cell_type": "code",
   "execution_count": 9,
   "id": "2e42f76a",
   "metadata": {},
   "outputs": [
    {
     "data": {
      "image/png": "[encoded data removed]",
      "text/plain": [
       "<Figure size 1080x720 with 1 Axes>"
      ]
     },
     "metadata": {
      "needs_background": "light"
     },
     "output_type": "display_data"
    }
   ],
   "source": [
    "from matplotlib import pyplot as plt\n",
    "\n",
    "x = np.linspace(0,10,100)\n",
    "\n",
    "plt.figure(figsize=(15,10))\n",
    "plt.plot(x,np.cos(x))\n",
    "plt.xlabel(\"x\")\n",
    "plt.ylabel(\"cos(x)\")\n",
    "plt.title(\"Tracé de cos(x) entre 0 et 10 avec 100 points\")\n",
    "plt.show()"
   ]
  },
  {
   "cell_type": "markdown",
   "id": "2d3ee69d",
   "metadata": {
    "slideshow": {
     "slide_type": "slide"
    }
   },
   "source": [
    "Il est intéressant de voir que l'utilisation de np.linspace() est plus intéressante ici que np.arange() car on peut facilement gérer le pas entre les x pour avoir une fonction correctement échantillonée, on montre cela dans l'exemple suivant"
   ]
  },
  {
   "cell_type": "code",
   "execution_count": 10,
   "id": "d191a100",
   "metadata": {},
   "outputs": [
    {
     "data": {
      "image/png": "[encoded data removed]",
      "text/plain": [
       "<Figure size 1080x720 with 1 Axes>"
      ]
     },
     "metadata": {
      "needs_background": "light"
     },
     "output_type": "display_data"
    }
   ],
   "source": [
    "x = np.linspace(0,10,9) #On met 9 x, le pas est donc plus élevé et la fonction mal échantillonée\n",
    "\n",
    "plt.figure(figsize=(15,10))\n",
    "plt.plot(x,np.cos(x))\n",
    "plt.xlabel(\"x\")\n",
    "plt.ylabel(\"cos(x)\")\n",
    "plt.title(\"Tracé de cos(x) entre 0 et 10 avec 9 points\")\n",
    "plt.show()"
   ]
  },
  {
   "cell_type": "code",
   "execution_count": null,
   "id": "d7f3c01a",
   "metadata": {},
   "outputs": [],
   "source": []
  }
 ],
 "metadata": {
  "kernelspec": {
   "display_name": "Python 3 (ipykernel)",
   "language": "python",
   "name": "python3"
  },
  "language_info": {
   "codemirror_mode": {
    "name": "ipython",
    "version": 3
   },
   "file_extension": ".py",
   "mimetype": "text/x-python",
   "name": "python",
   "nbconvert_exporter": "python",
   "pygments_lexer": "ipython3",
   "version": "3.9.13"
  },
  "toc": {
   "base_numbering": 1,
   "nav_menu": {},
   "number_sections": true,
   "sideBar": true,
   "skip_h1_title": false,
   "title_cell": "Table of Contents",
   "title_sidebar": "Contents",
   "toc_cell": false,
   "toc_position": {},
   "toc_section_display": true,
   "toc_window_display": false
  },
  "varInspector": {
   "cols": {
    "lenName": 16,
    "lenType": 16,
    "lenVar": 40
   },
   "kernels_config": {
    "python": {
     "delete_cmd_postfix": "",
     "delete_cmd_prefix": "del ",
     "library": "var_list.py",
     "varRefreshCmd": "print(var_dic_list())"
    },
    "r": {
     "delete_cmd_postfix": ") ",
     "delete_cmd_prefix": "rm(",
     "library": "var_list.r",
     "varRefreshCmd": "cat(var_dic_list()) "
    }
   },
   "types_to_exclude": [
    "module",
    "function",
    "builtin_function_or_method",
    "instance",
    "_Feature"
   ],
   "window_display": false
  }
 },
 "nbformat": 4,
 "nbformat_minor": 5
}
