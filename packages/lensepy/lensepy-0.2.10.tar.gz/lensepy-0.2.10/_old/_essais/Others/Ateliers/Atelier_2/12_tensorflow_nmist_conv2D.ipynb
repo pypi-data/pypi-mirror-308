{
 "cells": [
  {
   "cell_type": "markdown",
   "id": "5466ccef",
   "metadata": {},
   "source": [
    "## Python / Réseau de neurones"
   ]
  },
  {
   "cell_type": "code",
   "execution_count": 3,
   "id": "00b1be8c",
   "metadata": {},
   "outputs": [],
   "source": [
    "import numpy as np\n",
    "import tensorflow as tf\n",
    "from tensorflow import keras\n",
    "from tensorflow.keras import layers\n",
    "import matplotlib.pyplot as plt\n",
    "import pandas as pd"
   ]
  },
  {
   "cell_type": "markdown",
   "id": "3a67739c",
   "metadata": {},
   "source": [
    "### Chargement des données"
   ]
  },
  {
   "cell_type": "code",
   "execution_count": 4,
   "id": "481cc01c",
   "metadata": {},
   "outputs": [],
   "source": [
    "## Loading datas\n",
    "fashion_mnist = keras.datasets.fashion_mnist\n",
    "(train_images, train_labels), (test_images, test_labels) = fashion_mnist.load_data()"
   ]
  },
  {
   "cell_type": "markdown",
   "id": "af1ff69b",
   "metadata": {},
   "source": [
    "### Affichage des informations des données"
   ]
  },
  {
   "cell_type": "code",
   "execution_count": 5,
   "id": "7c4ceb89",
   "metadata": {},
   "outputs": [
    {
     "name": "stdout",
     "output_type": "stream",
     "text": [
      "Shape of train images\n",
      "60000\n",
      "(60000, 28, 28)\n",
      "Shape of train labels\n",
      "(60000,)\n"
     ]
    }
   ],
   "source": [
    "print('Shape of train images')\n",
    "print(train_images.shape[0])\n",
    "print(train_images.shape)\n",
    "print('Shape of train labels')\n",
    "print(train_labels.shape)"
   ]
  },
  {
   "cell_type": "markdown",
   "id": "b0634a51",
   "metadata": {},
   "source": [
    "### Sélection des données"
   ]
  },
  {
   "cell_type": "code",
   "execution_count": 6,
   "id": "f4fae25d",
   "metadata": {},
   "outputs": [
    {
     "name": "stdout",
     "output_type": "stream",
     "text": [
      "Combien d'images pour l'entrainement ?10000\n",
      "After RESHAPE !!\n",
      "Shape of train images\n",
      "(10000, 28, 28)\n",
      "Shape of train labels\n",
      "(10000,)\n"
     ]
    }
   ],
   "source": [
    "## On ne prend qu'une partie des données\n",
    "NN = input(\"Combien d'images pour l'entrainement ?\")\n",
    "while int(NN) > train_images.shape[0]:\n",
    "    print(\"Valeur non possible\")\n",
    "    NN = input(\"Combien d'images pour l'entrainement ?\")\n",
    "train_images = train_images[:int(NN)]\n",
    "train_labels = train_labels[:int(NN)]\n",
    "\n",
    "print('After RESHAPE !!')\n",
    "print('Shape of train images')\n",
    "print(train_images.shape)\n",
    "print('Shape of train labels')\n",
    "print(train_labels.shape)"
   ]
  },
  {
   "cell_type": "markdown",
   "id": "fec2ee66",
   "metadata": {},
   "source": [
    "### Normalisation des données"
   ]
  },
  {
   "cell_type": "code",
   "execution_count": 7,
   "id": "fa80c7bd",
   "metadata": {},
   "outputs": [],
   "source": [
    "## On normalise les données\n",
    "max_img = train_images.max()\n",
    "train_images = train_images / max_img\n",
    "test_images = test_images / max_img"
   ]
  },
  {
   "cell_type": "markdown",
   "id": "b7ea29f4",
   "metadata": {},
   "source": [
    "## Définition du modèle"
   ]
  },
  {
   "cell_type": "code",
   "execution_count": 10,
   "id": "eb8a0a19",
   "metadata": {},
   "outputs": [],
   "source": [
    "model = keras.Sequential()\n",
    "model.add(tf.keras.layers.Conv2D(64, (3,3), activation=tf.nn.relu, input_shape=(28,28,1)))\n",
    "model.add(tf.keras.layers.MaxPooling2D((2,2)))\n",
    "model.add(keras.layers.Flatten())\n",
    "model.add(keras.layers.Dense(32, activation='selu'))\n",
    "model.add(keras.layers.Dense(128, activation='selu'))\n",
    "model.add(keras.layers.Dense(10, activation=tf.nn.softmax))\n",
    "model.build(input_shape=(28,28,1))"
   ]
  },
  {
   "cell_type": "code",
   "execution_count": 11,
   "id": "b3c8967f",
   "metadata": {},
   "outputs": [
    {
     "name": "stdout",
     "output_type": "stream",
     "text": [
      "Model: \"sequential_1\"\n",
      "_________________________________________________________________\n",
      "Layer (type)                 Output Shape              Param #   \n",
      "=================================================================\n",
      "conv2d_1 (Conv2D)            (None, 26, 26, 64)        640       \n",
      "_________________________________________________________________\n",
      "max_pooling2d_1 (MaxPooling2 (None, 13, 13, 64)        0         \n",
      "_________________________________________________________________\n",
      "flatten_1 (Flatten)          (None, 10816)             0         \n",
      "_________________________________________________________________\n",
      "dense_3 (Dense)              (None, 32)                346144    \n",
      "_________________________________________________________________\n",
      "dense_4 (Dense)              (None, 128)               4224      \n",
      "_________________________________________________________________\n",
      "dense_5 (Dense)              (None, 10)                1290      \n",
      "=================================================================\n",
      "Total params: 352,298\n",
      "Trainable params: 352,298\n",
      "Non-trainable params: 0\n",
      "_________________________________________________________________\n"
     ]
    }
   ],
   "source": [
    "## Compilation du modele\n",
    "model.compile(optimizer=tf.keras.optimizers.Adam(), loss='sparse_categorical_crossentropy', metrics=['accuracy'])\n",
    "model.summary()"
   ]
  },
  {
   "cell_type": "markdown",
   "id": "580fe53c",
   "metadata": {},
   "source": [
    "## Entrainement du réseau"
   ]
  },
  {
   "cell_type": "markdown",
   "id": "192669ce",
   "metadata": {},
   "source": [
    "Entrainement sur le set de données (train_images) sur 10 epochs - Cette étape peut prendre du temps en fonction de la complexité du modèle et du nombre d'epochs."
   ]
  },
  {
   "cell_type": "code",
   "execution_count": 8,
   "id": "e9b6f23c",
   "metadata": {},
   "outputs": [
    {
     "name": "stdout",
     "output_type": "stream",
     "text": [
      "(1000, 28, 28)\n",
      "(10000, 28, 28)\n",
      "(1000, 28, 28, 1)\n"
     ]
    }
   ],
   "source": [
    "print(train_images.shape)\n",
    "print(test_images.shape)\n",
    "train_images = train_images.reshape(-1, 28, 28, 1)\n",
    "test_images = test_images.reshape(-1, 28, 28, 1)\n",
    "print(train_images.shape)"
   ]
  },
  {
   "cell_type": "code",
   "execution_count": 9,
   "id": "92ef4364",
   "metadata": {},
   "outputs": [
    {
     "name": "stdout",
     "output_type": "stream",
     "text": [
      "Epoch 1/10\n"
     ]
    },
    {
     "name": "stderr",
     "output_type": "stream",
     "text": [
      "2022-04-20 20:56:15.192300: I tensorflow/compiler/mlir/mlir_graph_optimization_pass.cc:116] None of the MLIR optimization passes are enabled (registered 2)\n",
      "2022-04-20 20:56:15.193049: I tensorflow/core/platform/profile_utils/cpu_utils.cc:112] CPU Frequency: 1996250000 Hz\n"
     ]
    },
    {
     "name": "stdout",
     "output_type": "stream",
     "text": [
      "20/20 [==============================] - 3s 123ms/step - loss: 1.6348 - accuracy: 0.4630 - val_loss: 0.7672 - val_accuracy: 0.7340\n",
      "Epoch 2/10\n",
      "20/20 [==============================] - 2s 99ms/step - loss: 0.5402 - accuracy: 0.8188 - val_loss: 0.5743 - val_accuracy: 0.7852\n",
      "Epoch 3/10\n",
      "20/20 [==============================] - 2s 91ms/step - loss: 0.4214 - accuracy: 0.8636 - val_loss: 0.5404 - val_accuracy: 0.8070\n",
      "Epoch 4/10\n",
      "20/20 [==============================] - 1s 48ms/step - loss: 0.3246 - accuracy: 0.9024 - val_loss: 0.5185 - val_accuracy: 0.8127\n",
      "Epoch 5/10\n",
      "20/20 [==============================] - 1s 48ms/step - loss: 0.2664 - accuracy: 0.9072 - val_loss: 0.5107 - val_accuracy: 0.8209\n",
      "Epoch 6/10\n",
      "20/20 [==============================] - 1s 46ms/step - loss: 0.2076 - accuracy: 0.9273 - val_loss: 0.6213 - val_accuracy: 0.7879\n",
      "Epoch 7/10\n",
      "20/20 [==============================] - 1s 42ms/step - loss: 0.1653 - accuracy: 0.9529 - val_loss: 0.5054 - val_accuracy: 0.8284\n",
      "Epoch 8/10\n",
      "20/20 [==============================] - 1s 42ms/step - loss: 0.1129 - accuracy: 0.9748 - val_loss: 0.5688 - val_accuracy: 0.8116\n",
      "Epoch 9/10\n",
      "20/20 [==============================] - 1s 42ms/step - loss: 0.0871 - accuracy: 0.9786 - val_loss: 0.5535 - val_accuracy: 0.8241\n",
      "Epoch 10/10\n",
      "20/20 [==============================] - 1s 40ms/step - loss: 0.0967 - accuracy: 0.9635 - val_loss: 0.5804 - val_accuracy: 0.8188\n"
     ]
    }
   ],
   "source": [
    "history = model.fit(train_images, train_labels, epochs=10, steps_per_epoch=20, validation_data=(test_images, test_labels))"
   ]
  },
  {
   "cell_type": "markdown",
   "id": "e338fa9f",
   "metadata": {},
   "source": [
    "### Résultats"
   ]
  },
  {
   "cell_type": "code",
   "execution_count": 10,
   "id": "0ee6c498",
   "metadata": {},
   "outputs": [
    {
     "data": {
      "image/png": "[encoded data removed]",
      "text/plain": [
       "<Figure size 576x360 with 1 Axes>"
      ]
     },
     "metadata": {
      "needs_background": "light"
     },
     "output_type": "display_data"
    }
   ],
   "source": [
    "## Affichage des couts au cours des epochs\n",
    "def plot_learning_curves(history):\n",
    "    pd.DataFrame(history.history).plot(figsize=(8,5))\n",
    "    plt.grid(True)\n",
    "    plt.gca().set_ylim(0,1)\n",
    "    plt.show()\n",
    "plot_learning_curves(history)"
   ]
  },
  {
   "cell_type": "markdown",
   "id": "b68c14cd",
   "metadata": {},
   "source": [
    "### Prédictions sur un autre set de données"
   ]
  },
  {
   "cell_type": "code",
   "execution_count": 11,
   "id": "bbcfa722",
   "metadata": {},
   "outputs": [
    {
     "name": "stdout",
     "output_type": "stream",
     "text": [
      "Valeurs vraies : [9 2 1 ... 8 1 5]\n",
      "Predictions    : [9 2 1 ... 8 1 5]\n"
     ]
    }
   ],
   "source": [
    "y_proba = model.predict(test_images)\n",
    "y_pred = y_proba.argmax(axis=1)   # pour obtenir l'indice de la case max\n",
    "print(\"Valeurs vraies : \"+str(test_labels))\n",
    "print(\"Predictions    : \"+str(y_pred))"
   ]
  }
 ],
 "metadata": {
  "kernelspec": {
   "display_name": "Python 3 (ipykernel)",
   "language": "python",
   "name": "python3"
  },
  "language_info": {
   "codemirror_mode": {
    "name": "ipython",
    "version": 3
   },
   "file_extension": ".py",
   "mimetype": "text/x-python",
   "name": "python",
   "nbconvert_exporter": "python",
   "pygments_lexer": "ipython3",
   "version": "3.9.7"
  },
  "toc": {
   "base_numbering": 1,
   "nav_menu": {},
   "number_sections": true,
   "sideBar": true,
   "skip_h1_title": false,
   "title_cell": "Table of Contents",
   "title_sidebar": "Contents",
   "toc_cell": false,
   "toc_position": {},
   "toc_section_display": true,
   "toc_window_display": false
  },
  "varInspector": {
   "cols": {
    "lenName": 16,
    "lenType": 16,
    "lenVar": 40
   },
   "kernels_config": {
    "python": {
     "delete_cmd_postfix": "",
     "delete_cmd_prefix": "del ",
     "library": "var_list.py",
     "varRefreshCmd": "print(var_dic_list())"
    },
    "r": {
     "delete_cmd_postfix": ") ",
     "delete_cmd_prefix": "rm(",
     "library": "var_list.r",
     "varRefreshCmd": "cat(var_dic_list()) "
    }
   },
   "types_to_exclude": [
    "module",
    "function",
    "builtin_function_or_method",
    "instance",
    "_Feature"
   ],
   "window_display": false
  }
 },
 "nbformat": 4,
 "nbformat_minor": 5
}
