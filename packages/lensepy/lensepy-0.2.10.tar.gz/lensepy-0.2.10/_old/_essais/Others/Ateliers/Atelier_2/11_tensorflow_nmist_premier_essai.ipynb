{
 "cells": [
  {
   "cell_type": "markdown",
   "id": "5466ccef",
   "metadata": {},
   "source": [
    "## Python / Réseau de neurones"
   ]
  },
  {
   "cell_type": "code",
   "execution_count": 1,
   "id": "00b1be8c",
   "metadata": {},
   "outputs": [],
   "source": [
    "import numpy as np\n",
    "import tensorflow as tf\n",
    "from tensorflow import keras\n",
    "import matplotlib.pyplot as plt\n",
    "import pandas as pd"
   ]
  },
  {
   "cell_type": "markdown",
   "id": "3a67739c",
   "metadata": {},
   "source": [
    "### Chargement des données"
   ]
  },
  {
   "cell_type": "code",
   "execution_count": 4,
   "id": "481cc01c",
   "metadata": {},
   "outputs": [],
   "source": [
    "## Loading datas\n",
    "fashion_mnist = keras.datasets.fashion_mnist\n",
    "(train_images, train_labels), (test_images, test_labels) = fashion_mnist.load_data()"
   ]
  },
  {
   "cell_type": "markdown",
   "id": "af1ff69b",
   "metadata": {},
   "source": [
    "### Affichage des informations des données"
   ]
  },
  {
   "cell_type": "code",
   "execution_count": 6,
   "id": "7c4ceb89",
   "metadata": {},
   "outputs": [
    {
     "name": "stdout",
     "output_type": "stream",
     "text": [
      "Shape of train images\n",
      "60000\n",
      "(60000, 28, 28)\n",
      "Shape of train labels\n",
      "(60000,)\n"
     ]
    }
   ],
   "source": [
    "print('Shape of train images')\n",
    "print(train_images.shape[0])\n",
    "print(train_images.shape)\n",
    "print('Shape of train labels')\n",
    "print(train_labels.shape)"
   ]
  },
  {
   "cell_type": "markdown",
   "id": "b0634a51",
   "metadata": {},
   "source": [
    "### Sélection des données"
   ]
  },
  {
   "cell_type": "code",
   "execution_count": 7,
   "id": "f4fae25d",
   "metadata": {},
   "outputs": [
    {
     "name": "stdout",
     "output_type": "stream",
     "text": [
      "Combien d'images pour l'entrainement ?10000\n",
      "After RESHAPE !!\n",
      "Shape of train images\n",
      "(10000, 28, 28)\n",
      "Shape of train labels\n",
      "(10000,)\n"
     ]
    }
   ],
   "source": [
    "## On ne prend qu'une partie des données\n",
    "NN = input(\"Combien d'images pour l'entrainement ?\")\n",
    "while int(NN) > train_images.shape[0]:\n",
    "    print(\"Valeur non possible\")\n",
    "    NN = input(\"Combien d'images pour l'entrainement ?\")\n",
    "train_images = train_images[:int(NN)]\n",
    "train_labels = train_labels[:int(NN)]\n",
    "\n",
    "print('After RESHAPE !!')\n",
    "print('Shape of train images')\n",
    "print(train_images.shape)\n",
    "print('Shape of train labels')\n",
    "print(train_labels.shape)"
   ]
  },
  {
   "cell_type": "markdown",
   "id": "fec2ee66",
   "metadata": {},
   "source": [
    "### Normalisation des données"
   ]
  },
  {
   "cell_type": "code",
   "execution_count": 8,
   "id": "fa80c7bd",
   "metadata": {},
   "outputs": [],
   "source": [
    "## On normalise les données\n",
    "max_img = train_images.max()\n",
    "train_images = train_images / max_img\n",
    "test_images = test_images / max_img"
   ]
  },
  {
   "cell_type": "markdown",
   "id": "b7ea29f4",
   "metadata": {},
   "source": [
    "## Définition du modèle"
   ]
  },
  {
   "cell_type": "code",
   "execution_count": 9,
   "id": "eb8a0a19",
   "metadata": {},
   "outputs": [
    {
     "name": "stderr",
     "output_type": "stream",
     "text": [
      "2022-04-20 18:21:13.301240: I tensorflow/core/platform/cpu_feature_guard.cc:142] This TensorFlow binary is optimized with oneAPI Deep Neural Network Library (oneDNN) to use the following CPU instructions in performance-critical operations:  SSE4.1 SSE4.2 AVX AVX2 FMA\n",
      "To enable them in other operations, rebuild TensorFlow with the appropriate compiler flags.\n"
     ]
    }
   ],
   "source": [
    "## Modele\n",
    "model = keras.Sequential([\n",
    "    keras.layers.Flatten(input_shape=(28,28)), # images size - 28x28 -> 784x1\n",
    "    keras.layers.Dense(512, activation=tf.nn.relu),      # couche intermédiaire\n",
    "    keras.layers.Dense(256, activation=tf.nn.relu),      # couche intermédiaire\n",
    "    keras.layers.Dense(128, activation=tf.nn.relu),      # couche intermédiaire\n",
    "    keras.layers.Dense(64, activation=tf.nn.relu),      # couche intermédiaire\n",
    "    keras.layers.Dense(10, activation=tf.nn.softmax)    # taille de sortie\n",
    "])"
   ]
  },
  {
   "cell_type": "code",
   "execution_count": 10,
   "id": "b3c8967f",
   "metadata": {},
   "outputs": [
    {
     "name": "stdout",
     "output_type": "stream",
     "text": [
      "Model: \"sequential\"\n",
      "_________________________________________________________________\n",
      "Layer (type)                 Output Shape              Param #   \n",
      "=================================================================\n",
      "flatten (Flatten)            (None, 784)               0         \n",
      "_________________________________________________________________\n",
      "dense (Dense)                (None, 512)               401920    \n",
      "_________________________________________________________________\n",
      "dense_1 (Dense)              (None, 256)               131328    \n",
      "_________________________________________________________________\n",
      "dense_2 (Dense)              (None, 128)               32896     \n",
      "_________________________________________________________________\n",
      "dense_3 (Dense)              (None, 64)                8256      \n",
      "_________________________________________________________________\n",
      "dense_4 (Dense)              (None, 10)                650       \n",
      "=================================================================\n",
      "Total params: 575,050\n",
      "Trainable params: 575,050\n",
      "Non-trainable params: 0\n",
      "_________________________________________________________________\n"
     ]
    }
   ],
   "source": [
    "## Compilation du modele\n",
    "model.compile(optimizer=tf.keras.optimizers.Adam(), loss='sparse_categorical_crossentropy', metrics=['accuracy'])\n",
    "model.summary()"
   ]
  },
  {
   "cell_type": "markdown",
   "id": "580fe53c",
   "metadata": {},
   "source": [
    "## Entrainement du réseau"
   ]
  },
  {
   "cell_type": "markdown",
   "id": "192669ce",
   "metadata": {},
   "source": [
    "Entrainement sur le set de données (train_images) sur 10 epochs - Cette étape peut prendre du temps en fonction de la complexité du modèle et du nombre d'epochs."
   ]
  },
  {
   "cell_type": "code",
   "execution_count": 11,
   "id": "92ef4364",
   "metadata": {},
   "outputs": [
    {
     "name": "stderr",
     "output_type": "stream",
     "text": [
      "2022-04-20 18:22:28.734903: I tensorflow/compiler/mlir/mlir_graph_optimization_pass.cc:116] None of the MLIR optimization passes are enabled (registered 2)\n",
      "2022-04-20 18:22:28.736991: I tensorflow/core/platform/profile_utils/cpu_utils.cc:112] CPU Frequency: 1996250000 Hz\n"
     ]
    },
    {
     "name": "stdout",
     "output_type": "stream",
     "text": [
      "Epoch 1/10\n",
      "313/313 [==============================] - 5s 16ms/step - loss: 0.9553 - accuracy: 0.6642 - val_loss: 0.5803 - val_accuracy: 0.7848\n",
      "Epoch 2/10\n",
      "313/313 [==============================] - 4s 14ms/step - loss: 0.5061 - accuracy: 0.8141 - val_loss: 0.4818 - val_accuracy: 0.8216\n",
      "Epoch 3/10\n",
      "313/313 [==============================] - 4s 14ms/step - loss: 0.4262 - accuracy: 0.8406 - val_loss: 0.4527 - val_accuracy: 0.8354\n",
      "Epoch 4/10\n",
      "313/313 [==============================] - 4s 14ms/step - loss: 0.3825 - accuracy: 0.8598 - val_loss: 0.4732 - val_accuracy: 0.8317\n",
      "Epoch 5/10\n",
      "313/313 [==============================] - 4s 14ms/step - loss: 0.3434 - accuracy: 0.8736 - val_loss: 0.4415 - val_accuracy: 0.8444\n",
      "Epoch 6/10\n",
      "313/313 [==============================] - 4s 14ms/step - loss: 0.3297 - accuracy: 0.8732 - val_loss: 0.4685 - val_accuracy: 0.8308\n",
      "Epoch 7/10\n",
      "313/313 [==============================] - 4s 14ms/step - loss: 0.2970 - accuracy: 0.8917 - val_loss: 0.4475 - val_accuracy: 0.8455\n",
      "Epoch 8/10\n",
      "313/313 [==============================] - 5s 15ms/step - loss: 0.3044 - accuracy: 0.8878 - val_loss: 0.4356 - val_accuracy: 0.8490\n",
      "Epoch 9/10\n",
      "313/313 [==============================] - 4s 14ms/step - loss: 0.2659 - accuracy: 0.8981 - val_loss: 0.4451 - val_accuracy: 0.8520\n",
      "Epoch 10/10\n",
      "313/313 [==============================] - 4s 14ms/step - loss: 0.2670 - accuracy: 0.8994 - val_loss: 0.4573 - val_accuracy: 0.8498\n"
     ]
    }
   ],
   "source": [
    "## Training\n",
    "history = model.fit(train_images, train_labels, epochs=10, validation_data=(test_images, test_labels))\n",
    "# avec verication sur données test"
   ]
  },
  {
   "cell_type": "markdown",
   "id": "e338fa9f",
   "metadata": {},
   "source": [
    "### Résultats"
   ]
  },
  {
   "cell_type": "code",
   "execution_count": 12,
   "id": "0ee6c498",
   "metadata": {},
   "outputs": [
    {
     "data": {
      "image/png": "[encoded data removed]",
      "text/plain": [
       "<Figure size 576x360 with 1 Axes>"
      ]
     },
     "metadata": {
      "needs_background": "light"
     },
     "output_type": "display_data"
    },
    {
     "name": "stdout",
     "output_type": "stream",
     "text": [
      "313/313 [==============================] - 1s 3ms/step - loss: 0.4573 - accuracy: 0.8498\n"
     ]
    },
    {
     "data": {
      "text/plain": [
       "array([9, 2, 1, ..., 8, 1, 5])"
      ]
     },
     "execution_count": 12,
     "metadata": {},
     "output_type": "execute_result"
    }
   ],
   "source": [
    "## Affichage des couts au cours des epochs\n",
    "def plot_learning_curves(history):\n",
    "    pd.DataFrame(history.history).plot(figsize=(8,5))\n",
    "    plt.grid(True)\n",
    "    plt.gca().set_ylim(0,1)\n",
    "    plt.show()\n",
    "plot_learning_curves(history)"
   ]
  },
  {
   "cell_type": "markdown",
   "id": "b68c14cd",
   "metadata": {},
   "source": [
    "### Prédictions sur un autre set de données"
   ]
  },
  {
   "cell_type": "code",
   "execution_count": 16,
   "id": "bbcfa722",
   "metadata": {},
   "outputs": [
    {
     "name": "stdout",
     "output_type": "stream",
     "text": [
      "Valeurs vraies : [9 2 1 ... 8 1 5]\n",
      "Predictions    : [9 2 1 ... 8 1 5]\n"
     ]
    }
   ],
   "source": [
    "y_proba = model.predict(test_images)\n",
    "y_pred = y_proba.argmax(axis=1)   # pour obtenir l'indice de la case max\n",
    "print(\"Valeurs vraies : \"+str(test_labels))\n",
    "print(\"Predictions    : \"+str(y_pred))"
   ]
  }
 ],
 "metadata": {
  "kernelspec": {
   "display_name": "Python 3 (ipykernel)",
   "language": "python",
   "name": "python3"
  },
  "language_info": {
   "codemirror_mode": {
    "name": "ipython",
    "version": 3
   },
   "file_extension": ".py",
   "mimetype": "text/x-python",
   "name": "python",
   "nbconvert_exporter": "python",
   "pygments_lexer": "ipython3",
   "version": "3.9.7"
  },
  "toc": {
   "base_numbering": 1,
   "nav_menu": {},
   "number_sections": true,
   "sideBar": true,
   "skip_h1_title": false,
   "title_cell": "Table of Contents",
   "title_sidebar": "Contents",
   "toc_cell": false,
   "toc_position": {},
   "toc_section_display": true,
   "toc_window_display": false
  },
  "varInspector": {
   "cols": {
    "lenName": 16,
    "lenType": 16,
    "lenVar": 40
   },
   "kernels_config": {
    "python": {
     "delete_cmd_postfix": "",
     "delete_cmd_prefix": "del ",
     "library": "var_list.py",
     "varRefreshCmd": "print(var_dic_list())"
    },
    "r": {
     "delete_cmd_postfix": ") ",
     "delete_cmd_prefix": "rm(",
     "library": "var_list.r",
     "varRefreshCmd": "cat(var_dic_list()) "
    }
   },
   "types_to_exclude": [
    "module",
    "function",
    "builtin_function_or_method",
    "instance",
    "_Feature"
   ],
   "window_display": false
  }
 },
 "nbformat": 4,
 "nbformat_minor": 5
}
