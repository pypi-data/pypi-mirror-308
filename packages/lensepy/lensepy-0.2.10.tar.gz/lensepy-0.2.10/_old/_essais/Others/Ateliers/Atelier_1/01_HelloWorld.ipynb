{
 "cells": [
  {
   "cell_type": "markdown",
   "id": "ee260551",
   "metadata": {},
   "source": [
    "## Calculatrice (variables)"
   ]
  },
  {
   "cell_type": "code",
   "execution_count": 6,
   "id": "750629d5",
   "metadata": {},
   "outputs": [],
   "source": [
    "a = 2 + 3"
   ]
  },
  {
   "cell_type": "code",
   "execution_count": 7,
   "id": "f297f9b3",
   "metadata": {},
   "outputs": [
    {
     "name": "stdout",
     "output_type": "stream",
     "text": [
      "5\n"
     ]
    }
   ],
   "source": [
    "print(a)"
   ]
  },
  {
   "cell_type": "markdown",
   "id": "65604981",
   "metadata": {},
   "source": [
    "## Déclaration d'un vecteur"
   ]
  },
  {
   "cell_type": "code",
   "execution_count": 9,
   "id": "fd41989f",
   "metadata": {},
   "outputs": [
    {
     "name": "stdout",
     "output_type": "stream",
     "text": [
      "[1, 2, 3]\n"
     ]
    }
   ],
   "source": [
    "b = [1, 2, 3]\n",
    "print(b)"
   ]
  },
  {
   "cell_type": "code",
   "execution_count": 12,
   "id": "6130e708",
   "metadata": {},
   "outputs": [
    {
     "name": "stdout",
     "output_type": "stream",
     "text": [
      "<class 'list'>\n"
     ]
    }
   ],
   "source": [
    "print(type(b))"
   ]
  },
  {
   "cell_type": "code",
   "execution_count": 13,
   "id": "63b9dd9e",
   "metadata": {},
   "outputs": [
    {
     "name": "stdout",
     "output_type": "stream",
     "text": [
      "2\n"
     ]
    }
   ],
   "source": [
    "print(b[1])"
   ]
  },
  {
   "cell_type": "markdown",
   "id": "2fb3e180",
   "metadata": {},
   "source": [
    "## Déclaration d'une matrice"
   ]
  },
  {
   "cell_type": "markdown",
   "id": "8c4d0dae",
   "metadata": {},
   "source": [
    "### basée sur Matlab"
   ]
  },
  {
   "cell_type": "code",
   "execution_count": 16,
   "id": "2ee5703b",
   "metadata": {},
   "outputs": [
    {
     "name": "stdout",
     "output_type": "stream",
     "text": [
      "[[1, 2, 3], [4, 5, 6]]\n",
      "<class 'list'>\n"
     ]
    }
   ],
   "source": [
    "m = [[1,2,3],[4,5,6]]\n",
    "print(m)\n",
    "print(type(m))"
   ]
  },
  {
   "cell_type": "code",
   "execution_count": 18,
   "id": "22798e55",
   "metadata": {},
   "outputs": [
    {
     "name": "stdout",
     "output_type": "stream",
     "text": [
      "[[1, 2, 3], [4, 5, 6], [1, 2, 3], [4, 5, 6]]\n"
     ]
    }
   ],
   "source": [
    "m2 = [[1,2,3],[4,5,6]]\n",
    "msum = m + m2\n",
    "print(msum)"
   ]
  },
  {
   "cell_type": "markdown",
   "id": "c12513c7",
   "metadata": {},
   "source": [
    "Un objet de type 'list' n'est pas une matrice !!"
   ]
  },
  {
   "cell_type": "markdown",
   "id": "3c212e1c",
   "metadata": {},
   "source": [
    "### bibliothèque Numpy"
   ]
  },
  {
   "cell_type": "code",
   "execution_count": 19,
   "id": "10dde7a2",
   "metadata": {},
   "outputs": [],
   "source": [
    "import numpy as np"
   ]
  },
  {
   "cell_type": "code",
   "execution_count": 21,
   "id": "158e19ae",
   "metadata": {},
   "outputs": [
    {
     "name": "stdout",
     "output_type": "stream",
     "text": [
      "[1 2 3]\n"
     ]
    }
   ],
   "source": [
    "ma = np.array([1, 2, 3])\n",
    "print(ma)"
   ]
  },
  {
   "cell_type": "code",
   "execution_count": 27,
   "id": "8177347f",
   "metadata": {},
   "outputs": [
    {
     "name": "stdout",
     "output_type": "stream",
     "text": [
      "[[1 2 3]\n",
      " [4 5 6]]\n",
      "[[ 2  4  6]\n",
      " [ 8 10 12]]\n"
     ]
    }
   ],
   "source": [
    "mb = np.array([[1,2,3],[4,5,6]])\n",
    "mc = np.array([[1,2,3],[4,5,6]])\n",
    "print(mb)\n",
    "mm = mb + mc\n",
    "print(mm)"
   ]
  },
  {
   "cell_type": "code",
   "execution_count": 32,
   "id": "ab620809",
   "metadata": {},
   "outputs": [
    {
     "name": "stdout",
     "output_type": "stream",
     "text": [
      "MT1 = [[1 2]\n",
      " [3 4]]\n",
      "MT1 + MT2 = [[2 4]\n",
      " [6 8]]\n"
     ]
    }
   ],
   "source": [
    "mt1 = np.mat('1 2; 3 4')\n",
    "mt2 = np.mat('1 2; 3 4')\n",
    "print('MT1 = '+str(mt1))\n",
    "mtt = mt1 + mt2\n",
    "print('MT1 + MT2 = '+str(mtt))"
   ]
  },
  {
   "cell_type": "markdown",
   "id": "ba7c3fb7",
   "metadata": {},
   "source": [
    "Avec des complexes"
   ]
  },
  {
   "cell_type": "code",
   "execution_count": 26,
   "id": "90ed2dde",
   "metadata": {},
   "outputs": [
    {
     "name": "stdout",
     "output_type": "stream",
     "text": [
      "[0.+1.j 2.+0.j 3.+0.j]\n"
     ]
    }
   ],
   "source": [
    "mcomplexe = np.array([1j, 2, 3], dtype=complex)\n",
    "print(mcomplexe)"
   ]
  },
  {
   "cell_type": "markdown",
   "id": "eb6a4e9d",
   "metadata": {},
   "source": [
    "### Multiplication terme à terme"
   ]
  },
  {
   "cell_type": "code",
   "execution_count": 1,
   "id": "bee4a54f",
   "metadata": {},
   "outputs": [
    {
     "name": "stdout",
     "output_type": "stream",
     "text": [
      "[[ 1  4  9]\n",
      " [16 25 36]]\n"
     ]
    }
   ],
   "source": [
    "mb = np.array([[1,2,3],[4,5,6]])\n",
    "mc = np.array([[1,2,3],[4,5,6]])\n",
    "mm = mb * mc\n",
    "print(mm)"
   ]
  },
  {
   "cell_type": "markdown",
   "id": "d18481fb",
   "metadata": {},
   "source": [
    "### Produit matriciel"
   ]
  },
  {
   "cell_type": "code",
   "execution_count": 4,
   "id": "b99775ea",
   "metadata": {},
   "outputs": [
    {
     "name": "stdout",
     "output_type": "stream",
     "text": [
      "[[14 32]\n",
      " [32 77]]\n"
     ]
    }
   ],
   "source": [
    "mb = np.array([[1,2,3],[4,5,6]])\n",
    "mc = np.array([[1,2,3],[4,5,6]])\n",
    "mm = np.dot(mb,mc.T)\n",
    "print(mm)"
   ]
  },
  {
   "cell_type": "markdown",
   "id": "f0b4b69a",
   "metadata": {},
   "source": [
    "## Régression linéaire"
   ]
  },
  {
   "cell_type": "code",
   "execution_count": 23,
   "id": "4581f9f7",
   "metadata": {},
   "outputs": [],
   "source": [
    "# Data\n",
    "x = np.linspace(1,10,10)\n",
    "n = 3 * np.random.rand(10)\n",
    "y = 3 * x\n",
    "y = y + n"
   ]
  },
  {
   "cell_type": "code",
   "execution_count": 28,
   "id": "26f77659",
   "metadata": {},
   "outputs": [
    {
     "data": {
      "image/png": "[encoded data removed]",
      "text/plain": [
       "<Figure size 432x288 with 1 Axes>"
      ]
     },
     "metadata": {
      "needs_background": "light"
     },
     "output_type": "display_data"
    }
   ],
   "source": [
    "import matplotlib.pyplot as plt\n",
    "plt.figure()\n",
    "plt.scatter(x, y, c = 'red')\n",
    "plt.show()"
   ]
  },
  {
   "cell_type": "code",
   "execution_count": 29,
   "id": "33517574",
   "metadata": {},
   "outputs": [
    {
     "name": "stdout",
     "output_type": "stream",
     "text": [
      "[2.86260788 2.17864045]\n"
     ]
    }
   ],
   "source": [
    "fit = np.polyfit(x, y, 1)\n",
    "print(fit)"
   ]
  },
  {
   "cell_type": "code",
   "execution_count": 30,
   "id": "adbed308",
   "metadata": {},
   "outputs": [
    {
     "data": {
      "image/png": "[encoded data removed]",
      "text/plain": [
       "<Figure size 432x288 with 1 Axes>"
      ]
     },
     "metadata": {
      "needs_background": "light"
     },
     "output_type": "display_data"
    }
   ],
   "source": [
    "yfit = fit[0] * x + fit[1]\n",
    "plt.figure()\n",
    "plt.scatter(x, y, c = 'red')\n",
    "plt.plot(x, yfit, c = 'blue')\n",
    "plt.show()"
   ]
  },
  {
   "cell_type": "markdown",
   "id": "fc1054f0",
   "metadata": {},
   "source": [
    "## Interaction avec l'utilisateur"
   ]
  },
  {
   "cell_type": "code",
   "execution_count": 33,
   "id": "3abdc3d0",
   "metadata": {},
   "outputs": [
    {
     "name": "stdout",
     "output_type": "stream",
     "text": [
      "Saisir une valeur :10\n",
      "10\n"
     ]
    }
   ],
   "source": [
    "k = input('Saisir une valeur :')\n",
    "print(k)"
   ]
  },
  {
   "cell_type": "markdown",
   "id": "4343c098",
   "metadata": {},
   "source": [
    "## Lecture d'un fichier de données"
   ]
  },
  {
   "cell_type": "markdown",
   "id": "adc7955a",
   "metadata": {},
   "source": [
    "### Fichiers texte avec Numpy"
   ]
  },
  {
   "cell_type": "code",
   "execution_count": 34,
   "id": "9abd24d3",
   "metadata": {},
   "outputs": [
    {
     "name": "stdout",
     "output_type": "stream",
     "text": [
      "<class 'numpy.ndarray'>\n",
      "(5, 2)\n",
      "<class 'numpy.ndarray'>\n",
      "[1. 3.]\n",
      "<class 'numpy.ndarray'>\n",
      "[2. 7.]\n",
      "<class 'numpy.ndarray'>\n",
      "[3. 8.]\n",
      "<class 'numpy.ndarray'>\n",
      "[4. 2.]\n",
      "<class 'numpy.ndarray'>\n",
      "[5. 4.]\n"
     ]
    }
   ],
   "source": [
    "from numpy import loadtxt\n",
    "\n",
    "lines = loadtxt(\"data.txt\", delimiter=\",\")\n",
    "print(type(lines))\n",
    "print(lines.shape)\n",
    "for line in lines:\n",
    "    print(type(line))\n",
    "    print(line)"
   ]
  },
  {
   "cell_type": "code",
   "execution_count": 35,
   "id": "7ea17f63",
   "metadata": {},
   "outputs": [
    {
     "data": {
      "image/png": "[encoded data removed]",
      "text/plain": [
       "<Figure size 432x288 with 1 Axes>"
      ]
     },
     "metadata": {
      "needs_background": "light"
     },
     "output_type": "display_data"
    }
   ],
   "source": [
    "plt.figure()\n",
    "plt.scatter(lines[:,0], lines[:,1])\n",
    "plt.show()"
   ]
  }
 ],
 "metadata": {
  "kernelspec": {
   "display_name": "Python 3 (ipykernel)",
   "language": "python",
   "name": "python3"
  },
  "language_info": {
   "codemirror_mode": {
    "name": "ipython",
    "version": 3
   },
   "file_extension": ".py",
   "mimetype": "text/x-python",
   "name": "python",
   "nbconvert_exporter": "python",
   "pygments_lexer": "ipython3",
   "version": "3.9.7"
  },
  "toc": {
   "base_numbering": 1,
   "nav_menu": {},
   "number_sections": true,
   "sideBar": true,
   "skip_h1_title": false,
   "title_cell": "Table of Contents",
   "title_sidebar": "Contents",
   "toc_cell": false,
   "toc_position": {},
   "toc_section_display": true,
   "toc_window_display": false
  },
  "varInspector": {
   "cols": {
    "lenName": 16,
    "lenType": 16,
    "lenVar": 40
   },
   "kernels_config": {
    "python": {
     "delete_cmd_postfix": "",
     "delete_cmd_prefix": "del ",
     "library": "var_list.py",
     "varRefreshCmd": "print(var_dic_list())"
    },
    "r": {
     "delete_cmd_postfix": ") ",
     "delete_cmd_prefix": "rm(",
     "library": "var_list.r",
     "varRefreshCmd": "cat(var_dic_list()) "
    }
   },
   "types_to_exclude": [
    "module",
    "function",
    "builtin_function_or_method",
    "instance",
    "_Feature"
   ],
   "window_display": false
  }
 },
 "nbformat": 4,
 "nbformat_minor": 5
}
