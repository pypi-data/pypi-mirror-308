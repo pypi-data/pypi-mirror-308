{
 "cells": [
  {
   "cell_type": "code",
   "execution_count": 1,
   "id": "0f90f2ae",
   "metadata": {},
   "outputs": [],
   "source": [
    "# Signaux sinusoidaux\n",
    "#   Trouver la fréquence d'un signal\n",
    "#   basé sur https://nanoconvergencejournal.springeropen.com/articles/10.1186/s40580-019-0197-y\n",
    "\n",
    "import numpy as np\n",
    "import matplotlib.pyplot as plt\n",
    "import pandas as pd\n",
    "import sys\n",
    "\n",
    "import tensorflow as tf\n",
    "from tensorflow import keras\n",
    "from tensorflow.keras import layers\n",
    "from tqdm import tqdm\n",
    "\n",
    "debug_aff = 1"
   ]
  },
  {
   "cell_type": "code",
   "execution_count": 2,
   "id": "898184a6",
   "metadata": {},
   "outputs": [],
   "source": [
    "## Generation des signaux sinusoïdaux\n",
    "#   @freq : frequence du signal\n",
    "#   @amplitude : amplitude du signal\n",
    "#   @Fe : frequence d'echantillonnage\n",
    "#   @N_points : nombre de points à générer\n",
    "#   @bruit : pourcentage de bruit dans le signal\n",
    "def generate_sinus(freq, amplitude, Fe, N_points, bruit = 0.1, phase = 0):\n",
    "    temps = np.linspace(0, N_points*1/Fe, N_points)\n",
    "    noise_sig = bruit*np.random.rand(len(temps))\n",
    "    signal = amplitude * np.sin(2 * np.pi * freq * temps + phase) + noise_sig\n",
    "    return (temps, signal)\n",
    "\n",
    "## Test sinus\n",
    "if debug_aff > 1:\n",
    "    print('Essai sur sinus')\n",
    "    (t, sig) = generate_sinus(10, 1, 10000, 2000)\n",
    "    sig = sig.reshape(2000, 1)\n",
    "    print(sig.shape)\n",
    "    print('Affichage sinus test')\n",
    "    plt.figure()\n",
    "    plt.plot(t, sig)\n",
    "    plt.show()\n",
    "\n"
   ]
  },
  {
   "cell_type": "code",
   "execution_count": 3,
   "id": "9946744a",
   "metadata": {},
   "outputs": [
    {
     "name": "stdout",
     "output_type": "stream",
     "text": [
      "!! DATASET !!\n"
     ]
    },
    {
     "name": "stderr",
     "output_type": "stream",
     "text": [
      "100%|██████████| 10000/10000 [00:02<00:00, 3625.87it/s]\n",
      "100%|██████████| 1000/1000 [00:00<00:00, 3581.76it/s]\n"
     ]
    },
    {
     "name": "stdout",
     "output_type": "stream",
     "text": [
      "Shape of dataset\n",
      "(10000, 4000, 1)\n",
      "Shape of y_train\n",
      "(10000,)\n",
      "Affichage sinus 1\n"
     ]
    },
    {
     "data": {
      "image/png": "[encoded data removed]",
      "text/plain": [
       "<Figure size 432x288 with 1 Axes>"
      ]
     },
     "metadata": {
      "needs_background": "light"
     },
     "output_type": "display_data"
    },
    {
     "name": "stdout",
     "output_type": "stream",
     "text": [
      "[0.41362044 0.15312146 0.2662427  ... 0.1177664  0.24372673 0.59051942]\n"
     ]
    }
   ],
   "source": [
    "## Generation du dataset d'entrainement\n",
    "#   Generation des signaux\n",
    "\n",
    "def generate_dataset(npoints, nb_echantillons):\n",
    "    amp = 1\n",
    "    fe = 100000\n",
    "    X_signaux = np.empty([nb_echantillons, npoints, 1], dtype = float)\n",
    "    y_signaux = np.empty([nb_echantillons], dtype = float)\n",
    "\n",
    "    amp = 1.0\n",
    "    nois = 0.05\n",
    "\n",
    "    for ik in tqdm(range(nb_echantillons)):\n",
    "        freq = 9000 * np.random.rand(1) + 1000\n",
    "        y_signaux[ik] = freq/10000\n",
    "        (t, sig) = generate_sinus(freq, amp, fe, npoints, bruit=nois, phase=0)\n",
    "        sig = sig.reshape(len(t),1)\n",
    "        X_signaux[ik,:] = sig\n",
    "\n",
    "    return (t, X_signaux, y_signaux)\n",
    "\n",
    "## Dataset generation\n",
    "print('!! DATASET !!')\n",
    "nbpoints = 4000\n",
    "nbech_train = 10000\n",
    "nbech_test = 1000\n",
    "(t, train_data, y_train) = generate_dataset(nbpoints, nbech_train)\n",
    "(t, test_data, y_test) = generate_dataset(nbpoints, nbech_test)\n",
    "print('Shape of dataset')\n",
    "print(train_data.shape)\n",
    "print('Shape of y_train')\n",
    "print(y_train.shape)\n",
    "\n",
    "# Normalization\n",
    "max_data = train_data.max()\n",
    "train_data = train_data / max_data\n",
    "test_data = test_data / max_data\n",
    "\n",
    "if debug_aff >= 1:\n",
    "    print('Affichage sinus 1')\n",
    "    plt.figure()\n",
    "    plt.plot(t, train_data[5,:])\n",
    "    plt.plot(t, train_data[6,:])\n",
    "    plt.show()\n",
    "\n",
    "print(y_train)"
   ]
  },
  {
   "cell_type": "code",
   "execution_count": 4,
   "id": "53ed82b6",
   "metadata": {},
   "outputs": [
    {
     "name": "stdout",
     "output_type": "stream",
     "text": [
      "Tensorflow\n",
      "Model: \"sequential\"\n",
      "_________________________________________________________________\n",
      "Layer (type)                 Output Shape              Param #   \n",
      "=================================================================\n",
      "flatten (Flatten)            (None, 4000)              0         \n",
      "_________________________________________________________________\n",
      "dense (Dense)                (None, 2)                 8002      \n",
      "_________________________________________________________________\n",
      "dense_1 (Dense)              (None, 2)                 6         \n",
      "_________________________________________________________________\n",
      "dense_2 (Dense)              (None, 3)                 9         \n",
      "_________________________________________________________________\n",
      "dense_3 (Dense)              (None, 1)                 4         \n",
      "=================================================================\n",
      "Total params: 8,021\n",
      "Trainable params: 8,021\n",
      "Non-trainable params: 0\n",
      "_________________________________________________________________\n",
      "Data shape\n",
      "(10000, 4000, 1)\n",
      "(10000,)\n",
      "Max = 1.0\n"
     ]
    },
    {
     "name": "stderr",
     "output_type": "stream",
     "text": [
      "2022-04-21 12:44:15.838587: I tensorflow/core/platform/cpu_feature_guard.cc:142] This TensorFlow binary is optimized with oneAPI Deep Neural Network Library (oneDNN) to use the following CPU instructions in performance-critical operations:  SSE4.1 SSE4.2 AVX AVX2 FMA\n",
      "To enable them in other operations, rebuild TensorFlow with the appropriate compiler flags.\n"
     ]
    }
   ],
   "source": [
    "## Tensorflow setup and training\n",
    "print('Tensorflow')\n",
    "# Model setup\n",
    "model = tf.keras.Sequential()\n",
    "model.add(tf.keras.layers.Flatten(input_shape=(nbpoints,1)))\n",
    "model.add(tf.keras.layers.Dense(2))      # couche intermédiaire\n",
    "model.add(tf.keras.layers.Dense(2))      # couche intermédiaire\n",
    "model.add(tf.keras.layers.Dense(3))      # couche intermédiaire\n",
    "model.add(tf.keras.layers.Dense(1))    # taille de sortie\n",
    "\n",
    "# Model compilation\n",
    "model.compile(optimizer=tf.keras.optimizers.Nadam(learning_rate=0.001), loss=tf.keras.losses.MeanSquaredError())\n",
    "model.summary()\n",
    "\n",
    "print('Data shape')\n",
    "print(train_data.shape)\n",
    "print(y_train.shape)\n",
    "\n",
    "# data normalization\n",
    "max_data = train_data.max()\n",
    "print('Max = '+str(max_data))\n",
    "train_data = train_data / max_data\n",
    "test_data = test_data / max_data"
   ]
  },
  {
   "cell_type": "code",
   "execution_count": 5,
   "id": "6880adfa",
   "metadata": {},
   "outputs": [
    {
     "name": "stderr",
     "output_type": "stream",
     "text": [
      "2022-04-21 12:44:17.763074: I tensorflow/compiler/mlir/mlir_graph_optimization_pass.cc:116] None of the MLIR optimization passes are enabled (registered 2)\n",
      "2022-04-21 12:44:17.763692: I tensorflow/core/platform/profile_utils/cpu_utils.cc:112] CPU Frequency: 1996250000 Hz\n"
     ]
    },
    {
     "name": "stdout",
     "output_type": "stream",
     "text": [
      "Epoch 1/40\n",
      "100/100 [==============================] - 3s 15ms/step - loss: 0.2719 - val_loss: 0.0012\n",
      "Epoch 2/40\n",
      "100/100 [==============================] - 1s 8ms/step - loss: 5.2024e-04 - val_loss: 2.1349e-04\n",
      "Epoch 3/40\n",
      "100/100 [==============================] - 1s 7ms/step - loss: 2.1909e-04 - val_loss: 2.2594e-04\n",
      "Epoch 4/40\n",
      "100/100 [==============================] - 0s 5ms/step - loss: 2.2926e-04 - val_loss: 2.4109e-04\n",
      "Epoch 5/40\n",
      "100/100 [==============================] - 0s 3ms/step - loss: 2.6716e-04 - val_loss: 2.9438e-04\n",
      "Epoch 6/40\n",
      "100/100 [==============================] - 0s 4ms/step - loss: 3.0162e-04 - val_loss: 3.4465e-04\n",
      "Epoch 7/40\n",
      "100/100 [==============================] - 0s 5ms/step - loss: 3.6608e-04 - val_loss: 3.4251e-04\n",
      "Epoch 8/40\n",
      "100/100 [==============================] - 0s 3ms/step - loss: 4.0071e-04 - val_loss: 4.8534e-04\n",
      "Epoch 9/40\n",
      "100/100 [==============================] - 0s 4ms/step - loss: 4.9095e-04 - val_loss: 5.6489e-04\n",
      "Epoch 10/40\n",
      "100/100 [==============================] - 0s 5ms/step - loss: 5.5900e-04 - val_loss: 5.6570e-04\n",
      "Epoch 11/40\n",
      "100/100 [==============================] - 0s 3ms/step - loss: 6.7061e-04 - val_loss: 7.5399e-04\n",
      "Epoch 12/40\n",
      "100/100 [==============================] - 0s 3ms/step - loss: 7.0556e-04 - val_loss: 7.4903e-04\n",
      "Epoch 13/40\n",
      "100/100 [==============================] - 0s 4ms/step - loss: 8.0212e-04 - val_loss: 9.1236e-04\n",
      "Epoch 14/40\n",
      "100/100 [==============================] - 0s 5ms/step - loss: 8.3842e-04 - val_loss: 6.7683e-04\n",
      "Epoch 15/40\n",
      "100/100 [==============================] - 0s 4ms/step - loss: 7.9399e-04 - val_loss: 7.9265e-04\n",
      "Epoch 16/40\n",
      "100/100 [==============================] - 0s 4ms/step - loss: 6.7389e-04 - val_loss: 6.4078e-04\n",
      "Epoch 17/40\n",
      "100/100 [==============================] - 0s 3ms/step - loss: 6.4702e-04 - val_loss: 6.0417e-04\n",
      "Epoch 18/40\n",
      "100/100 [==============================] - 0s 3ms/step - loss: 5.8696e-04 - val_loss: 5.1032e-04\n",
      "Epoch 19/40\n",
      "100/100 [==============================] - 0s 2ms/step - loss: 5.6300e-04 - val_loss: 6.1298e-04\n",
      "Epoch 20/40\n",
      "100/100 [==============================] - 0s 3ms/step - loss: 5.7867e-04 - val_loss: 5.0748e-04\n",
      "Epoch 21/40\n",
      "100/100 [==============================] - 1s 5ms/step - loss: 4.9486e-04 - val_loss: 5.6496e-04\n",
      "Epoch 22/40\n",
      "100/100 [==============================] - 0s 5ms/step - loss: 4.9338e-04 - val_loss: 4.4137e-04\n",
      "Epoch 23/40\n",
      "100/100 [==============================] - 0s 3ms/step - loss: 4.5486e-04 - val_loss: 4.6747e-04\n",
      "Epoch 24/40\n",
      "100/100 [==============================] - 0s 3ms/step - loss: 4.1403e-04 - val_loss: 3.9900e-04\n",
      "Epoch 25/40\n",
      "100/100 [==============================] - 0s 4ms/step - loss: 3.9596e-04 - val_loss: 4.4181e-04\n",
      "Epoch 26/40\n",
      "100/100 [==============================] - 0s 3ms/step - loss: 4.1124e-04 - val_loss: 3.6525e-04\n",
      "Epoch 27/40\n",
      "100/100 [==============================] - 0s 3ms/step - loss: 3.6452e-04 - val_loss: 3.3291e-04\n",
      "Epoch 28/40\n",
      "100/100 [==============================] - 0s 4ms/step - loss: 3.4970e-04 - val_loss: 3.2387e-04\n",
      "Epoch 29/40\n",
      "100/100 [==============================] - 0s 2ms/step - loss: 3.4646e-04 - val_loss: 3.3912e-04\n",
      "Epoch 30/40\n",
      "100/100 [==============================] - 0s 3ms/step - loss: 3.2720e-04 - val_loss: 3.5771e-04\n",
      "Epoch 31/40\n",
      "100/100 [==============================] - 0s 4ms/step - loss: 3.2585e-04 - val_loss: 3.0184e-04\n",
      "Epoch 32/40\n",
      "100/100 [==============================] - 0s 2ms/step - loss: 2.8365e-04 - val_loss: 3.2558e-04\n",
      "Epoch 33/40\n",
      "100/100 [==============================] - 0s 2ms/step - loss: 3.1774e-04 - val_loss: 3.3830e-04\n",
      "Epoch 34/40\n",
      "100/100 [==============================] - 0s 2ms/step - loss: 3.2298e-04 - val_loss: 2.5154e-04\n",
      "Epoch 35/40\n",
      "100/100 [==============================] - 0s 3ms/step - loss: 2.5895e-04 - val_loss: 2.2321e-04\n",
      "Epoch 36/40\n",
      "100/100 [==============================] - 0s 3ms/step - loss: 2.2462e-04 - val_loss: 3.3593e-04\n",
      "Epoch 37/40\n",
      "100/100 [==============================] - 0s 2ms/step - loss: 2.5714e-04 - val_loss: 2.3646e-04\n",
      "Epoch 38/40\n",
      "100/100 [==============================] - 0s 2ms/step - loss: 2.3430e-04 - val_loss: 3.4494e-04\n",
      "Epoch 39/40\n",
      "100/100 [==============================] - 0s 2ms/step - loss: 2.5850e-04 - val_loss: 2.0505e-04\n",
      "Epoch 40/40\n",
      "100/100 [==============================] - 0s 2ms/step - loss: 2.1302e-04 - val_loss: 2.3177e-04\n"
     ]
    },
    {
     "data": {
      "image/png": "[encoded data removed]",
      "text/plain": [
       "<Figure size 432x288 with 1 Axes>"
      ]
     },
     "metadata": {
      "needs_background": "light"
     },
     "output_type": "display_data"
    },
    {
     "name": "stderr",
     "output_type": "stream",
     "text": [
      "100%|██████████| 10/10 [00:00<00:00, 5094.50it/s]"
     ]
    },
    {
     "name": "stdout",
     "output_type": "stream",
     "text": [
      "Prediction par le modele\n",
      "[6574. 2138. 2961. 2349. 9193. 2341. 6668. 9357. 5160. 2042.]\n",
      "Vraies valeurs\n",
      "[6348. 2154. 2910. 2082. 8643. 2261. 6527. 9122. 4909. 2019.]\n",
      "[ 3.5498488  -0.74310948  1.73785126 12.79145704  6.35701555  3.50167698\n",
      "  2.15860446  2.56863838  5.1165862   1.16123563]\n"
     ]
    },
    {
     "name": "stderr",
     "output_type": "stream",
     "text": [
      "\n"
     ]
    }
   ],
   "source": [
    "# First Training\n",
    "n_epoch = 40\n",
    "history = model.fit(train_data, y_train, epochs=n_epoch, steps_per_epoch=100, validation_data=(test_data, y_test))\n",
    "# avec verication sur données test\n",
    "\n",
    "# Display of accuracy of the model in function of the epochs\n",
    "loss = history.history['loss']\n",
    "val_loss = history.history['val_loss']\n",
    "epochs = range(len(loss))\n",
    "\n",
    "plt.figure()\n",
    "plt.plot(epochs, loss, 'r', label='Training loss')\n",
    "plt.plot(epochs, val_loss, 'b', label='Validation loss')\n",
    "plt.title('Training and Validation Loss')\n",
    "plt.legend(loc=0)\n",
    "plt.show()\n",
    "\n",
    "## Signal prediction with trained model\n",
    "(t, predic, y_predic) = generate_dataset(nbpoints, 10)\n",
    "y_proba = model.predict(predic)\n",
    "y_proba = y_proba.reshape(len(y_proba))\n",
    "print('Prediction par le modele')\n",
    "print(np.floor(y_proba*10000))\n",
    "print('Vraies valeurs')\n",
    "print(np.floor(y_predic*10000))\n",
    "erreur = (y_proba-y_predic) / y_predic * 100\n",
    "print(erreur)"
   ]
  }
 ],
 "metadata": {
  "kernelspec": {
   "display_name": "Python 3 (ipykernel)",
   "language": "python",
   "name": "python3"
  },
  "language_info": {
   "codemirror_mode": {
    "name": "ipython",
    "version": 3
   },
   "file_extension": ".py",
   "mimetype": "text/x-python",
   "name": "python",
   "nbconvert_exporter": "python",
   "pygments_lexer": "ipython3",
   "version": "3.9.7"
  },
  "toc": {
   "base_numbering": 1,
   "nav_menu": {},
   "number_sections": true,
   "sideBar": true,
   "skip_h1_title": false,
   "title_cell": "Table of Contents",
   "title_sidebar": "Contents",
   "toc_cell": false,
   "toc_position": {},
   "toc_section_display": true,
   "toc_window_display": false
  },
  "varInspector": {
   "cols": {
    "lenName": 16,
    "lenType": 16,
    "lenVar": 40
   },
   "kernels_config": {
    "python": {
     "delete_cmd_postfix": "",
     "delete_cmd_prefix": "del ",
     "library": "var_list.py",
     "varRefreshCmd": "print(var_dic_list())"
    },
    "r": {
     "delete_cmd_postfix": ") ",
     "delete_cmd_prefix": "rm(",
     "library": "var_list.r",
     "varRefreshCmd": "cat(var_dic_list()) "
    }
   },
   "types_to_exclude": [
    "module",
    "function",
    "builtin_function_or_method",
    "instance",
    "_Feature"
   ],
   "window_display": false
  }
 },
 "nbformat": 4,
 "nbformat_minor": 5
}
