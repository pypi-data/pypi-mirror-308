{
 "cells": [
  {
   "cell_type": "code",
   "execution_count": 1,
   "metadata": {},
   "outputs": [],
   "source": [
    "import symengine\n",
    "import cobra\n",
    "from cobra.io import load_json_model\n",
    "from copy import deepcopy\n",
    "import pickle\n",
    "import pandas as pd\n",
    "import glob\n",
    "import json\n",
    "from optlang.symbolics import Zero\n",
    "from cobra.core import Reaction\n",
    "import sys\n",
    "import operator\n",
    "from cobra.util.util import format_long_string\n",
    "\n",
    "#curate universal, remove poorly annotated things, sink rxns, remove mass generating loops, second step of model creation"
   ]
  },
  {
   "cell_type": "code",
   "execution_count": 2,
   "metadata": {},
   "outputs": [
    {
     "ename": "FileNotFoundError",
     "evalue": "[Errno 2] No such file or directory: 'universal_mundy.json'",
     "output_type": "error",
     "traceback": [
      "\u001b[0;31m---------------------------------------------------------------------------\u001b[0m",
      "\u001b[0;31mFileNotFoundError\u001b[0m                         Traceback (most recent call last)",
      "Input \u001b[0;32mIn [2]\u001b[0m, in \u001b[0;36m<cell line: 1>\u001b[0;34m()\u001b[0m\n\u001b[0;32m----> 1\u001b[0m universal \u001b[38;5;241m=\u001b[39m \u001b[43mload_json_model\u001b[49m\u001b[43m(\u001b[49m\u001b[38;5;124;43m'\u001b[39;49m\u001b[38;5;124;43muniversal_mundy.json\u001b[39;49m\u001b[38;5;124;43m'\u001b[39;49m\u001b[43m)\u001b[49m\n\u001b[1;32m      2\u001b[0m universal2 \u001b[38;5;241m=\u001b[39m deepcopy(universal)\n",
      "File \u001b[0;32m~/opt/anaconda3/lib/python3.9/site-packages/cobra/io/json.py:148\u001b[0m, in \u001b[0;36mload_json_model\u001b[0;34m(filename)\u001b[0m\n\u001b[1;32m    129\u001b[0m \u001b[38;5;124;03m\"\"\"Load a cobra model from a file in JSON format.\u001b[39;00m\n\u001b[1;32m    130\u001b[0m \n\u001b[1;32m    131\u001b[0m \u001b[38;5;124;03mParameters\u001b[39;00m\n\u001b[0;32m   (...)\u001b[0m\n\u001b[1;32m    145\u001b[0m \n\u001b[1;32m    146\u001b[0m \u001b[38;5;124;03m\"\"\"\u001b[39;00m\n\u001b[1;32m    147\u001b[0m \u001b[38;5;28;01mif\u001b[39;00m \u001b[38;5;28misinstance\u001b[39m(filename, (\u001b[38;5;28mstr\u001b[39m, Path)):\n\u001b[0;32m--> 148\u001b[0m     \u001b[38;5;28;01mwith\u001b[39;00m \u001b[38;5;28;43mopen\u001b[39;49m\u001b[43m(\u001b[49m\u001b[43mfilename\u001b[49m\u001b[43m,\u001b[49m\u001b[43m \u001b[49m\u001b[38;5;124;43m\"\u001b[39;49m\u001b[38;5;124;43mr\u001b[39;49m\u001b[38;5;124;43m\"\u001b[39;49m\u001b[43m)\u001b[49m \u001b[38;5;28;01mas\u001b[39;00m file_handle:\n\u001b[1;32m    149\u001b[0m         \u001b[38;5;28;01mreturn\u001b[39;00m model_from_dict(json\u001b[38;5;241m.\u001b[39mload(file_handle))\n\u001b[1;32m    150\u001b[0m \u001b[38;5;28;01melse\u001b[39;00m:\n",
      "\u001b[0;31mFileNotFoundError\u001b[0m: [Errno 2] No such file or directory: 'universal_mundy.json'"
     ]
    }
   ],
   "source": [
    "universal = load_json_model('universal_mundy.json')\n",
    "universal2 = deepcopy(universal)"
   ]
  },
  {
   "cell_type": "code",
   "execution_count": 6,
   "metadata": {},
   "outputs": [
    {
     "name": "stdout",
     "output_type": "stream",
     "text": [
      "20351\n"
     ]
    },
    {
     "data": {
      "text/html": [
       "\n",
       "        <table>\n",
       "            <tr>\n",
       "                <td><strong>Name</strong></td>\n",
       "                <td>MicrobialNegative</td>\n",
       "            </tr><tr>\n",
       "                <td><strong>Memory address</strong></td>\n",
       "                <td>0x07f896a5108d0</td>\n",
       "            </tr><tr>\n",
       "                <td><strong>Number of metabolites</strong></td>\n",
       "                <td>15078</td>\n",
       "            </tr><tr>\n",
       "                <td><strong>Number of reactions</strong></td>\n",
       "                <td>20351</td>\n",
       "            </tr><tr>\n",
       "                <td><strong>Objective expression</strong></td>\n",
       "                <td>0.0</td>\n",
       "            </tr><tr>\n",
       "                <td><strong>Compartments</strong></td>\n",
       "                <td>c, e</td>\n",
       "            </tr>\n",
       "          </table>"
      ],
      "text/plain": [
       "<Model MicrobialNegative at 0x7f896a5108d0>"
      ]
     },
     "execution_count": 6,
     "metadata": {},
     "output_type": "execute_result"
    }
   ],
   "source": [
    "# Number of active reactions\n",
    "temp_rxns = []\n",
    "for rxn in universal2.reactions:\n",
    "    if rxn.lower_bound <0 or rxn.upper_bound >0:\n",
    "        temp_rxns.append(rxn.id)\n",
    "print(len(temp_rxns))\n",
    "universal2"
   ]
  },
  {
   "cell_type": "code",
   "execution_count": 7,
   "metadata": {},
   "outputs": [
    {
     "data": {
      "text/plain": [
       "1837"
      ]
     },
     "execution_count": 7,
     "metadata": {},
     "output_type": "execute_result"
    }
   ],
   "source": [
    "# Number of extracellular metabolites\n",
    "len([met.id for met in universal2.metabolites if met.id.endswith('_e')])"
   ]
  },
  {
   "cell_type": "code",
   "execution_count": 8,
   "metadata": {},
   "outputs": [],
   "source": [
    "ec_patric = cobra.io.read_sbml_model('511145.12.xml')"
   ]
  },
  {
   "cell_type": "code",
   "execution_count": 9,
   "metadata": {},
   "outputs": [],
   "source": [
    "# EC biomass reaction\n",
    "biomass_rxn = deepcopy(ec_patric.reactions.get_by_id('bio1'))\n",
    "biomass_snk = deepcopy(ec_patric.reactions.get_by_id('SK_cpd11416_c'))\n",
    "universal2.add_reactions([biomass_rxn,biomass_snk])\n",
    "\n",
    "# Fix water issue\n",
    "universal2.reactions.get_by_id('rxn05319_c').name = \"Water transport\"\n",
    "universal2.reactions.get_by_id('rxn05319_c').bounds = (-1000., 1000.)"
   ]
  },
  {
   "cell_type": "code",
   "execution_count": 10,
   "metadata": {},
   "outputs": [
    {
     "name": "stdout",
     "output_type": "stream",
     "text": [
      "20353\n"
     ]
    },
    {
     "data": {
      "text/html": [
       "\n",
       "        <table>\n",
       "            <tr>\n",
       "                <td><strong>Name</strong></td>\n",
       "                <td>MicrobialNegative</td>\n",
       "            </tr><tr>\n",
       "                <td><strong>Memory address</strong></td>\n",
       "                <td>0x07f896a5108d0</td>\n",
       "            </tr><tr>\n",
       "                <td><strong>Number of metabolites</strong></td>\n",
       "                <td>15078</td>\n",
       "            </tr><tr>\n",
       "                <td><strong>Number of reactions</strong></td>\n",
       "                <td>20353</td>\n",
       "            </tr><tr>\n",
       "                <td><strong>Objective expression</strong></td>\n",
       "                <td>0.0</td>\n",
       "            </tr><tr>\n",
       "                <td><strong>Compartments</strong></td>\n",
       "                <td>c, e</td>\n",
       "            </tr>\n",
       "          </table>"
      ],
      "text/plain": [
       "<Model MicrobialNegative at 0x7f896a5108d0>"
      ]
     },
     "execution_count": 10,
     "metadata": {},
     "output_type": "execute_result"
    }
   ],
   "source": [
    "# Number of active reactions\n",
    "temp_rxns = []\n",
    "for rxn in universal2.reactions:\n",
    "    if rxn.lower_bound <0 or rxn.upper_bound >0:\n",
    "        temp_rxns.append(rxn.id)\n",
    "print(len(temp_rxns))\n",
    "universal2"
   ]
  },
  {
   "cell_type": "code",
   "execution_count": 11,
   "metadata": {},
   "outputs": [
    {
     "name": "stderr",
     "output_type": "stream",
     "text": [
      "cobra/core/metabolite.py:85 \u001b[1;31mUserWarning\u001b[0m: invalid character '*' found in formula 'H2O6P2*2'\n",
      "cobra/core/metabolite.py:88 \u001b[1;31mUserWarning\u001b[0m: invalid formula (has parenthesis) in 'C12H16O2(C5H8)n'\n",
      "cobra/core/metabolite.py:85 \u001b[1;31mUserWarning\u001b[0m: invalid character '*' found in formula 'C5H11O7P*2'\n",
      "cobra/core/metabolite.py:88 \u001b[1;31mUserWarning\u001b[0m: invalid formula (has parenthesis) in 'C13H18O3(C5H8)n'\n",
      "cobra/core/metabolite.py:85 \u001b[1;31mUserWarning\u001b[0m: invalid character '*' found in formula 'C6H10O5*2'\n",
      "cobra/core/metabolite.py:106 \u001b[1;31mUserWarning\u001b[0m: failed to parse . (in formula C10H10N5O6PS2.Mo.O2)\n",
      "cobra/core/metabolite.py:88 \u001b[1;31mUserWarning\u001b[0m: invalid formula (has parenthesis) in 'C16H16O3(C5H8)n'\n",
      "cobra/core/metabolite.py:88 \u001b[1;31mUserWarning\u001b[0m: invalid formula (has parenthesis) in 'C12H14O4(C5H8)n'\n",
      "cobra/core/metabolite.py:85 \u001b[1;31mUserWarning\u001b[0m: invalid character '*' found in formula 'C12H20O10*2'\n",
      "cobra/core/metabolite.py:88 \u001b[1;31mUserWarning\u001b[0m: invalid formula (has parenthesis) in 'C13H16O4(C5H8)n'\n",
      "cobra/core/metabolite.py:106 \u001b[1;31mUserWarning\u001b[0m: failed to parse . (in formula C61H86N13O14P.Co)\n",
      "cobra/core/metabolite.py:106 \u001b[1;31mUserWarning\u001b[0m: failed to parse . (in formula C8H8Cl2N2S.ClH)\n",
      "cobra/core/metabolite.py:88 \u001b[1;31mUserWarning\u001b[0m: invalid formula (has parenthesis) in 'C10H19N5O5(C10H17N5O4)n'\n",
      "cobra/core/metabolite.py:88 \u001b[1;31mUserWarning\u001b[0m: invalid formula (has parenthesis) in 'C9H14N3O8P(C5H8O6PR)n(C5H8O6PR)n'\n",
      "cobra/core/metabolite.py:106 \u001b[1;31mUserWarning\u001b[0m: failed to parse . (in formula C10H10N5O6PS2.Mo.O.S)\n",
      "cobra/core/metabolite.py:88 \u001b[1;31mUserWarning\u001b[0m: invalid formula (has parenthesis) in '(C17H28N3O10R)n'\n",
      "cobra/core/metabolite.py:106 \u001b[1;31mUserWarning\u001b[0m: failed to parse . (in formula C7H3NO2S2.ClH.Cu)\n",
      "cobra/core/metabolite.py:85 \u001b[1;31mUserWarning\u001b[0m: invalid character '*' found in formula 'C12H20O11*2'\n",
      "cobra/core/metabolite.py:88 \u001b[1;31mUserWarning\u001b[0m: invalid formula (has parenthesis) in 'C15H16O2(C5H8)n'\n",
      "cobra/core/metabolite.py:88 \u001b[1;31mUserWarning\u001b[0m: invalid formula (has parenthesis) in 'C33H45N11O24P3R(C5H8O6PR)n'\n",
      "cobra/core/metabolite.py:88 \u001b[1;31mUserWarning\u001b[0m: invalid formula (has parenthesis) in 'H2O(C10H17N5O4)n'\n",
      "cobra/core/metabolite.py:88 \u001b[1;31mUserWarning\u001b[0m: invalid formula (has parenthesis) in 'C26H39N5O6SR4(C2H2NOR)n'\n",
      "cobra/core/metabolite.py:88 \u001b[1;31mUserWarning\u001b[0m: invalid formula (has parenthesis) in 'C13H16O3(C5H8)n'\n",
      "cobra/core/metabolite.py:88 \u001b[1;31mUserWarning\u001b[0m: invalid formula (has parenthesis) in 'C14H21N3O11PR(C5H8O6PR)n'\n",
      "cobra/core/metabolite.py:88 \u001b[1;31mUserWarning\u001b[0m: invalid formula (has parenthesis) in 'H2O(C39H64N8O19)n'\n",
      "cobra/core/metabolite.py:106 \u001b[1;31mUserWarning\u001b[0m: failed to parse . (in formula C7H3NO3S.ClH.Cu)\n",
      "cobra/core/metabolite.py:106 \u001b[1;31mUserWarning\u001b[0m: failed to parse . (in formula Pb.S)\n"
     ]
    },
    {
     "name": "stdout",
     "output_type": "stream",
     "text": [
      "14978\n",
      "1129\n",
      "4246\n"
     ]
    },
    {
     "name": "stderr",
     "output_type": "stream",
     "text": [
      "cobra/core/metabolite.py:88 \u001b[1;31mUserWarning\u001b[0m: invalid formula (has parenthesis) in 'C15H28O7P2(C5H8)n'\n",
      "cobra/core/metabolite.py:85 \u001b[1;31mUserWarning\u001b[0m: invalid character '*' found in formula 'C6H11O6*'\n",
      "cobra/core/metabolite.py:85 \u001b[1;31mUserWarning\u001b[0m: invalid character '*' found in formula 'C25H45NO8R*'\n",
      "cobra/core/metabolite.py:85 \u001b[1;31mUserWarning\u001b[0m: invalid character '*' found in formula 'C5H8*2'\n",
      "cobra/core/metabolite.py:106 \u001b[1;31mUserWarning\u001b[0m: failed to parse . (in formula C19H22N8O13P2S2.Mo.O2)\n",
      "cobra/core/metabolite.py:85 \u001b[1;31mUserWarning\u001b[0m: invalid character '*' found in formula 'C5H7NO3*2'\n",
      "cobra/core/metabolite.py:85 \u001b[1;31mUserWarning\u001b[0m: invalid character '*' found in formula 'C24H41O21*'\n"
     ]
    }
   ],
   "source": [
    "# Remove mass imbalanced reactions\n",
    "balanced_rxns = []\n",
    "charge_only_rxns = []\n",
    "mass_imbalanced = []\n",
    "\n",
    "for rxn in universal2.reactions:\n",
    "    try:\n",
    "        if not rxn.check_mass_balance(): #Check is the dictionary is empty\n",
    "            balanced_rxns.append(rxn.id)\n",
    "        elif (list(rxn.check_mass_balance().keys())[0] == 'charge') & (len(list(rxn.check_mass_balance().keys())) == 1):\n",
    "            charge_only_rxns.append(rxn.id)\n",
    "        else:\n",
    "            mass_imbalanced.append(rxn.id)\n",
    "    except:\n",
    "        mass_imbalanced.append(rxn.id)\n",
    "        \n",
    "print(len(balanced_rxns))\n",
    "print(len(charge_only_rxns))\n",
    "print(len(mass_imbalanced))"
   ]
  },
  {
   "cell_type": "code",
   "execution_count": 12,
   "metadata": {},
   "outputs": [],
   "source": [
    "# Save imbalanced reaction bounds and then set them all to zero.\n",
    "mass_imbalanced_bounds = {}\n",
    "for rxn_id in mass_imbalanced:\n",
    "    rxn = universal2.reactions.get_by_id(rxn_id)\n",
    "    mass_imbalanced_bounds[rxn_id] = [rxn.lower_bound, rxn.upper_bound]\n",
    "    rxn.lower_bound = 0.0\n",
    "    rxn.upper_bound = 0.0"
   ]
  },
  {
   "cell_type": "code",
   "execution_count": 13,
   "metadata": {},
   "outputs": [
    {
     "name": "stdout",
     "output_type": "stream",
     "text": [
      "16107\n"
     ]
    },
    {
     "data": {
      "text/html": [
       "\n",
       "        <table>\n",
       "            <tr>\n",
       "                <td><strong>Name</strong></td>\n",
       "                <td>MicrobialNegative</td>\n",
       "            </tr><tr>\n",
       "                <td><strong>Memory address</strong></td>\n",
       "                <td>0x07f896a5108d0</td>\n",
       "            </tr><tr>\n",
       "                <td><strong>Number of metabolites</strong></td>\n",
       "                <td>15078</td>\n",
       "            </tr><tr>\n",
       "                <td><strong>Number of reactions</strong></td>\n",
       "                <td>20353</td>\n",
       "            </tr><tr>\n",
       "                <td><strong>Objective expression</strong></td>\n",
       "                <td>0.0</td>\n",
       "            </tr><tr>\n",
       "                <td><strong>Compartments</strong></td>\n",
       "                <td>c, e</td>\n",
       "            </tr>\n",
       "          </table>"
      ],
      "text/plain": [
       "<Model MicrobialNegative at 0x7f896a5108d0>"
      ]
     },
     "execution_count": 13,
     "metadata": {},
     "output_type": "execute_result"
    }
   ],
   "source": [
    "# Number of active reactions\n",
    "temp_rxns = []\n",
    "for rxn in universal2.reactions:\n",
    "    if rxn.lower_bound <0 or rxn.upper_bound >0:\n",
    "        temp_rxns.append(rxn.id)\n",
    "print(len(temp_rxns))\n",
    "universal2"
   ]
  },
  {
   "cell_type": "code",
   "execution_count": 14,
   "metadata": {},
   "outputs": [],
   "source": [
    "# Save imbalanced reaction bounds and then set them all to zero.\n",
    "\n",
    "charge_imbalanced_bounds = {}\n",
    "for rxn_id in charge_only_rxns:\n",
    "    rxn = universal2.reactions.get_by_id(rxn_id)\n",
    "    charge_imbalanced_bounds[rxn_id] = [rxn.lower_bound, rxn.upper_bound]\n",
    "#     rxn.lower_bound = 0.0\n",
    "#     rxn.upper_bound = 0.0"
   ]
  },
  {
   "cell_type": "code",
   "execution_count": 15,
   "metadata": {},
   "outputs": [],
   "source": [
    "# Remove reactions with no reactants\n",
    "for rxn in universal2.reactions:\n",
    "    if (len(rxn.reactants) == 0) & (not rxn.id.startswith('EX_')):\n",
    "        rxn.lower_bound = 0.0\n",
    "        rxn.upper_bound = 0.0\n",
    "\n",
    "# Essential reactions for biomass reaction: 'bio1'\n",
    "universal2.reactions.get_by_id('rxn13783_c').upper_bound = 1000.\n",
    "universal2.reactions.get_by_id('rxn13784_c').upper_bound = 1000.\n",
    "universal2.reactions.get_by_id('rxn13782_c').upper_bound = 1000."
   ]
  },
  {
   "cell_type": "code",
   "execution_count": 16,
   "metadata": {},
   "outputs": [
    {
     "name": "stdout",
     "output_type": "stream",
     "text": [
      "16087\n"
     ]
    },
    {
     "data": {
      "text/html": [
       "\n",
       "        <table>\n",
       "            <tr>\n",
       "                <td><strong>Name</strong></td>\n",
       "                <td>MicrobialNegative</td>\n",
       "            </tr><tr>\n",
       "                <td><strong>Memory address</strong></td>\n",
       "                <td>0x07f896a5108d0</td>\n",
       "            </tr><tr>\n",
       "                <td><strong>Number of metabolites</strong></td>\n",
       "                <td>15078</td>\n",
       "            </tr><tr>\n",
       "                <td><strong>Number of reactions</strong></td>\n",
       "                <td>20353</td>\n",
       "            </tr><tr>\n",
       "                <td><strong>Objective expression</strong></td>\n",
       "                <td>0.0</td>\n",
       "            </tr><tr>\n",
       "                <td><strong>Compartments</strong></td>\n",
       "                <td>c, e</td>\n",
       "            </tr>\n",
       "          </table>"
      ],
      "text/plain": [
       "<Model MicrobialNegative at 0x7f896a5108d0>"
      ]
     },
     "execution_count": 16,
     "metadata": {},
     "output_type": "execute_result"
    }
   ],
   "source": [
    "# Number of active reactions\n",
    "temp_rxns = []\n",
    "for rxn in universal2.reactions:\n",
    "    if rxn.lower_bound <0 or rxn.upper_bound >0:\n",
    "        temp_rxns.append(rxn.id)\n",
    "print(len(temp_rxns))\n",
    "universal2"
   ]
  },
  {
   "cell_type": "code",
   "execution_count": 17,
   "metadata": {},
   "outputs": [],
   "source": [
    "# Add intracellular sink reactions\n",
    "for met in universal2.metabolites:\n",
    "    if met.id.endswith('_c'):\n",
    "        snk_rxn = Reaction('SNK_' + met.id)\n",
    "        snk_rxn.name = \"Sink reaction for \" + met.id\n",
    "        snk_rxn.lower_bound = 0.0\n",
    "        snk_rxn.upper_bound = 0.0\n",
    "        snk_rxn.add_metabolites({met:-1})\n",
    "        universal2.add_reactions([snk_rxn])"
   ]
  },
  {
   "cell_type": "code",
   "execution_count": 18,
   "metadata": {},
   "outputs": [
    {
     "name": "stdout",
     "output_type": "stream",
     "text": [
      "16087\n"
     ]
    },
    {
     "data": {
      "text/html": [
       "\n",
       "        <table>\n",
       "            <tr>\n",
       "                <td><strong>Name</strong></td>\n",
       "                <td>MicrobialNegative</td>\n",
       "            </tr><tr>\n",
       "                <td><strong>Memory address</strong></td>\n",
       "                <td>0x07f896a5108d0</td>\n",
       "            </tr><tr>\n",
       "                <td><strong>Number of metabolites</strong></td>\n",
       "                <td>15078</td>\n",
       "            </tr><tr>\n",
       "                <td><strong>Number of reactions</strong></td>\n",
       "                <td>33594</td>\n",
       "            </tr><tr>\n",
       "                <td><strong>Objective expression</strong></td>\n",
       "                <td>0.0</td>\n",
       "            </tr><tr>\n",
       "                <td><strong>Compartments</strong></td>\n",
       "                <td>c, e</td>\n",
       "            </tr>\n",
       "          </table>"
      ],
      "text/plain": [
       "<Model MicrobialNegative at 0x7f896a5108d0>"
      ]
     },
     "execution_count": 18,
     "metadata": {},
     "output_type": "execute_result"
    }
   ],
   "source": [
    "# Number of active reactions\n",
    "temp_rxns = []\n",
    "for rxn in universal2.reactions:\n",
    "    if rxn.lower_bound <0 or rxn.upper_bound >0:\n",
    "        temp_rxns.append(rxn.id)\n",
    "print(len(temp_rxns))\n",
    "universal2"
   ]
  },
  {
   "cell_type": "code",
   "execution_count": 19,
   "metadata": {},
   "outputs": [],
   "source": [
    "# for rxn in universal2.reactions:\n",
    "#     if rxn.id.startswith('SNK_'):\n",
    "#         rxn.lower_bound = 0.0\n",
    "#         rxn.upper_bound = 0.0"
   ]
  },
  {
   "cell_type": "code",
   "execution_count": 20,
   "metadata": {},
   "outputs": [],
   "source": [
    "for met in universal2.metabolites:\n",
    "    if met.name.startswith('CPD'):\n",
    "        for rxn in met.reactions:\n",
    "            universal2.reactions.get_by_id(rxn.id).lower_bound = 0.0\n",
    "            universal2.reactions.get_by_id(rxn.id).upper_bound = 0.0"
   ]
  },
  {
   "cell_type": "code",
   "execution_count": 21,
   "metadata": {},
   "outputs": [
    {
     "name": "stdout",
     "output_type": "stream",
     "text": [
      "16030\n"
     ]
    },
    {
     "data": {
      "text/html": [
       "\n",
       "        <table>\n",
       "            <tr>\n",
       "                <td><strong>Name</strong></td>\n",
       "                <td>MicrobialNegative</td>\n",
       "            </tr><tr>\n",
       "                <td><strong>Memory address</strong></td>\n",
       "                <td>0x07f896a5108d0</td>\n",
       "            </tr><tr>\n",
       "                <td><strong>Number of metabolites</strong></td>\n",
       "                <td>15078</td>\n",
       "            </tr><tr>\n",
       "                <td><strong>Number of reactions</strong></td>\n",
       "                <td>33594</td>\n",
       "            </tr><tr>\n",
       "                <td><strong>Objective expression</strong></td>\n",
       "                <td>0.0</td>\n",
       "            </tr><tr>\n",
       "                <td><strong>Compartments</strong></td>\n",
       "                <td>c, e</td>\n",
       "            </tr>\n",
       "          </table>"
      ],
      "text/plain": [
       "<Model MicrobialNegative at 0x7f896a5108d0>"
      ]
     },
     "execution_count": 21,
     "metadata": {},
     "output_type": "execute_result"
    }
   ],
   "source": [
    "# Number of active reactions\n",
    "temp_rxns = []\n",
    "for rxn in universal2.reactions:\n",
    "    if rxn.lower_bound <0 or rxn.upper_bound >0:\n",
    "        temp_rxns.append(rxn.id)\n",
    "print(len(temp_rxns))\n",
    "universal2"
   ]
  },
  {
   "cell_type": "code",
   "execution_count": 22,
   "metadata": {},
   "outputs": [
    {
     "name": "stdout",
     "output_type": "stream",
     "text": [
      "449\n",
      "488\n",
      "4734\n"
     ]
    }
   ],
   "source": [
    "# Reaction BLACKLIST\n",
    "blacklist = []\n",
    "\n",
    "for met in universal2.metabolites:\n",
    "    if met.name.startswith('CPD'):\n",
    "        for rxn in met.reactions:\n",
    "            blacklist.append(rxn.id)\n",
    "print(len(blacklist))\n",
    "for rxn in universal2.reactions:\n",
    "    if (len(rxn.reactants) == 0) & (not rxn.id.startswith('EX_')): # reactions with no reactants\n",
    "        if rxn.id != 'rxn13782_c' or rxn.id != 'rxn13783_c' or rxn.id != 'rxn13784_c': # BS biomass rxns\n",
    "            blacklist.append(rxn.id)\n",
    "print(len(blacklist))\n",
    "for rxn_id in mass_imbalanced_bounds.keys():\n",
    "    if not rxn_id.startswith('EX_'): # Some exchange reactions come up as mass imbalanced\n",
    "        blacklist.append(rxn_id)\n",
    "print(len(blacklist))"
   ]
  },
  {
   "cell_type": "code",
   "execution_count": 23,
   "metadata": {},
   "outputs": [
    {
     "name": "stdout",
     "output_type": "stream",
     "text": [
      "1129\n",
      "1126\n"
     ]
    }
   ],
   "source": [
    "# Mediocre Reactions\n",
    "print(len(list(charge_imbalanced_bounds.keys())))\n",
    "# Remove blacklist reactions from this set. \n",
    "print(len(list(set(list(charge_imbalanced_bounds.keys())) - set(blacklist))))\n",
    "mediocre = list(set(list(charge_imbalanced_bounds.keys())) - set(blacklist))"
   ]
  },
  {
   "cell_type": "code",
   "execution_count": 24,
   "metadata": {},
   "outputs": [],
   "source": [
    "# Set all mediocre reactions to have bounds they previously had\n",
    "\n",
    "# for rxn_id in mediocre:\n",
    "#     bounds = charge_imbalanced_bounds[rxn_id]\n",
    "#     rxn = universal2.reactions.get_by_id(rxn_id)\n",
    "#     rxn.lower_bound = bounds[0]\n",
    "#     rxn.upper_bound = bounds[1]"
   ]
  },
  {
   "cell_type": "code",
   "execution_count": 25,
   "metadata": {},
   "outputs": [
    {
     "name": "stdout",
     "output_type": "stream",
     "text": [
      "0\n"
     ]
    }
   ],
   "source": [
    "exchanges = []\n",
    "for rxn in universal2.reactions:\n",
    "    if rxn.id.startswith('EX'):\n",
    "        exchanges.append(rxn.id)\n",
    "print(len(exchanges))"
   ]
  },
  {
   "cell_type": "code",
   "execution_count": 27,
   "metadata": {},
   "outputs": [],
   "source": [
    "all_ex_rxns = []\n",
    "for met in universal2.metabolites:\n",
    "    if met.id.endswith('_e'):\n",
    "        ex_rxn = Reaction('EX_' + met.id)\n",
    "        ex_rxn.name = \"Exchange reaction for \" + met.id\n",
    "        ex_rxn.lower_bound = 0.0\n",
    "        ex_rxn.upper_bound = 1000.0\n",
    "        ex_rxn.add_metabolites({met:-1})\n",
    "        all_ex_rxns.append(ex_rxn)\n",
    "universal2.add_reactions(all_ex_rxns)\n",
    "\n",
    "for rxn in universal2.reactions:\n",
    "    if rxn.id.startswith('EX'):\n",
    "        rxn.upper_bound = 1000.0"
   ]
  },
  {
   "cell_type": "code",
   "execution_count": 28,
   "metadata": {},
   "outputs": [
    {
     "name": "stdout",
     "output_type": "stream",
     "text": [
      "1837\n"
     ]
    }
   ],
   "source": [
    "exchanges = []\n",
    "for rxn in universal2.reactions:\n",
    "    if rxn.id.startswith('EX'):\n",
    "        exchanges.append(rxn.id)\n",
    "print(len(exchanges))"
   ]
  },
  {
   "cell_type": "code",
   "execution_count": 29,
   "metadata": {},
   "outputs": [
    {
     "name": "stdout",
     "output_type": "stream",
     "text": [
      "17867\n"
     ]
    },
    {
     "data": {
      "text/html": [
       "\n",
       "        <table>\n",
       "            <tr>\n",
       "                <td><strong>Name</strong></td>\n",
       "                <td>MicrobialNegative</td>\n",
       "            </tr><tr>\n",
       "                <td><strong>Memory address</strong></td>\n",
       "                <td>0x07f896a5108d0</td>\n",
       "            </tr><tr>\n",
       "                <td><strong>Number of metabolites</strong></td>\n",
       "                <td>15078</td>\n",
       "            </tr><tr>\n",
       "                <td><strong>Number of reactions</strong></td>\n",
       "                <td>35431</td>\n",
       "            </tr><tr>\n",
       "                <td><strong>Objective expression</strong></td>\n",
       "                <td>0.0</td>\n",
       "            </tr><tr>\n",
       "                <td><strong>Compartments</strong></td>\n",
       "                <td>c, e</td>\n",
       "            </tr>\n",
       "          </table>"
      ],
      "text/plain": [
       "<Model MicrobialNegative at 0x7f896a5108d0>"
      ]
     },
     "execution_count": 29,
     "metadata": {},
     "output_type": "execute_result"
    }
   ],
   "source": [
    "# Number of active reactions\n",
    "temp_rxns = []\n",
    "for rxn in universal2.reactions:\n",
    "    if rxn.lower_bound < 0 or rxn.upper_bound > 0:\n",
    "        temp_rxns.append(rxn.id)\n",
    "print(len(temp_rxns))\n",
    "universal2"
   ]
  },
  {
   "cell_type": "code",
   "execution_count": null,
   "metadata": {},
   "outputs": [],
   "source": [
    "# for rxn in universal2.reactions:\n",
    "#     if rxn.id.startswith('EX'):\n",
    "#         print(str(rxn.id)+': '+str(rxn.lower_bound)+': '+str(rxn.upper_bound))"
   ]
  },
  {
   "cell_type": "code",
   "execution_count": 35,
   "metadata": {},
   "outputs": [
    {
     "name": "stdout",
     "output_type": "stream",
     "text": [
      "Beginning\n",
      "Start\n",
      "Set Base\n",
      "Set Carbon\n",
      "EX_cpd00009_e: -1000.0: 1000.0\n",
      "EX_cpd00030_e: -1000.0: 1000.0\n",
      "EX_cpd00067_e: -1000.0: 1000.0\n",
      "EX_cpd00013_e: -1000.0: 1000.0\n",
      "EX_cpd00048_e: -1000.0: 1000.0\n",
      "EX_cpd00205_e: -1000.0: 1000.0\n",
      "EX_cpd00001_e: -1000.0: 1000.0\n",
      "EX_cpd00058_e: -1000.0: 1000.0\n",
      "EX_cpd00034_e: -1000.0: 1000.0\n",
      "EX_cpd00149_e: -1000.0: 1000.0\n",
      "EX_cpd00971_e: -1000.0: 1000.0\n",
      "EX_cpd00063_e: -1000.0: 1000.0\n",
      "EX_cpd00254_e: -1000.0: 1000.0\n",
      "EX_cpd00027_e: -1000.0: 1000.0\n",
      "EX_cpd00099_e: -1000.0: 1000.0\n",
      "EX_cpd10516_e: -1000.0: 1000.0\n",
      "EX_cpd10515_e: -1000.0: 1000.0\n",
      "EX_cpd00011_e: -1000.0: 1000.0\n",
      "<Solution 116.673 at 0x7f8967ab7e48>\n"
     ]
    },
    {
     "data": {
      "text/plain": [
       "796"
      ]
     },
     "execution_count": 35,
     "metadata": {},
     "output_type": "execute_result"
    }
   ],
   "source": [
    "# set_media_to_base_biolog(universal2)\n",
    "print('Beginning')\n",
    "\n",
    "base_media=['cpd00001_e','cpd00009_e','cpd00011_e','cpd00013_e','cpd00030_e','cpd00034_e','cpd00048_e','cpd00058_e','cpd00063_e',\n",
    "            'cpd00067_e','cpd00099_e','cpd00149_e','cpd00205_e','cpd00254_e','cpd00971_e','cpd10515_e','cpd10516_e']\n",
    "\n",
    "print('Start')\n",
    "# Set all exchanges to zero flux in and full flux out\n",
    "for rxn in universal2.reactions:\n",
    "    if rxn.id.startswith('EX_'):\n",
    "        rxn.lower_bound = 0.0\n",
    "        rxn.upper_bound = 1000.0\n",
    "\n",
    "# Set all sink reactions to zero out\n",
    "for rxn in universal2.reactions:\n",
    "    if rxn.id.startswith('SNK_'):\n",
    "        rxn.upper_bound = 0.0\n",
    "\n",
    "print('Set Base')\n",
    "# Open base media exchanges\n",
    "for met in base_media:\n",
    "    # Search for exchange reactions\n",
    "    temp_exchange = universal2.reactions.get_by_id('EX_'+ met)\n",
    "    temp_exchange.lower_bound = -1000.0\n",
    "    temp_exchange.upper_bound = 1000.0\n",
    "\n",
    "print('Set Carbon')\n",
    "rxn = universal2.reactions.get_by_id('EX_cpd00027_e') # Turn on glucose exchange\n",
    "rxn.lower_bound = -1000.\n",
    "rxn.upper_bound = 1000.\n",
    "\n",
    "# Print out media condition\n",
    "for rxn in universal2.reactions:\n",
    "    if rxn.id.startswith('EX'):\n",
    "        if rxn.lower_bound < 0:\n",
    "            print(str(rxn.id) +': '+str(rxn.lower_bound) +': '+ str(rxn.upper_bound))\n",
    "\n",
    "universal2.reactions.get_by_id('bio1').upper_bound = 1000.\n",
    "universal2.objective = universal2.reactions.get_by_id('bio1')\n",
    "\n",
    "# universal2.reactions.get_by_id('SNK_cpd00002_c').upper_bound = 1000.\n",
    "# universal2.objective = universal2.reactions.get_by_id('SNK_cpd00002_c')\n",
    "\n",
    "universal2.solver.update()\n",
    "solution = universal2.optimize()\n",
    "print(solution)\n",
    "active_rxns = set([rxn.id for rxn in universal2.reactions if abs(solution.fluxes[rxn.id]) > 1e-6])\n",
    "len(active_rxns)"
   ]
  },
  {
   "cell_type": "code",
   "execution_count": 36,
   "metadata": {},
   "outputs": [
    {
     "name": "stdout",
     "output_type": "stream",
     "text": [
      "Expression Done.\n",
      "10075.915405211552\n"
     ]
    }
   ],
   "source": [
    "# Check Universal2 for mass generating loops with semi-novel algorithm \n",
    "\n",
    "# Set exchanges to allow all extracellular metabolites leave the system\n",
    "for rxn in universal2.reactions:\n",
    "    if rxn.id.startswith('EX_'):\n",
    "        rxn.lower_bound = 0.0    # Don't allow mets in\n",
    "        rxn.upper_bound = 1000.0 # Allow mets out\n",
    "\n",
    "# Set all intracellular sink reactions open to allow mets out\n",
    "for rxn in universal2.reactions:\n",
    "    if rxn.id.startswith('SNK_'):\n",
    "        rxn.upper_bound = 1000.0\n",
    "\n",
    "expr = Zero\n",
    "for rxn in universal2.reactions:\n",
    "    if rxn.id.startswith('SNK_'):\n",
    "        if rxn.upper_bound != 0.0:\n",
    "            expr += 1.0 * rxn.forward_variable\n",
    "            expr += 1.0 * rxn.reverse_variable\n",
    "\n",
    "print('Expression Done.')\n",
    "\n",
    "universal2.objective = universal2.problem.Objective(expr, direction='max', sloppy=True)\n",
    "universal2.solver.update()\n",
    "solution = universal2.optimize()\n",
    "\n",
    "# Save reactions that carry flux\n",
    "active_rxns_loops = set([rxn.id for rxn in universal2.reactions if abs(solution.fluxes[rxn.id]) > 1e-6])\n",
    "print(solution.objective_value)\n",
    "\n",
    "# Turn off all sinks\n",
    "for rxn in universal2.reactions:\n",
    "    if rxn.id.startswith('SNK_'):\n",
    "        rxn.upper_bound = 0.0"
   ]
  },
  {
   "cell_type": "code",
   "execution_count": 38,
   "metadata": {},
   "outputs": [
    {
     "name": "stdout",
     "output_type": "stream",
     "text": [
      "SNK_cpd17043_c\n",
      "SNK_cpd30058_c\n",
      "SNK_cpd30509_c\n",
      "SNK_cpd11416_c\n",
      "SNK_cpd28299_c\n",
      "SNK_cpd30508_c\n",
      "SNK_cpd22167_c\n",
      "SNK_cpd17042_c\n",
      "SNK_cpd11632_c\n",
      "SNK_cpd12713_c\n",
      "SNK_cpd17041_c\n",
      "SNK_cpd27228_c\n"
     ]
    }
   ],
   "source": [
    "for rxn_id in active_rxns_loops:\n",
    "    if rxn_id.startswith('SNK'):\n",
    "        print(rxn_id)"
   ]
  },
  {
   "cell_type": "code",
   "execution_count": 79,
   "metadata": {},
   "outputs": [],
   "source": [
    "# Compounds to remove\n",
    "remove_cpds = ['cpd30058_c','cpd30509_c','cpd28299_c','cpd30508_c','cpd22167_c','cpd11632_c','cpd27228_c','cpd12713_c']"
   ]
  },
  {
   "cell_type": "code",
   "execution_count": 80,
   "metadata": {},
   "outputs": [],
   "source": [
    "# Set zero bounds for all reactions that are associated with bad metabolites\n",
    "for met_id in remove_cpds:\n",
    "    met = universal2.metabolites.get_by_id(met_id)\n",
    "    for rxn in met.reactions:\n",
    "        rxn.lower_bound = 0.0\n",
    "        rxn.upper_bound = 0.0\n",
    "        blacklist.append(rxn.id)"
   ]
  },
  {
   "cell_type": "code",
   "execution_count": 81,
   "metadata": {},
   "outputs": [
    {
     "name": "stdout",
     "output_type": "stream",
     "text": [
      "Expression Done.\n",
      "4000.0\n"
     ]
    }
   ],
   "source": [
    "# Check Universal2 for mass generating loops with semi-novel algorithm \n",
    "\n",
    "# Set exchanges to allow all extracellular metabolites leave the system\n",
    "for rxn in universal2.reactions:\n",
    "    if rxn.id.startswith('EX_'):\n",
    "        rxn.lower_bound = 0.0    # Don't allow mets in\n",
    "        rxn.upper_bound = 1000.0 # Allow mets out\n",
    "\n",
    "# Set all intracellular sink reactions open to allow mets out\n",
    "for rxn in universal2.reactions:\n",
    "    if rxn.id.startswith('SNK_'):\n",
    "        rxn.upper_bound = 1000.0\n",
    "\n",
    "expr = Zero\n",
    "for rxn in universal2.reactions:\n",
    "    if rxn.id.startswith('SNK_'):\n",
    "        if rxn.upper_bound != 0.0:\n",
    "            expr += 1.0 * rxn.forward_variable\n",
    "            expr += 1.0 * rxn.reverse_variable\n",
    "\n",
    "print('Expression Done.')\n",
    "\n",
    "universal2.objective = universal2.problem.Objective(expr, direction='max', sloppy=True)\n",
    "universal2.solver.update()\n",
    "solution = universal2.optimize()\n",
    "\n",
    "# Save reactions that carry flux\n",
    "active_rxns_loops = set([rxn.id for rxn in universal2.reactions if abs(solution.fluxes[rxn.id]) > 1e-6])\n",
    "print(solution.objective_value)\n",
    "\n",
    "# Turn off all sinks\n",
    "for rxn in universal2.reactions:\n",
    "    if rxn.id.startswith('SNK_'):\n",
    "        rxn.upper_bound = 0.0"
   ]
  },
  {
   "cell_type": "code",
   "execution_count": 84,
   "metadata": {},
   "outputs": [
    {
     "name": "stdout",
     "output_type": "stream",
     "text": [
      "Biomass\n",
      "SNK_cpd11416_c\n",
      "Protein biosynthesis\n",
      "SNK_cpd17041_c\n",
      "DNA replication\n",
      "SNK_cpd17042_c\n",
      "RNA transcription\n",
      "SNK_cpd17043_c\n"
     ]
    }
   ],
   "source": [
    "for rxn_id in active_rxns_loops:\n",
    "    if rxn_id.startswith('SNK'):\n",
    "        rxn = universal2.reactions.get_by_id(rxn_id)\n",
    "        mets = rxn.reactants\n",
    "        print(mets[0].name)\n",
    "        print(rxn_id)"
   ]
  },
  {
   "cell_type": "code",
   "execution_count": 85,
   "metadata": {},
   "outputs": [
    {
     "name": "stdout",
     "output_type": "stream",
     "text": [
      "Beginning\n",
      "Start\n",
      "Set Base\n",
      "Set Carbon\n",
      "EX_cpd00009_e: -1000.0: 1000.0\n",
      "EX_cpd00030_e: -1000.0: 1000.0\n",
      "EX_cpd00067_e: -1000.0: 1000.0\n",
      "EX_cpd00013_e: -1000.0: 1000.0\n",
      "EX_cpd00048_e: -1000.0: 1000.0\n",
      "EX_cpd00205_e: -1000.0: 1000.0\n",
      "EX_cpd00001_e: -1000.0: 1000.0\n",
      "EX_cpd00058_e: -1000.0: 1000.0\n",
      "EX_cpd00034_e: -1000.0: 1000.0\n",
      "EX_cpd00149_e: -1000.0: 1000.0\n",
      "EX_cpd00971_e: -1000.0: 1000.0\n",
      "EX_cpd00063_e: -1000.0: 1000.0\n",
      "EX_cpd00254_e: -1000.0: 1000.0\n",
      "EX_cpd00027_e: -1000.0: 1000.0\n",
      "EX_cpd00099_e: -1000.0: 1000.0\n",
      "EX_cpd10516_e: -1000.0: 1000.0\n",
      "EX_cpd10515_e: -1000.0: 1000.0\n",
      "EX_cpd00011_e: -1000.0: 1000.0\n",
      "<Solution 116.673 at 0x7f896773d860>\n"
     ]
    },
    {
     "data": {
      "text/plain": [
       "755"
      ]
     },
     "execution_count": 85,
     "metadata": {},
     "output_type": "execute_result"
    }
   ],
   "source": [
    "# set_media_to_base_biolog(universal2)\n",
    "print('Beginning')\n",
    "\n",
    "base_media=['cpd00001_e','cpd00009_e','cpd00011_e','cpd00013_e','cpd00030_e','cpd00034_e','cpd00048_e','cpd00058_e','cpd00063_e',\n",
    "            'cpd00067_e','cpd00099_e','cpd00149_e','cpd00205_e','cpd00254_e','cpd00971_e','cpd10515_e','cpd10516_e']\n",
    "\n",
    "print('Start')\n",
    "# Set all exchanges to zero flux in and full flux out\n",
    "for rxn in universal2.reactions:\n",
    "    if rxn.id.startswith('EX_'):\n",
    "        rxn.lower_bound = 0.0\n",
    "        rxn.upper_bound = 1000.0\n",
    "\n",
    "# Set all sink reactions to zero out\n",
    "for rxn in universal2.reactions:\n",
    "    if rxn.id.startswith('SNK_'):\n",
    "        rxn.upper_bound = 0.0\n",
    "\n",
    "print('Set Base')\n",
    "# Open base media exchanges\n",
    "for met in base_media:\n",
    "    # Search for exchange reactions\n",
    "    temp_exchange = universal2.reactions.get_by_id('EX_'+ met)\n",
    "    temp_exchange.lower_bound = -1000.0\n",
    "    temp_exchange.upper_bound = 1000.0\n",
    "\n",
    "print('Set Carbon')\n",
    "rxn = universal2.reactions.get_by_id('EX_cpd00027_e') # Turn on glucose exchange\n",
    "rxn.lower_bound = -1000.\n",
    "rxn.upper_bound = 1000.\n",
    "\n",
    "# Print out media condition\n",
    "for rxn in universal2.reactions:\n",
    "    if rxn.id.startswith('EX'):\n",
    "        if rxn.lower_bound < 0:\n",
    "            print(str(rxn.id) +': '+str(rxn.lower_bound) +': '+ str(rxn.upper_bound))\n",
    "\n",
    "universal2.reactions.get_by_id('bio1').upper_bound = 1000.\n",
    "universal2.objective = universal2.reactions.get_by_id('bio1')\n",
    "\n",
    "# universal2.reactions.get_by_id('SNK_cpd00002_c').upper_bound = 1000.\n",
    "# universal2.objective = universal2.reactions.get_by_id('SNK_cpd00002_c')\n",
    "\n",
    "universal2.solver.update()\n",
    "solution = universal2.optimize()\n",
    "print(solution)\n",
    "active_rxns = set([rxn.id for rxn in universal2.reactions if abs(solution.fluxes[rxn.id]) > 1e-6])\n",
    "len(active_rxns)"
   ]
  },
  {
   "cell_type": "code",
   "execution_count": 88,
   "metadata": {},
   "outputs": [
    {
     "name": "stdout",
     "output_type": "stream",
     "text": [
      "17827\n"
     ]
    },
    {
     "data": {
      "text/html": [
       "\n",
       "        <table>\n",
       "            <tr>\n",
       "                <td><strong>Name</strong></td>\n",
       "                <td>MicrobialNegative</td>\n",
       "            </tr><tr>\n",
       "                <td><strong>Memory address</strong></td>\n",
       "                <td>0x07f896a5108d0</td>\n",
       "            </tr><tr>\n",
       "                <td><strong>Number of metabolites</strong></td>\n",
       "                <td>15078</td>\n",
       "            </tr><tr>\n",
       "                <td><strong>Number of reactions</strong></td>\n",
       "                <td>35431</td>\n",
       "            </tr><tr>\n",
       "                <td><strong>Objective expression</strong></td>\n",
       "                <td>1.0*bio1 - 1.0*bio1_reverse_b18f7</td>\n",
       "            </tr><tr>\n",
       "                <td><strong>Compartments</strong></td>\n",
       "                <td>c, e</td>\n",
       "            </tr>\n",
       "          </table>"
      ],
      "text/plain": [
       "<Model MicrobialNegative at 0x7f896a5108d0>"
      ]
     },
     "execution_count": 88,
     "metadata": {},
     "output_type": "execute_result"
    }
   ],
   "source": [
    "# Number of active reactions\n",
    "temp_rxns = []\n",
    "for rxn in universal2.reactions:\n",
    "    if rxn.lower_bound <0 or rxn.upper_bound >0:\n",
    "        temp_rxns.append(rxn.id)\n",
    "print(len(temp_rxns))\n",
    "universal2"
   ]
  },
  {
   "cell_type": "code",
   "execution_count": 86,
   "metadata": {},
   "outputs": [],
   "source": [
    "# Save universal2 in it's current state\n",
    "pickle.dump(universal2, open('universal_moutinho.pickle',\"wb\"))"
   ]
  },
  {
   "cell_type": "code",
   "execution_count": 89,
   "metadata": {},
   "outputs": [
    {
     "data": {
      "text/plain": [
       "4533"
      ]
     },
     "execution_count": 89,
     "metadata": {},
     "output_type": "execute_result"
    }
   ],
   "source": [
    "# Save blacklist as set\n",
    "pickle.dump(set(blacklist), open('rxn_blacklist.pickle',\"wb\"))\n",
    "len(set(blacklist))"
   ]
  },
  {
   "cell_type": "code",
   "execution_count": 94,
   "metadata": {},
   "outputs": [
    {
     "data": {
      "text/plain": [
       "12318"
      ]
     },
     "execution_count": 94,
     "metadata": {},
     "output_type": "execute_result"
    }
   ],
   "source": [
    "used_mets = set()\n",
    "for rxn in universal2.reactions:\n",
    "    if not rxn.id.startswith('EX') and not rxn.id.startswith('SNK') and not rxn.id.startswith('bio') and not rxn.id.startswith('SK'):\n",
    "        if rxn.lower_bound < 0.0 or rxn.upper_bound > 0.0:\n",
    "            if rxn.id.endswith('_c'):\n",
    "                used_mets = used_mets | set([met.id for met in rxn.metabolites])\n",
    "len(used_mets)"
   ]
  },
  {
   "cell_type": "code",
   "execution_count": 101,
   "metadata": {},
   "outputs": [
    {
     "data": {
      "text/plain": [
       "8.254099691508362"
      ]
     },
     "execution_count": 101,
     "metadata": {},
     "output_type": "execute_result"
    }
   ],
   "source": [
    "import numpy as np\n",
    "rxn_degrees = []\n",
    "for met_id in used_mets:\n",
    "    met = universal2.metabolites.get_by_id(met_id)\n",
    "    rxn_degrees.append(len(met.reactions))\n",
    "np.average(rxn_degrees)"
   ]
  },
  {
   "cell_type": "code",
   "execution_count": 95,
   "metadata": {},
   "outputs": [],
   "source": [
    "pickle.dump(set(used_mets), open('used_mets.pickle',\"wb\"))"
   ]
  }
 ],
 "metadata": {
  "kernelspec": {
   "display_name": "Python 3 (ipykernel)",
   "language": "python",
   "name": "python3"
  },
  "language_info": {
   "codemirror_mode": {
    "name": "ipython",
    "version": 3
   },
   "file_extension": ".py",
   "mimetype": "text/x-python",
   "name": "python",
   "nbconvert_exporter": "python",
   "pygments_lexer": "ipython3",
   "version": "3.9.7"
  }
 },
 "nbformat": 4,
 "nbformat_minor": 2
}
