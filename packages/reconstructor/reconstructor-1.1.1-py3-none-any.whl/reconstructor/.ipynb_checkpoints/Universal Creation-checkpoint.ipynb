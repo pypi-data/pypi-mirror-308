{
 "cells": [
  {
   "cell_type": "code",
   "execution_count": 1,
   "metadata": {},
   "outputs": [],
   "source": [
    "import symengine\n",
    "import cobra\n",
    "from copy import deepcopy\n",
    "import json\n",
    "import pickle\n",
    "import pandas\n",
    "from optlang.symbolics import Zero\n",
    "\n",
    "# building the universal model, add all reactions in together make sure syntax is correct, fist step of model creation\n",
    "\n",
    "# people can build any universal model that they want, the main story is the optimization method\n",
    "\n",
    "# you can make any universal creation database that you want. can definitely be improved, can remove all photosynthetic\n",
    "# reactions that are present in kegg if you want, but my version does not have photosynthetic reactions removed\n",
    "\n",
    "# minimizing flux is better, since you are minimizing number of enzymes needed to perform a task which is just biologically true?\n"
   ]
  },
  {
   "cell_type": "code",
   "execution_count": 2,
   "metadata": {},
   "outputs": [
    {
     "name": "stdout",
     "output_type": "stream",
     "text": [
      "Set parameter Username\n",
      "Academic license - for non-commercial use only - expires 2023-04-13\n"
     ]
    }
   ],
   "source": [
    "universal = cobra.Model('Prokaryote_Universal')\n",
    "universal.name = 'Prokaryote_Universal'"
   ]
  },
  {
   "cell_type": "code",
   "execution_count": 3,
   "metadata": {},
   "outputs": [],
   "source": [
    "# Missing metabolite dictionary\n",
    "with open('compounds.json') as f: compounds = json.load(f)\n",
    "newCpdDict = {} \n",
    "\n",
    "for cpd in compounds:\n",
    "\n",
    "    cpd_name = cpd['name'].title()\n",
    "    cpd_formula = cpd['formula']\n",
    "    \n",
    "    cpd_id = cpd['id'] + '_c'\n",
    "    newCpdDict[cpd_id] = cobra.Metabolite(cpd_id, formula=cpd_formula, name=cpd_name, compartment='cytosol')\n",
    "      \n",
    "    cpd_id = cpd['id'] + '_e'\n",
    "    newCpdDict[cpd_id] = cobra.Metabolite(cpd_id, formula=cpd_formula, name=cpd_name, compartment='extracellular')\n",
    "\n",
    "del compounds"
   ]
  },
  {
   "cell_type": "code",
   "execution_count": 4,
   "metadata": {},
   "outputs": [],
   "source": [
    "# Find new reactions\n",
    "with open('reactions.json') as inFile: reactions = json.load(inFile)\n",
    "currency = set(['cpd00004_c','cpd00003_c','cpd00005_c','cpd00006_c','cpd00002_c','cpd00008_c','cpd00038_c','cpd00031_c','cpd00061_c'])\n",
    "\n",
    "newReactions = []\n",
    "for rxn in reactions:\n",
    "    if['status'] in ['EMPTY', 'CPDFORMERROR']:\n",
    "        continue\n",
    "    \n",
    "    rxn_id = rxn['id'] + '_c'\n",
    "    name = rxn['name'].title()\n",
    "    raw_stoich = rxn['stoichiometry'].split(';')\n",
    "    if raw_stoich == ['']: continue\n",
    "    raw_stoich = [x.split(':')[0:2] for x in raw_stoich]\n",
    "    raw_stoich = [[float(x[0]),x[1]+'_c'] for x in raw_stoich]\n",
    "    \n",
    "    if rxn['reversibility'] == '>':\n",
    "            bounds = (0.0, 1000.0)\n",
    "    elif rxn['reversibility'] == '<':\n",
    "        bounds = (-1000.0, 0.0)\n",
    "    else:\n",
    "        bounds = (-1000.0, 1000.0)\n",
    "        \n",
    "    # Cytoplasmic reactions\n",
    "    if rxn['is_transport'] == 0:\n",
    "        stoich = {}\n",
    "        for x in raw_stoich:\n",
    "            try:\n",
    "                stoich[newCpdDict[x[1]]] = x[0]\n",
    "            except:\n",
    "                stoich[universal.metabolites.get_by_id(x[1])] = x[0]\n",
    "        \n",
    "    # Transport reactions\n",
    "    elif rxn['is_transport'] == 1:\n",
    "        stoich = {}\n",
    "        for x in raw_stoich:\n",
    "            if x[0] < 0.0:\n",
    "                if x[1] in currency:\n",
    "                    new_id = x[1]\n",
    "                else:\n",
    "                    new_id = x[1].replace('_c', '_e')\n",
    "                try:\n",
    "                    stoich[newCpdDict[new_id]] = x[0]\n",
    "                except:\n",
    "                    stoich[universal.metabolites.get_by_id(new_id)] = x[0]\n",
    "            else:\n",
    "                try:\n",
    "                    stoich[newCpdDict[x[1]]] = x[0]\n",
    "                except:\n",
    "                    stoich[universal.metabolites.get_by_id(x[1])] = x[0]\n",
    "\n",
    "    # Create reaction object\n",
    "    new_rxn = cobra.Reaction(rxn_id)\n",
    "    new_rxn.name = name\n",
    "    new_rxn.bounds = bounds\n",
    "    new_rxn.add_metabolites(stoich)\n",
    "    newReactions.append(new_rxn) \n",
    "\n",
    "del newCpdDict"
   ]
  },
  {
   "cell_type": "code",
   "execution_count": 5,
   "metadata": {},
   "outputs": [],
   "source": [
    "universal.add_reactions(newReactions)\n",
    "del newReactions"
   ]
  },
  {
   "cell_type": "code",
   "execution_count": 6,
   "metadata": {},
   "outputs": [],
   "source": [
    "old_universal = universal"
   ]
  },
  {
   "cell_type": "code",
   "execution_count": 7,
   "metadata": {},
   "outputs": [],
   "source": [
    "# Add Tom's universal reactions\n",
    "to_be_rm = ['EX_cpd21851_e','EX_cpd26978_e','EX_cpd35774_e','EX_cpd28247_e','EX_cpd33670_e','EX_cpd32312_e','EX_cpd12556_e','EX_cpd31712_e','EX_cpd37289_e','EX_cpd15276_e','EX_cpd15521_e','EX_cpd15522_e','EX_cpd15523_e','EX_cpd15524_e','EX_cpd15525_e','EX_cpd15526_e','EX_cpd15527_e','EX_cpd15528_e','EX_cpd15529_e','EX_cpd15530_e','EX_cpd15531_e','EX_cpd15532_e','EX_cpd15533_e','EX_cpd15534_e','EX_cpd15535_e','EX_cpd15536_e','EX_cpd15537_e','EX_cpd15538_e','EX_cpd15539_e','EX_cpd15540_e','EX_cpd15541_e','EX_cpd15542_e','EX_cpd15543_e','EX_cpd15544_e','EX_cpd15545_e','EX_cpd15546_e','EX_cpd15547_e','EX_cpd15548_e','EX_cpd15271_e','EX_cpd11825_e','EX_cpd15268_e','EX_cpd15239_e','EX_cpd15277_e','EX_cpd15294_e','EX_cpd11466_e','EX_cpd11468_e','EX_cpd15457_e','EX_cpd15447_e','EX_cpd15582_e','EX_cpd15459_e','EX_cpd15493_e','EX_cpd15432_e','EX_cpd15350_e','EX_cpd15363_e','EX_cpd15362_e','EX_cpd15355_e','EX_cpd15354_e','EX_cpd15358_e','EX_cpd15357_e','EX_cpd15336_e','EX_cpd15337_e','EX_cpd15338_e','EX_cpd15339_e','EX_cpd15340_e','EX_cpd15341_e','EX_cpd15342_e','EX_cpd15343_e','EX_cpd15344_e','EX_cpd15345_e','EX_cpd15346_e','EX_cpd15347_e','EX_cpd15348_e','EX_cpd15349_e','EX_cpd15306_e','EX_cpd15307_e','EX_cpd15308_e','EX_cpd15309_e','EX_cpd15310_e','EX_cpd15311_e','EX_cpd15312_e','EX_cpd15576_e','EX_cpd15448_e','EX_cpd15451_e','EX_cpd15452_e','EX_cpd15208_e','EX_cpd15202_e','EX_cpd15288_e','EX_cpd15198_e','EX_cpd15940_e','EX_cpd03092_e','EX_cpd09429_e','EX_cpd15220_e','EX_cpd15221_e','EX_cpd15224_e','EX_cpd15225_e','EX_cpd15241_e','EX_cpd37153_e','EX_cpd25615_e','EX_cpd27183_e']"
   ]
  },
  {
   "cell_type": "code",
   "execution_count": 8,
   "metadata": {},
   "outputs": [],
   "source": [
    "# Correct compartment labels\n",
    "for cpd in old_universal.metabolites:\n",
    "    if cpd.compartment == 'c':\n",
    "        cpd.compartment = 'cytosol'\n",
    "    elif cpd.compartment == 'e':\n",
    "        cpd.compartment = 'extracellular'"
   ]
  },
  {
   "cell_type": "code",
   "execution_count": 9,
   "metadata": {},
   "outputs": [],
   "source": [
    "# Find missing reactions\n",
    "newReactions = []\n",
    "for rxn in old_universal.reactions:\n",
    "    if rxn.id == 'bio1':\n",
    "        continue\n",
    "        \n",
    "    try:\n",
    "        test = old_universal.reactions.get_by_id(rxn.id)\n",
    "    except:\n",
    "        newReactions.append(deepcopy(rxn)) \n",
    "\n",
    "del old_universal"
   ]
  },
  {
   "cell_type": "code",
   "execution_count": 10,
   "metadata": {},
   "outputs": [],
   "source": [
    "universal.add_reactions(newReactions)\n",
    "del newReactions"
   ]
  },
  {
   "cell_type": "code",
   "execution_count": 11,
   "metadata": {},
   "outputs": [
    {
     "data": {
      "text/html": [
       "\n",
       "        <table>\n",
       "            <tr>\n",
       "                <td><strong>Name</strong></td>\n",
       "                <td>Prokaryote_Universal</td>\n",
       "            </tr><tr>\n",
       "                <td><strong>Memory address</strong></td>\n",
       "                <td>0x07fb0c7575310</td>\n",
       "            </tr><tr>\n",
       "                <td><strong>Number of metabolites</strong></td>\n",
       "                <td>22941</td>\n",
       "            </tr><tr>\n",
       "                <td><strong>Number of reactions</strong></td>\n",
       "                <td>43763</td>\n",
       "            </tr><tr>\n",
       "                <td><strong>Number of groups</strong></td>\n",
       "                <td>0</td>\n",
       "            </tr><tr>\n",
       "                <td><strong>Objective expression</strong></td>\n",
       "                <td>0.0</td>\n",
       "            </tr><tr>\n",
       "                <td><strong>Compartments</strong></td>\n",
       "                <td>cytosol, extracellular</td>\n",
       "            </tr>\n",
       "          </table>"
      ],
      "text/plain": [
       "<Model Prokaryote_Universal at 0x7fb0c7575310>"
      ]
     },
     "execution_count": 11,
     "metadata": {},
     "output_type": "execute_result"
    }
   ],
   "source": [
    "universal"
   ]
  },
  {
   "cell_type": "code",
   "execution_count": null,
   "metadata": {},
   "outputs": [],
   "source": [
    "# Identify and correct missing exchange reactions\n",
    "for cpd in universal.metabolites:\n",
    "    if cpd.compartment != 'extracellular': continue\n",
    "    try:\n",
    "        test = universal.reactions.get_by_id('EX_' + cpd.id)\n",
    "    except KeyError:\n",
    "        universal.add_boundary(cpd, type='exchange', reaction_id='EX_' + cpd.id, lb=-1000.0, ub=1000.0)"
   ]
  },
  {
   "cell_type": "code",
   "execution_count": null,
   "metadata": {},
   "outputs": [],
   "source": [
    "universal"
   ]
  },
  {
   "cell_type": "code",
   "execution_count": null,
   "metadata": {},
   "outputs": [],
   "source": [
    "# Purge or correct bad formula metabolites\n",
    "matches = ['(', ')', '.', '*']\n",
    "\n",
    "remove_rxns = []\n",
    "for cpd in universal.metabolites:\n",
    "    try:\n",
    "        if any(x in cpd.formula for x in matches):\n",
    "            test = 'universal.metabolites.' + cpd.id + '.formula = \\'' + cpd.formula + '\\''\n",
    "            print(test)\n",
    "    except TypeError:\n",
    "        remove_rxns += list(cpd.reactions)\n",
    "\n",
    "remove_rxns = list(set(remove_rxns))"
   ]
  },
  {
   "cell_type": "code",
   "execution_count": null,
   "metadata": {},
   "outputs": [],
   "source": [
    "universal.remove_reactions(remove_rxns)\n",
    "del remove_rxns"
   ]
  },
  {
   "cell_type": "code",
   "execution_count": null,
   "metadata": {},
   "outputs": [],
   "source": [
    "# Correct bad formulas\n",
    "universal.metabolites.cpd17677_e.formula = 'C17H24O2'\n",
    "universal.metabolites.cpd17677_c.formula = 'C17H24O2'\n",
    "universal.metabolites.cpd20970_c.formula = 'C25H186N5O21P3R2'\n",
    "universal.metabolites.cpd26289_c.formula = 'FeCl3'\n",
    "universal.metabolites.cpd12759_c.formula = 'C5H7NO3'\n",
    "universal.metabolites.cpd21495_c.formula = 'C21H24O3'\n",
    "universal.metabolites.cpd20345_c.formula = 'C38H53N11O30P4R2'\n",
    "universal.metabolites.cpd12434_c.formula = 'C25H45NO8R'\n",
    "universal.metabolites.cpd25541_c.formula = 'CoC45H53N4O14'\n",
    "universal.metabolites.cpd12163_c.formula = 'C12H20O11'\n",
    "universal.metabolites.cpd20971_c.formula = 'CoC45H57N5O13'\n",
    "universal.metabolites.cpd25094_c.formula = 'CuClC7H4NO2S2'\n",
    "universal.metabolites.cpd12148_c.formula = 'C6H10O5'\n",
    "universal.metabolites.cpd11851_c.formula = 'C6H10O5'\n",
    "universal.metabolites.cpd24958_c.formula = 'FeC42H41N5O15'\n",
    "universal.metabolites.cpd30665_c.formula = 'ClC25H40N3'\n",
    "universal.metabolites.cpd21089_c.formula = 'C20H24O2'\n",
    "universal.metabolites.cpd30678_e.formula = 'C8H9Cl3N2S'\n",
    "universal.metabolites.cpd20944_c.formula = 'C43H71N9O23'\n",
    "universal.metabolites.cpd17683_c.formula = 'C17H22O3'\n",
    "universal.metabolites.cpd24567_c.formula = 'PbS'\n",
    "universal.metabolites.cpd20338_c.formula = 'C19H29N3O17P2R2'\n",
    "universal.metabolites.cpd11746_e.formula = 'C6H10O5'\n",
    "universal.metabolites.cpd26289_e.formula = 'FeCl3'\n",
    "universal.metabolites.cpd11746_c.formula = 'C6H10O5'\n",
    "universal.metabolites.cpd12039_c.formula = 'H2O6P2'\n",
    "universal.metabolites.cpd21095_c.formula = 'C20H36O7P2'\n",
    "universal.metabolites.cpd17684_c.formula = 'C18H24O3'\n",
    "universal.metabolites.cpd20958_c.formula = 'C14H24N6O8'\n",
    "universal.metabolites.cpd19935_c.formula = 'CH3Hg'\n",
    "universal.metabolites.cpd20957_c.formula = 'C10H19N5O5'\n",
    "universal.metabolites.cpd24797_c.formula = 'NiC42H47N6O14'\n",
    "universal.metabolites.cpd12511_c.formula = 'C24H41O21'\n",
    "universal.metabolites.cpd25097_c.formula = 'CuClC7H4NO3S'\n",
    "universal.metabolites.cpd20961_c.formula = 'C20H36N10O9'\n",
    "universal.metabolites.cpd11720_c.formula = 'C5H11O7P'\n",
    "universal.metabolites.cpd21084_c.formula = 'C17H28N3O10R'\n",
    "universal.metabolites.cpd17685_c.formula = 'C18H24O4'\n",
    "universal.metabolites.cpd12077_c.formula = 'C5H8'\n",
    "universal.metabolites.cpd20340_c.formula = 'C28H41N6O24P3R2'\n",
    "universal.metabolites.cpd25050_c.formula = 'MoC10H10N5O7PS3'\n",
    "universal.metabolites.cpd21100_c.formula = 'C17H24O3'\n",
    "universal.metabolites.cpd19503_c.formula = 'MoC10H10N5O8PS2'\n",
    "universal.metabolites.cpd21353_c.formula = 'C28H41N6O7SR5'\n",
    "universal.metabolites.cpd25539_c.formula = 'CoC42H37N4O16'\n",
    "universal.metabolites.cpd24798_c.formula = 'NiC42H47N6O14'\n",
    "universal.metabolites.cpd17682_c.formula = 'C18H24O4'\n",
    "universal.metabolites.cpd21288_c.formula = 'MoC19H22N8O15P2S2'\n",
    "universal.metabolites.cpd17679_c.formula = 'C17H22O4'\n",
    "universal.metabolites.cpd21101_c.formula = 'C18H26O3'\n",
    "universal.metabolites.cpd12120_c.formula = 'C6H10O5'\n",
    "universal.metabolites.cpd20943_c.formula = 'C39H66N8O20'\n",
    "universal.metabolites.cpd21352_c.formula = 'C13H17N6O7SR5'\n",
    "universal.metabolites.cpd26290_e.formula = 'FeCl2'\n",
    "universal.metabolites.cpd26290_c.formula = 'FeCl2'\n",
    "universal.metabolites.cpd25095_c.formula = 'CuC8H4Cl5NO2S2'\n",
    "universal.metabolites.cpd30665_e.formula = 'ClC25H40N3'\n",
    "universal.metabolites.cpd24099_e.formula = 'CoC61H86N13O14P'\n",
    "universal.metabolites.cpd24099_c.formula = 'CoC61H86N13O14P'\n",
    "universal.metabolites.cpd11658_c.formula = 'C12H20O10'\n",
    "universal.metabolites.cpd22240_c.formula = 'CoC162H102N18O20P2'\n",
    "universal.metabolites.cpd20969_c.formula = 'C19H30N3O20P3R2'\n",
    "universal.metabolites.cpd25093_c.formula = 'CuClC7H4NO2S2'\n",
    "universal.metabolites.cpd17682_e.formula = 'C18H22O4'\n",
    "universal.metabolites.cpd30678_c.formula = 'C8H9Cl3N2S'\n",
    "universal.metabolites.cpd12234_c.formula = 'C6H11O6'"
   ]
  },
  {
   "cell_type": "code",
   "execution_count": 24,
   "metadata": {},
   "outputs": [
    {
     "ename": "OSError",
     "evalue": "The file with '/home/mjenior/Desktop/repos/model_building/refs/biomass.sbml' does not exist, or is not an SBML string. Provide the path to an existing SBML file or a valid SBML string representation:\n",
     "output_type": "error",
     "traceback": [
      "\u001b[0;31m---------------------------------------------------------------------------\u001b[0m",
      "\u001b[0;31mOSError\u001b[0m                                   Traceback (most recent call last)",
      "Input \u001b[0;32mIn [24]\u001b[0m, in \u001b[0;36m<cell line: 2>\u001b[0;34m()\u001b[0m\n\u001b[1;32m      1\u001b[0m \u001b[38;5;66;03m# Replace biomass functions\u001b[39;00m\n\u001b[0;32m----> 2\u001b[0m biomass \u001b[38;5;241m=\u001b[39m \u001b[43mcobra\u001b[49m\u001b[38;5;241;43m.\u001b[39;49m\u001b[43mio\u001b[49m\u001b[38;5;241;43m.\u001b[39;49m\u001b[43mread_sbml_model\u001b[49m\u001b[43m(\u001b[49m\u001b[38;5;124;43m'\u001b[39;49m\u001b[38;5;124;43m/home/mjenior/Desktop/repos/model_building/refs/biomass.sbml\u001b[39;49m\u001b[38;5;124;43m'\u001b[39;49m\u001b[43m)\u001b[49m\n\u001b[1;32m      3\u001b[0m biomass\u001b[38;5;241m.\u001b[39mremove_reactions([biomass\u001b[38;5;241m.\u001b[39mreactions\u001b[38;5;241m.\u001b[39mrxn10088_c])\n\u001b[1;32m      4\u001b[0m biomass_rxns \u001b[38;5;241m=\u001b[39m [x \u001b[38;5;28;01mfor\u001b[39;00m x \u001b[38;5;129;01min\u001b[39;00m biomass\u001b[38;5;241m.\u001b[39mreactions]\n",
      "File \u001b[0;32m~/opt/anaconda3/lib/python3.9/site-packages/cobra/io/sbml.py:460\u001b[0m, in \u001b[0;36mread_sbml_model\u001b[0;34m(filename, number, f_replace, **kwargs)\u001b[0m\n\u001b[1;32m    458\u001b[0m     \u001b[38;5;28;01mreturn\u001b[39;00m _sbml_to_model(doc, number\u001b[38;5;241m=\u001b[39mnumber, f_replace\u001b[38;5;241m=\u001b[39mf_replace, \u001b[38;5;241m*\u001b[39m\u001b[38;5;241m*\u001b[39mkwargs)\n\u001b[1;32m    459\u001b[0m \u001b[38;5;28;01mexcept\u001b[39;00m \u001b[38;5;167;01mIOError\u001b[39;00m \u001b[38;5;28;01mas\u001b[39;00m e:\n\u001b[0;32m--> 460\u001b[0m     \u001b[38;5;28;01mraise\u001b[39;00m e\n\u001b[1;32m    462\u001b[0m \u001b[38;5;28;01mexcept\u001b[39;00m \u001b[38;5;167;01mException\u001b[39;00m \u001b[38;5;28;01mas\u001b[39;00m original_error:\n\u001b[1;32m    463\u001b[0m     cobra_error \u001b[38;5;241m=\u001b[39m CobraSBMLError(\n\u001b[1;32m    464\u001b[0m         \u001b[38;5;124m\"\u001b[39m\u001b[38;5;124mSomething went wrong reading the SBML model. Most likely the SBML\u001b[39m\u001b[38;5;124m\"\u001b[39m\n\u001b[1;32m    465\u001b[0m         \u001b[38;5;124m\"\u001b[39m\u001b[38;5;124m model is not valid. Please check that your model is valid using \u001b[39m\u001b[38;5;124m\"\u001b[39m\n\u001b[0;32m   (...)\u001b[0m\n\u001b[1;32m    470\u001b[0m         \u001b[38;5;124m\"\u001b[39m\u001b[38;5;124mat https://github.com/opencobra/cobrapy/issues .\u001b[39m\u001b[38;5;124m\"\u001b[39m\n\u001b[1;32m    471\u001b[0m     )\n",
      "File \u001b[0;32m~/opt/anaconda3/lib/python3.9/site-packages/cobra/io/sbml.py:457\u001b[0m, in \u001b[0;36mread_sbml_model\u001b[0;34m(filename, number, f_replace, **kwargs)\u001b[0m\n\u001b[1;32m    402\u001b[0m \u001b[38;5;124;03m\"\"\"Read SBML model from given filename.\u001b[39;00m\n\u001b[1;32m    403\u001b[0m \n\u001b[1;32m    404\u001b[0m \u001b[38;5;124;03mIf the given filename ends with the suffix ''.gz'' (for example,\u001b[39;00m\n\u001b[0;32m   (...)\u001b[0m\n\u001b[1;32m    454\u001b[0m \u001b[38;5;124;03mFile handles to compressed files are not supported yet.\u001b[39;00m\n\u001b[1;32m    455\u001b[0m \u001b[38;5;124;03m\"\"\"\u001b[39;00m\n\u001b[1;32m    456\u001b[0m \u001b[38;5;28;01mtry\u001b[39;00m:\n\u001b[0;32m--> 457\u001b[0m     doc \u001b[38;5;241m=\u001b[39m \u001b[43m_get_doc_from_filename\u001b[49m\u001b[43m(\u001b[49m\u001b[43mfilename\u001b[49m\u001b[43m)\u001b[49m\n\u001b[1;32m    458\u001b[0m     \u001b[38;5;28;01mreturn\u001b[39;00m _sbml_to_model(doc, number\u001b[38;5;241m=\u001b[39mnumber, f_replace\u001b[38;5;241m=\u001b[39mf_replace, \u001b[38;5;241m*\u001b[39m\u001b[38;5;241m*\u001b[39mkwargs)\n\u001b[1;32m    459\u001b[0m \u001b[38;5;28;01mexcept\u001b[39;00m \u001b[38;5;167;01mIOError\u001b[39;00m \u001b[38;5;28;01mas\u001b[39;00m e:\n",
      "File \u001b[0;32m~/opt/anaconda3/lib/python3.9/site-packages/cobra/io/sbml.py:505\u001b[0m, in \u001b[0;36m_get_doc_from_filename\u001b[0;34m(filename)\u001b[0m\n\u001b[1;32m    502\u001b[0m     \u001b[38;5;28;01melse\u001b[39;00m:\n\u001b[1;32m    503\u001b[0m         \u001b[38;5;66;03m# string representation\u001b[39;00m\n\u001b[1;32m    504\u001b[0m         \u001b[38;5;28;01mif\u001b[39;00m \u001b[38;5;124m\"\u001b[39m\u001b[38;5;124m<sbml\u001b[39m\u001b[38;5;124m\"\u001b[39m \u001b[38;5;129;01mnot\u001b[39;00m \u001b[38;5;129;01min\u001b[39;00m filename:\n\u001b[0;32m--> 505\u001b[0m             \u001b[38;5;28;01mraise\u001b[39;00m \u001b[38;5;167;01mIOError\u001b[39;00m(\n\u001b[1;32m    506\u001b[0m                 \u001b[38;5;124mf\u001b[39m\u001b[38;5;124m\"\u001b[39m\u001b[38;5;124mThe file with \u001b[39m\u001b[38;5;124m'\u001b[39m\u001b[38;5;132;01m{\u001b[39;00mfilename\u001b[38;5;132;01m}\u001b[39;00m\u001b[38;5;124m'\u001b[39m\u001b[38;5;124m does not exist, \u001b[39m\u001b[38;5;124m\"\u001b[39m\n\u001b[1;32m    507\u001b[0m                 \u001b[38;5;124mf\u001b[39m\u001b[38;5;124m\"\u001b[39m\u001b[38;5;124mor is not an SBML string. Provide the path to \u001b[39m\u001b[38;5;124m\"\u001b[39m\n\u001b[1;32m    508\u001b[0m                 \u001b[38;5;124mf\u001b[39m\u001b[38;5;124m\"\u001b[39m\u001b[38;5;124man existing SBML file or a valid SBML string representation:\u001b[39m\u001b[38;5;130;01m\\n\u001b[39;00m\u001b[38;5;124m\"\u001b[39m\n\u001b[1;32m    509\u001b[0m             )\n\u001b[1;32m    511\u001b[0m         doc \u001b[38;5;241m=\u001b[39m libsbml\u001b[38;5;241m.\u001b[39mreadSBMLFromString(\n\u001b[1;32m    512\u001b[0m             filename\n\u001b[1;32m    513\u001b[0m         )  \u001b[38;5;66;03m# noqa: E501 type: libsbml.SBMLDocument\u001b[39;00m\n\u001b[1;32m    515\u001b[0m \u001b[38;5;28;01melif\u001b[39;00m \u001b[38;5;28mhasattr\u001b[39m(filename, \u001b[38;5;124m\"\u001b[39m\u001b[38;5;124mread\u001b[39m\u001b[38;5;124m\"\u001b[39m):\n\u001b[1;32m    516\u001b[0m     \u001b[38;5;66;03m# file handle\u001b[39;00m\n",
      "\u001b[0;31mOSError\u001b[0m: The file with '/home/mjenior/Desktop/repos/model_building/refs/biomass.sbml' does not exist, or is not an SBML string. Provide the path to an existing SBML file or a valid SBML string representation:\n"
     ]
    }
   ],
   "source": [
    "# Replace biomass functions\n",
    "biomass = cobra.io.read_sbml_model('biomass.sbml')\n",
    "biomass.remove_reactions([biomass.reactions.rxn10088_c])\n",
    "biomass_rxns = [x for x in biomass.reactions]\n",
    "universal.add_reactions(biomass_rxns)\n",
    "\n",
    "cpd11416_c = universal.metabolites.cpd11416_c\n",
    "universal.add_boundary(cpd11416_c, type='sink', reaction_id='EX_biomass', lb=0.0, ub=1000.0)"
   ]
  },
  {
   "cell_type": "code",
   "execution_count": null,
   "metadata": {},
   "outputs": [],
   "source": [
    "# Test objectives - Gram positive\n",
    "universal.objective = 'biomass_GmPos'\n",
    "universal.slim_optimize()"
   ]
  },
  {
   "cell_type": "code",
   "execution_count": null,
   "metadata": {},
   "outputs": [],
   "source": [
    "# Gram negative\n",
    "universal.objective = 'biomass_GmNeg'\n",
    "universal.slim_optimize()"
   ]
  },
  {
   "cell_type": "code",
   "execution_count": null,
   "metadata": {},
   "outputs": [],
   "source": [
    "universal"
   ]
  },
  {
   "cell_type": "code",
   "execution_count": null,
   "metadata": {},
   "outputs": [],
   "source": [
    "iCdR703 = cobra.io.read_sbml_model('iCdR703.sbml')"
   ]
  },
  {
   "cell_type": "code",
   "execution_count": null,
   "metadata": {},
   "outputs": [],
   "source": [
    "transporters = []\n",
    "exchs = set([x.id for x in iCdR703.exchanges])\n",
    "for rxn in iCdR703.reactions:\n",
    "    if rxn.id in exchs: \n",
    "        continue\n",
    "    else:\n",
    "        compartments = set()\n",
    "        for x in list(rxn.metabolites): compartments |= set([x.compartment])\n",
    "        if len(compartments) > 1: transporters.append(rxn.id)"
   ]
  },
  {
   "cell_type": "code",
   "execution_count": 29,
   "metadata": {},
   "outputs": [
    {
     "name": "stdout",
     "output_type": "stream",
     "text": [
      "9\n"
     ]
    }
   ],
   "source": [
    "add_transport = []\n",
    "total_added = 0\n",
    "for x in transporters:\n",
    "    try:\n",
    "        test = universal.reactions.get_by_id(x)\n",
    "    except:\n",
    "        rxn = deepcopy(iCdR703.reactions.get_by_id(x))\n",
    "        rxn.gene_reaction_rule = ''\n",
    "        add_transport.append(rxn)\n",
    "        total_added +=1\n",
    "\n",
    "universal.add_reactions(add_transport)\n",
    "print('Transporters added:', total_added)"
   ]
  },
  {
   "cell_type": "code",
   "execution_count": 30,
   "metadata": {},
   "outputs": [
    {
     "name": "stdout",
     "output_type": "stream",
     "text": [
      "Exchanges added: 8\n"
     ]
    }
   ],
   "source": [
    "add_exchs = []\n",
    "total_added = 0\n",
    "for x in iCdR703.exchanges:\n",
    "    try:\n",
    "        test = universal.reactions.get_by_id(x.id)\n",
    "    except:\n",
    "        add_exchs.append(deepcopy(x))\n",
    "        total_added +=1\n",
    "    \n",
    "universal.add_reactions(add_exchs)\n",
    "print('Exchanges added:', total_added)"
   ]
  },
  {
   "cell_type": "code",
   "execution_count": 12,
   "metadata": {},
   "outputs": [],
   "source": [
    "x = deepcopy(iCdR703.reactions.rxn27496_c)\n",
    "x.gene_reaction_rule = ''\n",
    "universal.add_reactions([x])"
   ]
  },
  {
   "cell_type": "code",
   "execution_count": 5,
   "metadata": {},
   "outputs": [
    {
     "data": {
      "text/html": [
       "\n",
       "        <table>\n",
       "            <tr>\n",
       "                <td><strong>Name</strong></td>\n",
       "                <td>Prokaryote_Universal</td>\n",
       "            </tr><tr>\n",
       "                <td><strong>Memory address</strong></td>\n",
       "                <td>0x07f2f0f05b310</td>\n",
       "            </tr><tr>\n",
       "                <td><strong>Number of metabolites</strong></td>\n",
       "                <td>23013</td>\n",
       "            </tr><tr>\n",
       "                <td><strong>Number of reactions</strong></td>\n",
       "                <td>53062</td>\n",
       "            </tr><tr>\n",
       "                <td><strong>Number of groups</strong></td>\n",
       "                <td>0</td>\n",
       "            </tr><tr>\n",
       "                <td><strong>Objective expression</strong></td>\n",
       "                <td>0.0 + 1.0*biomass_GmNeg - 1.0*biomass_GmNeg_reverse_cd371</td>\n",
       "            </tr><tr>\n",
       "                <td><strong>Compartments</strong></td>\n",
       "                <td>cytosol, extracellular</td>\n",
       "            </tr>\n",
       "          </table>"
      ],
      "text/plain": [
       "<Model Prokaryote_Universal at 0x7f2f0f05b310>"
      ]
     },
     "execution_count": 5,
     "metadata": {},
     "output_type": "execute_result"
    }
   ],
   "source": [
    "universal"
   ]
  },
  {
   "cell_type": "code",
   "execution_count": 2,
   "metadata": {},
   "outputs": [],
   "source": [
    "#universal = pickle.load(open('universal.pickle', 'rb'))"
   ]
  },
  {
   "cell_type": "code",
   "execution_count": 13,
   "metadata": {},
   "outputs": [
    {
     "name": "stdout",
     "output_type": "stream",
     "text": [
      "Total removed: 201\n"
     ]
    }
   ],
   "source": [
    "to_be_rm = ['EX_cpd21851_e','EX_cpd26978_e','EX_cpd35774_e','EX_cpd28247_e','EX_cpd33670_e','EX_cpd32312_e',\n",
    "            'EX_cpd12556_e','EX_cpd31712_e','EX_cpd37289_e','EX_cpd15276_e','EX_cpd15521_e','EX_cpd15522_e',\n",
    "            'EX_cpd15523_e','EX_cpd15524_e','EX_cpd15525_e','EX_cpd15526_e','EX_cpd15527_e','EX_cpd15528_e',\n",
    "            'EX_cpd15529_e','EX_cpd15530_e','EX_cpd15531_e','EX_cpd15532_e','EX_cpd15533_e','EX_cpd15534_e',\n",
    "            'EX_cpd15535_e','EX_cpd15536_e','EX_cpd15537_e','EX_cpd15538_e','EX_cpd15539_e','EX_cpd15540_e',\n",
    "            'EX_cpd15541_e','EX_cpd15542_e','EX_cpd15543_e','EX_cpd15544_e','EX_cpd15545_e','EX_cpd15546_e',\n",
    "            'EX_cpd15547_e','EX_cpd15548_e','EX_cpd15271_e','EX_cpd11825_e','EX_cpd15268_e','EX_cpd15239_e',\n",
    "            'EX_cpd15277_e','EX_cpd15294_e','EX_cpd11466_e','EX_cpd11468_e','EX_cpd15457_e','EX_cpd15447_e',\n",
    "            'EX_cpd15582_e','EX_cpd15459_e','EX_cpd15493_e','EX_cpd15432_e','EX_cpd15350_e','EX_cpd15363_e',\n",
    "            'EX_cpd15362_e','EX_cpd15355_e','EX_cpd15354_e','EX_cpd15358_e','EX_cpd15357_e','EX_cpd15336_e',\n",
    "            'EX_cpd15337_e','EX_cpd15338_e','EX_cpd15339_e','EX_cpd15340_e','EX_cpd15341_e','EX_cpd15342_e',\n",
    "            'EX_cpd15343_e','EX_cpd15344_e','EX_cpd15345_e','EX_cpd15346_e','EX_cpd15347_e','EX_cpd15348_e',\n",
    "            'EX_cpd15349_e','EX_cpd15306_e','EX_cpd15307_e','EX_cpd15308_e','EX_cpd15309_e','EX_cpd15310_e',\n",
    "            'EX_cpd15311_e','EX_cpd15312_e','EX_cpd15576_e','EX_cpd15448_e','EX_cpd15451_e','EX_cpd15452_e',\n",
    "            'EX_cpd15208_e','EX_cpd15202_e','EX_cpd15288_e','EX_cpd15198_e','EX_cpd15940_e','EX_cpd03092_e',\n",
    "            'EX_cpd09429_e','EX_cpd15220_e','EX_cpd15221_e','EX_cpd15224_e','EX_cpd15225_e','EX_cpd15241_e',\n",
    "            'EX_cpd37153_e','EX_cpd25615_e','EX_cpd27183_e']\n",
    "\n",
    "remove_rxns = []\n",
    "for rxn in to_be_rm:\n",
    "    remove_rxns.append(universal.reactions.get_by_id(rxn))\n",
    "    remove_rxns += list(list(universal.reactions.get_by_id(rxn).metabolites)[0].reactions)\n",
    "\n",
    "remove_rxns = list(set(remove_rxns))\n",
    "universal.remove_reactions(remove_rxns)\n",
    "print('Total removed:', len(remove_rxns))\n",
    "del remove_rxns"
   ]
  },
  {
   "cell_type": "code",
   "execution_count": 5,
   "metadata": {},
   "outputs": [
    {
     "name": "stdout",
     "output_type": "stream",
     "text": [
      "Total removed: 14\n"
     ]
    }
   ],
   "source": [
    "to_be_rm = ['EX_cpd03495_e','EX_cpd15511_e','EX_cpd15518_e','EX_cpd15520_e','EX_cpd00286_e']\n",
    "remove_rxns = []\n",
    "for rxn in to_be_rm:\n",
    "    remove_rxns.append(universal.reactions.get_by_id(rxn))\n",
    "    remove_rxns += list(list(universal.reactions.get_by_id(rxn).metabolites)[0].reactions)\n",
    "\n",
    "remove_rxns = list(set(remove_rxns))\n",
    "universal.remove_reactions(remove_rxns)\n",
    "print('Total removed:', len(remove_rxns))\n",
    "del remove_rxns\n"
   ]
  },
  {
   "cell_type": "code",
   "execution_count": 6,
   "metadata": {},
   "outputs": [
    {
     "name": "stdout",
     "output_type": "stream",
     "text": [
      "Total removed: 55\n"
     ]
    }
   ],
   "source": [
    "to_be_rm = ['EX_cpd26014_e','EX_cpd37198_e','EX_cpd37211_e','EX_cpd02229_e','EX_cpd00842_e',\n",
    "            'EX_cpd02060_e','EX_cpd03113_e','EX_cpd03114_e','EX_cpd03115_e','EX_cpd03116_e',\n",
    "            'EX_cpd03118_e','EX_cpd03120_e','EX_cpd03122_e','EX_cpd03125_e','EX_cpd03127_e',\n",
    "            'EX_cpd03129_e','EX_cpd03130_e','EX_cpd15272_e','EX_cpd15274_e','EX_cpd15238_e',\n",
    "            'EX_cpd35544_e','EX_cpd04233_e']\n",
    "remove_rxns = []\n",
    "for rxn in to_be_rm:\n",
    "    remove_rxns.append(universal.reactions.get_by_id(rxn))\n",
    "    remove_rxns += list(list(universal.reactions.get_by_id(rxn).metabolites)[0].reactions)\n",
    "\n",
    "remove_rxns = list(set(remove_rxns))\n",
    "universal.remove_reactions(remove_rxns)\n",
    "print('Total removed:', len(remove_rxns))\n",
    "del remove_rxns\n"
   ]
  },
  {
   "cell_type": "code",
   "execution_count": 7,
   "metadata": {},
   "outputs": [
    {
     "data": {
      "text/html": [
       "\n",
       "        <table>\n",
       "            <tr>\n",
       "                <td><strong>Name</strong></td>\n",
       "                <td>Prokaryote_Universal</td>\n",
       "            </tr><tr>\n",
       "                <td><strong>Memory address</strong></td>\n",
       "                <td>0x07f3c9c174310</td>\n",
       "            </tr><tr>\n",
       "                <td><strong>Number of metabolites</strong></td>\n",
       "                <td>23013</td>\n",
       "            </tr><tr>\n",
       "                <td><strong>Number of reactions</strong></td>\n",
       "                <td>52793</td>\n",
       "            </tr><tr>\n",
       "                <td><strong>Number of groups</strong></td>\n",
       "                <td>0</td>\n",
       "            </tr><tr>\n",
       "                <td><strong>Objective expression</strong></td>\n",
       "                <td>0.0 + 1.0*biomass_GmNeg - 1.0*biomass_GmNeg_reverse_cd371</td>\n",
       "            </tr><tr>\n",
       "                <td><strong>Compartments</strong></td>\n",
       "                <td>cytosol, extracellular</td>\n",
       "            </tr>\n",
       "          </table>"
      ],
      "text/plain": [
       "<Model Prokaryote_Universal at 0x7f3c9c174310>"
      ]
     },
     "execution_count": 7,
     "metadata": {},
     "output_type": "execute_result"
    }
   ],
   "source": [
    "universal"
   ]
  },
  {
   "cell_type": "code",
   "execution_count": 8,
   "metadata": {},
   "outputs": [],
   "source": [
    "pickle.dump(universal, open('/home/mjenior/Desktop/repos/reconstructor/refs/universal.pickle', 'wb'))"
   ]
  },
  {
   "cell_type": "code",
   "execution_count": null,
   "metadata": {},
   "outputs": [],
   "source": []
  },
  {
   "cell_type": "code",
   "execution_count": null,
   "metadata": {},
   "outputs": [],
   "source": []
  }
 ],
 "metadata": {
  "kernelspec": {
   "display_name": "Python 3 (ipykernel)",
   "language": "python",
   "name": "python3"
  },
  "language_info": {
   "codemirror_mode": {
    "name": "ipython",
    "version": 3
   },
   "file_extension": ".py",
   "mimetype": "text/x-python",
   "name": "python",
   "nbconvert_exporter": "python",
   "pygments_lexer": "ipython3",
   "version": "3.9.7"
  }
 },
 "nbformat": 4,
 "nbformat_minor": 2
}
