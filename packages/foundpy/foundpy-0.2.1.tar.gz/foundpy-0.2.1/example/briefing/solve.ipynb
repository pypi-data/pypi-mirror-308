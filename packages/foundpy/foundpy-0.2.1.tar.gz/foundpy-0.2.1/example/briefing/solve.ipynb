{
 "cells": [
  {
   "cell_type": "code",
   "execution_count": 7,
   "metadata": {},
   "outputs": [],
   "source": [
    "from foundpy import *"
   ]
  },
  {
   "cell_type": "code",
   "execution_count": 8,
   "metadata": {},
   "outputs": [
    {
     "name": "stdout",
     "output_type": "stream",
     "text": [
      "session already found, skipping PoW...\n",
      "UUID: 4187e15e-6a2a-497d-b97d-32858ae98d18\n",
      "RPC Endpoint: http://103.178.153.113:30001/4187e15e-6a2a-497d-b97d-32858ae98d18\n",
      "Private Key: 0x43103e6589cc45347ad56ca013ace7433f1f10d20436ec41c1b66868b88c38a4\n",
      "Setup Contract: 0xc34ae87Ac51B968fB556905a9bE0b37972B365A5\n",
      "Wallet: 0x511BC5904204Db2A347d3339E484e56c816DB44f\n",
      "Message: your private blockchain has been deployed, it will automatically terminate in 30 minutes\n"
     ]
    }
   ],
   "source": [
    "config.from_tcp1p(\"http://103.178.153.113:30001\")"
   ]
  },
  {
   "cell_type": "code",
   "execution_count": 13,
   "metadata": {},
   "outputs": [],
   "source": [
    "setup = Contract(\"0xc34ae87Ac51B968fB556905a9bE0b37972B365A5\", \"Setup.sol\")"
   ]
  },
  {
   "cell_type": "code",
   "execution_count": 14,
   "metadata": {},
   "outputs": [
    {
     "data": {
      "text/plain": [
       "False"
      ]
     },
     "execution_count": 14,
     "metadata": {},
     "output_type": "execute_result"
    }
   ],
   "source": [
    "setup.call(\"isSolved\")"
   ]
  },
  {
   "cell_type": "code",
   "execution_count": 15,
   "metadata": {},
   "outputs": [],
   "source": [
    "briefing = Contract(setup.call(\"brief\"), \"Briefing.sol\")"
   ]
  },
  {
   "cell_type": "code",
   "execution_count": 16,
   "metadata": {},
   "outputs": [
    {
     "data": {
      "text/plain": [
       "HexBytes('0x88077ed4496d0214b586d35b36e50021f4cc6a0d6870adc10d9e39da64abec0f')"
      ]
     },
     "execution_count": 16,
     "metadata": {},
     "output_type": "execute_result"
    }
   ],
   "source": [
    "briefing.send(\"verifyCall\")"
   ]
  },
  {
   "cell_type": "code",
   "execution_count": 17,
   "metadata": {},
   "outputs": [
    {
     "data": {
      "text/plain": [
       "HexBytes('0xe504bc673213fde7761fa80c94bcfd92aea5aec31196926423cd6fea43daeee6')"
      ]
     },
     "execution_count": 17,
     "metadata": {},
     "output_type": "execute_result"
    }
   ],
   "source": [
    "briefing.send(\"firstDeposit\", value=int(5 * 10**18))"
   ]
  },
  {
   "cell_type": "code",
   "execution_count": 18,
   "metadata": {},
   "outputs": [
    {
     "data": {
      "text/plain": [
       "HexBytes('0xd652b9fe8ca54de90919d9aad01fd58b9e81ea62df6894b30d2c5072eee07d38')"
      ]
     },
     "execution_count": 18,
     "metadata": {},
     "output_type": "execute_result"
    }
   ],
   "source": [
    "briefing.send(\"putSomething\", 1337, \"Casino Heist Player\", config.wallet.address)"
   ]
  },
  {
   "cell_type": "code",
   "execution_count": 19,
   "metadata": {},
   "outputs": [
    {
     "data": {
      "text/plain": [
       "'0x8Cc5e2e5202C262B9f2BC7572eCfE4ADa1AFD62A'"
      ]
     },
     "execution_count": 19,
     "metadata": {},
     "output_type": "execute_result"
    }
   ],
   "source": [
    "briefing.address"
   ]
  },
  {
   "cell_type": "code",
   "execution_count": 20,
   "metadata": {},
   "outputs": [
    {
     "name": "stdout",
     "output_type": "stream",
     "text": [
      "b'NowYouKnowStorageIsNotThatSafe..'\n"
     ]
    }
   ],
   "source": [
    "# secret = bytes.fromhex(\"4e6f77596f754b6e6f7753746f7261676549734e6f7454686174536166652e2e\")\n",
    "secret = briefing.storage(0)\n",
    "print(secret)"
   ]
  },
  {
   "cell_type": "code",
   "execution_count": 21,
   "metadata": {},
   "outputs": [],
   "source": [
    "wallet = Account(config.wallet)"
   ]
  },
  {
   "cell_type": "code",
   "execution_count": 22,
   "metadata": {},
   "outputs": [
    {
     "data": {
      "text/plain": [
       "HexBytes('0x564604e0ba890c70389ff84c8999478cfb978e4988aa77abab223dd8b7667c10')"
      ]
     },
     "execution_count": 22,
     "metadata": {},
     "output_type": "execute_result"
    }
   ],
   "source": [
    "wallet.send(briefing.address,int(1 * 10**18))"
   ]
  },
  {
   "cell_type": "code",
   "execution_count": 23,
   "metadata": {},
   "outputs": [
    {
     "data": {
      "text/plain": [
       "HexBytes('0x62e7c0d21cf605231e20211f0c308ea37131d57a8c4ffaf78c00efa00f0ce293')"
      ]
     },
     "execution_count": 23,
     "metadata": {},
     "output_type": "execute_result"
    }
   ],
   "source": [
    "briefing.send(\"Finalize\", secret)"
   ]
  },
  {
   "cell_type": "code",
   "execution_count": 24,
   "metadata": {},
   "outputs": [
    {
     "data": {
      "text/plain": [
       "True"
      ]
     },
     "execution_count": 24,
     "metadata": {},
     "output_type": "execute_result"
    }
   ],
   "source": [
    "setup.call(\"isSolved\")"
   ]
  },
  {
   "cell_type": "code",
   "execution_count": 25,
   "metadata": {},
   "outputs": [
    {
     "data": {
      "text/plain": [
       "'ENUMA{Briefing_completed!_Now_Gearing_up!}'"
      ]
     },
     "execution_count": 25,
     "metadata": {},
     "output_type": "execute_result"
    }
   ],
   "source": [
    "config.tcp1p_flag()"
   ]
  },
  {
   "cell_type": "code",
   "execution_count": null,
   "metadata": {},
   "outputs": [],
   "source": []
  }
 ],
 "metadata": {
  "kernelspec": {
   "display_name": ".venv",
   "language": "python",
   "name": "python3"
  },
  "language_info": {
   "codemirror_mode": {
    "name": "ipython",
    "version": 3
   },
   "file_extension": ".py",
   "mimetype": "text/x-python",
   "name": "python",
   "nbconvert_exporter": "python",
   "pygments_lexer": "ipython3",
   "version": "3.12.6"
  }
 },
 "nbformat": 4,
 "nbformat_minor": 2
}
