{
 "cells": [
  {
   "cell_type": "code",
   "execution_count": 13,
   "id": "252c11b9-c827-4a01-8f42-5074bf512348",
   "metadata": {},
   "outputs": [],
   "source": [
    "import pipeliner"
   ]
  },
  {
   "cell_type": "code",
   "execution_count": 16,
   "id": "c0d19a7d-96a0-411e-8641-600863d8739d",
   "metadata": {},
   "outputs": [],
   "source": [
    "def block(self):\n",
    "    self.y = self.x + 1\n",
    "\n",
    "\n",
    "pl = pipeliner.Pipeline(block)\n",
    "pl += block"
   ]
  },
  {
   "cell_type": "code",
   "execution_count": 17,
   "id": "3d6ecd8f-8f78-4135-be95-8abcf1be8883",
   "metadata": {},
   "outputs": [
    {
     "name": "stdout",
     "output_type": "stream",
     "text": [
      "thread status:  {'waitingfortaskfunction': 1}\n",
      "thread status:  {'finished': 1}\n"
     ]
    },
    {
     "data": {
      "text/plain": [
       "{'x': 1, 'y': 2}"
      ]
     },
     "execution_count": 17,
     "metadata": {},
     "output_type": "execute_result"
    }
   ],
   "source": [
    "pipeliner.ExecutionManager().run(pl,{'x':1})"
   ]
  },
  {
   "cell_type": "code",
   "execution_count": null,
   "id": "11eeab27-87d0-46c9-9d35-5809a6cef3b0",
   "metadata": {},
   "outputs": [],
   "source": []
  }
 ],
 "metadata": {
  "kernelspec": {
   "display_name": "Python 3 (ipykernel)",
   "language": "python",
   "name": "python3"
  },
  "language_info": {
   "codemirror_mode": {
    "name": "ipython",
    "version": 3
   },
   "file_extension": ".py",
   "mimetype": "text/x-python",
   "name": "python",
   "nbconvert_exporter": "python",
   "pygments_lexer": "ipython3",
   "version": "3.12.4"
  }
 },
 "nbformat": 4,
 "nbformat_minor": 5
}
