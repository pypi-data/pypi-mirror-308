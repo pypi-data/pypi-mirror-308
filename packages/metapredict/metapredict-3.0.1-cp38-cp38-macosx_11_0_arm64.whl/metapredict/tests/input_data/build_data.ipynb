{
 "cells": [
  {
   "cell_type": "markdown",
   "id": "3354130f",
   "metadata": {},
   "source": [
    "## Build data\n",
    "This notebook builds the disorder npy used for comparing"
   ]
  },
  {
   "cell_type": "code",
   "execution_count": 15,
   "id": "2c0f3edf",
   "metadata": {},
   "outputs": [],
   "source": [
    "import protfasta\n",
    "import metapredict as meta"
   ]
  },
  {
   "cell_type": "code",
   "execution_count": 33,
   "id": "353312cd",
   "metadata": {},
   "outputs": [],
   "source": [
    "x = protfasta.read_fasta('test_seqs_100.fasta')\n",
    "\n",
    "disorder_scores = []\n",
    "for k in x:\n",
    "    disorder_scores.append(meta.predict_disorder(x[k], return_numpy=True))\n",
    "\n",
    "np.save('test_scores_100.npy',np.array(disorder_scores, dtype=list))"
   ]
  }
 ],
 "metadata": {
  "kernelspec": {
   "display_name": "Python 3 (ipykernel)",
   "language": "python",
   "name": "python3"
  },
  "language_info": {
   "codemirror_mode": {
    "name": "ipython",
    "version": 3
   },
   "file_extension": ".py",
   "mimetype": "text/x-python",
   "name": "python",
   "nbconvert_exporter": "python",
   "pygments_lexer": "ipython3",
   "version": "3.8.12"
  }
 },
 "nbformat": 4,
 "nbformat_minor": 5
}
